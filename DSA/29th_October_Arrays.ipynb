{
 "cells": [
  {
   "cell_type": "markdown",
   "id": "8ad647cb",
   "metadata": {},
   "source": [
    "#### 1. Given an array, check if it contains any duplicates or not. \n",
    "\n",
    "#### arr = [1, 2, 4, 2, 5, 9] \n",
    "\n",
    "#### Output = True"
   ]
  },
  {
   "cell_type": "code",
   "execution_count": 1,
   "id": "ca2af850",
   "metadata": {},
   "outputs": [
    {
     "name": "stdout",
     "output_type": "stream",
     "text": [
      "Array contains duplicates\n"
     ]
    }
   ],
   "source": [
    "arr=[1,2,4,2,5,9]\n",
    "for element in arr:\n",
    "    if arr.count(element)>1:\n",
    "        print(\"Array contains duplicates\")\n",
    "        break\n",
    "else:\n",
    "    print(\"Array does not contain duplicates\")\n"
   ]
  },
  {
   "cell_type": "markdown",
   "id": "2b893813",
   "metadata": {},
   "source": [
    "#### 2. Given an array and an integer k, rotate the array to the right by k steps. \n",
    "\n",
    "#### arr = [1, 2, 3, 4, 5, 6, 7] k = 3 \n",
    "\n",
    "#### Output = [5, 6, 7, 1, 2, 3, 4]"
   ]
  },
  {
   "cell_type": "code",
   "execution_count": 13,
   "id": "824b31c9",
   "metadata": {},
   "outputs": [
    {
     "name": "stdout",
     "output_type": "stream",
     "text": [
      "Input Array is :  [1, 2, 3, 4, 5, 6, 7]\n",
      "Output Array is :  [5, 6, 7, 1, 2, 3, 4]\n"
     ]
    }
   ],
   "source": [
    "arr= [1, 2, 3, 4, 5, 6, 7] \n",
    "print(\"Input Array is : \",arr)\n",
    "output_array=arr.copy()\n",
    "for i in range(len(arr)):\n",
    "    if i<len(arr)-3:\n",
    "        output_array[i+3]=arr[i]\n",
    "    else:\n",
    "        output_array[i-(len(arr)-3)]=arr[i]\n",
    "\n",
    "print(\"Output Array is : \",output_array)"
   ]
  },
  {
   "cell_type": "markdown",
   "id": "54c1cf3e",
   "metadata": {},
   "source": [
    "#### 3. Reverse the given array in-place, means without using any extra data structure. \n",
    "\n",
    "#### arr = [2, 4, 5, 7, 9, 12] \n",
    "\n",
    "#### Output = [12, 9, 7, 5, 4, 2]"
   ]
  },
  {
   "cell_type": "code",
   "execution_count": 27,
   "id": "84a5dfb4",
   "metadata": {},
   "outputs": [
    {
     "name": "stdout",
     "output_type": "stream",
     "text": [
      "Original Array :  [2, 4, 5, 7, 9, 12]\n",
      "List after in-place reversal :  [12, 9, 7, 5, 4, 2]\n"
     ]
    }
   ],
   "source": [
    "arr = [2, 4, 5, 7, 9, 12] \n",
    "print(\"Original Array : \",arr)\n",
    "for i in range(len(arr)):\n",
    "    if i>(len(arr)-1)-i:\n",
    "        break\n",
    "    a=arr[i]\n",
    "    arr[i]=arr[(len(arr)-1)-i]\n",
    "    arr[(len(arr)-1)-i]=a\n",
    "   \n",
    "    \n",
    "print(\"List after in-place reversal : \",arr)"
   ]
  },
  {
   "cell_type": "markdown",
   "id": "ae7cbea3",
   "metadata": {},
   "source": [
    "#### 4. Given an array of integers, find the maximum element in an array\n",
    "\n",
    "####  arr = [10, 5, 20, 8, 15]\n",
    "\n",
    "####  Output = 20"
   ]
  },
  {
   "cell_type": "code",
   "execution_count": 30,
   "id": "06dad3ee",
   "metadata": {},
   "outputs": [
    {
     "name": "stdout",
     "output_type": "stream",
     "text": [
      "Given Array :  [10, 5, 20, 8, 15]\n",
      "Maximum element is :  20\n"
     ]
    }
   ],
   "source": [
    "arr = [10, 5, 20, 8, 15]\n",
    "print(\"Given Array : \",arr)\n",
    "max_element=arr[0]\n",
    "for i in range(len(arr)):\n",
    "    if arr[i]>max_element:\n",
    "        max_element=arr[i]\n",
    "print(\"Maximum element is : \",max_element)"
   ]
  },
  {
   "cell_type": "markdown",
   "id": "d465c29c",
   "metadata": {},
   "source": [
    "#### 5. Given a sorted array, remove the duplicate element without using any extra data structure. \n",
    "\n",
    "#### arr = [1, 1, 2, 2, 2, 3, 3, 4, 4, 4, 5, 5] \n",
    "\n",
    "#### Output = [1, 2, 3, 4, 5]"
   ]
  },
  {
   "cell_type": "code",
   "execution_count": 48,
   "id": "32853178",
   "metadata": {},
   "outputs": [
    {
     "name": "stdout",
     "output_type": "stream",
     "text": [
      "Given Array :  [1, 1, 2, 2, 2, 3, 3, 4, 4, 4, 5, 5]\n",
      "Array after duplicates removed :  [1, 2, 3, 4, 5]\n"
     ]
    }
   ],
   "source": [
    "arr = [1,1, 2, 2, 2, 3, 3, 4, 4, 4, 5, 5]\n",
    "print(\"Given Array : \",arr)\n",
    "previous=arr[0]\n",
    "i=0\n",
    "while (i<len(arr)):\n",
    "    if i==0:\n",
    "        previous=arr[i]\n",
    "        i=i+1\n",
    "    else:\n",
    "        if arr[i]==previous:\n",
    "            arr.pop(i)\n",
    "        else:\n",
    "            previous=arr[i]\n",
    "            i=i+1\n",
    "    \n",
    "print(\"Array after duplicates removed : \",arr)"
   ]
  },
  {
   "cell_type": "code",
   "execution_count": null,
   "id": "16b09dcb",
   "metadata": {},
   "outputs": [],
   "source": []
  }
 ],
 "metadata": {
  "kernelspec": {
   "display_name": "Python 3 (ipykernel)",
   "language": "python",
   "name": "python3"
  },
  "language_info": {
   "codemirror_mode": {
    "name": "ipython",
    "version": 3
   },
   "file_extension": ".py",
   "mimetype": "text/x-python",
   "name": "python",
   "nbconvert_exporter": "python",
   "pygments_lexer": "ipython3",
   "version": "3.9.12"
  }
 },
 "nbformat": 4,
 "nbformat_minor": 5
}
