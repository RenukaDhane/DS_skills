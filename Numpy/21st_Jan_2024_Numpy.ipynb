{
 "cells": [
  {
   "cell_type": "markdown",
   "id": "49f4f9f5",
   "metadata": {},
   "source": [
    "## 1. What is a Python library? Why do we use Python libraries?"
   ]
  },
  {
   "cell_type": "markdown",
   "id": "b68592f4",
   "metadata": {},
   "source": [
    "####   Python libraries are collections of pre-written code and functions that extend the capabilities of the Python programming language\n",
    "####   They provide a wide range of tools and modules for various tasks, making it easier for developers to work on specific tasks without reinventing the wheel."
   ]
  },
  {
   "cell_type": "markdown",
   "id": "8daa0109",
   "metadata": {},
   "source": [
    "## 2. What is the difference between Numpy array and List?"
   ]
  },
  {
   "cell_type": "markdown",
   "id": "b25359a4",
   "metadata": {},
   "source": [
    "### 1. Datatype :\n",
    "#### NumPy arrays store elements of the same data type i.e homogeneous data while list can be homogeneous or heterogeneous.\n",
    "\n",
    "### 2. Contiguous Memory:\n",
    "#### NumPy arrays store elements in adjacent memory locations, reducing fragmentation and allowing for efficient access.\n",
    "#### Lists may not store elements in contiguous memory locations, causing memory fragmentation and inefficiency.\n",
    "\n",
    "### 3.Performance :\n",
    "#### NumPy arrays are optimized for numerical computations, with efficient element-wise operations and mathematical functions. These operations are implemented in C, resulting in faster performance than equivalent operations on lists.\n",
    "#### Lists are not optimized for numerical computations and may have slower mathematical operations due to Python’s interpretation overhead.\n"
   ]
  },
  {
   "cell_type": "markdown",
   "id": "20741eb2",
   "metadata": {},
   "source": [
    "## 3. Find the shape, size and dimension of the following array?\n",
    "\n",
    "[[1, 2, 3, 4]\n",
    "\n",
    "[5, 6, 7, 8],\n",
    "\n",
    "[9, 10, 11, 12]]"
   ]
  },
  {
   "cell_type": "code",
   "execution_count": 3,
   "id": "1f660044",
   "metadata": {},
   "outputs": [],
   "source": [
    "import numpy as np\n",
    "arr=np.array([[1, 2, 3, 4],\n",
    "\n",
    "[5, 6, 7, 8],\n",
    "\n",
    "[9, 10, 11, 12]])"
   ]
  },
  {
   "cell_type": "code",
   "execution_count": 4,
   "id": "5598614a",
   "metadata": {},
   "outputs": [
    {
     "data": {
      "text/plain": [
       "array([[ 1,  2,  3,  4],\n",
       "       [ 5,  6,  7,  8],\n",
       "       [ 9, 10, 11, 12]])"
      ]
     },
     "execution_count": 4,
     "metadata": {},
     "output_type": "execute_result"
    }
   ],
   "source": [
    "arr"
   ]
  },
  {
   "cell_type": "code",
   "execution_count": 6,
   "id": "41a1241b",
   "metadata": {},
   "outputs": [
    {
     "data": {
      "text/plain": [
       "(3, 4)"
      ]
     },
     "execution_count": 6,
     "metadata": {},
     "output_type": "execute_result"
    }
   ],
   "source": [
    "# Shape of array\n",
    "arr.shape"
   ]
  },
  {
   "cell_type": "code",
   "execution_count": 7,
   "id": "5960dc33",
   "metadata": {},
   "outputs": [
    {
     "data": {
      "text/plain": [
       "12"
      ]
     },
     "execution_count": 7,
     "metadata": {},
     "output_type": "execute_result"
    }
   ],
   "source": [
    "# Size of array\n",
    "arr.size"
   ]
  },
  {
   "cell_type": "code",
   "execution_count": 8,
   "id": "e92508e0",
   "metadata": {},
   "outputs": [
    {
     "data": {
      "text/plain": [
       "2"
      ]
     },
     "execution_count": 8,
     "metadata": {},
     "output_type": "execute_result"
    }
   ],
   "source": [
    "# Dimension of array\n",
    "arr.ndim"
   ]
  },
  {
   "cell_type": "markdown",
   "id": "bb442a7a",
   "metadata": {},
   "source": [
    "## 4. Write python code to access the first row of the following array?\n",
    "\n",
    "[[1, 2, 3, 4]\n",
    "\n",
    "[5, 6, 7, 8],\n",
    "\n",
    "[9, 10, 11, 12]]"
   ]
  },
  {
   "cell_type": "code",
   "execution_count": 9,
   "id": "7dbb675f",
   "metadata": {},
   "outputs": [
    {
     "data": {
      "text/plain": [
       "array([[ 1,  2,  3,  4],\n",
       "       [ 5,  6,  7,  8],\n",
       "       [ 9, 10, 11, 12]])"
      ]
     },
     "execution_count": 9,
     "metadata": {},
     "output_type": "execute_result"
    }
   ],
   "source": [
    "arr=np.array([[1, 2, 3, 4],[5, 6, 7, 8],[9, 10, 11, 12]])\n",
    "arr"
   ]
  },
  {
   "cell_type": "code",
   "execution_count": 10,
   "id": "a9f4a630",
   "metadata": {},
   "outputs": [
    {
     "data": {
      "text/plain": [
       "array([1, 2, 3, 4])"
      ]
     },
     "execution_count": 10,
     "metadata": {},
     "output_type": "execute_result"
    }
   ],
   "source": [
    "# First row of array\n",
    "arr[0]"
   ]
  },
  {
   "cell_type": "markdown",
   "id": "df8fab7f",
   "metadata": {},
   "source": [
    "## 5. How do you access the element at the third row and fourth column from the given numpy array?\n",
    "\n",
    "[[1, 2, 3, 4]\n",
    "\n",
    "[5, 6, 7, 8],\n",
    "\n",
    "[9, 10, 11, 12]]"
   ]
  },
  {
   "cell_type": "code",
   "execution_count": 12,
   "id": "9f1d2388",
   "metadata": {},
   "outputs": [],
   "source": [
    "arr=np.array([[1, 2, 3, 4],[5, 6, 7, 8],[9, 10, 11, 12]])"
   ]
  },
  {
   "cell_type": "code",
   "execution_count": 13,
   "id": "68b244d3",
   "metadata": {},
   "outputs": [
    {
     "data": {
      "text/plain": [
       "12"
      ]
     },
     "execution_count": 13,
     "metadata": {},
     "output_type": "execute_result"
    }
   ],
   "source": [
    "# Element at third row and fourth column\n",
    "arr[2][3]"
   ]
  },
  {
   "cell_type": "markdown",
   "id": "ee89784d",
   "metadata": {},
   "source": [
    "## 6. Write code to extract all odd-indexed elements from the given numpy array?\n",
    "\n",
    "[[1, 2, 3, 4]\n",
    "\n",
    "[5, 6, 7, 8],\n",
    "\n",
    "[9, 10, 11, 12]]"
   ]
  },
  {
   "cell_type": "code",
   "execution_count": 41,
   "id": "c61df8a5",
   "metadata": {},
   "outputs": [
    {
     "name": "stdout",
     "output_type": "stream",
     "text": [
      "Odd indexed elements are as below : \n",
      " [2, 4, 6, 8, 10, 12]\n"
     ]
    }
   ],
   "source": [
    "arr=np.array([[1, 2, 3, 4],[5, 6, 7, 8],[9, 10, 11, 12]])\n",
    "flat_arr=arr.flatten()\n",
    "odd_indexed_elements=[]\n",
    "for i in range(0,flat_arr.size):\n",
    "    if i%2==1:\n",
    "        odd_indexed_elements.append(flat_arr[i])\n",
    "        \n",
    "print(\"Odd indexed elements are as below : \\n\",odd_indexed_elements)"
   ]
  },
  {
   "cell_type": "markdown",
   "id": "d4fffe9d",
   "metadata": {},
   "source": [
    "## 7. How can you generate a random 3x3 matrix with values between 0 and 1?"
   ]
  },
  {
   "cell_type": "code",
   "execution_count": 24,
   "id": "4ce81eac",
   "metadata": {},
   "outputs": [
    {
     "data": {
      "text/plain": [
       "array([[0.66201616, 0.62476466, 0.74404194],\n",
       "       [0.53418588, 0.36259622, 0.86577841],\n",
       "       [0.7444555 , 0.03119979, 0.88458426]])"
      ]
     },
     "execution_count": 24,
     "metadata": {},
     "output_type": "execute_result"
    }
   ],
   "source": [
    "import numpy as np\n",
    "arr1=np.random.rand(3,3)\n",
    "arr1"
   ]
  },
  {
   "cell_type": "markdown",
   "id": "40911c39",
   "metadata": {},
   "source": [
    "## 8. Describe the difference between np.random.rand and np.random.randn?"
   ]
  },
  {
   "cell_type": "markdown",
   "id": "5a7e48a5",
   "metadata": {},
   "source": [
    "### random. rand() produces random numbers from a uniform distribution over the interval [0, 1), while np. random. randn() generates random numbers from a standard normal distribution"
   ]
  },
  {
   "cell_type": "markdown",
   "id": "f52087b4",
   "metadata": {},
   "source": [
    "## 9. Write code to increase the dimension of the following array?\n",
    "\n",
    "[[1, 2, 3, 4]\n",
    "\n",
    "[5, 6, 7, 8],\n",
    "\n",
    "[9, 10, 11, 12]]"
   ]
  },
  {
   "cell_type": "code",
   "execution_count": 25,
   "id": "29f6a2b9",
   "metadata": {},
   "outputs": [],
   "source": [
    "arr2=np.array([[1, 2, 3, 4],[5, 6, 7, 8],[9, 10, 11, 12]])"
   ]
  },
  {
   "cell_type": "code",
   "execution_count": 26,
   "id": "53fd7194",
   "metadata": {},
   "outputs": [
    {
     "data": {
      "text/plain": [
       "array([[ 1,  2,  3,  4],\n",
       "       [ 5,  6,  7,  8],\n",
       "       [ 9, 10, 11, 12]])"
      ]
     },
     "execution_count": 26,
     "metadata": {},
     "output_type": "execute_result"
    }
   ],
   "source": [
    "arr2"
   ]
  },
  {
   "cell_type": "code",
   "execution_count": 28,
   "id": "b3984a94",
   "metadata": {},
   "outputs": [
    {
     "data": {
      "text/plain": [
       "array([[[ 1,  2,  3,  4],\n",
       "        [ 5,  6,  7,  8],\n",
       "        [ 9, 10, 11, 12]]])"
      ]
     },
     "execution_count": 28,
     "metadata": {},
     "output_type": "execute_result"
    }
   ],
   "source": [
    "np.expand_dims(arr2,axis=0)"
   ]
  },
  {
   "cell_type": "markdown",
   "id": "b39f7467",
   "metadata": {},
   "source": [
    "## 10. How to transpose the following array in NumPy?\n",
    "\n",
    "[[1, 2, 3, 4]\n",
    "\n",
    "[5, 6, 7, 8],\n",
    "\n",
    "[9, 10, 11, 12]]"
   ]
  },
  {
   "cell_type": "code",
   "execution_count": 29,
   "id": "1af68205",
   "metadata": {},
   "outputs": [],
   "source": [
    "arr3=np.array([[1, 2, 3, 4],[5, 6, 7, 8],[9, 10, 11, 12]])"
   ]
  },
  {
   "cell_type": "code",
   "execution_count": 30,
   "id": "7f52f54e",
   "metadata": {},
   "outputs": [
    {
     "data": {
      "text/plain": [
       "array([[ 1,  5,  9],\n",
       "       [ 2,  6, 10],\n",
       "       [ 3,  7, 11],\n",
       "       [ 4,  8, 12]])"
      ]
     },
     "execution_count": 30,
     "metadata": {},
     "output_type": "execute_result"
    }
   ],
   "source": [
    "# transpose of given matrix is as below:\n",
    "arr3.T"
   ]
  },
  {
   "cell_type": "markdown",
   "id": "42d6c068",
   "metadata": {},
   "source": [
    "## 11. Consider the following matrix:\n",
    "\n",
    "Matrix A : [[1, 2, 3, 4] [5, 6, 7, 8],[9, 10, 11, 12]]\n",
    "\n",
    "Matrix B:[[1, 2, 3, 4] [5, 6, 7, 8],[9, 10, 11, 12]]\n",
    "\n",
    "\n",
    "## Perform the following operation using Python\n",
    "1. Index wise multiplication\n",
    "2. Matrix multiplication\n",
    "3. Add both the matrices\n",
    "4. Subtract matrix B from A\n",
    "5. Divide matrix B by A"
   ]
  },
  {
   "cell_type": "code",
   "execution_count": 31,
   "id": "397202d7",
   "metadata": {},
   "outputs": [],
   "source": [
    "A=np.array([[1, 2, 3, 4], [5, 6, 7, 8],[9, 10, 11, 12]])\n",
    "\n",
    "B=np.array([[1, 2, 3, 4], [5, 6, 7, 8],[9, 10, 11, 12]])"
   ]
  },
  {
   "cell_type": "markdown",
   "id": "7d6c8129",
   "metadata": {},
   "source": [
    "### 1. Index wise multiplication"
   ]
  },
  {
   "cell_type": "code",
   "execution_count": 32,
   "id": "5c3a2644",
   "metadata": {},
   "outputs": [
    {
     "data": {
      "text/plain": [
       "array([[  1,   4,   9,  16],\n",
       "       [ 25,  36,  49,  64],\n",
       "       [ 81, 100, 121, 144]])"
      ]
     },
     "execution_count": 32,
     "metadata": {},
     "output_type": "execute_result"
    }
   ],
   "source": [
    "A * B"
   ]
  },
  {
   "cell_type": "markdown",
   "id": "0f83c5d4",
   "metadata": {},
   "source": [
    "### 2. Matrix multiplication"
   ]
  },
  {
   "cell_type": "code",
   "execution_count": 35,
   "id": "b6888ccf",
   "metadata": {},
   "outputs": [
    {
     "data": {
      "text/plain": [
       "array([[ 30,  70, 110],\n",
       "       [ 70, 174, 278],\n",
       "       [110, 278, 446]])"
      ]
     },
     "execution_count": 35,
     "metadata": {},
     "output_type": "execute_result"
    }
   ],
   "source": [
    "A @ B.T"
   ]
  },
  {
   "cell_type": "markdown",
   "id": "912f0277",
   "metadata": {},
   "source": [
    "### 3. Add both the matrices"
   ]
  },
  {
   "cell_type": "code",
   "execution_count": 34,
   "id": "39f6ea86",
   "metadata": {},
   "outputs": [
    {
     "data": {
      "text/plain": [
       "array([[ 2,  4,  6,  8],\n",
       "       [10, 12, 14, 16],\n",
       "       [18, 20, 22, 24]])"
      ]
     },
     "execution_count": 34,
     "metadata": {},
     "output_type": "execute_result"
    }
   ],
   "source": [
    "A + B"
   ]
  },
  {
   "cell_type": "markdown",
   "id": "6043dfb3",
   "metadata": {},
   "source": [
    "### 4. Subtract matrix B from A"
   ]
  },
  {
   "cell_type": "code",
   "execution_count": 36,
   "id": "20a31d08",
   "metadata": {},
   "outputs": [
    {
     "data": {
      "text/plain": [
       "array([[0, 0, 0, 0],\n",
       "       [0, 0, 0, 0],\n",
       "       [0, 0, 0, 0]])"
      ]
     },
     "execution_count": 36,
     "metadata": {},
     "output_type": "execute_result"
    }
   ],
   "source": [
    "A-B"
   ]
  },
  {
   "cell_type": "markdown",
   "id": "69c55ff5",
   "metadata": {},
   "source": [
    "### 5. Divide matrix B by A"
   ]
  },
  {
   "cell_type": "code",
   "execution_count": 37,
   "id": "7b1072c9",
   "metadata": {},
   "outputs": [
    {
     "data": {
      "text/plain": [
       "array([[1., 1., 1., 1.],\n",
       "       [1., 1., 1., 1.],\n",
       "       [1., 1., 1., 1.]])"
      ]
     },
     "execution_count": 37,
     "metadata": {},
     "output_type": "execute_result"
    }
   ],
   "source": [
    "B/A"
   ]
  },
  {
   "cell_type": "markdown",
   "id": "996c05a4",
   "metadata": {},
   "source": [
    "## 12.  Which function in Numpy can be used to swap the byte order of an array?"
   ]
  },
  {
   "cell_type": "markdown",
   "id": "b3e62c06",
   "metadata": {},
   "source": [
    "### For byte swapping, the Numpy library offers the method called “byteswap()”, which is basically used to swap the byte order of the data stored in memory or one endianness to another."
   ]
  },
  {
   "cell_type": "markdown",
   "id": "42e6a883",
   "metadata": {},
   "source": [
    "## 13.  What is the significance of the np.linalg.inv function?"
   ]
  },
  {
   "cell_type": "markdown",
   "id": "863e129a",
   "metadata": {},
   "source": [
    "### We use numpy. linalg. inv() function to calculate the inverse of a matrix. The inverse of a matrix is such that if it is multiplied by the original matrix, it results in identity matrix."
   ]
  },
  {
   "cell_type": "markdown",
   "id": "c691baaa",
   "metadata": {},
   "source": [
    "## 14. What does the np.reshape function do, and how is it used?"
   ]
  },
  {
   "cell_type": "markdown",
   "id": "a14992f7",
   "metadata": {},
   "source": [
    "### np.reshape function gives a new shape to an array without changing its data"
   ]
  },
  {
   "cell_type": "markdown",
   "id": "9315c8c1",
   "metadata": {},
   "source": [
    "### It is used as follows:\n"
   ]
  },
  {
   "cell_type": "code",
   "execution_count": 38,
   "id": "9081d5d4",
   "metadata": {},
   "outputs": [
    {
     "data": {
      "text/plain": [
       "array([[ 1,  2,  3],\n",
       "       [ 4,  5,  6],\n",
       "       [ 7,  8,  9],\n",
       "       [10, 11, 12]])"
      ]
     },
     "execution_count": 38,
     "metadata": {},
     "output_type": "execute_result"
    }
   ],
   "source": [
    "import numpy as np\n",
    "\n",
    "arr = np.array([1, 2, 3, 4, 5, 6, 7, 8, 9, 10, 11, 12])\n",
    "\n",
    "newarr = arr.reshape(4, 3)\n",
    "\n",
    "newarr"
   ]
  },
  {
   "cell_type": "markdown",
   "id": "85d838ac",
   "metadata": {},
   "source": [
    "## 15. What is broadcasting in Numpy?"
   ]
  },
  {
   "cell_type": "markdown",
   "id": "a1252feb",
   "metadata": {},
   "source": [
    "### Broadcasting provides a means of vectorizing array operations, therefore eliminating the need for Python loops."
   ]
  },
  {
   "cell_type": "code",
   "execution_count": null,
   "id": "f1058848",
   "metadata": {},
   "outputs": [],
   "source": []
  }
 ],
 "metadata": {
  "kernelspec": {
   "display_name": "Python 3 (ipykernel)",
   "language": "python",
   "name": "python3"
  },
  "language_info": {
   "codemirror_mode": {
    "name": "ipython",
    "version": 3
   },
   "file_extension": ".py",
   "mimetype": "text/x-python",
   "name": "python",
   "nbconvert_exporter": "python",
   "pygments_lexer": "ipython3",
   "version": "3.9.12"
  }
 },
 "nbformat": 4,
 "nbformat_minor": 5
}
