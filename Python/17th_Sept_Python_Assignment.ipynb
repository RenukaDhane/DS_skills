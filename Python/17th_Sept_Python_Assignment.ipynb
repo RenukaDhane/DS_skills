{
 "cells": [
  {
   "cell_type": "markdown",
   "id": "a460655e",
   "metadata": {},
   "source": [
    "### Map :-"
   ]
  },
  {
   "cell_type": "markdown",
   "id": "4c849cf4",
   "metadata": {},
   "source": [
    "###### 1.\tExplain the purpose of the `map()` function in Python and provide an example of how it can be used to apply a function to each element of an iterable."
   ]
  },
  {
   "cell_type": "markdown",
   "id": "2bab6aff",
   "metadata": {},
   "source": [
    "###### ==> map() function returns a map object(which is an iterator) of the results after applying the given function to each item of a given iterable (list, tuple etc.)\n"
   ]
  },
  {
   "cell_type": "code",
   "execution_count": 1,
   "id": "c9db8eed",
   "metadata": {},
   "outputs": [
    {
     "name": "stdout",
     "output_type": "stream",
     "text": [
      "[2, 4, 6, 8]\n"
     ]
    }
   ],
   "source": [
    "# Python program to demonstrate working\n",
    "# of map.\n",
    "  \n",
    "# Return double of n\n",
    "def addition(n):\n",
    "    return n + n\n",
    "  \n",
    "# We double all numbers using map()\n",
    "numbers = (1, 2, 3, 4)\n",
    "result = map(addition, numbers)\n",
    "print(list(result))"
   ]
  },
  {
   "cell_type": "markdown",
   "id": "1bcfb979",
   "metadata": {},
   "source": [
    "###### 2.\tWrite a Python program that uses the `map()` function to square each element of a list of numbers."
   ]
  },
  {
   "cell_type": "code",
   "execution_count": 2,
   "id": "405c9ce9",
   "metadata": {},
   "outputs": [
    {
     "name": "stdout",
     "output_type": "stream",
     "text": [
      "[1, 4, 9, 16]\n"
     ]
    }
   ],
   "source": [
    "# Python program to demonstrate working\n",
    "# of map.\n",
    "  \n",
    "# Return square of n\n",
    "def square(n):\n",
    "    return n**2\n",
    "  \n",
    "# We square all numbers using map()\n",
    "numbers = (1, 2, 3, 4)\n",
    "result = map(square, numbers)\n",
    "print(list(result))"
   ]
  },
  {
   "cell_type": "markdown",
   "id": "f950546c",
   "metadata": {},
   "source": [
    "###### 3.\tHow does the `map()` function differ from a list comprehension in Python, and when would you choose one over the other?"
   ]
  },
  {
   "cell_type": "markdown",
   "id": "22424ac5",
   "metadata": {},
   "source": [
    "###### ==> List comprehension returns a list, whereas the map function returns an object of Iterable\n",
    "###### ==> List comprehension can be used together with if condition as replacement of filter method. Map function has no such functionality.\n",
    "\n",
    "###### ==> We can choose list comprehension when we need to create a list based on  a list on certain conditions, that need to be  satisfied  and also we can apply some function over list element. While we will choose map() in case we want to just apply a function to each element of list and return an iterable."
   ]
  },
  {
   "cell_type": "markdown",
   "id": "d36d0b11",
   "metadata": {},
   "source": [
    "###### 4.\tCreate a Python program that uses the `map()` function to convert a list of names to uppercase."
   ]
  },
  {
   "cell_type": "code",
   "execution_count": 4,
   "id": "9bfa7762",
   "metadata": {},
   "outputs": [
    {
     "name": "stdout",
     "output_type": "stream",
     "text": [
      "['RUBY', 'DIAMOND', 'SILVER', 'GOLD', 'PLATINUM', 'SAPPHIRE']\n"
     ]
    }
   ],
   "source": [
    "def upper_case(nm):\n",
    "    return nm.upper()\n",
    "list_names = [\"Ruby\",\"diamond\",\"silver\",\"gold\",\"platinum\",\"Sapphire\"]\n",
    "result = map(upper_case, list_names)\n",
    "print(list(result))"
   ]
  },
  {
   "cell_type": "markdown",
   "id": "aa4eb0f3",
   "metadata": {},
   "source": [
    "###### 5.\tWrite a Python program that uses the `map()` function to calculate the length of each word in a list of strings."
   ]
  },
  {
   "cell_type": "code",
   "execution_count": 5,
   "id": "7985406b",
   "metadata": {},
   "outputs": [
    {
     "name": "stdout",
     "output_type": "stream",
     "text": [
      "[4, 7, 6, 4, 8, 8]\n"
     ]
    }
   ],
   "source": [
    "def calculate_len(nm):\n",
    "    return len(nm)\n",
    "list_names = [\"Ruby\",\"diamond\",\"silver\",\"gold\",\"platinum\",\"Sapphire\"]\n",
    "result = map(calculate_len, list_names)\n",
    "print(list(result))"
   ]
  },
  {
   "cell_type": "markdown",
   "id": "e5165a57",
   "metadata": {},
   "source": [
    "###### 6.\tHow can you use the `map()` function to apply a custom function to elements of multiple lists simultaneously in Python?"
   ]
  },
  {
   "cell_type": "code",
   "execution_count": 7,
   "id": "fcd25802",
   "metadata": {},
   "outputs": [
    {
     "name": "stdout",
     "output_type": "stream",
     "text": [
      "For list [23, 34, 45, 67, 78] output is [529, 1156, 2025, 4489, 6084]\n",
      "For list [2, 3, 4, 5, 6, 7] output is [4, 9, 16, 25, 36, 49]\n",
      "For list [6, 7, 8, 9, 0, 3] output is [36, 49, 64, 81, 0, 9]\n",
      "For list [7, 8, 8, 9, 9, 0] output is [49, 64, 64, 81, 81, 0]\n"
     ]
    }
   ],
   "source": [
    "def square(n):\n",
    "    return n**2\n",
    "\n",
    "list1=[23,34,45,67,78]\n",
    "list2=[2,3,4,5,6,7]\n",
    "list3=[6,7,8,9,0,3]\n",
    "list4=[7,8,8,9,9,0]\n",
    "list_of_lists=[list1,list2,list3,list4]\n",
    "\n",
    "for l in list_of_lists:\n",
    "    print(f\"For list {l} output is {list(map(square,l))}\")"
   ]
  },
  {
   "cell_type": "markdown",
   "id": "1378c0d8",
   "metadata": {},
   "source": [
    "###### 7.\tCreate a Python program that uses `map()` to convert a list of temperatures from Celsius to Fahrenheit."
   ]
  },
  {
   "cell_type": "code",
   "execution_count": 8,
   "id": "5366b649",
   "metadata": {},
   "outputs": [
    {
     "name": "stdout",
     "output_type": "stream",
     "text": [
      "[73.4, 93.2, 113.0, 152.60000000000002, 172.4]\n"
     ]
    }
   ],
   "source": [
    "def celcius_fahrenheit(t_cel):\n",
    "    return (t_cel*(9/5))+32\n",
    "\n",
    "list1=[23,34,45,67,78]\n",
    "result = map(celcius_fahrenheit, list1)\n",
    "print(list(result))"
   ]
  },
  {
   "cell_type": "markdown",
   "id": "0795c342",
   "metadata": {},
   "source": [
    "###### 8.\tWrite a Python program that uses the `map()` function to round each element of a list of floating-point numbers to the nearest integer."
   ]
  },
  {
   "cell_type": "code",
   "execution_count": 9,
   "id": "0b0ace9b",
   "metadata": {},
   "outputs": [
    {
     "name": "stdout",
     "output_type": "stream",
     "text": [
      "[73, 93, 113, 153, 172]\n"
     ]
    }
   ],
   "source": [
    "list1=[73.4, 93.2, 113.0, 152.60000000000002, 172.4]\n",
    "\n",
    "result = map(lambda x: round(x), list1)\n",
    "print(list(result))"
   ]
  },
  {
   "cell_type": "markdown",
   "id": "5ed1573a",
   "metadata": {},
   "source": [
    "### Reduce :-"
   ]
  },
  {
   "cell_type": "markdown",
   "id": "319b73aa",
   "metadata": {},
   "source": [
    "###### 1.\tWhat is the `reduce()` function in Python, and what module should you import to use it? Provide an example of its basic usage."
   ]
  },
  {
   "cell_type": "markdown",
   "id": "c5ff9209",
   "metadata": {},
   "source": [
    "###### ==> The reduce(fun,seq) function is used to apply a particular function passed in its argument to all of the list elements mentioned in the sequence passed along.This function is defined in “functools” module.\n"
   ]
  },
  {
   "cell_type": "code",
   "execution_count": 1,
   "id": "ee1cd46b",
   "metadata": {},
   "outputs": [
    {
     "name": "stdout",
     "output_type": "stream",
     "text": [
      "The sum of the list elements is : 17\n"
     ]
    }
   ],
   "source": [
    "  \n",
    "# importing functools for reduce()\n",
    "import functools\n",
    "  \n",
    "# initializing list\n",
    "lis = [1, 3, 5, 6, 2]\n",
    "  \n",
    "# using reduce to compute sum of list\n",
    "print(\"The sum of the list elements is : \", end=\"\")\n",
    "print(functools.reduce(lambda a, b: a+b, lis))"
   ]
  },
  {
   "cell_type": "markdown",
   "id": "3670fe69",
   "metadata": {},
   "source": [
    "###### 2.\tWrite a Python program that uses the `reduce()` function to find the product of all elements in a list."
   ]
  },
  {
   "cell_type": "code",
   "execution_count": 2,
   "id": "bc3f2708",
   "metadata": {},
   "outputs": [
    {
     "name": "stdout",
     "output_type": "stream",
     "text": [
      "The product of the list elements is : 180\n"
     ]
    }
   ],
   "source": [
    "# importing functools for reduce()\n",
    "import functools\n",
    "  \n",
    "# initializing list\n",
    "lis = [1, 3, 5, 6, 2]\n",
    "  \n",
    "# using reduce to compute sum of list\n",
    "print(\"The product of the list elements is : \", end=\"\")\n",
    "print(functools.reduce(lambda a, b: a*b, lis))"
   ]
  },
  {
   "cell_type": "markdown",
   "id": "51e3fe3b",
   "metadata": {},
   "source": [
    "###### 3.\tCreate a Python program that uses `reduce()` to find the maximum element in a list of numbers."
   ]
  },
  {
   "cell_type": "code",
   "execution_count": 3,
   "id": "b32ad241",
   "metadata": {},
   "outputs": [
    {
     "name": "stdout",
     "output_type": "stream",
     "text": [
      "The maximum element in a list of numbers : 6\n"
     ]
    }
   ],
   "source": [
    "# importing functools for reduce()\n",
    "import functools\n",
    "  \n",
    "# initializing list\n",
    "lis = [1, 3, 5, 6, 2]\n",
    "  \n",
    "# using reduce to compute sum of list\n",
    "print(\"The maximum element in a list of numbers : \", end=\"\")\n",
    "print(functools.reduce(lambda a, b: a if a>b else b, lis))"
   ]
  },
  {
   "cell_type": "markdown",
   "id": "eb2365c9",
   "metadata": {},
   "source": [
    "###### 4.\tHow can you use the `reduce()` function to concatenate a list of strings into a single string?"
   ]
  },
  {
   "cell_type": "code",
   "execution_count": 4,
   "id": "effb8b4d",
   "metadata": {},
   "outputs": [
    {
     "name": "stdout",
     "output_type": "stream",
     "text": [
      "concatenating a list of strings into a single string : RubyDiamondSapphireGoldSilverPlatinum\n"
     ]
    }
   ],
   "source": [
    "# importing functools for reduce()\n",
    "import functools\n",
    "# initializing list\n",
    "list_of_strings=[\"Ruby\",\"Diamond\",\"Sapphire\",\"Gold\",\"Silver\",\"Platinum\"]\n",
    "print(\"concatenating a list of strings into a single string : \", end=\"\")\n",
    "print(functools.reduce(lambda a, b:a+b, list_of_strings))"
   ]
  },
  {
   "cell_type": "markdown",
   "id": "81dc93ad",
   "metadata": {},
   "source": [
    "###### 5.\tWrite a Python program that calculates the factorial of a number using the `reduce()` function."
   ]
  },
  {
   "cell_type": "code",
   "execution_count": 7,
   "id": "8ec0be25",
   "metadata": {},
   "outputs": [
    {
     "name": "stdout",
     "output_type": "stream",
     "text": [
      "Enter a number for calculating factorial : 6\n",
      "Factorial of a number using the reduce() function is 720\n"
     ]
    }
   ],
   "source": [
    "# importing functools for reduce()\n",
    "import functools\n",
    "n=int(input(\"Enter a number for calculating factorial : \"))\n",
    "print(\"Factorial of a number using the reduce() function is \", end=\"\")\n",
    "print(functools.reduce(lambda a, b:a*b, [i for i in range(1,n+1)]))"
   ]
  },
  {
   "cell_type": "markdown",
   "id": "8f34bdf0",
   "metadata": {},
   "source": [
    "###### 6.\tCreate a Python program that uses `reduce()` to find the GCD (Greatest Common Divisor) of a list of numbers."
   ]
  },
  {
   "cell_type": "code",
   "execution_count": 22,
   "id": "006dc07e",
   "metadata": {},
   "outputs": [
    {
     "name": "stdout",
     "output_type": "stream",
     "text": [
      "GCD (Greatest Common Divisor) of a list of numbers is 18\n"
     ]
    }
   ],
   "source": [
    "def calculate_gcd(a,b):\n",
    "    factors_a={i for i in range(1,a+1) if a%i==0}\n",
    "    factors_b={i for i in range(1,b+1) if b%i==0}\n",
    "    return max(factors_a.intersection(factors_b))\n",
    "    \n",
    "    \n",
    "list_num=[36,54,90]\n",
    "print(\"GCD (Greatest Common Divisor) of a list of numbers is \", end=\"\")\n",
    "print(functools.reduce(calculate_gcd, list_num))"
   ]
  },
  {
   "cell_type": "markdown",
   "id": "66820af9",
   "metadata": {},
   "source": [
    "###### 7.\tWrite a Python program that uses the `reduce()` function to find the sum of the digits of a given number."
   ]
  },
  {
   "cell_type": "code",
   "execution_count": 26,
   "id": "df2b524f",
   "metadata": {},
   "outputs": [
    {
     "name": "stdout",
     "output_type": "stream",
     "text": [
      "The sum of the digits of a given number is 15\n"
     ]
    }
   ],
   "source": [
    "n=12345\n",
    "digits_in_num=[]\n",
    "\n",
    "while(n):\n",
    "    digits_in_num.append(n%10)\n",
    "    n=n//10\n",
    "    \n",
    "print(\"The sum of the digits of a given number is \", end=\"\")\n",
    "print(functools.reduce(lambda a,b:a+b,digits_in_num ))\n"
   ]
  },
  {
   "cell_type": "markdown",
   "id": "2d35f82a",
   "metadata": {},
   "source": [
    "### Filter :-"
   ]
  },
  {
   "cell_type": "markdown",
   "id": "f3f2715a",
   "metadata": {},
   "source": [
    "###### 1.\tExplain the purpose of the `filter()` function in Python and provide an example of how it can be used to filter elements from an iterable."
   ]
  },
  {
   "cell_type": "markdown",
   "id": "b6594cfa",
   "metadata": {},
   "source": [
    "###### ==>The filter() method filters the given sequence with the help of a function that tests each element in the sequence to be true or not.\n",
    "###### Below code filters odd numbers and even numbers from list of numbers using filter()"
   ]
  },
  {
   "cell_type": "code",
   "execution_count": 1,
   "id": "611439e5",
   "metadata": {},
   "outputs": [
    {
     "name": "stdout",
     "output_type": "stream",
     "text": [
      "List of numbers is :  [0, 1, 2, 3, 5, 8, 13]\n",
      "Odd numbers are : \n",
      "[1, 3, 5, 13]\n",
      "Even numbers are : \n",
      "[0, 2, 8]\n"
     ]
    }
   ],
   "source": [
    "# a list contains both even and odd numbers.\n",
    "seq = [0, 1, 2, 3, 5, 8, 13]\n",
    "print(\"List of numbers is : \",seq)\n",
    "\n",
    "# result contains odd numbers of the list\n",
    "result = filter(lambda x: x % 2 != 0, seq)\n",
    "print(\"Odd numbers are : \")\n",
    "print(list(result))\n",
    " \n",
    "# result contains even numbers of the list\n",
    "result = filter(lambda x: x % 2 == 0, seq)\n",
    "print(\"Even numbers are : \")\n",
    "print(list(result))"
   ]
  },
  {
   "cell_type": "markdown",
   "id": "df30f49e",
   "metadata": {},
   "source": [
    "###### 2.\tWrite a Python program that uses the `filter()` function to select even numbers from a list of integers."
   ]
  },
  {
   "cell_type": "code",
   "execution_count": 4,
   "id": "06dafade",
   "metadata": {},
   "outputs": [
    {
     "name": "stdout",
     "output_type": "stream",
     "text": [
      "List of integers :  [45, 66, 78, 89, 90, 12, 34, 54, 61, 71]\n",
      "Even numbers from list of integers :  [66, 78, 90, 12, 34, 54]\n"
     ]
    }
   ],
   "source": [
    "list_integers=[45,66,78,89,90,12,34,54,61,71]\n",
    "print(\"List of integers : \",list_integers)\n",
    "print(\"Even numbers from list of integers : \",list(filter(lambda x :x%2==0,list_integers)))"
   ]
  },
  {
   "cell_type": "markdown",
   "id": "7f4acff5",
   "metadata": {},
   "source": [
    "###### 3.\tCreate a Python program that uses the `filter()` function to select names that start with a specific letter from a list of strings."
   ]
  },
  {
   "cell_type": "code",
   "execution_count": 5,
   "id": "4a103f71",
   "metadata": {},
   "outputs": [
    {
     "name": "stdout",
     "output_type": "stream",
     "text": [
      "List of Strings :  ['Sand', 'Rock', 'sea', 'shore', 'Fish', 'water', 'shell', 'pearl', 'sunset']\n",
      "Names that starts with 's' are :  ['Sand', 'sea', 'shore', 'shell', 'sunset']\n"
     ]
    }
   ],
   "source": [
    "list_strings=[\"Sand\",\"Rock\",\"sea\",\"shore\",\"Fish\",\"water\",\"shell\",\"pearl\",\"sunset\"]\n",
    "print(\"List of Strings : \",list_strings)\n",
    "print(\"Names that starts with 's' are : \",list(filter(lambda x : x[0].lower()=='s',list_strings)))"
   ]
  },
  {
   "cell_type": "markdown",
   "id": "bfe6d708",
   "metadata": {},
   "source": [
    "###### 4.\tWrite a Python program that uses the `filter()` function to select prime numbers from a list of integers."
   ]
  },
  {
   "cell_type": "code",
   "execution_count": 6,
   "id": "9260b5c5",
   "metadata": {},
   "outputs": [
    {
     "name": "stdout",
     "output_type": "stream",
     "text": [
      "List of integers :  [45, 2, 66, 78, 89, 90, 12, 34, 54, 61, 71, 7, 23, 79, 11, 43]\n",
      "Prime numbers from list of integers :  [2, 89, 61, 71, 7, 23, 79, 11, 43]\n"
     ]
    }
   ],
   "source": [
    "import math\n",
    "def isPrime(n):\n",
    "    if n==1:\n",
    "        return false\n",
    "    else:\n",
    "        for i in range(2,round(math.sqrt(n)+1)):\n",
    "            if i!=n and n%i==0:\n",
    "                return False\n",
    "        else:\n",
    "            return True\n",
    "\n",
    "list_integers=[45,2,66,78,89,90,12,34,54,61,71,7,23,79,11,43]\n",
    "print(\"List of integers : \",list_integers)\n",
    "print(\"Prime numbers from list of integers : \",list(filter(isPrime,list_integers)))"
   ]
  },
  {
   "cell_type": "markdown",
   "id": "f1030185",
   "metadata": {},
   "source": [
    "###### 5.\tHow can you use the `filter()` function to remove None values from a list in Python?"
   ]
  },
  {
   "cell_type": "code",
   "execution_count": 7,
   "id": "2abc9c20",
   "metadata": {},
   "outputs": [
    {
     "name": "stdout",
     "output_type": "stream",
     "text": [
      "List :  ['Cake', 'candle', 'Ballons', None, 'icecream', None]\n",
      "After removing None from list :  ['Cake', 'candle', 'Ballons', 'icecream']\n"
     ]
    }
   ],
   "source": [
    "test_list=[\"Cake\",\"candle\",\"Ballons\",None,\"icecream\",None]\n",
    "print(\"List : \",test_list)\n",
    "print(\"After removing None from list : \",list(filter(lambda x : x!=None,test_list)))"
   ]
  },
  {
   "cell_type": "markdown",
   "id": "9e96e38a",
   "metadata": {},
   "source": [
    "###### 6.\tCreate a Python program that uses `filter()` to select words longer than a certain length from a list of strings."
   ]
  },
  {
   "cell_type": "code",
   "execution_count": 9,
   "id": "6315c8ff",
   "metadata": {},
   "outputs": [
    {
     "name": "stdout",
     "output_type": "stream",
     "text": [
      "List :  ['Cake', 'candle', 'Ballons', 'gifts', 'icecream', 'decoration']\n",
      "Words longer than 5 :  ['candle', 'Ballons', 'icecream', 'decoration']\n"
     ]
    }
   ],
   "source": [
    "test_list=[\"Cake\",\"candle\",\"Ballons\",\"gifts\",\"icecream\",\"decoration\"]\n",
    "print(\"List : \",test_list)\n",
    "print(\"Words longer than 5 : \",list(filter(lambda x:len(x)>5,test_list)))"
   ]
  },
  {
   "cell_type": "markdown",
   "id": "ead2d8da",
   "metadata": {},
   "source": [
    "###### 7.\tWrite a Python program that uses the `filter()` function to select elements greater than a specified threshold from a list of values."
   ]
  },
  {
   "cell_type": "code",
   "execution_count": 13,
   "id": "520f3376",
   "metadata": {},
   "outputs": [
    {
     "name": "stdout",
     "output_type": "stream",
     "text": [
      "List of values :  [34, 45, 12, 23, 2, 4, 5, 6, 7, 8, 9100, 100, 200, 344, 111]\n",
      "Elements greater than 25 :  [34, 45, 9100, 100, 200, 344, 111]\n"
     ]
    }
   ],
   "source": [
    "list_values=[34,45,12,23,2,4,5,6,7,8,9100,100,200,344,111]\n",
    "print(\"List of values : \",list_values)\n",
    "print(\"Elements greater than 25 : \",list(filter(lambda x:x>25,list_values)))"
   ]
  },
  {
   "cell_type": "markdown",
   "id": "557095cb",
   "metadata": {},
   "source": [
    "### Recursion:-"
   ]
  },
  {
   "cell_type": "markdown",
   "id": "b6247b8e",
   "metadata": {},
   "source": [
    "###### 1.\tExplain the concept of recursion in Python. How does it differ from iteration?"
   ]
  },
  {
   "cell_type": "markdown",
   "id": "b50366ab",
   "metadata": {},
   "source": [
    "###### ==>Recursion is a process in which a function calls itself directly or indirectly.\n",
    "###### ==> Recursion and Iteration both repeatedly execute the set of instructions.But recursion occurs when a statement in a function calls itself   repeatedly.The iteration occurs when a loop repeatedly executes until the controlling condition becomes false."
   ]
  },
  {
   "cell_type": "markdown",
   "id": "d177a9a0",
   "metadata": {},
   "source": [
    "###### 2.\tWrite a Python program to calculate the factorial of a number using recursion."
   ]
  },
  {
   "cell_type": "code",
   "execution_count": 14,
   "id": "33446cf1",
   "metadata": {},
   "outputs": [
    {
     "name": "stdout",
     "output_type": "stream",
     "text": [
      "Factorial of 5  120\n"
     ]
    }
   ],
   "source": [
    "def factorial(n):\n",
    "    \n",
    "    if n==1:\n",
    "        return n\n",
    "    \n",
    "    return n*factorial(n-1)\n",
    "\n",
    "\n",
    "print(\"Factorial of 5 using recursion : \",factorial(5))\n"
   ]
  },
  {
   "cell_type": "markdown",
   "id": "17b6eeb2",
   "metadata": {},
   "source": [
    "###### 3.\tCreate a recursive Python function to find the nth Fibonacci number."
   ]
  },
  {
   "cell_type": "code",
   "execution_count": 2,
   "id": "80739071",
   "metadata": {},
   "outputs": [],
   "source": [
    "def fibonacci_number(n):\n",
    "    if n==2:\n",
    "        return [0,1]\n",
    "    elif n==1:\n",
    "        return [0,0]\n",
    "    \n",
    "    l=fibonacci_number(n-1)\n",
    "    l.append(l[-1]+l[-2])\n",
    "    return l"
   ]
  },
  {
   "cell_type": "code",
   "execution_count": 5,
   "id": "c609d9e4",
   "metadata": {},
   "outputs": [
    {
     "name": "stdout",
     "output_type": "stream",
     "text": [
      "Enter sequence number of Fibonacci number :7\n",
      "Fibonacci number is :  8\n"
     ]
    }
   ],
   "source": [
    "n=int(input(\"Enter sequence number of Fibonacci number :\"))\n",
    "print(\"Fibonacci number is : \",list(fibonacci_number(n))[-1])   \n",
    "    \n",
    "    "
   ]
  },
  {
   "cell_type": "markdown",
   "id": "c4bde64a",
   "metadata": {},
   "source": [
    "###### 4.\tWrite a recursive Python function to calculate the sum of all elements in a list."
   ]
  },
  {
   "cell_type": "code",
   "execution_count": 2,
   "id": "41b7d832",
   "metadata": {},
   "outputs": [
    {
     "name": "stdout",
     "output_type": "stream",
     "text": [
      "List of elements :  [1, 2, 3, 4, 5, 6]\n",
      "Sum of all elements in a list :  21\n"
     ]
    }
   ],
   "source": [
    "def sum_elements(l):\n",
    "    # Recursion break condition\n",
    "    if len(l)==1:\n",
    "        return l[-1]\n",
    "    else:\n",
    "        # Pop element which is current element\n",
    "        popped_element=l.pop()\n",
    "        # Recursive call\n",
    "        sum=popped_element+sum_elements(l)\n",
    "        return sum\n",
    "\n",
    "list_elements=[1,2,3,4,5,6]\n",
    "print(\"List of elements : \",list_elements)\n",
    "print(\"Sum of all elements in a list : \",sum_elements(list_elements))"
   ]
  },
  {
   "cell_type": "markdown",
   "id": "f64caadd",
   "metadata": {},
   "source": [
    "###### 5.\tHow can you prevent a recursive function from running indefinitely, causing a stack overflow error?"
   ]
  },
  {
   "cell_type": "markdown",
   "id": "81f6676c",
   "metadata": {},
   "source": [
    "###### ==> We can prevent a recursive function from running indefinitely by providing a condition for breaking recursion and returning some value"
   ]
  },
  {
   "cell_type": "markdown",
   "id": "c23861b2",
   "metadata": {},
   "source": [
    "###### 6.\tCreate a recursive Python function to find the greatest common divisor (GCD) of two numbers using the Euclidean algorithm."
   ]
  },
  {
   "cell_type": "code",
   "execution_count": 3,
   "id": "aa77d513",
   "metadata": {},
   "outputs": [],
   "source": [
    "def gcd(n1,n2):\n",
    "    \n",
    "    # Recursion break conditions\n",
    "    if n1==0:\n",
    "        return n2\n",
    "    \n",
    "    elif n2==0:\n",
    "            return n1\n",
    "    else:\n",
    "        # Recursive calls to gcd\n",
    "        if n1>n2 :\n",
    "            return gcd(n2,n1%n2)\n",
    "        \n",
    "        elif n2>n1:\n",
    "            return gcd(n1,n2%n1)\n",
    "        \n",
    "        elif n1==n2:\n",
    "            return n1\n",
    "            \n",
    "        "
   ]
  },
  {
   "cell_type": "code",
   "execution_count": 10,
   "id": "e6f71d7d",
   "metadata": {},
   "outputs": [
    {
     "name": "stdout",
     "output_type": "stream",
     "text": [
      "GCD of 270 and 192 using Euclidean algorithm is :  6\n"
     ]
    }
   ],
   "source": [
    "print(\"GCD of 270 and 192 using Euclidean algorithm is : \",gcd(270,192))"
   ]
  },
  {
   "cell_type": "markdown",
   "id": "601e249e",
   "metadata": {},
   "source": [
    "###### 7.\tWrite a recursive Python function to reverse a string."
   ]
  },
  {
   "cell_type": "code",
   "execution_count": 23,
   "id": "aba6aae6",
   "metadata": {},
   "outputs": [],
   "source": [
    "def reverse_str(string1):\n",
    "    # Recursion break condition \n",
    "    if len(string1)==1:\n",
    "        return string1[-1]\n",
    "    else:\n",
    "        # Recursive calls ,pass string with last element removed\n",
    "        s=string1[-1] # Last element\n",
    "        string1=string1[0:-1] # last element removed\n",
    "        return s+reverse_str(string1) # bottom up -  concatenate to get reverse\n",
    "    "
   ]
  },
  {
   "cell_type": "code",
   "execution_count": 24,
   "id": "94354606",
   "metadata": {},
   "outputs": [
    {
     "data": {
      "text/plain": [
       "'sllikswp'"
      ]
     },
     "execution_count": 24,
     "metadata": {},
     "output_type": "execute_result"
    }
   ],
   "source": [
    "reverse_str(\"pwskills\")\n"
   ]
  },
  {
   "cell_type": "markdown",
   "id": "eba1a619",
   "metadata": {},
   "source": [
    "###### 8.\tCreate a recursive Python function to calculate the power of a number (x^n)."
   ]
  },
  {
   "cell_type": "code",
   "execution_count": 30,
   "id": "92a9b89c",
   "metadata": {},
   "outputs": [
    {
     "name": "stdout",
     "output_type": "stream",
     "text": [
      "2 to the power of 5 is :  32\n"
     ]
    }
   ],
   "source": [
    "def power_of_num(number,power):\n",
    "    # Recursion break condition\n",
    "    if power==1:\n",
    "        return number\n",
    "    else:\n",
    "        # Recursive calls\n",
    "        return number*power_of_num(number,power-1)\n",
    "    \n",
    "print(\"2 to the power of 5 is : \",power_of_num(2,5))"
   ]
  },
  {
   "cell_type": "markdown",
   "id": "cbf82651",
   "metadata": {},
   "source": [
    "###### 9.\tWrite a recursive Python function to find all permutations of a given string."
   ]
  },
  {
   "cell_type": "code",
   "execution_count": 10,
   "id": "10539c8b",
   "metadata": {},
   "outputs": [],
   "source": [
    "def generate_permutations(string1):\n",
    "    # Recursion break condition if len is 2 then reverse string\n",
    "    if len(string1)==2:\n",
    "        return [string1,string1[::-1]]\n",
    "    \n",
    "    list_permutations=[]\n",
    "    # logic - one fixed char + permutations of remaining characters\n",
    "    for i,char in enumerate(string1):\n",
    "        first_char=char\n",
    "        remaining_char=string1[:i]+string1[i+1:]\n",
    "        \n",
    "        # List of permutations of remaing characters\n",
    "        l=generate_permutations(remaining_char)\n",
    "        \n",
    "        # Combine fixed character with permutations of remaing characters\n",
    "        for s in l:\n",
    "            new_str=first_char+s\n",
    "            list_permutations.append(new_str)\n",
    "        \n",
    "        # Now change the fixed character in next iteration\n",
    "    \n",
    "    # Final return or recursive returns\n",
    "    return  list_permutations   "
   ]
  },
  {
   "cell_type": "code",
   "execution_count": 12,
   "id": "61e5a3c5",
   "metadata": {},
   "outputs": [
    {
     "data": {
      "text/plain": [
       "['ABC', 'ACB', 'BAC', 'BCA', 'CAB', 'CBA']"
      ]
     },
     "execution_count": 12,
     "metadata": {},
     "output_type": "execute_result"
    }
   ],
   "source": [
    "generate_permutations(\"ABC\")"
   ]
  },
  {
   "cell_type": "markdown",
   "id": "91798332",
   "metadata": {},
   "source": [
    "###### 10.\tWrite a recursive Python function to check if a string is a palindrome."
   ]
  },
  {
   "cell_type": "code",
   "execution_count": 27,
   "id": "a2cb1042",
   "metadata": {},
   "outputs": [],
   "source": [
    "def isPalindrome(string1):\n",
    "    \n",
    "   # Recursion break condition \n",
    "    if len(string1)==1 or string1==\"\":\n",
    "        return True\n",
    "    \n",
    "    # get first and last letter \n",
    "    x=string1[0]\n",
    "    y=string1[-1]\n",
    "    \n",
    "    # if equal then check further for remaining letters else return false\n",
    "    if x==y:\n",
    "        return isPalindrome(string1[1:-1])\n",
    "    else:\n",
    "        return False"
   ]
  },
  {
   "cell_type": "code",
   "execution_count": 30,
   "id": "b089430c",
   "metadata": {},
   "outputs": [
    {
     "name": "stdout",
     "output_type": "stream",
     "text": [
      "True\n",
      "True\n",
      "False\n"
     ]
    }
   ],
   "source": [
    "print(isPalindrome(\"sdfafds\"))\n",
    "print(isPalindrome(\"sdffds\"))\n",
    "print(isPalindrome(\"sdfg\"))    "
   ]
  },
  {
   "cell_type": "markdown",
   "id": "fec87366",
   "metadata": {},
   "source": [
    "###### 11.\tCreate a recursive Python function to generate all possible combinations of a list of elements."
   ]
  },
  {
   "cell_type": "code",
   "execution_count": 12,
   "id": "b83b02ee",
   "metadata": {},
   "outputs": [],
   "source": [
    "def generate_combinations(list1):\n",
    "    if len(list1)==2:\n",
    "        list_str=[str(x) for x in list1]\n",
    "        return [''.join(list_str),''.join(list_str[::-1])]\n",
    "    \n",
    "    list_combinations=[]\n",
    "    for i,ele in enumerate(list1):\n",
    "        fixed_element=ele\n",
    "        remaining_elements=list1[:i]+list1[i+1:]\n",
    "        \n",
    "        l=generate_combinations(remaining_elements)\n",
    "        \n",
    "        for x in l:\n",
    "            list_combinations.append(str(fixed_element)+x)\n",
    "\n",
    "    return list_combinations\n",
    "\n"
   ]
  },
  {
   "cell_type": "code",
   "execution_count": 13,
   "id": "1c399da5",
   "metadata": {},
   "outputs": [
    {
     "data": {
      "text/plain": [
       "['12345',\n",
       " '12354',\n",
       " '12435',\n",
       " '12453',\n",
       " '12534',\n",
       " '12543',\n",
       " '13245',\n",
       " '13254',\n",
       " '13425',\n",
       " '13452',\n",
       " '13524',\n",
       " '13542',\n",
       " '14235',\n",
       " '14253',\n",
       " '14325',\n",
       " '14352',\n",
       " '14523',\n",
       " '14532',\n",
       " '15234',\n",
       " '15243',\n",
       " '15324',\n",
       " '15342',\n",
       " '15423',\n",
       " '15432',\n",
       " '21345',\n",
       " '21354',\n",
       " '21435',\n",
       " '21453',\n",
       " '21534',\n",
       " '21543',\n",
       " '23145',\n",
       " '23154',\n",
       " '23415',\n",
       " '23451',\n",
       " '23514',\n",
       " '23541',\n",
       " '24135',\n",
       " '24153',\n",
       " '24315',\n",
       " '24351',\n",
       " '24513',\n",
       " '24531',\n",
       " '25134',\n",
       " '25143',\n",
       " '25314',\n",
       " '25341',\n",
       " '25413',\n",
       " '25431',\n",
       " '31245',\n",
       " '31254',\n",
       " '31425',\n",
       " '31452',\n",
       " '31524',\n",
       " '31542',\n",
       " '32145',\n",
       " '32154',\n",
       " '32415',\n",
       " '32451',\n",
       " '32514',\n",
       " '32541',\n",
       " '34125',\n",
       " '34152',\n",
       " '34215',\n",
       " '34251',\n",
       " '34512',\n",
       " '34521',\n",
       " '35124',\n",
       " '35142',\n",
       " '35214',\n",
       " '35241',\n",
       " '35412',\n",
       " '35421',\n",
       " '41235',\n",
       " '41253',\n",
       " '41325',\n",
       " '41352',\n",
       " '41523',\n",
       " '41532',\n",
       " '42135',\n",
       " '42153',\n",
       " '42315',\n",
       " '42351',\n",
       " '42513',\n",
       " '42531',\n",
       " '43125',\n",
       " '43152',\n",
       " '43215',\n",
       " '43251',\n",
       " '43512',\n",
       " '43521',\n",
       " '45123',\n",
       " '45132',\n",
       " '45213',\n",
       " '45231',\n",
       " '45312',\n",
       " '45321',\n",
       " '51234',\n",
       " '51243',\n",
       " '51324',\n",
       " '51342',\n",
       " '51423',\n",
       " '51432',\n",
       " '52134',\n",
       " '52143',\n",
       " '52314',\n",
       " '52341',\n",
       " '52413',\n",
       " '52431',\n",
       " '53124',\n",
       " '53142',\n",
       " '53214',\n",
       " '53241',\n",
       " '53412',\n",
       " '53421',\n",
       " '54123',\n",
       " '54132',\n",
       " '54213',\n",
       " '54231',\n",
       " '54312',\n",
       " '54321']"
      ]
     },
     "execution_count": 13,
     "metadata": {},
     "output_type": "execute_result"
    }
   ],
   "source": [
    "list_elements=[1,2,3,4,5]\n",
    "generate_combinations(list_elements)"
   ]
  },
  {
   "cell_type": "markdown",
   "id": "8bf948a6",
   "metadata": {},
   "source": [
    "### Basics of Functions:\n",
    "\n",
    "\n"
   ]
  },
  {
   "cell_type": "markdown",
   "id": "60fb81d9",
   "metadata": {},
   "source": [
    "###### 1.\tWhat is a function in Python, and why is it used?"
   ]
  },
  {
   "cell_type": "markdown",
   "id": "d9927826",
   "metadata": {},
   "source": [
    "###### ==> A function is a block of code that performs a specific task.\n",
    "###### ==>  Functions help divide a complex problem into smaller chunks makes our program easy to understand and reuse."
   ]
  },
  {
   "cell_type": "markdown",
   "id": "40c1540b",
   "metadata": {},
   "source": [
    "###### 2.\tHow do you define a function in Python? Provide an example."
   ]
  },
  {
   "cell_type": "markdown",
   "id": "58215248",
   "metadata": {},
   "source": [
    "###### ==>We can create a user-defined function in Python, using the def keyword. We can add any type of functionalities and properties to it as we require.The syntax to declare a function is:"
   ]
  },
  {
   "cell_type": "markdown",
   "id": "38ba7f59",
   "metadata": {},
   "source": [
    "def function_name(arguments):\n",
    "    # function body \n",
    "\n",
    "    return\n",
    "\n",
    "Here,\n",
    "\n",
    "def - keyword used to declare a function\n",
    "function_name - any name given to the function\n",
    "arguments - any value passed to function\n",
    "return (optional) - returns value from a function"
   ]
  },
  {
   "cell_type": "markdown",
   "id": "2469c019",
   "metadata": {},
   "source": [
    "###### ==> Below is an example of python function"
   ]
  },
  {
   "cell_type": "code",
   "execution_count": 16,
   "id": "3f74d1c5",
   "metadata": {},
   "outputs": [
    {
     "name": "stdout",
     "output_type": "stream",
     "text": [
      "Welcome to GFG\n"
     ]
    }
   ],
   "source": [
    "\n",
    "# A simple Python function\n",
    " \n",
    "def fun():\n",
    "    print(\"Welcome to GFG\")\n",
    "    \n",
    "fun()"
   ]
  },
  {
   "cell_type": "markdown",
   "id": "6af1f517",
   "metadata": {},
   "source": [
    "###### 3.\tExplain the difference between a function definition and a function call."
   ]
  },
  {
   "cell_type": "markdown",
   "id": "b93aee1d",
   "metadata": {},
   "source": [
    "###### ==>Function definition means to define code block that can perform a specific task.While function call allows us to execute that specific task"
   ]
  },
  {
   "cell_type": "markdown",
   "id": "939a7c1f",
   "metadata": {},
   "source": [
    "###### 4.\tWrite a Python program that defines a function to calculate the sum of two numbers and then calls the function."
   ]
  },
  {
   "cell_type": "code",
   "execution_count": 17,
   "id": "df4edf87",
   "metadata": {},
   "outputs": [
    {
     "data": {
      "text/plain": [
       "5"
      ]
     },
     "execution_count": 17,
     "metadata": {},
     "output_type": "execute_result"
    }
   ],
   "source": [
    "def calculate_sum(n1,n2):\n",
    "    return n1+n2\n",
    "\n",
    "calculate_sum(2,3)"
   ]
  },
  {
   "cell_type": "markdown",
   "id": "4e6cd216",
   "metadata": {},
   "source": [
    "###### 5.\tWhat is a function signature, and what information does it typically include?"
   ]
  },
  {
   "cell_type": "markdown",
   "id": "778191d8",
   "metadata": {},
   "source": [
    "###### Function signature is a prototype that describes what arguments are accepted by the function and (optionally) what kind of value is returned.\n"
   ]
  },
  {
   "cell_type": "code",
   "execution_count": 18,
   "id": "c31b7227",
   "metadata": {},
   "outputs": [],
   "source": [
    "def func(a, b, c):\n",
    "    return a + b + c"
   ]
  },
  {
   "cell_type": "markdown",
   "id": "16925653",
   "metadata": {},
   "source": [
    "###### The function func (above) has the signature (a, b, c). We know that it requires three arguments, one for a, b and c. These (a, b and c) are called parameters."
   ]
  },
  {
   "cell_type": "code",
   "execution_count": 19,
   "id": "6bb96939",
   "metadata": {},
   "outputs": [],
   "source": [
    "def func(a: int, b: int, c: int) -> int:\n",
    "    return a + b + c"
   ]
  },
  {
   "cell_type": "markdown",
   "id": "b901ee07",
   "metadata": {},
   "source": [
    "###### Now, func has the signature (a: int, b: int, c: int) -> int. This means that func takes three integer arguments and returns an integer."
   ]
  },
  {
   "cell_type": "markdown",
   "id": "5eb9130c",
   "metadata": {},
   "source": [
    "###### 6.\tCreate a Python function that takes two arguments and returns their product."
   ]
  },
  {
   "cell_type": "code",
   "execution_count": 20,
   "id": "8040260c",
   "metadata": {},
   "outputs": [
    {
     "data": {
      "text/plain": [
       "12"
      ]
     },
     "execution_count": 20,
     "metadata": {},
     "output_type": "execute_result"
    }
   ],
   "source": [
    "def calculate_product(a,b):\n",
    "    return a*b\n",
    "\n",
    "calculate_product(2,6)"
   ]
  },
  {
   "cell_type": "markdown",
   "id": "f895aebd",
   "metadata": {},
   "source": [
    "### Function Parameters and Arguments:"
   ]
  },
  {
   "cell_type": "markdown",
   "id": "f1bc34a7",
   "metadata": {},
   "source": [
    "###### 1.\tExplain the concepts of formal parameters and actual arguments in Python functions."
   ]
  },
  {
   "cell_type": "markdown",
   "id": "2bdac18d",
   "metadata": {},
   "source": [
    "###### ==>Parameter Written in Function Definition is Called \"Formal Parameter\" .Parameter Written in Function Call is Called “Actual Parameter”.Formal parameters are always variables while actual parameters can be numbers, expressions, or even function calls as actual parameters."
   ]
  },
  {
   "cell_type": "markdown",
   "id": "23c6eeb9",
   "metadata": {},
   "source": [
    "###### 2.\tWrite a Python program that defines a function with default argument values."
   ]
  },
  {
   "cell_type": "code",
   "execution_count": 21,
   "id": "557c268a",
   "metadata": {},
   "outputs": [
    {
     "name": "stdout",
     "output_type": "stream",
     "text": [
      "welcome\n"
     ]
    }
   ],
   "source": [
    "def demo_default_args(msg=\"welcome\"):\n",
    "    print(msg)\n",
    "    \n",
    "demo_default_args()"
   ]
  },
  {
   "cell_type": "markdown",
   "id": "0a3d5df3",
   "metadata": {},
   "source": [
    "###### 3.\tHow do you use keyword arguments in Python function calls? Provide an example"
   ]
  },
  {
   "cell_type": "markdown",
   "id": "bbf981b7",
   "metadata": {},
   "source": [
    "###### Keyword arguments (or named arguments) are values that, when passed into a function, are identifiable by specific parameter names. A keyword argument is preceded by a parameter and the assignment operator, = ."
   ]
  },
  {
   "cell_type": "code",
   "execution_count": 22,
   "id": "4f528727",
   "metadata": {},
   "outputs": [
    {
     "name": "stdout",
     "output_type": "stream",
     "text": [
      "FemCode is working on an Edpresso\n"
     ]
    }
   ],
   "source": [
    "def team(name, project):\n",
    "    print(name, \"is working on an\", project)\n",
    "\n",
    "team(project = \"Edpresso\", name = 'FemCode')"
   ]
  },
  {
   "cell_type": "markdown",
   "id": "11240ee5",
   "metadata": {},
   "source": [
    "###### 4.\tCreate a Python function that accepts a variable number of arguments and calculates their sum."
   ]
  },
  {
   "cell_type": "code",
   "execution_count": 23,
   "id": "10fdc626",
   "metadata": {},
   "outputs": [
    {
     "data": {
      "text/plain": [
       "21"
      ]
     },
     "execution_count": 23,
     "metadata": {},
     "output_type": "execute_result"
    }
   ],
   "source": [
    "def cal_sum_vars(*args):\n",
    "    l=list(args)\n",
    "    return sum(l)\n",
    "\n",
    "cal_sum_vars(1,2,3,4,5,6)"
   ]
  },
  {
   "cell_type": "markdown",
   "id": "fc312625",
   "metadata": {},
   "source": [
    "###### 5.\tWhat is the purpose of the `*args` and `**kwargs` syntax in function parameter lists?"
   ]
  },
  {
   "cell_type": "markdown",
   "id": "6667aac4",
   "metadata": {},
   "source": [
    "###### ==> The special syntax *args in function definitions in Python is used to pass a variable number of arguments to a function. It is used to pass a non-keyworded, variable-length argument list. \n",
    "\n",
    "###### ==> The special syntax **kwargs in function definitions in Python is used to pass a keyworded, variable-length argument list."
   ]
  },
  {
   "cell_type": "markdown",
   "id": "e7315f6d",
   "metadata": {},
   "source": [
    "### Return Values and Scoping:"
   ]
  },
  {
   "cell_type": "markdown",
   "id": "21fbc18b",
   "metadata": {},
   "source": [
    "###### 1.\tDescribe the role of the `return` statement in Python functions and provide examples."
   ]
  },
  {
   "cell_type": "markdown",
   "id": "d104554e",
   "metadata": {},
   "source": [
    "###### ==>A return statement is used to end the execution of the function call and “returns” the result (value of the expression following the return keyword) to the caller. \n"
   ]
  },
  {
   "cell_type": "code",
   "execution_count": 24,
   "id": "941fbbf1",
   "metadata": {},
   "outputs": [],
   "source": [
    "def cube(x):\n",
    "   r=x**3\n",
    "   return r"
   ]
  },
  {
   "cell_type": "code",
   "execution_count": 25,
   "id": "089b1c83",
   "metadata": {},
   "outputs": [
    {
     "data": {
      "text/plain": [
       "8"
      ]
     },
     "execution_count": 25,
     "metadata": {},
     "output_type": "execute_result"
    }
   ],
   "source": [
    "cube(2)"
   ]
  },
  {
   "cell_type": "markdown",
   "id": "01c56a3b",
   "metadata": {},
   "source": [
    "###### Above function illustrates the working of return statement"
   ]
  },
  {
   "cell_type": "markdown",
   "id": "008bc87a",
   "metadata": {},
   "source": [
    "###### 2.\tExplain the concept of variable scope in Python, including local and global variables."
   ]
  },
  {
   "cell_type": "markdown",
   "id": "ca04e006",
   "metadata": {},
   "source": [
    "###### ==>A variable is only available from inside the region it is created. This is called scope.\n",
    "###### ==> A variable created inside a function belongs to the local scope of that function, and can only be used inside that function.These are called local variables\n",
    "###### ==>A variable created in the main body of the Python code is a global variable and belongs to the global scope.Global variables are available from within any scope, global and local.\n",
    "\n",
    "\n"
   ]
  },
  {
   "cell_type": "markdown",
   "id": "d363e3d6",
   "metadata": {},
   "source": [
    "###### 3.\tWrite a Python program that demonstrates the use of global variables within functions."
   ]
  },
  {
   "cell_type": "code",
   "execution_count": 27,
   "id": "2c771de3",
   "metadata": {},
   "outputs": [
    {
     "name": "stdout",
     "output_type": "stream",
     "text": [
      "300\n",
      "300\n"
     ]
    }
   ],
   "source": [
    "x = 300\n",
    "\n",
    "def myfunc():\n",
    "    print(x)\n",
    "\n",
    "myfunc()\n",
    "\n",
    "print(x)"
   ]
  },
  {
   "cell_type": "markdown",
   "id": "ef152b96",
   "metadata": {},
   "source": [
    "###### 4.\tCreate a Python function that calculates the factorial of a number and returns it."
   ]
  },
  {
   "cell_type": "code",
   "execution_count": 28,
   "id": "637b62f3",
   "metadata": {},
   "outputs": [],
   "source": [
    "def calculate_factorial(n):\n",
    "    product=1\n",
    "    for i in range(1,n+1):\n",
    "        product=product*i\n",
    "    return product"
   ]
  },
  {
   "cell_type": "code",
   "execution_count": 29,
   "id": "0373e33b",
   "metadata": {},
   "outputs": [
    {
     "data": {
      "text/plain": [
       "120"
      ]
     },
     "execution_count": 29,
     "metadata": {},
     "output_type": "execute_result"
    }
   ],
   "source": [
    "calculate_factorial(5)"
   ]
  },
  {
   "cell_type": "markdown",
   "id": "d183ad1f",
   "metadata": {},
   "source": [
    "###### 5.\tHow can you access variables defined outside a function from within the function?"
   ]
  },
  {
   "cell_type": "markdown",
   "id": "4bb94435",
   "metadata": {},
   "source": [
    "###### ==>variables declared outside a function are known as global variables. You can access such variables directly inside and outside of a function, as they have global scope. "
   ]
  },
  {
   "cell_type": "markdown",
   "id": "003ff63d",
   "metadata": {},
   "source": [
    "### Lambda Functions and Higher-Order Functions:"
   ]
  },
  {
   "cell_type": "markdown",
   "id": "7e18392b",
   "metadata": {},
   "source": [
    "###### 1.\tWhat are lambda functions in Python, and when are they typically used?"
   ]
  },
  {
   "cell_type": "markdown",
   "id": "ceb0414a",
   "metadata": {},
   "source": [
    "###### Lambda function is a small anonymous function. lambda function can take any number of arguments, but can only have one expression.Lambda functions are good for performing short operations/data manipulations."
   ]
  },
  {
   "cell_type": "markdown",
   "id": "cc3f517f",
   "metadata": {},
   "source": [
    "###### 2.\tWrite a Python program that uses lambda functions to sort a list of tuples based on the second element."
   ]
  },
  {
   "cell_type": "code",
   "execution_count": 32,
   "id": "20d17604",
   "metadata": {},
   "outputs": [
    {
     "name": "stdout",
     "output_type": "stream",
     "text": [
      "List of tuples  [(1, 2, 3), (4, 5, 6), (2, 1, 1), (1, 0, 5)]\n",
      "Sorted  list of tuples based on the second element  [(1, 0, 5), (2, 1, 1), (1, 2, 3), (4, 5, 6)]\n"
     ]
    }
   ],
   "source": [
    "list_t=[(1,2,3),(4,5,6),(2,1,1),(1,0,5)]\n",
    "print(\"List of tuples \",list_t)\n",
    "list_t.sort(key=lambda x:x[1])\n",
    "print(\"Sorted  list of tuples based on the second element \",list_t)"
   ]
  },
  {
   "cell_type": "markdown",
   "id": "e10070a8",
   "metadata": {},
   "source": [
    "###### 3.\tExplain the concept of higher-order functions in Python, and provide an example."
   ]
  },
  {
   "cell_type": "markdown",
   "id": "7f28fac1",
   "metadata": {},
   "source": [
    "###### A function is called Higher Order Function if it contains other functions as a parameter or returns a function as an output i.e, the functions that operate with another function are known as Higher order Functions. "
   ]
  },
  {
   "cell_type": "code",
   "execution_count": 33,
   "id": "983339b4",
   "metadata": {},
   "outputs": [
    {
     "name": "stdout",
     "output_type": "stream",
     "text": [
      "25\n"
     ]
    }
   ],
   "source": [
    "def create_adder(x): \n",
    "    def adder(y): \n",
    "        return x + y \n",
    "    \n",
    "    return adder \n",
    "    \n",
    "add_15 = create_adder(15) \n",
    "    \n",
    "print(add_15(10))"
   ]
  },
  {
   "cell_type": "markdown",
   "id": "4ca998f0",
   "metadata": {},
   "source": [
    "###### 4.\tCreate a Python function that takes a list of numbers and a function as arguments, applying the function to each element in the list."
   ]
  },
  {
   "cell_type": "code",
   "execution_count": 34,
   "id": "66b4cbb5",
   "metadata": {},
   "outputs": [
    {
     "data": {
      "text/plain": [
       "[1, 4, 9, 16, 25]"
      ]
     },
     "execution_count": 34,
     "metadata": {},
     "output_type": "execute_result"
    }
   ],
   "source": [
    "def square(x):\n",
    "    return x*x\n",
    "\n",
    "def function_demo(list1,func):\n",
    "    squared_list=[]\n",
    "    for ele in list1:\n",
    "        squared_list.append(func(ele))\n",
    "        \n",
    "    return squared_list\n",
    "\n",
    "\n",
    "function_demo([1,2,3,4,5],square)\n"
   ]
  },
  {
   "cell_type": "markdown",
   "id": "f8a227cc",
   "metadata": {},
   "source": [
    "### Built-in Functions:"
   ]
  },
  {
   "cell_type": "markdown",
   "id": "e1657669",
   "metadata": {},
   "source": [
    "###### 1.\tDescribe the role of built-in functions like `len()`, `max()`, and `min()` in Python."
   ]
  },
  {
   "cell_type": "markdown",
   "id": "c782e9f4",
   "metadata": {},
   "source": [
    "###### len() : Returns the length of an object\n",
    "    \n",
    "###### max() : Returns the largest item in an iterable\n",
    "\n",
    "###### min() : Returns the smallest item in an iterable"
   ]
  },
  {
   "cell_type": "markdown",
   "id": "08587a0e",
   "metadata": {},
   "source": [
    "###### 2.\tWrite a Python program that uses the `map()` function to apply a function to each element of a list."
   ]
  },
  {
   "cell_type": "code",
   "execution_count": 37,
   "id": "290444ee",
   "metadata": {},
   "outputs": [
    {
     "name": "stdout",
     "output_type": "stream",
     "text": [
      "[1, 4, 9, 16, 25]\n"
     ]
    }
   ],
   "source": [
    "def square(x):\n",
    "    return x*x\n",
    "\n",
    "print(list(map(square,[1,2,3,4,5])))"
   ]
  },
  {
   "cell_type": "markdown",
   "id": "f5ab66b3",
   "metadata": {},
   "source": [
    "###### 3.\tHow does the `filter()` function work in Python, and when would you use it?"
   ]
  },
  {
   "cell_type": "markdown",
   "id": "c348ff30",
   "metadata": {},
   "source": [
    "###### The filter() method filters the given sequence with the help of a function that tests each element in the sequence to be true or not. We would use filter() to filter out certain specific elements  from an iterable based on the condition that you provide very efficiently."
   ]
  },
  {
   "cell_type": "markdown",
   "id": "fe1309d7",
   "metadata": {},
   "source": [
    "###### 4.\tCreate a Python program that uses the `reduce()` function to find the product of all elements in a list."
   ]
  },
  {
   "cell_type": "code",
   "execution_count": 39,
   "id": "56737e24",
   "metadata": {},
   "outputs": [
    {
     "name": "stdout",
     "output_type": "stream",
     "text": [
      "120\n"
     ]
    }
   ],
   "source": [
    "from functools import reduce\n",
    "print(reduce(lambda a,b:a*b,[1,2,3,4,5]))"
   ]
  },
  {
   "cell_type": "markdown",
   "id": "ca836c7e",
   "metadata": {},
   "source": [
    "###### Function Documentation and Best Practices:"
   ]
  },
  {
   "cell_type": "markdown",
   "id": "92fa708a",
   "metadata": {},
   "source": [
    "###### 1.\tExplain the purpose of docstrings in Python functions and how to write them."
   ]
  },
  {
   "cell_type": "markdown",
   "id": "a1e1c169",
   "metadata": {},
   "source": [
    "###### Python documentation strings (or docstrings) provide a convenient way of associating documentation with Python modules, functions, classes, and methods. It’s specified in source code that is used, like a comment, to document a specific segment of code. \n",
    "\n",
    "###### The docstrings are declared using ”’triple single quotes”’ or “”” triple double quotes “”” just below the class, method, or function declaration. \n"
   ]
  },
  {
   "cell_type": "markdown",
   "id": "90d0cfba",
   "metadata": {},
   "source": [
    "###### 2.\tDescribe some best practices for naming functions and variables in Python, including naming conventions and guidelines"
   ]
  },
  {
   "cell_type": "markdown",
   "id": "2c556026",
   "metadata": {},
   "source": [
    "###### Rules for Python variables:\n",
    "\n",
    "###### 1.A variable name must start with a letter or the underscore character\n",
    "###### 2.A variable name cannot start with a number\n",
    "###### 3.A variable name can only contain alpha-numeric characters and underscores (A-z, 0-9, and _ )\n",
    "###### 4.Variable names are case-sensitive (age, Age and AGE are three different variables)"
   ]
  },
  {
   "cell_type": "markdown",
   "id": "b51eee1d",
   "metadata": {},
   "source": [
    "###### Naming convention guidelines :\n",
    "    \n",
    "###### 1.Function names should be lowercase, with words separated by underscores as necessary to improve readability.\n",
    "\n",
    "###### 2.Variable names follow the same convention as function names.\n",
    "\n",
    "###### 3.mixedCase is allowed only in contexts where that’s already the prevailing style (e.g. threading.py), to retain backwards compatibility.\n",
    "###### 4,Be descriptive and use clear names: The function name should clearly describe the purpose of the function."
   ]
  },
  {
   "cell_type": "code",
   "execution_count": null,
   "id": "31610fc4",
   "metadata": {},
   "outputs": [],
   "source": []
  }
 ],
 "metadata": {
  "kernelspec": {
   "display_name": "Python 3 (ipykernel)",
   "language": "python",
   "name": "python3"
  },
  "language_info": {
   "codemirror_mode": {
    "name": "ipython",
    "version": 3
   },
   "file_extension": ".py",
   "mimetype": "text/x-python",
   "name": "python",
   "nbconvert_exporter": "python",
   "pygments_lexer": "ipython3",
   "version": "3.9.12"
  }
 },
 "nbformat": 4,
 "nbformat_minor": 5
}
