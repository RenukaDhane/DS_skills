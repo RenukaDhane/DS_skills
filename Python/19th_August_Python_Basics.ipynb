{
 "cells": [
  {
   "cell_type": "markdown",
   "id": "7079242e",
   "metadata": {},
   "source": [
    "### TOPIC: Python Basics Variable"
   ]
  },
  {
   "cell_type": "markdown",
   "id": "e4383798",
   "metadata": {},
   "source": [
    "###### 1. Declare two variables, `x` and `y`, and assign them integer values.Swap the values of these variables without using any temporary variable.\n"
   ]
  },
  {
   "cell_type": "code",
   "execution_count": 3,
   "id": "63dbf2cb",
   "metadata": {},
   "outputs": [
    {
     "name": "stdout",
     "output_type": "stream",
     "text": [
      "Before Swap: Value of x is 10 and value of y is 20.\n",
      "After Swap: Value of x is 20 and value of y is 10.\n"
     ]
    }
   ],
   "source": [
    "# Declare two variables\n",
    "x,y=10,20\n",
    "print(\"Before Swap: Value of x is {} and value of y is {}.\".format(x,y))\n",
    "x,y=y,x\n",
    "print(\"After Swap: Value of x is {} and value of y is {}.\".format(x,y))"
   ]
  },
  {
   "cell_type": "markdown",
   "id": "5c0121ab",
   "metadata": {},
   "source": [
    "###### 2. Create a program that calculates the area of a rectangle. Take the length and width as inputs from the user and store them in variables.Calculate and display the area."
   ]
  },
  {
   "cell_type": "code",
   "execution_count": 4,
   "id": "18c3ad20",
   "metadata": {},
   "outputs": [
    {
     "name": "stdout",
     "output_type": "stream",
     "text": [
      "Enter the length of rectangle : 4\n",
      "Enter the width of rectangle : 5\n",
      "The area of rectangle with length 4.0 and width 5.0 is 20.0\n"
     ]
    }
   ],
   "source": [
    "# Program to calculate the area of a rectangle.\n",
    "length=float(input(\"Enter the length of rectangle : \"))\n",
    "width=float(input(\"Enter the width of rectangle : \"))\n",
    "\n",
    "# Apply formula for area of rectangle \n",
    "area =length * width\n",
    "\n",
    "# Display the area\n",
    "print(\"The area of rectangle with length {} and width {} is {}\".format(length,width,area))\n"
   ]
  },
  {
   "cell_type": "markdown",
   "id": "90ff51d7",
   "metadata": {},
   "source": [
    "###### 3. Write a Python program that converts temperature from Celsius to Fahrenheit. Take the temperature in Celsius as input, store it in avariable, convert it to Fahrenheit, and display the result.\n"
   ]
  },
  {
   "cell_type": "code",
   "execution_count": 5,
   "id": "039ecc5f",
   "metadata": {},
   "outputs": [
    {
     "name": "stdout",
     "output_type": "stream",
     "text": [
      "Enter temperature in degree celsius : 45\n",
      "45.0 degree celsius is equal to 113.0 fahrenheight\n"
     ]
    }
   ],
   "source": [
    "# Program that converts temperature from Celcius to Fahrenheight\n",
    "temp_celsius= float(input(\"Enter temperature in degree celsius : \"))\n",
    "\n",
    "# Convert from celsius to fahrenheight\n",
    "temp_fahrenheight= (temp_celsius * (9/5))+32\n",
    "\n",
    "# Display the result\n",
    "print(\"{} degree celsius is equal to {} fahrenheight\".format(temp_celsius,temp_fahrenheight))"
   ]
  },
  {
   "cell_type": "markdown",
   "id": "26d99885",
   "metadata": {},
   "source": [
    "### TOPIC: String Based Questions"
   ]
  },
  {
   "cell_type": "markdown",
   "id": "c49c7755",
   "metadata": {},
   "source": [
    "###### 1. Write a Python program that takes a string as input and prints the length of the string.\n"
   ]
  },
  {
   "cell_type": "code",
   "execution_count": 6,
   "id": "b2e2af93",
   "metadata": {},
   "outputs": [
    {
     "name": "stdout",
     "output_type": "stream",
     "text": [
      "Enter a string : Pwskills\n",
      "Length of given string is :  8\n"
     ]
    }
   ],
   "source": [
    "# Take string as input\n",
    "demo_string=input(\"Enter a string : \")\n",
    "\n",
    "# Print the length of the string\n",
    "print(\"Length of given string is : \",len(demo_string))"
   ]
  },
  {
   "cell_type": "markdown",
   "id": "17ac2b53",
   "metadata": {},
   "source": [
    "###### 2. Create a program that takes a sentence from the user and counts the number of vowels (a, e, i, o, u) in the string."
   ]
  },
  {
   "cell_type": "code",
   "execution_count": 7,
   "id": "cfe1063b",
   "metadata": {},
   "outputs": [
    {
     "name": "stdout",
     "output_type": "stream",
     "text": [
      "Enter a sentence : Today is a good day to live!\n",
      "Count of vowels in sentence 10\n"
     ]
    }
   ],
   "source": [
    "# Program to count number of vowels in a string\n",
    "\n",
    "# Take sentence from use\n",
    "sentence=input(\"Enter a sentence : \")\n",
    "\n",
    "# Get vowels \n",
    "vowels= [char for char in sentence if char in ['a','e','i','o','u'] ]\n",
    "\n",
    "# Count\n",
    "print(\"Count of vowels in sentence\",len(vowels))"
   ]
  },
  {
   "cell_type": "markdown",
   "id": "c5a13e7a",
   "metadata": {},
   "source": [
    "###### 3. Given a string, reverse the order of characters using string slicing and print the reversed string.\n"
   ]
  },
  {
   "cell_type": "code",
   "execution_count": 8,
   "id": "77fb9bfa",
   "metadata": {},
   "outputs": [
    {
     "name": "stdout",
     "output_type": "stream",
     "text": [
      "Given string :  pwskills\n",
      "Reverse of string :  sllikswp\n"
     ]
    }
   ],
   "source": [
    "# Reverse a string using string slicing\n",
    "str = \"pwskills\"\n",
    "print(\"Given string : \",str)\n",
    "print(\"Reverse of string : \",str[::-1])"
   ]
  },
  {
   "cell_type": "markdown",
   "id": "a8fe97ff",
   "metadata": {},
   "source": [
    "###### 4. Write a program that takes a string as input and checks if it is a palindrome (reads the same forwards and backwards).\n"
   ]
  },
  {
   "cell_type": "code",
   "execution_count": 11,
   "id": "370e62bb",
   "metadata": {},
   "outputs": [
    {
     "name": "stdout",
     "output_type": "stream",
     "text": [
      "Enter a string : racecar\n",
      "Given string is a palindrome.\n"
     ]
    }
   ],
   "source": [
    "# Program to check if a string is palindrome\n",
    "\n",
    "# Get input \n",
    "str=input(\"Enter a string : \")\n",
    "\n",
    "# compute reverse of str\n",
    "reverse_str=str[::-1]\n",
    "\n",
    "#check for palindrome\n",
    "if str.lower()==reverse_str.lower():\n",
    "    print(\"Given string is a palindrome.\")\n",
    "else:\n",
    "    print(\"Given string is not a palindrome.\")"
   ]
  },
  {
   "cell_type": "markdown",
   "id": "55104e85",
   "metadata": {},
   "source": [
    "###### 5. Create a program that takes a string as input and removes all the spaces from it. Print the modified string without spaces."
   ]
  },
  {
   "cell_type": "code",
   "execution_count": 15,
   "id": "ba35a1f2",
   "metadata": {},
   "outputs": [
    {
     "name": "stdout",
     "output_type": "stream",
     "text": [
      "Enter a string :  p w s ki  ll s  \n",
      "modified string is : pwskills\n"
     ]
    }
   ],
   "source": [
    "# Program to print a string without spaces\n",
    "str=input(\"Enter a string :\")\n",
    "\n",
    "#Remove spaces\n",
    "temp=[char for char in str if char!=' ']\n",
    "\n",
    "# Print string without spaces\n",
    "print(\"modified string is :\",''.join(temp))"
   ]
  },
  {
   "cell_type": "code",
   "execution_count": null,
   "id": "01a57df7",
   "metadata": {},
   "outputs": [],
   "source": []
  }
 ],
 "metadata": {
  "kernelspec": {
   "display_name": "Python 3 (ipykernel)",
   "language": "python",
   "name": "python3"
  },
  "language_info": {
   "codemirror_mode": {
    "name": "ipython",
    "version": 3
   },
   "file_extension": ".py",
   "mimetype": "text/x-python",
   "name": "python",
   "nbconvert_exporter": "python",
   "pygments_lexer": "ipython3",
   "version": "3.9.12"
  }
 },
 "nbformat": 4,
 "nbformat_minor": 5
}
