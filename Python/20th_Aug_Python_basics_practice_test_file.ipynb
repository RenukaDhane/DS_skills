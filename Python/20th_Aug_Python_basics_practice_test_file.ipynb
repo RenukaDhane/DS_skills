{
 "cells": [
  {
   "cell_type": "markdown",
   "id": "9aa02cf5",
   "metadata": {},
   "source": [
    "### TOPIC: String Based Assignment Problem\n"
   ]
  },
  {
   "cell_type": "markdown",
   "id": "b6f24921",
   "metadata": {},
   "source": [
    "###### 1. Write a program to reverse a string."
   ]
  },
  {
   "cell_type": "code",
   "execution_count": 5,
   "id": "349e4d06",
   "metadata": {},
   "outputs": [
    {
     "name": "stdout",
     "output_type": "stream",
     "text": [
      "Reverse of pwskills is sllikswp\n"
     ]
    }
   ],
   "source": [
    "str=\"pwskills\"\n",
    "reverse_str=str[::-1]\n",
    "print(\"Reverse of\",str,\"is\",reverse_str)"
   ]
  },
  {
   "cell_type": "markdown",
   "id": "cdbedfc4",
   "metadata": {},
   "source": [
    "###### 2. Check if a string is a palindrome."
   ]
  },
  {
   "cell_type": "code",
   "execution_count": 9,
   "id": "b5cfcfbc",
   "metadata": {},
   "outputs": [
    {
     "name": "stdout",
     "output_type": "stream",
     "text": [
      "Enter a string : racecar\n",
      "Given string is a palindrome\n"
     ]
    }
   ],
   "source": [
    "# program to check if a string is palindrome\n",
    "str=input(\"Enter a string : \")\n",
    "if(str==str[::-1]):\n",
    "    print(\"Given string is a palindrome\")\n",
    "else:\n",
    "    print(\"Given string is not a palindrome\")"
   ]
  },
  {
   "cell_type": "markdown",
   "id": "ed00c712",
   "metadata": {},
   "source": [
    "###### 3. Convert a string to uppercase."
   ]
  },
  {
   "cell_type": "code",
   "execution_count": 11,
   "id": "93f50433",
   "metadata": {},
   "outputs": [
    {
     "name": "stdout",
     "output_type": "stream",
     "text": [
      "PWSKILLS\n"
     ]
    }
   ],
   "source": [
    "str=\"pwskills\"\n",
    "# Convert str to upper case\n",
    "upper_str=str.upper()\n",
    "print(upper_str)"
   ]
  },
  {
   "cell_type": "markdown",
   "id": "3ee7f7dc",
   "metadata": {},
   "source": [
    "###### 4. Convert a string to lowercase."
   ]
  },
  {
   "cell_type": "code",
   "execution_count": 12,
   "id": "f2c79f68",
   "metadata": {},
   "outputs": [
    {
     "name": "stdout",
     "output_type": "stream",
     "text": [
      "apple\n"
     ]
    }
   ],
   "source": [
    "str=\"APPLE\"\n",
    "lower_str=str.lower()\n",
    "print(lower_str)"
   ]
  },
  {
   "cell_type": "markdown",
   "id": "9916b9dc",
   "metadata": {},
   "source": [
    "###### 5. Count the number of vowels in a string."
   ]
  },
  {
   "cell_type": "code",
   "execution_count": 16,
   "id": "2002366f",
   "metadata": {},
   "outputs": [
    {
     "name": "stdout",
     "output_type": "stream",
     "text": [
      "Number of vowels in the string : 6\n"
     ]
    }
   ],
   "source": [
    "str=\"Today is Tuesday!\"\n",
    "vowels=[ char for char in str if char in ('a','e','i','o','u')]\n",
    "print(\"Number of vowels in the string :\",len(vowels))"
   ]
  },
  {
   "cell_type": "markdown",
   "id": "5f9bb04f",
   "metadata": {},
   "source": [
    "###### 6. Count the number of consonants in a string."
   ]
  },
  {
   "cell_type": "code",
   "execution_count": 18,
   "id": "d06dc018",
   "metadata": {},
   "outputs": [
    {
     "name": "stdout",
     "output_type": "stream",
     "text": [
      "Number of consonants in the string : 8\n"
     ]
    }
   ],
   "source": [
    "str=\"Today is Tuesday!\"\n",
    "consonants=[ char for char in str if char.isalpha() and char not in ('a','e','i','o','u')]\n",
    "print(\"Number of consonants in the string :\",len(consonants))"
   ]
  },
  {
   "cell_type": "markdown",
   "id": "7995fbe8",
   "metadata": {},
   "source": [
    "###### 7. Remove all whitespaces from a string."
   ]
  },
  {
   "cell_type": "code",
   "execution_count": 20,
   "id": "af513781",
   "metadata": {},
   "outputs": [
    {
     "name": "stdout",
     "output_type": "stream",
     "text": [
      "pwskills\n"
     ]
    }
   ],
   "source": [
    "str =\" pw s k ills \"\n",
    "new_str=\"\"\n",
    "for char in str:\n",
    "    if char!=\" \":\n",
    "        new_str+=char\n",
    "        \n",
    "# Display the string without spaces\n",
    "print(new_str)"
   ]
  },
  {
   "cell_type": "markdown",
   "id": "6ebf9112",
   "metadata": {},
   "source": [
    "###### 8. Find the length of a string without using the `len()` function."
   ]
  },
  {
   "cell_type": "code",
   "execution_count": 23,
   "id": "0b515ccd",
   "metadata": {},
   "outputs": [
    {
     "name": "stdout",
     "output_type": "stream",
     "text": [
      "The length of string  pwskills is  8\n"
     ]
    }
   ],
   "source": [
    "str=\"pwskills\"\n",
    "count=0\n",
    "for char in str:\n",
    "    count+=1\n",
    "    \n",
    "print(\"The length of string \",str,\"is \",count)"
   ]
  },
  {
   "cell_type": "markdown",
   "id": "a35b99ba",
   "metadata": {},
   "source": [
    "###### 9. Check if a string contains a specific word."
   ]
  },
  {
   "cell_type": "code",
   "execution_count": 25,
   "id": "2172c014",
   "metadata": {},
   "outputs": [
    {
     "name": "stdout",
     "output_type": "stream",
     "text": [
      "string contains sun\n"
     ]
    }
   ],
   "source": [
    "str=\"The sun rises in the east\"\n",
    "\n",
    "# check if 'sun' exists in the string\n",
    "if 'sun' in str:\n",
    "    print(\"string contains sun\")\n",
    "else:\n",
    "    print(\"string does not contains sun\")"
   ]
  },
  {
   "cell_type": "markdown",
   "id": "74957b1f",
   "metadata": {},
   "source": [
    "###### 10. Replace a word in a string with another word."
   ]
  },
  {
   "cell_type": "code",
   "execution_count": 29,
   "id": "c7a0a054",
   "metadata": {},
   "outputs": [
    {
     "name": "stdout",
     "output_type": "stream",
     "text": [
      "Today is Thursday\n"
     ]
    }
   ],
   "source": [
    "str=\"Today is Tuesday\"\n",
    "\n",
    "# Replace 'Tuesday' with 'Thursday' in the string \n",
    "replaced_str=str.replace('Tuesday','Thursday')\n",
    "\n",
    "# Dispaly string after replace\n",
    "print(replaced_str)"
   ]
  },
  {
   "cell_type": "markdown",
   "id": "83b7f343",
   "metadata": {},
   "source": [
    "###### 11. Count the occurrences of a word in a string.\n"
   ]
  },
  {
   "cell_type": "code",
   "execution_count": 84,
   "id": "9878f14d",
   "metadata": {},
   "outputs": [
    {
     "name": "stdout",
     "output_type": "stream",
     "text": [
      "String :  Fear leads to anger; anger leads to hatred; hatred leads to conflict; conflict leads to suffering.\n",
      "Count of occurance of 'leads' in string is : 4\n"
     ]
    }
   ],
   "source": [
    "str=\"Fear leads to anger; anger leads to hatred; hatred leads to conflict; conflict leads to suffering.\"\n",
    "print(\"String : \",str)\n",
    "\n",
    "print(\"Count of occurance of 'leads' in string is :\",str.count('leads') )"
   ]
  },
  {
   "cell_type": "markdown",
   "id": "3d95b301",
   "metadata": {},
   "source": [
    "###### 12. Find the first occurrence of a word in a string.\n"
   ]
  },
  {
   "cell_type": "code",
   "execution_count": 87,
   "id": "035a94f1",
   "metadata": {},
   "outputs": [
    {
     "name": "stdout",
     "output_type": "stream",
     "text": [
      "String :  Fear leads to anger; anger leads to hatred; hatred leads to conflict; conflict leads to suffering.\n",
      "first occurrence of 'leads' in a string : 5\n"
     ]
    }
   ],
   "source": [
    "str=\"Fear leads to anger; anger leads to hatred; hatred leads to conflict; conflict leads to suffering.\"\n",
    "print(\"String : \",str)\n",
    "print(\"first occurrence of 'leads' in a string :\",str.index('leads'))"
   ]
  },
  {
   "cell_type": "markdown",
   "id": "7d87e65d",
   "metadata": {},
   "source": [
    "###### 13. Find the last occurrence of a word in a string.\n"
   ]
  },
  {
   "cell_type": "code",
   "execution_count": 92,
   "id": "341cac1a",
   "metadata": {},
   "outputs": [
    {
     "name": "stdout",
     "output_type": "stream",
     "text": [
      "String :  Fear leads to anger; anger leads to hatred; hatred leads to conflict; conflict leads to suffering.\n",
      "Last occurrence of 'leads' in a string : 79\n"
     ]
    }
   ],
   "source": [
    "str=\"Fear leads to anger; anger leads to hatred; hatred leads to conflict; conflict leads to suffering.\"\n",
    "print(\"String : \",str)\n",
    "\n",
    "print(\"Last occurrence of 'leads' in a string :\",str.rindex('leads'))"
   ]
  },
  {
   "cell_type": "markdown",
   "id": "d1b8a842",
   "metadata": {},
   "source": [
    "###### 14. Split a string into a list of words.\n"
   ]
  },
  {
   "cell_type": "code",
   "execution_count": 94,
   "id": "1d00e80c",
   "metadata": {},
   "outputs": [
    {
     "name": "stdout",
     "output_type": "stream",
     "text": [
      "String :  Fear leads to anger; anger leads to hatred; hatred leads to conflict; conflict leads to suffering.\n",
      "List of words in string:  ['Fear', 'leads', 'to', 'anger;', 'anger', 'leads', 'to', 'hatred;', 'hatred', 'leads', 'to', 'conflict;', 'conflict', 'leads', 'to', 'suffering.']\n"
     ]
    }
   ],
   "source": [
    "str=\"Fear leads to anger; anger leads to hatred; hatred leads to conflict; conflict leads to suffering.\"\n",
    "print(\"String : \",str)\n",
    "\n",
    "list_words=str.split()\n",
    "\n",
    "print(\"List of words in string: \",list_words)"
   ]
  },
  {
   "cell_type": "markdown",
   "id": "05801254",
   "metadata": {},
   "source": [
    "###### 15. Join a list of words into a string.\n"
   ]
  },
  {
   "cell_type": "code",
   "execution_count": 96,
   "id": "d61b44a5",
   "metadata": {},
   "outputs": [
    {
     "name": "stdout",
     "output_type": "stream",
     "text": [
      "List of words :  ['The', 'sun', 'rises', 'in', 'the', 'east']\n",
      "String from list of words : The sun rises in the east\n"
     ]
    }
   ],
   "source": [
    "list_of_words=[\"The\",\"sun\",\"rises\",\"in\",\"the\",\"east\"]\n",
    "print(\"List of words : \",list_of_words)\n",
    "\n",
    "s =' '.join(list_of_words)\n",
    "\n",
    "print(\"String from list of words :\",s)"
   ]
  },
  {
   "cell_type": "markdown",
   "id": "de47f783",
   "metadata": {},
   "source": [
    "###### 16. Convert a string where words are separated by spaces to one where words are separated by underscores.\n"
   ]
  },
  {
   "cell_type": "code",
   "execution_count": 98,
   "id": "d32e1dc8",
   "metadata": {},
   "outputs": [
    {
     "name": "stdout",
     "output_type": "stream",
     "text": [
      "string where words are separated by spaces : The sun rises in the east\n",
      "string where words are separated by words_by_space : The_sun_rises_in_the_east\n"
     ]
    }
   ],
   "source": [
    "words_by_space=\"The sun rises in the east\"\n",
    "print(\"string where words are separated by spaces :\",words_by_space)\n",
    "\n",
    "words_by_underscore=words_by_space.replace(' ','_')\n",
    "print(\"string where words are separated by words_by_space :\",words_by_underscore)\n"
   ]
  },
  {
   "cell_type": "markdown",
   "id": "5c0ec723",
   "metadata": {},
   "source": [
    "###### 17. Check if a string starts with a specific word or phrase.\n"
   ]
  },
  {
   "cell_type": "code",
   "execution_count": 102,
   "id": "35556fb0",
   "metadata": {},
   "outputs": [
    {
     "name": "stdout",
     "output_type": "stream",
     "text": [
      "String :  An apple a day keeps the doctor away\n",
      "After checking if string starts with A\n",
      "String starts with A\n"
     ]
    }
   ],
   "source": [
    "s= \"An apple a day keeps the doctor away\"\n",
    "print(\"String : \",s)\n",
    "print(\"After checking if string starts with A\")\n",
    "if s.startswith('A'):\n",
    "    print(\"String starts with A\")\n",
    "else:\n",
    "    print(\"String does not start with A\")"
   ]
  },
  {
   "cell_type": "markdown",
   "id": "7eefc963",
   "metadata": {},
   "source": [
    "###### 18. Check if a string ends with a specific word or phrase.\n"
   ]
  },
  {
   "cell_type": "code",
   "execution_count": 103,
   "id": "4c3c3062",
   "metadata": {},
   "outputs": [
    {
     "name": "stdout",
     "output_type": "stream",
     "text": [
      "String :  An apple a day keeps the doctor away\n",
      "After checking if string ends with 'away'\n",
      "String ends with 'away'\n"
     ]
    }
   ],
   "source": [
    "s= \"An apple a day keeps the doctor away\"\n",
    "print(\"String : \",s)\n",
    "print(\"After checking if string ends with 'away'\")\n",
    "if s.startswith('A'):\n",
    "    print(\"String ends with 'away'\")\n",
    "else:\n",
    "    print(\"String does not end with 'away'\")"
   ]
  },
  {
   "cell_type": "markdown",
   "id": "4da908cf",
   "metadata": {},
   "source": [
    "###### 19. Convert a string to title case (e.g., \"hello world\" to \"Hello World\")."
   ]
  },
  {
   "cell_type": "code",
   "execution_count": 105,
   "id": "636afb3b",
   "metadata": {},
   "outputs": [
    {
     "name": "stdout",
     "output_type": "stream",
     "text": [
      "String :  hello world\n",
      "After converting string to title case :  Hello World\n"
     ]
    }
   ],
   "source": [
    "s=\"hello world\"\n",
    "print(\"String : \",s)\n",
    "\n",
    "print(\"After converting string to title case : \",s.title())\n"
   ]
  },
  {
   "cell_type": "markdown",
   "id": "49e0e89a",
   "metadata": {},
   "source": [
    "###### 20. Find the longest word in a string."
   ]
  },
  {
   "cell_type": "code",
   "execution_count": 109,
   "id": "928d6aa7",
   "metadata": {},
   "outputs": [
    {
     "name": "stdout",
     "output_type": "stream",
     "text": [
      "String :  An apple a day keeps the doctor away\n",
      "The longest word in the string is ' doctor '  with max length 6\n"
     ]
    }
   ],
   "source": [
    "s=\"An apple a day keeps the doctor away\"\n",
    "print(\"String : \",s)\n",
    "max_length=0\n",
    "max_word=\"\"\n",
    "\n",
    "words=s.split()\n",
    "\n",
    "for word in words:\n",
    "    if len(word)> max_length:\n",
    "        max_length=len(word)\n",
    "        max_word=word\n",
    "        \n",
    "print(\"The longest word in the string is\",\"'\",max_word,\"'\",\" with max length\",max_length)"
   ]
  },
  {
   "cell_type": "markdown",
   "id": "1502ed43",
   "metadata": {},
   "source": [
    "###### 21. Find the shortest word in a string"
   ]
  },
  {
   "cell_type": "code",
   "execution_count": 4,
   "id": "efddf3e5",
   "metadata": {},
   "outputs": [
    {
     "name": "stdout",
     "output_type": "stream",
     "text": [
      "String :  An apple a day keeps the doctor away\n",
      "The shortest word in the string is ' a '  with min length 1\n"
     ]
    }
   ],
   "source": [
    "s=\"An apple a day keeps the doctor away\"\n",
    "print(\"String : \",s)\n",
    "min_length=1000\n",
    "min_word=\"\"\n",
    "\n",
    "words=s.split()\n",
    "\n",
    "for word in words:\n",
    "    if len(word)< min_length:\n",
    "        min_length=len(word)\n",
    "        min_word=word\n",
    "        \n",
    "print(\"The shortest word in the string is\",\"'\",min_word,\"'\",\" with min length\",min_length)"
   ]
  },
  {
   "cell_type": "markdown",
   "id": "55914df1",
   "metadata": {},
   "source": [
    "###### 22. Reverse the order of words in a string."
   ]
  },
  {
   "cell_type": "code",
   "execution_count": 8,
   "id": "c62d66d3",
   "metadata": {},
   "outputs": [
    {
     "name": "stdout",
     "output_type": "stream",
     "text": [
      "String :  An apple a day keeps the doctor away\n",
      "Reverse the order of words in the string :  away doctor the keeps day a apple An\n"
     ]
    }
   ],
   "source": [
    "s=\"An apple a day keeps the doctor away\"\n",
    "print(\"String : \",s)\n",
    "list_words=s.split()\n",
    "print(\"Reverse the order of words in the string : \",' '.join(list_words[::-1]))"
   ]
  },
  {
   "cell_type": "markdown",
   "id": "72c02ee5",
   "metadata": {},
   "source": [
    "###### 23. Check if a string is alphanumeric"
   ]
  },
  {
   "cell_type": "code",
   "execution_count": 11,
   "id": "5f6227bb",
   "metadata": {},
   "outputs": [
    {
     "name": "stdout",
     "output_type": "stream",
     "text": [
      "Enter a string3434dfgfgfg33\n",
      "Given string is alphanumeric\n"
     ]
    }
   ],
   "source": [
    "s =input(\"Enter a string\")\n",
    "if s.isalnum():\n",
    "    print(\"Given string is alphanumeric\")\n",
    "else:\n",
    "    print(\"Given string is not alphanumeric\")"
   ]
  },
  {
   "cell_type": "markdown",
   "id": "41ca522f",
   "metadata": {},
   "source": [
    "###### 24. Extract all digits from a string.\n"
   ]
  },
  {
   "cell_type": "code",
   "execution_count": 14,
   "id": "795b0100",
   "metadata": {},
   "outputs": [
    {
     "name": "stdout",
     "output_type": "stream",
     "text": [
      "Given string :  34343fgfgfvcvffdfsd55565333898\n",
      "List of digits from given string is :  ['3', '4', '3', '4', '3', '5', '5', '5', '6', '5', '3', '3', '3', '8', '9', '8']\n"
     ]
    }
   ],
   "source": [
    "s=\"34343fgfgfvcvffdfsd55565333898\"\n",
    "print(\"Given string : \",s)\n",
    "list_of_digits=[]\n",
    "\n",
    "for char in s:\n",
    "    if char.isdigit():\n",
    "        list_of_digits.append(char)\n",
    "\n",
    "print(\"List of digits from given string is : \",list_of_digits)"
   ]
  },
  {
   "cell_type": "markdown",
   "id": "d7301a98",
   "metadata": {},
   "source": [
    "###### 25. Extract all alphabets from a string"
   ]
  },
  {
   "cell_type": "code",
   "execution_count": 16,
   "id": "64f56872",
   "metadata": {},
   "outputs": [
    {
     "name": "stdout",
     "output_type": "stream",
     "text": [
      "Given string :  34343fgfgfvcvffdfsd55565333898\n",
      "List of digits from given string is :  ['f', 'g', 'f', 'g', 'f', 'v', 'c', 'v', 'f', 'f', 'd', 'f', 's', 'd']\n"
     ]
    }
   ],
   "source": [
    "s=\"34343fgfgfvcvffdfsd55565333898\"\n",
    "print(\"Given string : \",s)\n",
    "list_of_alpha=[]\n",
    "\n",
    "for char in s:\n",
    "    if char.isalpha():\n",
    "        list_of_alpha.append(char)\n",
    "\n",
    "print(\"List of digits from given string is : \",list_of_alpha)"
   ]
  },
  {
   "cell_type": "markdown",
   "id": "b1ec62a6",
   "metadata": {},
   "source": [
    "###### 26. Count the number of uppercase letters in a string.\n"
   ]
  },
  {
   "cell_type": "code",
   "execution_count": 21,
   "id": "dff3cd9f",
   "metadata": {},
   "outputs": [
    {
     "name": "stdout",
     "output_type": "stream",
     "text": [
      "String :  A Bird in Hand is Worth Two in the Bush\n",
      "The number of upper case letters in string is :  6\n"
     ]
    }
   ],
   "source": [
    "s=\"A Bird in Hand is Worth Two in the Bush\"\n",
    "count=0\n",
    "for char in s :\n",
    "    if char.isalpha() and char.isupper():\n",
    "        count+=1\n",
    "        \n",
    "print(\"String : \",s)\n",
    "print(\"The number of upper case letters in string is : \",count)"
   ]
  },
  {
   "cell_type": "markdown",
   "id": "091c24de",
   "metadata": {},
   "source": [
    "###### 27. Count the number of lowercase letters in a string.\n"
   ]
  },
  {
   "cell_type": "code",
   "execution_count": 22,
   "id": "2789ea68",
   "metadata": {},
   "outputs": [
    {
     "name": "stdout",
     "output_type": "stream",
     "text": [
      "String :  aLICE in WONDERland\n",
      "The number of lower case letters in string is :  7\n"
     ]
    }
   ],
   "source": [
    "s=\"aLICE in WONDERland\"\n",
    "count=0\n",
    "for char in s :\n",
    "    if char.isalpha() and char.islower():\n",
    "        count+=1\n",
    "        \n",
    "print(\"String : \",s)\n",
    "print(\"The number of lower case letters in string is : \",count)"
   ]
  },
  {
   "cell_type": "markdown",
   "id": "d04605a3",
   "metadata": {},
   "source": [
    "###### 28. Swap the case of each character in a string"
   ]
  },
  {
   "cell_type": "code",
   "execution_count": 23,
   "id": "d81632b2",
   "metadata": {},
   "outputs": [
    {
     "name": "stdout",
     "output_type": "stream",
     "text": [
      "String :  aLICE in WONDERland\n",
      "String after swap case:  Alice IN wonderLAND\n"
     ]
    }
   ],
   "source": [
    "s=\"aLICE in WONDERland\"\n",
    "print(\"String : \",s)\n",
    "print(\"String after swap case: \",s.swapcase())\n",
    "        "
   ]
  },
  {
   "cell_type": "markdown",
   "id": "9a311e54",
   "metadata": {},
   "source": [
    "###### 29. Remove a specific word from a string."
   ]
  },
  {
   "cell_type": "code",
   "execution_count": 26,
   "id": "d3b75e62",
   "metadata": {},
   "outputs": [
    {
     "name": "stdout",
     "output_type": "stream",
     "text": [
      "String :  Alice in wonderland\n",
      "String after removing 'Alice' from string :   in wonderland\n"
     ]
    }
   ],
   "source": [
    "s=\"Alice in wonderland\"\n",
    "print(\"String : \",s)\n",
    "\n",
    "print(\"String after removing 'Alice' from string : \",s.replace(\"Alice\",\"\"))"
   ]
  },
  {
   "cell_type": "markdown",
   "id": "fb91db09",
   "metadata": {},
   "source": [
    "###### 30. Check if a string is a valid email address."
   ]
  },
  {
   "cell_type": "code",
   "execution_count": 38,
   "id": "0aa1edf9",
   "metadata": {},
   "outputs": [
    {
     "name": "stdout",
     "output_type": "stream",
     "text": [
      "Given email is a valid email\n"
     ]
    }
   ],
   "source": [
    "import re\n",
    "email=\"John3214@outlook.com\"\n",
    "pattern = re.compile(r\"^([a-zA-Z0-9])*(@){1}([a-zA-Z])*\\.{1}com$\")\n",
    "\n",
    "if pattern.match(email):\n",
    "    print(\"Given email is a valid email\")\n",
    "else:\n",
    "    print(\"Given email is not a valid email\")"
   ]
  },
  {
   "cell_type": "markdown",
   "id": "02a92f19",
   "metadata": {},
   "source": [
    "###### 31. Extract the username from an email address string."
   ]
  },
  {
   "cell_type": "code",
   "execution_count": 7,
   "id": "50b1d857",
   "metadata": {},
   "outputs": [
    {
     "name": "stdout",
     "output_type": "stream",
     "text": [
      "Email :  John3214@outlook.com\n",
      "Username from email :  John3214\n"
     ]
    }
   ],
   "source": [
    "import re\n",
    "email=\"John3214@outlook.com\"\n",
    "print(\"Email : \",email)\n",
    "x = re.search(r\"^([a-zA-Z0-9])*(@){1}\", email)\n",
    "\n",
    "if x:\n",
    "    print(\"Username from email : \",x.group().removesuffix('@'))"
   ]
  },
  {
   "cell_type": "markdown",
   "id": "ab16c030",
   "metadata": {},
   "source": [
    "###### 32. Extract the domain name from an email address string."
   ]
  },
  {
   "cell_type": "code",
   "execution_count": 12,
   "id": "c0fe8f96",
   "metadata": {},
   "outputs": [
    {
     "name": "stdout",
     "output_type": "stream",
     "text": [
      "Email :  John3214@outlook.com\n",
      "Username from email :  outlook.com\n"
     ]
    }
   ],
   "source": [
    "import re\n",
    "email=\"John3214@outlook.com\"\n",
    "print(\"Email : \",email)\n",
    "x = re.search(r\"(@){1}([a-zA-Z])*\\.com\", email)\n",
    "\n",
    "if x:\n",
    "    print(\"Username from email : \",x.group().removeprefix('@'))"
   ]
  },
  {
   "cell_type": "markdown",
   "id": "edd3c0a2",
   "metadata": {},
   "source": [
    "###### 33. Replace multiple spaces in a string with a single space.\n"
   ]
  },
  {
   "cell_type": "code",
   "execution_count": 22,
   "id": "5b27379a",
   "metadata": {},
   "outputs": [
    {
     "name": "stdout",
     "output_type": "stream",
     "text": [
      "String with multiple spaces : Today            is     Thurday\n",
      "String after replacing multiple spaces with single space: Today is Thurday\n"
     ]
    }
   ],
   "source": [
    "import re\n",
    "str=\"Today            is     Thurday\"\n",
    "print(\"String with multiple spaces :\",str)\n",
    "str=str.strip()\n",
    "str=re.sub(\"\\s+\",' ',str)\n",
    "print(\"String after replacing multiple spaces with single space:\",str)"
   ]
  },
  {
   "cell_type": "markdown",
   "id": "e2914137",
   "metadata": {},
   "source": [
    "###### 34. Check if a string is a valid URL.\n"
   ]
  },
  {
   "cell_type": "code",
   "execution_count": 15,
   "id": "a9fa97f7",
   "metadata": {},
   "outputs": [
    {
     "name": "stdout",
     "output_type": "stream",
     "text": [
      "String is a valid URL\n"
     ]
    }
   ],
   "source": [
    "import re\n",
    "\n",
    "str=\"https://docs.python.org/3.13/whatsnew/3.13.html\"\n",
    "pattern=re.compile(r\"^(http|https)(://)[\\x00-\\x7F]{1,1024}$\")\n",
    "x=pattern.match(str)\n",
    "\n",
    "if x:\n",
    "    print(\"String is a valid URL\")\n",
    "else:\n",
    "    print(\"String is not a valid URL\")\n"
   ]
  },
  {
   "cell_type": "markdown",
   "id": "5a97f5e9",
   "metadata": {},
   "source": [
    "###### 35. Extract the protocol (http or https) from a URL string.\n"
   ]
  },
  {
   "cell_type": "code",
   "execution_count": 27,
   "id": "e12d5a6b",
   "metadata": {},
   "outputs": [
    {
     "name": "stdout",
     "output_type": "stream",
     "text": [
      "Protocol is :  https\n"
     ]
    }
   ],
   "source": [
    "import re\n",
    "url=\"https://docs.python.org/3.13/whatsnew/3.13.html\"\n",
    "x=re.search(r\"^([a-z])+(\\:)\",url)\n",
    "\n",
    "if x:\n",
    "    print(\"Protocol is : \",x.group().removesuffix(':'))\n",
    "    "
   ]
  },
  {
   "cell_type": "markdown",
   "id": "7c244219",
   "metadata": {},
   "source": [
    "###### 36. Find the frequency of each character in a string.\n"
   ]
  },
  {
   "cell_type": "code",
   "execution_count": 29,
   "id": "b550a4fe",
   "metadata": {},
   "outputs": [
    {
     "name": "stdout",
     "output_type": "stream",
     "text": [
      "Frequency of each char in string is :  {'a': 3, 'b': 1, 'c': 4, 'd': 3, 'e': 14, 'f': 8, 'g': 10, 'h': 11}\n"
     ]
    }
   ],
   "source": [
    "str1=\"aaabccccdddeeeeeeeeeeeeeeffffffffgggggggggghhhhhhhhhhh\"\n",
    "dict1={}\n",
    "\n",
    "for char in str1:\n",
    "    if char not in dict1.keys():\n",
    "        dict1[char]=str1.count(char)\n",
    "        \n",
    "print(\"Frequency of each char in string is : \",dict1)\n",
    "    \n"
   ]
  },
  {
   "cell_type": "markdown",
   "id": "0d977cec",
   "metadata": {},
   "source": [
    "###### 37. Remove all punctuation from a string."
   ]
  },
  {
   "cell_type": "code",
   "execution_count": 32,
   "id": "6c11ce2d",
   "metadata": {},
   "outputs": [
    {
     "name": "stdout",
     "output_type": "stream",
     "text": [
      "String with punctuation:  machine !!!,learning?????:\n",
      "String after removing punctuation:  machine learning\n"
     ]
    }
   ],
   "source": [
    "import string\n",
    "str1=\"machine !!!,learning?????:\"\n",
    "\n",
    "print(\"String with punctuation: \",str1)\n",
    "\n",
    "#check if char is in punctuation list & perform replace\n",
    "for char in str1:\n",
    "    if char in string.punctuation:\n",
    "        str1=str1.replace(char,'')\n",
    "\n",
    "print(\"String after removing punctuation: \",str1)"
   ]
  },
  {
   "cell_type": "markdown",
   "id": "e1b4f8fc",
   "metadata": {},
   "source": [
    "###### 38. Check if a string contains only digits."
   ]
  },
  {
   "cell_type": "code",
   "execution_count": 36,
   "id": "c311427c",
   "metadata": {},
   "outputs": [
    {
     "name": "stdout",
     "output_type": "stream",
     "text": [
      "String :  322343\n",
      "string contains only digits\n"
     ]
    }
   ],
   "source": [
    "str1=\"322343\"\n",
    "print(\"String : \",str1)\n",
    "\n",
    "if str1.isdigit():\n",
    "    print(\"string contains only digits\")\n",
    "else:\n",
    "    print(\"string does not contain only digits\")"
   ]
  },
  {
   "cell_type": "markdown",
   "id": "1792522f",
   "metadata": {},
   "source": [
    "###### 39. Check if a string contains only alphabets."
   ]
  },
  {
   "cell_type": "code",
   "execution_count": 39,
   "id": "adf89387",
   "metadata": {},
   "outputs": [
    {
     "name": "stdout",
     "output_type": "stream",
     "text": [
      "String :  wewew\n",
      "string contains only alphabets\n"
     ]
    }
   ],
   "source": [
    "str1=\"wewew\"\n",
    "print(\"String : \",str1)\n",
    "\n",
    "if str1.isalpha():\n",
    "    print(\"string contains only alphabets\")\n",
    "else:\n",
    "    print(\"string does not contain only alphabets\")"
   ]
  },
  {
   "cell_type": "markdown",
   "id": "8d8eb727",
   "metadata": {},
   "source": [
    "###### 40. Convert a string to a list of characters."
   ]
  },
  {
   "cell_type": "code",
   "execution_count": 41,
   "id": "c4931fc7",
   "metadata": {},
   "outputs": [
    {
     "name": "stdout",
     "output_type": "stream",
     "text": [
      "String :  Today is Friday\n",
      "List of characters :  ['T', 'o', 'd', 'a', 'y', ' ', 'i', 's', ' ', 'F', 'r', 'i', 'd', 'a', 'y']\n"
     ]
    }
   ],
   "source": [
    "str1=\"Today is Friday\"\n",
    "print(\"String : \",str1)\n",
    "print(\"List of characters : \",[char for char in str1])"
   ]
  },
  {
   "cell_type": "markdown",
   "id": "005f6583",
   "metadata": {},
   "source": [
    "###### 41. Check if two strings are anagrams"
   ]
  },
  {
   "cell_type": "code",
   "execution_count": 44,
   "id": "150ee1d5",
   "metadata": {},
   "outputs": [
    {
     "name": "stdout",
     "output_type": "stream",
     "text": [
      "Enter first string : elbow\n",
      "Enter second string: below\n",
      "Given strings are anagram\n"
     ]
    }
   ],
   "source": [
    "str1=input(\"Enter first string : \")\n",
    "str2=input(\"Enter second string: \")\n",
    "\n",
    "chars_str1=[char for char in str1]\n",
    "chars_str2=[char for char in str2]\n",
    "\n",
    "if sorted(chars_str1)==sorted(chars_str2):\n",
    "    print(\"Given strings are anagram\")\n",
    "else:\n",
    "    print(\"Given strings are not anagram\")"
   ]
  },
  {
   "cell_type": "markdown",
   "id": "4a0974ee",
   "metadata": {},
   "source": [
    "###### 42. Encode a string using a Caesar cipher."
   ]
  },
  {
   "cell_type": "code",
   "execution_count": 74,
   "id": "c4077bbe",
   "metadata": {},
   "outputs": [
    {
     "name": "stdout",
     "output_type": "stream",
     "text": [
      "Normal string:  ATTACKATONCE\n",
      "Shift by :  4\n",
      "String encrypted to caesar cipher EXXEGOEXSRGI\n"
     ]
    }
   ],
   "source": [
    "import string\n",
    "\n",
    "def encode_to_caesar_cipher(text,shift):\n",
    "    text=text.upper()\n",
    "    cipher_text=\"\"\n",
    "    \n",
    "    # Create two dict for index to alphabel and another for alphabet to index\n",
    "    cipher_dict={}\n",
    "    index_dict={}\n",
    "    for index,char in enumerate(string.ascii_uppercase):\n",
    "        cipher_dict[index]=char\n",
    "        index_dict[char]=index\n",
    "    \n",
    "    # Iterate text and convert to caesar cipher text\n",
    "    for char in text:\n",
    "        current_index=index_dict[char]\n",
    "        \n",
    "        \n",
    "        if current_index+shift >25:\n",
    "            new_index=(current_index+shift)-26\n",
    "        else:\n",
    "            new_index=current_index+shift\n",
    "        \n",
    "        cipher_text=cipher_text+cipher_dict[new_index]\n",
    "    \n",
    "    return cipher_text\n",
    "\n",
    "\n",
    "text=\"ATTACKATONCE\"\n",
    "shift=4\n",
    "print(\"Normal string: \",text)\n",
    "print(\"Shift by : \",shift)\n",
    "print( \"String encrypted to caesar cipher\",encode_to_caesar_cipher(text,shift))\n",
    "\n",
    "# encode_to_caesar_cipher(\"Z\",23)"
   ]
  },
  {
   "cell_type": "markdown",
   "id": "40936974",
   "metadata": {},
   "source": [
    "###### 43. Decode a Caesar cipher encoded string."
   ]
  },
  {
   "cell_type": "code",
   "execution_count": 77,
   "id": "ad59177d",
   "metadata": {},
   "outputs": [
    {
     "name": "stdout",
     "output_type": "stream",
     "text": [
      "Normal string:  KHOOR\n",
      "Shift by :  3\n",
      "String decoded to caesar cipher HELLO\n"
     ]
    }
   ],
   "source": [
    "import string\n",
    "\n",
    "def decode_caesar_cipher(text,shift):\n",
    "    text=text.upper()\n",
    "    cipher_text=\"\"\n",
    "    \n",
    "    # Create two dict for index to alphabel and another for alphabet to index\n",
    "    cipher_dict={}\n",
    "    index_dict={}\n",
    "    for index,char in enumerate(string.ascii_uppercase):\n",
    "        cipher_dict[index]=char\n",
    "        index_dict[char]=index\n",
    "    \n",
    "    # Iterate text and decode caesar cipher text\n",
    "    for char in text:\n",
    "        current_index=index_dict[char]\n",
    "        \n",
    "        if current_index-shift <0:\n",
    "            new_index=26+(current_index-shift)\n",
    "        else:\n",
    "            new_index=current_index-shift\n",
    "        \n",
    "        cipher_text=cipher_text+cipher_dict[new_index]\n",
    "    \n",
    "    return cipher_text\n",
    "\n",
    "\n",
    "text=\"KHOOR\"\n",
    "shift=3\n",
    "print(\"Normal string: \",text)\n",
    "print(\"Shift by : \",shift)\n",
    "print( \"String decoded to caesar cipher\",decode_caesar_cipher(text,shift))\n"
   ]
  },
  {
   "cell_type": "markdown",
   "id": "271e478b",
   "metadata": {},
   "source": [
    "###### 44. Find the most frequent word in a string."
   ]
  },
  {
   "cell_type": "code",
   "execution_count": 20,
   "id": "9e792bac",
   "metadata": {},
   "outputs": [
    {
     "name": "stdout",
     "output_type": "stream",
     "text": [
      "Input string :  Never give in. Never give in. Never, never, never, never-in nothing, great or small, large or petty-never give in, except to convictions of honor and good sense.\n",
      "\n",
      "\n",
      "List of words in string :  ['never', 'give', 'in', 'never', 'give', 'in', 'never', 'never', 'never', 'never', 'in', 'nothing', 'great', 'or', 'small', 'large', 'or', 'petty', 'never', 'give', 'in', 'except', 'to', 'convictions', 'of', 'honor', 'and', 'good', 'sense']\n",
      "\n",
      "\n",
      "Frequency dictionary :  {7: {'never'}, 3: {'give'}, 4: {'in'}, 1: {'to', 'small', 'petty', 'convictions', 'large', 'great', 'honor', 'good', 'nothing', 'of', 'sense', 'except', 'and'}, 2: {'or'}}\n",
      "\n",
      "\n",
      "The most frequent word in the string is :  {'never'}\n"
     ]
    }
   ],
   "source": [
    "import string\n",
    "\n",
    "#Input string\n",
    "str1=\"Never give in. Never give in. Never, never, never, never-in nothing, great or small, large or petty-never give in, except to convictions of honor and good sense.\"\n",
    "max_count=0\n",
    "frequent_word=\"\"\n",
    "print(\"Input string : \",str1)\n",
    "print(\"\\n\")\n",
    "\n",
    "#removing punctuation from string\n",
    "for char in str1:\n",
    "    if char in string.punctuation:\n",
    "        str1=str1.replace(char,' ')\n",
    "    \n",
    "\n",
    "#get list of words from string in lower case\n",
    "list_words= [word.lower() for word in str1.split()]\n",
    "print(\"List of words in string : \",list_words)\n",
    "print(\"\\n\")\n",
    "\n",
    "#Create frequency dict\n",
    "frequency_dict={}\n",
    "for word in list_words:\n",
    "    if list_words.count(word) not in frequency_dict.keys():\n",
    "        frequency_dict[list_words.count(word)]={word}\n",
    "    else:\n",
    "        frequency_dict[list_words.count(word)].add(word)\n",
    "        \n",
    "        \n",
    "print(\"Frequency dictionary : \",frequency_dict)\n",
    "print(\"\\n\")\n",
    "        \n",
    "max_freq=max(frequency_dict.keys())\n",
    "print(\"The most frequent word in the string is : \",frequency_dict[max_freq])\n"
   ]
  },
  {
   "cell_type": "markdown",
   "id": "f82ba250",
   "metadata": {},
   "source": [
    "###### 45. Find all unique words in a string."
   ]
  },
  {
   "cell_type": "code",
   "execution_count": 22,
   "id": "10d006f0",
   "metadata": {},
   "outputs": [
    {
     "name": "stdout",
     "output_type": "stream",
     "text": [
      "Input string :  Never give in. Never give in. Never, never, never, never-in nothing, great or small, large or petty-never give in, except to convictions of honor and good sense.\n",
      "\n",
      "\n",
      "List of words in string :  ['never', 'give', 'in', 'never', 'give', 'in', 'never', 'never', 'never', 'never', 'in', 'nothing', 'great', 'or', 'small', 'large', 'or', 'petty', 'never', 'give', 'in', 'except', 'to', 'convictions', 'of', 'honor', 'and', 'good', 'sense']\n",
      "\n",
      "\n",
      "Frequency dictionary :  {7: {'never'}, 3: {'give'}, 4: {'in'}, 1: {'to', 'small', 'petty', 'convictions', 'large', 'great', 'honor', 'good', 'nothing', 'of', 'sense', 'except', 'and'}, 2: {'or'}}\n",
      "\n",
      "\n",
      "Unique words in the string are :  {'to', 'small', 'petty', 'convictions', 'large', 'great', 'honor', 'good', 'nothing', 'of', 'sense', 'except', 'and'}\n"
     ]
    }
   ],
   "source": [
    "import string\n",
    "\n",
    "#Input string\n",
    "str1=\"Never give in. Never give in. Never, never, never, never-in nothing, great or small, large or petty-never give in, except to convictions of honor and good sense.\"\n",
    "max_count=0\n",
    "frequent_word=\"\"\n",
    "print(\"Input string : \",str1)\n",
    "print(\"\\n\")\n",
    "\n",
    "#removing punctuation from string\n",
    "for char in str1:\n",
    "    if char in string.punctuation:\n",
    "        str1=str1.replace(char,' ')\n",
    "    \n",
    "\n",
    "#get list of words from string in lower case\n",
    "list_words= [word.lower() for word in str1.split()]\n",
    "print(\"List of words in string : \",list_words)\n",
    "print(\"\\n\")\n",
    "\n",
    "#Create frequency dict\n",
    "frequency_dict={}\n",
    "for word in list_words:\n",
    "    if list_words.count(word) not in frequency_dict.keys():\n",
    "        frequency_dict[list_words.count(word)]={word}\n",
    "    else:\n",
    "        frequency_dict[list_words.count(word)].add(word)\n",
    "        \n",
    "        \n",
    "print(\"Frequency dictionary : \",frequency_dict)\n",
    "print(\"\\n\")\n",
    "\n",
    "print(\"Unique words in the string are : \",frequency_dict[1])"
   ]
  },
  {
   "cell_type": "markdown",
   "id": "92fca940",
   "metadata": {},
   "source": [
    "###### 46. Count the number of syllables in a string.\n"
   ]
  },
  {
   "cell_type": "code",
   "execution_count": 24,
   "id": "b5ec3dc0",
   "metadata": {},
   "outputs": [
    {
     "name": "stdout",
     "output_type": "stream",
     "text": [
      "The number of syllables in string:  12\n"
     ]
    }
   ],
   "source": [
    "str1=\"Google Yahoo Microsoft Amazon\"\n",
    "counter=0\n",
    "\n",
    "for char in str1:\n",
    "    if char.lower() in ['a','e','i','o','u']:\n",
    "        counter+=1\n",
    "        \n",
    "print(\"The number of syllables in string: \",counter)"
   ]
  },
  {
   "cell_type": "markdown",
   "id": "907c0b99",
   "metadata": {},
   "source": [
    "###### 47. Check if a string contains any special characters."
   ]
  },
  {
   "cell_type": "code",
   "execution_count": 29,
   "id": "42d6d638",
   "metadata": {},
   "outputs": [
    {
     "name": "stdout",
     "output_type": "stream",
     "text": [
      "String contains special characters\n"
     ]
    }
   ],
   "source": [
    "import re\n",
    "\n",
    "#condition check - if char not an alphabet or number then its a special character\n",
    "\n",
    "pattern=re.compile(r\"(^[A-Za-z0-9])*$\")\n",
    "str1=\"@@Machine%Learning1234\"\n",
    "\n",
    "if re.match(pattern,str1):\n",
    "    print(\"String does not contain special characters\")\n",
    "    \n",
    "else:\n",
    "    print(\"String contains special characters\")"
   ]
  },
  {
   "cell_type": "markdown",
   "id": "6ff8bc5f",
   "metadata": {},
   "source": [
    "###### 48. Remove the nth word from a string.\n"
   ]
  },
  {
   "cell_type": "code",
   "execution_count": 32,
   "id": "446fcbc5",
   "metadata": {},
   "outputs": [
    {
     "name": "stdout",
     "output_type": "stream",
     "text": [
      "String : Google Yahoo Microsoft Amazon\n",
      "Enter the value of n : 3\n",
      "Removing element number 3 from string\n",
      "String : Google Yahoo Amazon\n"
     ]
    }
   ],
   "source": [
    "str1=\"Google Yahoo Microsoft Amazon\"\n",
    "print(\"String :\",str1)\n",
    "\n",
    "n=int(input(\"Enter the value of n : \"))\n",
    "\n",
    "print(f\"Removing element number {n} from string\")\n",
    "list_words=str1.split()\n",
    "list_words.pop(n-1)\n",
    "print(\"String :\",' '.join(list_words))"
   ]
  },
  {
   "cell_type": "markdown",
   "id": "0dba0c23",
   "metadata": {},
   "source": [
    "###### 49. Insert a word at the nth position in a string.\n"
   ]
  },
  {
   "cell_type": "code",
   "execution_count": 33,
   "id": "562aa391",
   "metadata": {},
   "outputs": [
    {
     "name": "stdout",
     "output_type": "stream",
     "text": [
      "String : Google Yahoo Microsoft Amazon\n",
      "Enter a word to be inserted: Cloud\n",
      "Enter the position of the new word : 3\n",
      "String after insert : Google Yahoo Cloud Microsoft Amazon\n"
     ]
    }
   ],
   "source": [
    "str1=\"Google Yahoo Microsoft Amazon\"\n",
    "print(\"String :\",str1)\n",
    "\n",
    "word=input(\"Enter a word to be inserted: \")\n",
    "n=int(input(\"Enter the position of the new word : \"))\n",
    "\n",
    "list_words=str1.split()\n",
    "list_words.insert(n-1,word)\n",
    "\n",
    "print(\"String after insert :\",' '.join(list_words))"
   ]
  },
  {
   "cell_type": "markdown",
   "id": "236667cc",
   "metadata": {},
   "source": [
    "###### 50. Convert a CSV string to a list of lists.\n"
   ]
  },
  {
   "cell_type": "code",
   "execution_count": 36,
   "id": "3fb359a3",
   "metadata": {},
   "outputs": [
    {
     "name": "stdout",
     "output_type": "stream",
     "text": [
      "Input string csv :  1,2,3\n",
      "4,5,6\n",
      "7,8,9\n",
      "Output list of lists :  [['1', '2', '3'], ['4', '5', '6'], ['7', '8', '9']]\n"
     ]
    }
   ],
   "source": [
    "csv_string = \"\"\"1,2,3\n",
    "4,5,6\n",
    "7,8,9\"\"\"\n",
    "\n",
    "print(\"Input string csv : \",csv_string)\n",
    "\n",
    "list_lists=[]\n",
    "\n",
    "for line in csv_string.split('\\n'):\n",
    "    list_lists.append(line.split(','))\n",
    "    \n",
    "print(\"Output list of lists : \",list_lists)\n",
    "    "
   ]
  },
  {
   "cell_type": "markdown",
   "id": "6df755af",
   "metadata": {},
   "source": [
    "### TOPIC: List Based Practice Problem"
   ]
  },
  {
   "cell_type": "markdown",
   "id": "c678dcb5",
   "metadata": {},
   "source": [
    "###### 1. Create a list with integers from 1 to 10."
   ]
  },
  {
   "cell_type": "code",
   "execution_count": 32,
   "id": "900dc107",
   "metadata": {},
   "outputs": [
    {
     "name": "stdout",
     "output_type": "stream",
     "text": [
      "[1, 2, 3, 4, 5, 6, 7, 8, 9, 10]\n"
     ]
    }
   ],
   "source": [
    "list_numbers=[i for i in range(1,11)]\n",
    "print(list_numbers)"
   ]
  },
  {
   "cell_type": "markdown",
   "id": "1ea60841",
   "metadata": {},
   "source": [
    "###### 2. Find the length of a list without using the `len()` function."
   ]
  },
  {
   "cell_type": "code",
   "execution_count": 33,
   "id": "ecd07e84",
   "metadata": {},
   "outputs": [
    {
     "name": "stdout",
     "output_type": "stream",
     "text": [
      "Length of the list is :  10\n"
     ]
    }
   ],
   "source": [
    "list_num=[34,5,6,7,8,9,2,90,2,3]\n",
    "count=0\n",
    "\n",
    "for num in list_num:\n",
    "    count+=1\n",
    "    \n",
    "print(\"Length of the list is : \",count)"
   ]
  },
  {
   "cell_type": "markdown",
   "id": "9a5a681c",
   "metadata": {},
   "source": [
    "###### 3. Append an element to the end of a list."
   ]
  },
  {
   "cell_type": "code",
   "execution_count": 37,
   "id": "62a25951",
   "metadata": {},
   "outputs": [
    {
     "name": "stdout",
     "output_type": "stream",
     "text": [
      "List before append :  ['Apple', 'Mango', 'Orange']\n",
      "List after append :  ['Apple', 'Mango', 'Orange', 'Strawberry']\n"
     ]
    }
   ],
   "source": [
    "list_fruits=[\"Apple\",\"Mango\",\"Orange\"]\n",
    "\n",
    "print(\"List before append : \",list_fruits)\n",
    "\n",
    "# Append \"Strawberry\" to the list of fruits\n",
    "list_fruits.append('Strawberry')\n",
    "\n",
    "print(\"List after append : \",list_fruits)"
   ]
  },
  {
   "cell_type": "markdown",
   "id": "a78638c7",
   "metadata": {},
   "source": [
    "###### 4. Insert an element at a specific index in a list."
   ]
  },
  {
   "cell_type": "code",
   "execution_count": 38,
   "id": "323a42c4",
   "metadata": {},
   "outputs": [
    {
     "name": "stdout",
     "output_type": "stream",
     "text": [
      "List before insert :  ['Apple', 'Mango', 'Orange', 'Strawberry']\n",
      "List after insert at index position 2 :  ['Apple', 'Mango', 'Grapes', 'Orange', 'Strawberry']\n"
     ]
    }
   ],
   "source": [
    "list_fruits=['Apple', 'Mango', 'Orange', 'Strawberry']\n",
    "\n",
    "print(\"List before insert : \",list_fruits)\n",
    "\n",
    "# insert 'Grapes' at index position 2\n",
    "list_fruits.insert(2,\"Grapes\")\n",
    "\n",
    "print(\"List after insert at index position 2 : \",list_fruits)"
   ]
  },
  {
   "cell_type": "markdown",
   "id": "a817e1c3",
   "metadata": {},
   "source": [
    "###### 5. Remove an element from a list by its value."
   ]
  },
  {
   "cell_type": "code",
   "execution_count": 39,
   "id": "4f466efe",
   "metadata": {},
   "outputs": [
    {
     "name": "stdout",
     "output_type": "stream",
     "text": [
      "List  :  ['Apple', 'Mango', 'Grapes', 'Orange', 'Strawberry']\n",
      "New List after 'Orange' removed from the list :  ['Apple', 'Mango', 'Grapes', 'Strawberry']\n"
     ]
    }
   ],
   "source": [
    "list_fruits=['Apple', 'Mango', 'Grapes', 'Orange', 'Strawberry']\n",
    "\n",
    "print(\"List  : \",list_fruits)\n",
    "\n",
    "# Remove Orange from the list \n",
    "list_fruits.remove('Orange')\n",
    "\n",
    "\n",
    "print(\"New List after 'Orange' removed from the list : \",list_fruits)"
   ]
  },
  {
   "cell_type": "markdown",
   "id": "171c81f1",
   "metadata": {},
   "source": [
    "######  6. Remove an element from a list by its index."
   ]
  },
  {
   "cell_type": "code",
   "execution_count": 40,
   "id": "1cdf48b3",
   "metadata": {},
   "outputs": [
    {
     "name": "stdout",
     "output_type": "stream",
     "text": [
      "List  :  ['Apple', 'Mango', 'Grapes', 'Orange', 'Strawberry']\n",
      "New List after index 2 removed :  ['Apple', 'Mango', 'Orange', 'Strawberry']\n"
     ]
    }
   ],
   "source": [
    "list_fruits=['Apple', 'Mango', 'Grapes', 'Orange', 'Strawberry']\n",
    "\n",
    "print(\"List  : \",list_fruits)\n",
    "\n",
    "# Remove fruit at index 2 from the list \n",
    "list_fruits.pop(2)\n",
    "\n",
    "\n",
    "print(\"New List after index 2 removed : \",list_fruits)"
   ]
  },
  {
   "cell_type": "markdown",
   "id": "8882a6ff",
   "metadata": {},
   "source": [
    "###### 7. Check if an element exists in a list."
   ]
  },
  {
   "cell_type": "code",
   "execution_count": 42,
   "id": "5cd50950",
   "metadata": {},
   "outputs": [
    {
     "name": "stdout",
     "output_type": "stream",
     "text": [
      "List  :  ['Apple', 'Mango', 'Grapes', 'Orange', 'Strawberry']\n",
      "Check if 'Mango' exists in the list\n",
      "Element is exists in the list\n"
     ]
    }
   ],
   "source": [
    "list_fruits=['Apple', 'Mango', 'Grapes', 'Orange', 'Strawberry']\n",
    "print(\"List  : \",list_fruits)\n",
    "print(\"Check if 'Mango' exists in the list\")\n",
    "if 'Mango' in list_fruits:\n",
    "    print(\"Element is exists in the list\")\n",
    "    \n",
    "else:\n",
    "    print(\"Element does not exist in the list\")"
   ]
  },
  {
   "cell_type": "markdown",
   "id": "9a6d69db",
   "metadata": {},
   "source": [
    "###### 8. Find the index of the first occurrence of an element in a list."
   ]
  },
  {
   "cell_type": "code",
   "execution_count": 43,
   "id": "1a5a02f2",
   "metadata": {},
   "outputs": [
    {
     "name": "stdout",
     "output_type": "stream",
     "text": [
      "List  :  ['Apple', 'Mango', 'Grapes', 'Orange', 'Strawberry', 'Orange', 'Blueberries', 'Pomogranate']\n",
      "The index of first occurance of 'Orange' in the list is :  3\n"
     ]
    }
   ],
   "source": [
    "list_fruits=['Apple', 'Mango', 'Grapes', 'Orange', 'Strawberry','Orange','Blueberries','Pomogranate']\n",
    "print(\"List  : \",list_fruits)\n",
    "print(\"The index of first occurance of 'Orange' in the list is : \",list_fruits.index('Orange'))\n"
   ]
  },
  {
   "cell_type": "markdown",
   "id": "e5ae751a",
   "metadata": {},
   "source": [
    "###### 9. Count the occurrences of an element in a list.\n"
   ]
  },
  {
   "cell_type": "code",
   "execution_count": 44,
   "id": "44c9381d",
   "metadata": {},
   "outputs": [
    {
     "name": "stdout",
     "output_type": "stream",
     "text": [
      "List  :  ['Apple', 'Mango', 'Grapes', 'Orange', 'Strawberry', 'Orange', 'Blueberries', 'Pomogranate', 'Orange']\n",
      "The number ofoccurrences of 'Orange' in the list is:   3\n"
     ]
    }
   ],
   "source": [
    "list_fruits=['Apple', 'Mango', 'Grapes', 'Orange', 'Strawberry','Orange','Blueberries','Pomogranate','Orange']\n",
    "print(\"List  : \",list_fruits)\n",
    "print(\"The number ofoccurrences of 'Orange' in the list is:  \", list_fruits.count('Orange'))"
   ]
  },
  {
   "cell_type": "markdown",
   "id": "f688a9ad",
   "metadata": {},
   "source": [
    "###### 10. Reverse the order of elements in a list."
   ]
  },
  {
   "cell_type": "code",
   "execution_count": 46,
   "id": "b7764437",
   "metadata": {},
   "outputs": [
    {
     "name": "stdout",
     "output_type": "stream",
     "text": [
      "List  :  ['Apple', 'Mango', 'Grapes', 'Orange', 'Strawberry', 'Orange', 'Blueberries', 'Pomogranate', 'Orange']\n",
      "Reversed List  :  ['Orange', 'Pomogranate', 'Blueberries', 'Orange', 'Strawberry', 'Orange', 'Grapes', 'Mango', 'Apple']\n"
     ]
    }
   ],
   "source": [
    "list_fruits=['Apple', 'Mango', 'Grapes', 'Orange', 'Strawberry','Orange','Blueberries','Pomogranate','Orange']\n",
    "print(\"List  : \",list_fruits)\n",
    "\n",
    "\n",
    "print(\"Reversed List  : \",list_fruits[::-1])"
   ]
  },
  {
   "cell_type": "markdown",
   "id": "2f373360",
   "metadata": {},
   "source": [
    "###### 11. Sort a list in ascending order.\n"
   ]
  },
  {
   "cell_type": "code",
   "execution_count": 40,
   "id": "bb4b0dd0",
   "metadata": {},
   "outputs": [
    {
     "name": "stdout",
     "output_type": "stream",
     "text": [
      "List :  [34, 12, 56, 100, 43, 78, 5, 2, 1, 500]\n",
      "List sorted in ascending order:  [1, 2, 5, 12, 34, 43, 56, 78, 100, 500]\n"
     ]
    }
   ],
   "source": [
    "list_num=[34,12,56,100,43,78,5,2,1,500]\n",
    "print(\"List : \",list_num)\n",
    "\n",
    "# Sorting\n",
    "list_num.sort()\n",
    "\n",
    "print(\"List sorted in ascending order: \",list_num)"
   ]
  },
  {
   "cell_type": "markdown",
   "id": "0ddfee1a",
   "metadata": {},
   "source": [
    "###### 12. Sort a list in descending order.\n"
   ]
  },
  {
   "cell_type": "code",
   "execution_count": 41,
   "id": "7a622156",
   "metadata": {},
   "outputs": [
    {
     "name": "stdout",
     "output_type": "stream",
     "text": [
      "List :  [34, 12, 56, 100, 43, 78, 5, 2, 1, 500]\n",
      "List sorted in descending order:  [500, 100, 78, 56, 43, 34, 12, 5, 2, 1]\n"
     ]
    }
   ],
   "source": [
    "list_num=[34,12,56,100,43,78,5,2,1,500]\n",
    "print(\"List : \",list_num)\n",
    "\n",
    "# Sorting\n",
    "list_num.sort(reverse=True)\n",
    "\n",
    "print(\"List sorted in descending order: \",list_num)"
   ]
  },
  {
   "cell_type": "markdown",
   "id": "ef0a200e",
   "metadata": {},
   "source": [
    "###### 13. Create a list of even numbers from 1 to 20.\n"
   ]
  },
  {
   "cell_type": "code",
   "execution_count": 43,
   "id": "1cd866da",
   "metadata": {},
   "outputs": [
    {
     "name": "stdout",
     "output_type": "stream",
     "text": [
      "List of even numbers from 1 to 20 : [2, 4, 6, 8, 10, 12, 14, 16, 18, 20]\n"
     ]
    }
   ],
   "source": [
    "list_even=[x for x in range(1,21) if x%2==0]\n",
    "print(\"List of even numbers from 1 to 20 :\",list_even)"
   ]
  },
  {
   "cell_type": "markdown",
   "id": "d34b964e",
   "metadata": {},
   "source": [
    "###### 14. Create a list of odd numbers from 1 to 20."
   ]
  },
  {
   "cell_type": "code",
   "execution_count": 44,
   "id": "f014888a",
   "metadata": {},
   "outputs": [
    {
     "name": "stdout",
     "output_type": "stream",
     "text": [
      "List of even numbers from 1 to 20 : [1, 3, 5, 7, 9, 11, 13, 15, 17, 19]\n"
     ]
    }
   ],
   "source": [
    "list_odd=[x for x in range(1,21) if x%2!=0]\n",
    "print(\"List of even numbers from 1 to 20 :\",list_odd)"
   ]
  },
  {
   "cell_type": "markdown",
   "id": "ebd4fd79",
   "metadata": {},
   "source": [
    "###### 15. Find the sum of all elements in a list.\n"
   ]
  },
  {
   "cell_type": "code",
   "execution_count": 47,
   "id": "3b0c15b1",
   "metadata": {},
   "outputs": [
    {
     "name": "stdout",
     "output_type": "stream",
     "text": [
      "List of numbers :  [1, 2, 3, 4, 5, 6, 7, 8, 9, 10]\n",
      "Sum of all elements in the list :  55\n"
     ]
    }
   ],
   "source": [
    "list_num=[1,2,3,4,5,6,7,8,9,10]\n",
    "print(\"List of numbers : \",list_num)\n",
    "print(\"Sum of all elements in the list : \",sum(list_num))"
   ]
  },
  {
   "cell_type": "markdown",
   "id": "ebcb966c",
   "metadata": {},
   "source": [
    "###### 16. Find the maximum value in a list."
   ]
  },
  {
   "cell_type": "code",
   "execution_count": 48,
   "id": "0ce57b27",
   "metadata": {},
   "outputs": [
    {
     "name": "stdout",
     "output_type": "stream",
     "text": [
      "List :  [34, 12, 56, 100, 43, 78, 5, 2, 1, 500]\n",
      "Maximum value from list is : 500\n"
     ]
    }
   ],
   "source": [
    "list_num=[34,12,56,100,43,78,5,2,1,500]\n",
    "print(\"List : \",list_num)\n",
    "print(\"Maximum value from list is :\",max(list_num))"
   ]
  },
  {
   "cell_type": "markdown",
   "id": "33315d43",
   "metadata": {},
   "source": [
    "###### 17. Find the minimum value in a list."
   ]
  },
  {
   "cell_type": "code",
   "execution_count": 49,
   "id": "72ad318d",
   "metadata": {},
   "outputs": [
    {
     "name": "stdout",
     "output_type": "stream",
     "text": [
      "List :  [34, 12, 56, 100, 43, 78, 5, 2, 1, 500]\n",
      "Minimum value from list is : 1\n"
     ]
    }
   ],
   "source": [
    "list_num=[34,12,56,100,43,78,5,2,1,500]\n",
    "print(\"List : \",list_num)\n",
    "print(\"Minimum value from list is :\",min(list_num))"
   ]
  },
  {
   "cell_type": "markdown",
   "id": "f76f5fa1",
   "metadata": {},
   "source": [
    "###### 18. Create a list of squares of numbers from 1 to 10."
   ]
  },
  {
   "cell_type": "code",
   "execution_count": 50,
   "id": "7dbfa1b5",
   "metadata": {},
   "outputs": [
    {
     "name": "stdout",
     "output_type": "stream",
     "text": [
      "List of squares of numbers from 1 to 10 :  [1, 4, 9, 16, 25, 36, 49, 64, 81, 100]\n"
     ]
    }
   ],
   "source": [
    "list_squares=[x**2 for x in range(1,11) ]\n",
    "print(\"List of squares of numbers from 1 to 10 : \",list_squares)"
   ]
  },
  {
   "cell_type": "markdown",
   "id": "7dede882",
   "metadata": {},
   "source": [
    "###### 19. Create a list of random numbers."
   ]
  },
  {
   "cell_type": "code",
   "execution_count": 51,
   "id": "1f44ccc5",
   "metadata": {},
   "outputs": [
    {
     "name": "stdout",
     "output_type": "stream",
     "text": [
      "List of random numbers is  :  [792, 363, 978, 768, 395, 344, 506, 28, 732, 697, 396, 733, 228, 165, 782, 116, 418, 194, 513, 895, 171, 966, 762, 470, 852, 656, 89, 402, 474, 183, 898, 596, 337, 20, 331, 75, 212, 276, 712, 601, 575, 95, 709, 440, 404, 960, 451, 565, 97, 244]\n"
     ]
    }
   ],
   "source": [
    "import random\n",
    "\n",
    "random_list =random.sample(range(1000),50)\n",
    "print(\"List of random numbers is  : \",random_list)"
   ]
  },
  {
   "cell_type": "markdown",
   "id": "af02eb51",
   "metadata": {},
   "source": [
    "###### 20. Remove duplicates from a list."
   ]
  },
  {
   "cell_type": "code",
   "execution_count": 53,
   "id": "1da29a6f",
   "metadata": {},
   "outputs": [
    {
     "name": "stdout",
     "output_type": "stream",
     "text": [
      "List :  [1, 2, 3, 4, 4, 4, 4, 4, 4, 5, 5, 6, 7, 7, 7, 8, 8, 9, 9, 10, 10]\n",
      "List after removing duplicates from list : [1, 2, 3, 4, 5, 6, 7, 8, 9, 10]\n"
     ]
    }
   ],
   "source": [
    "list_duplicates =[1,2,3,4,4,4,4,4,4,5,5,6,7,7,7,8,8,9,9,10,10]\n",
    "print(\"List : \",list_duplicates)\n",
    "\n",
    "list_unique=[]\n",
    "\n",
    "for n in list_duplicates:\n",
    "    if list_duplicates.count(n)==1 or (list_duplicates.count(n)>1 and n not in list_unique) :\n",
    "        list_unique.append(n)\n",
    "\n",
    "print(\"List after removing duplicates from list :\",list_unique)"
   ]
  },
  {
   "cell_type": "markdown",
   "id": "44eff745",
   "metadata": {},
   "source": [
    "###### 21. Find the common elements between two lists.\n"
   ]
  },
  {
   "cell_type": "code",
   "execution_count": 81,
   "id": "c0d04e10",
   "metadata": {},
   "outputs": [
    {
     "name": "stdout",
     "output_type": "stream",
     "text": [
      "List1 :  [1, 2, 3, 4, 5, 6]\n",
      "List2 :  [4, 5, 6, 7, 8, 9, 10]\n",
      "Common elements :  [4, 5, 6]\n"
     ]
    }
   ],
   "source": [
    "list1=[1,2,3,4,5,6]\n",
    "list2=[4,5,6,7,8,9,10]\n",
    "\n",
    "common_elements=[]\n",
    "\n",
    "for n in list1:\n",
    "    if n in list2:\n",
    "        common_elements.append(n)\n",
    "        \n",
    "print(\"List1 : \",list1)\n",
    "print(\"List2 : \",list2)\n",
    "print(\"Common elements : \",common_elements)"
   ]
  },
  {
   "cell_type": "markdown",
   "id": "f3dd200f",
   "metadata": {},
   "source": [
    "###### 22. Find the difference between two lists.\n"
   ]
  },
  {
   "cell_type": "code",
   "execution_count": 83,
   "id": "d350aaa9",
   "metadata": {},
   "outputs": [
    {
     "name": "stdout",
     "output_type": "stream",
     "text": [
      "List1 :  [1, 2, 3, 4, 5, 6]\n",
      "List2 :  [4, 5, 6, 7, 8, 9, 10]\n",
      "Difference of list1 with list2 :  [1, 2, 3]\n"
     ]
    }
   ],
   "source": [
    "list1=[1,2,3,4,5,6]\n",
    "list2=[4,5,6,7,8,9,10]\n",
    "\n",
    "different_elements=[]\n",
    "\n",
    "for n in list1:\n",
    "    if n not in list2:\n",
    "        different_elements.append(n)\n",
    "        \n",
    "print(\"List1 : \",list1)\n",
    "print(\"List2 : \",list2)\n",
    "print(\"Difference of list1 with list2 : \",different_elements)\n",
    "        "
   ]
  },
  {
   "cell_type": "markdown",
   "id": "b52972b3",
   "metadata": {},
   "source": [
    "###### 23. Merge two lists.\n"
   ]
  },
  {
   "cell_type": "code",
   "execution_count": 85,
   "id": "4553af3e",
   "metadata": {},
   "outputs": [
    {
     "name": "stdout",
     "output_type": "stream",
     "text": [
      "List1 :  [1, 2, 3, 4, 5, 6]\n",
      "List2 :  [4, 5, 6, 7, 8, 9, 10]\n",
      "Merged list :  [1, 2, 3, 4, 5, 6, 4, 5, 6, 7, 8, 9, 10]\n"
     ]
    }
   ],
   "source": [
    "list1=[1,2,3,4,5,6]\n",
    "list2=[4,5,6,7,8,9,10]\n",
    "\n",
    "print(\"List1 : \",list1)\n",
    "print(\"List2 : \",list2)\n",
    "\n",
    "print(\"Merged list : \",list1+list2)\n"
   ]
  },
  {
   "cell_type": "markdown",
   "id": "62af4bd6",
   "metadata": {},
   "source": [
    "###### 24. Multiply all elements in a list by 2."
   ]
  },
  {
   "cell_type": "code",
   "execution_count": 87,
   "id": "81b5fae9",
   "metadata": {},
   "outputs": [
    {
     "name": "stdout",
     "output_type": "stream",
     "text": [
      "List1 :  [1, 2, 3, 4, 5]\n",
      "Multiply all elements by 2 :  [2, 4, 6, 8, 10]\n"
     ]
    }
   ],
   "source": [
    "list1=[1,2,3,4,5]\n",
    "print(\"List1 : \",list1)\n",
    "print(\"Multiply all elements by 2 : \",[x*2 for x in list1])"
   ]
  },
  {
   "cell_type": "markdown",
   "id": "a4fe7e21",
   "metadata": {},
   "source": [
    "###### 25. Filter out all even numbers from a list."
   ]
  },
  {
   "cell_type": "code",
   "execution_count": 89,
   "id": "6d9a4d89",
   "metadata": {},
   "outputs": [
    {
     "name": "stdout",
     "output_type": "stream",
     "text": [
      "List :  [4, 6, 7, 8, 9, 10, 11, 12, 15, 16, 17, 18, 20, 22]\n",
      "After filter of even numbers from list: [4, 6, 8, 10, 12, 16, 18, 20, 22]\n"
     ]
    }
   ],
   "source": [
    "list1=[4,6,7,8,9,10,11,12,15,16,17,18,20,22]\n",
    "print(\"List : \",list1)\n",
    "\n",
    "print(\"After filter of even numbers from list:\",[x for x in list1 if x%2==0])"
   ]
  },
  {
   "cell_type": "markdown",
   "id": "9cf4d19f",
   "metadata": {},
   "source": [
    "###### 26. Convert a list of strings to a list of integers"
   ]
  },
  {
   "cell_type": "code",
   "execution_count": 90,
   "id": "bedefc81",
   "metadata": {},
   "outputs": [
    {
     "name": "stdout",
     "output_type": "stream",
     "text": [
      "List of string :  ['2', '3', '4', '6', '8', '9', '5']\n",
      "List of integers :  [2, 3, 4, 6, 8, 9, 5]\n"
     ]
    }
   ],
   "source": [
    "str1=['2','3','4','6','8','9','5']\n",
    "print(\"List of string : \",str1)\n",
    "\n",
    "list1=[]\n",
    "\n",
    "for n in str1:\n",
    "    list1.append(int(n))\n",
    "\n",
    "print(\"List of integers : \",list1)    "
   ]
  },
  {
   "cell_type": "markdown",
   "id": "6cb9d5a7",
   "metadata": {},
   "source": [
    "###### 27. Convert a list of integers to a list of strings."
   ]
  },
  {
   "cell_type": "code",
   "execution_count": 93,
   "id": "9440f42a",
   "metadata": {},
   "outputs": [
    {
     "name": "stdout",
     "output_type": "stream",
     "text": [
      "List of integers :  [2, 3, 4, 6, 8, 9, 5]\n",
      "List of string :  ['2', '3', '4', '6', '8', '9', '5']\n"
     ]
    }
   ],
   "source": [
    "list1= [2, 3, 4, 6, 8, 9, 5]\n",
    "print(\"List of integers : \",list1)\n",
    "\n",
    "str1=[]\n",
    "\n",
    "for s in list1:\n",
    "    str1.append(str(s))\n",
    "\n",
    "print(\"List of string : \",str1)   "
   ]
  },
  {
   "cell_type": "markdown",
   "id": "4d624659",
   "metadata": {},
   "source": [
    "###### 28. Flatten a nested list."
   ]
  },
  {
   "cell_type": "code",
   "execution_count": 94,
   "id": "c0a86f1b",
   "metadata": {},
   "outputs": [
    {
     "name": "stdout",
     "output_type": "stream",
     "text": [
      "Nested List :  [2, 3, 4, 5, 6, 7, 8, [9, 10, 11, 12]]\n",
      "Flattened list :  [2, 3, 4, 5, 6, 7, 8, 9, 10, 11, 12]\n"
     ]
    }
   ],
   "source": [
    "list1=[2,3,4,5,6,7,8,[9,10,11,12]]\n",
    "print(\"Nested List : \",list1)\n",
    "\n",
    "for element in list1:\n",
    "    if type(element)==list:\n",
    "        list1.extend(element)\n",
    "        list1.remove(element)\n",
    "\n",
    "print(\"Flattened list : \",list1)"
   ]
  },
  {
   "cell_type": "markdown",
   "id": "4518dddf",
   "metadata": {},
   "source": [
    "###### 29. Create a list of the first 10 Fibonacci numbers."
   ]
  },
  {
   "cell_type": "code",
   "execution_count": 95,
   "id": "19bd82ee",
   "metadata": {},
   "outputs": [
    {
     "name": "stdout",
     "output_type": "stream",
     "text": [
      "First 10 Fibonacci numbers :  [0, 1, 1, 2, 3, 5, 8, 13, 21, 34]\n"
     ]
    }
   ],
   "source": [
    "fibo_list=[0,1]\n",
    "for i in range(8):\n",
    "    fibo_list.append( sum(fibo_list[-2:]) )\n",
    "    \n",
    "print(\"First 10 Fibonacci numbers : \",fibo_list)"
   ]
  },
  {
   "cell_type": "markdown",
   "id": "c2857aac",
   "metadata": {},
   "source": [
    "###### 30. Check if a list is sorted."
   ]
  },
  {
   "cell_type": "code",
   "execution_count": 99,
   "id": "f7594bb6",
   "metadata": {},
   "outputs": [
    {
     "name": "stdout",
     "output_type": "stream",
     "text": [
      "Given list :  [2, 3, 4, 5, 6, 7, 8]\n",
      "Check if sorted\n",
      "List is sorted\n"
     ]
    }
   ],
   "source": [
    "list1=[2,3,4,5,6,7,8]\n",
    "#list1=[5,4,3,3,1]\n",
    "print(\"Given list : \",list1)\n",
    "\n",
    "print(\"Check if sorted\")\n",
    "\n",
    "if list1==sorted(list1) or list1==sorted(list1,reverse=True):\n",
    "    print(\"List is sorted\")\n",
    "    \n",
    "else:\n",
    "    print(\"List is not sorted\")\n"
   ]
  },
  {
   "cell_type": "markdown",
   "id": "97c87089",
   "metadata": {},
   "source": [
    "###### 31. Rotate a list to the left by `n` positions.\n"
   ]
  },
  {
   "cell_type": "code",
   "execution_count": 2,
   "id": "4cdc65a5",
   "metadata": {},
   "outputs": [
    {
     "name": "stdout",
     "output_type": "stream",
     "text": [
      "Original list : [1, 2, 3, 4, 5, 6, 7]\n",
      "list rotate left by 3 : [4, 5, 6, 7, 1, 2, 3]\n"
     ]
    }
   ],
   "source": [
    "from collections import deque\n",
    "\n",
    "list1=[1,2,3,4,5,6,7]\n",
    "n=3\n",
    "\n",
    "list_deque=deque(list1)\n",
    "list_deque.rotate(-n)\n",
    "\n",
    "rotated_list=list(list_deque)\n",
    "\n",
    "print(\"Original list :\",list1)\n",
    "print(\"list rotate left by 3 :\",rotated_list)\n",
    "\n"
   ]
  },
  {
   "cell_type": "markdown",
   "id": "aa5f9091",
   "metadata": {},
   "source": [
    "###### 32. Rotate a list to the right by `n` positions."
   ]
  },
  {
   "cell_type": "code",
   "execution_count": 4,
   "id": "2616dab5",
   "metadata": {},
   "outputs": [
    {
     "name": "stdout",
     "output_type": "stream",
     "text": [
      "Original list : [1, 2, 3, 4, 5, 6, 7]\n",
      "list rotate right by 3 : [5, 6, 7, 1, 2, 3, 4]\n"
     ]
    }
   ],
   "source": [
    "from collections import deque\n",
    "\n",
    "list1=[1,2,3,4,5,6,7]\n",
    "n=3\n",
    "\n",
    "list_deque=deque(list1)\n",
    "list_deque.rotate(n)\n",
    "\n",
    "rotated_list=list(list_deque)\n",
    "\n",
    "print(\"Original list :\",list1)\n",
    "print(\"list rotate right by 3 :\",rotated_list)\n"
   ]
  },
  {
   "cell_type": "markdown",
   "id": "d22679a8",
   "metadata": {},
   "source": [
    "###### 33. Create a list of prime numbers up to 50."
   ]
  },
  {
   "cell_type": "code",
   "execution_count": 14,
   "id": "72ae9241",
   "metadata": {},
   "outputs": [
    {
     "name": "stdout",
     "output_type": "stream",
     "text": [
      "Prime numbers upto 50:  [2, 3, 5, 7, 11, 13, 17, 19, 23, 29, 31, 37, 41, 43, 47]\n"
     ]
    }
   ],
   "source": [
    "import math\n",
    "prime_list=[]\n",
    "for x in range(2,50):\n",
    "    \n",
    "    for i in range(2,round(math.sqrt(x))+1):\n",
    "        if  x!=i and x%i==0 :\n",
    "            break\n",
    "    else:    \n",
    "        prime_list.append(x)\n",
    "           \n",
    "print(\"Prime numbers upto 50: \",prime_list)"
   ]
  },
  {
   "cell_type": "markdown",
   "id": "690c2b28",
   "metadata": {},
   "source": [
    "###### 34. Split a list into chunks of size `n`.\n"
   ]
  },
  {
   "cell_type": "code",
   "execution_count": 21,
   "id": "84d4fe9a",
   "metadata": {},
   "outputs": [
    {
     "name": "stdout",
     "output_type": "stream",
     "text": [
      "List : [1, 2, 3, 4, 5, 6, 7, 8, 9]\n",
      "Chunk Size : 3\n",
      "Splited list :  [[1, 2, 3], [4, 5, 6], [7, 8, 9]]\n"
     ]
    }
   ],
   "source": [
    "list1=[1,2,3,4,5,6,7,8,9]\n",
    "chunk_size=3\n",
    "print(\"List :\",list1)\n",
    "print(\"Chunk Size :\",chunk_size)\n",
    "\n",
    "new_list=[]\n",
    "prev=0\n",
    "for index,x in enumerate(list1,1):\n",
    "    \n",
    "    if index%chunk_size==0:\n",
    "        sub_list=list1[prev:index]\n",
    "        new_list.append(sub_list)\n",
    "        prev=index\n",
    "        \n",
    "print(\"Splited list : \",new_list)    \n"
   ]
  },
  {
   "cell_type": "markdown",
   "id": "e91794ff",
   "metadata": {},
   "source": [
    "###### 35. Find the second largest number in a list"
   ]
  },
  {
   "cell_type": "code",
   "execution_count": 25,
   "id": "9b9f1e15",
   "metadata": {},
   "outputs": [
    {
     "name": "stdout",
     "output_type": "stream",
     "text": [
      "List :  [34, 22, 45, 67, 88, 99, 1, 2, 3, 4, 100, 65, 23, 12, 89]\n",
      "Second largest number in list : 99\n"
     ]
    }
   ],
   "source": [
    "list1=[34,22,45,67,88,99,1,2,3,4,100,65,23,12,89]\n",
    "print(\"List : \",list1)\n",
    "\n",
    "list1.sort()\n",
    "print(\"Second largest number in list :\",list1[-2])\n"
   ]
  },
  {
   "cell_type": "markdown",
   "id": "db997f18",
   "metadata": {},
   "source": [
    "###### 36. Replace every element in a list with its square."
   ]
  },
  {
   "cell_type": "code",
   "execution_count": 26,
   "id": "f7011bdc",
   "metadata": {},
   "outputs": [
    {
     "name": "stdout",
     "output_type": "stream",
     "text": [
      "List :  [1, 2, 3, 4, 5, 6, 7, 8]\n",
      "List of squares :  [1, 4, 9, 16, 25, 36, 49, 64]\n"
     ]
    }
   ],
   "source": [
    "list1=[1,2,3,4,5,6,7,8]\n",
    "print(\"List : \",list1)\n",
    "\n",
    "list1=[x**2 for x in list1]\n",
    "print(\"List of squares : \",list1)\n"
   ]
  },
  {
   "cell_type": "markdown",
   "id": "93a794ff",
   "metadata": {},
   "source": [
    "###### 37. Convert a list to a dictionary where list elements become keys and their indices become values.\n"
   ]
  },
  {
   "cell_type": "code",
   "execution_count": 27,
   "id": "4f3fa001",
   "metadata": {},
   "outputs": [
    {
     "name": "stdout",
     "output_type": "stream",
     "text": [
      "List :  [1, 2, 3, 4, 5, 6, 7, 8]\n",
      "Dictionary from list :  {1: 0, 2: 1, 3: 2, 4: 3, 5: 4, 6: 5, 7: 6, 8: 7}\n"
     ]
    }
   ],
   "source": [
    "list1=[1,2,3,4,5,6,7,8]\n",
    "dict1={}\n",
    "for index,element in enumerate(list1):\n",
    "    dict1[element]=index\n",
    "    \n",
    "print(\"List : \",list1)\n",
    "print(\"Dictionary from list : \",dict1)"
   ]
  },
  {
   "cell_type": "markdown",
   "id": "8b109eb4",
   "metadata": {},
   "source": [
    "###### 38. Shuffle the elements of a list randomly."
   ]
  },
  {
   "cell_type": "code",
   "execution_count": 29,
   "id": "98ca1c7d",
   "metadata": {},
   "outputs": [
    {
     "name": "stdout",
     "output_type": "stream",
     "text": [
      "List :  [1, 2, 3, 4, 5, 6, 7, 8, 9]\n",
      "Randomly shuffled list :  [5, 8, 4, 3, 1, 7, 9, 6, 2]\n"
     ]
    }
   ],
   "source": [
    "import random\n",
    "\n",
    "list1=[1,2,3,4,5,6,7,8,9]\n",
    "\n",
    "print(\"List : \",list1)\n",
    "\n",
    "random.shuffle(list1)\n",
    "\n",
    "print(\"Randomly shuffled list : \",list1)"
   ]
  },
  {
   "cell_type": "markdown",
   "id": "eb5ac132",
   "metadata": {},
   "source": [
    "###### 39. Create a list of the first 10 factorial numbers.\n"
   ]
  },
  {
   "cell_type": "code",
   "execution_count": 33,
   "id": "5cd1a0e4",
   "metadata": {},
   "outputs": [
    {
     "name": "stdout",
     "output_type": "stream",
     "text": [
      "List of the first 10 factorial numbers :  [1, 2, 6, 24, 120, 720, 5040, 40320, 362880, 3628800]\n"
     ]
    }
   ],
   "source": [
    "import numpy as np\n",
    "\n",
    "factorial_list=[]\n",
    "for n in range(1,11):\n",
    "    arr=np.array([i for i in range(1,n+1)])\n",
    "    factorial_list.append(np.prod(arr))\n",
    "    \n",
    "print(\"List of the first 10 factorial numbers : \",factorial_list)"
   ]
  },
  {
   "cell_type": "markdown",
   "id": "2e48ddc7",
   "metadata": {},
   "source": [
    "###### 40. Check if two lists have at least one element in common.\n"
   ]
  },
  {
   "cell_type": "code",
   "execution_count": 35,
   "id": "7bdf391e",
   "metadata": {},
   "outputs": [
    {
     "name": "stdout",
     "output_type": "stream",
     "text": [
      "List1 :  [1, 2, 3, 4, 5, 6, 7]\n",
      "List2 :  [6, 7, 8, 9, 10, 11, 12]\n",
      "Result : Given Two lists have at least one element in common\n"
     ]
    }
   ],
   "source": [
    "list1=[1,2,3,4,5,6,7]\n",
    "list2=[6,7,8,9,10,11,12]\n",
    "\n",
    "print(\"List1 : \",list1)\n",
    "print(\"List2 : \",list2)\n",
    "\n",
    "has_common_element=False\n",
    "\n",
    "for ele in list1:\n",
    "    if ele in list2:\n",
    "        has_common_element=True\n",
    "        break\n",
    "        \n",
    "if has_common_element:\n",
    "    print(\"Result : Given Two lists have at least one element in common\")\n",
    "    \n",
    "else:\n",
    "    print(\"Result : Given Two lists do not have any common element\")"
   ]
  },
  {
   "cell_type": "markdown",
   "id": "7874f90b",
   "metadata": {},
   "source": [
    "###### 41. Remove all elements from a list."
   ]
  },
  {
   "cell_type": "code",
   "execution_count": 37,
   "id": "f0e42eeb",
   "metadata": {},
   "outputs": [
    {
     "name": "stdout",
     "output_type": "stream",
     "text": [
      "List1 :  [1, 2, 3, 4, 5, 6, 7]\n",
      "After removing all elements from List :  []\n"
     ]
    }
   ],
   "source": [
    "list1=[1,2,3,4,5,6,7]\n",
    "print(\"List1 : \",list1)\n",
    "\n",
    "# Removing all elements from list\n",
    "list1.clear()\n",
    "\n",
    "print(\"After removing all elements from List : \",list1)"
   ]
  },
  {
   "cell_type": "markdown",
   "id": "9e149cb5",
   "metadata": {},
   "source": [
    "###### 42. Replace negative numbers in a list with 0.\n"
   ]
  },
  {
   "cell_type": "code",
   "execution_count": 38,
   "id": "64e7d492",
   "metadata": {},
   "outputs": [
    {
     "name": "stdout",
     "output_type": "stream",
     "text": [
      "List :  [-2, -3, 4, 5, 6, -7, 8, 9, 10, -11]\n",
      "After replacing negative numbers with zero :  [0, 0, 4, 5, 6, 0, 8, 9, 10, 0]\n"
     ]
    }
   ],
   "source": [
    "list1=[-2,-3,4,5,6,-7,8,9,10,-11]\n",
    "print(\"List : \",list1)\n",
    "for index,x in enumerate(list1):\n",
    "    if x<0:\n",
    "        list1[index]=0\n",
    "        \n",
    "print(\"After replacing negative numbers with zero : \",list1)\n",
    "    "
   ]
  },
  {
   "cell_type": "markdown",
   "id": "abc36833",
   "metadata": {},
   "source": [
    "###### 43. Convert a string into a list of words."
   ]
  },
  {
   "cell_type": "code",
   "execution_count": 39,
   "id": "b298eee2",
   "metadata": {},
   "outputs": [
    {
     "name": "stdout",
     "output_type": "stream",
     "text": [
      "String :  Humpty Dumpty sat on a wall\n",
      "List of words from string :  ['Humpty', 'Dumpty', 'sat', 'on', 'a', 'wall']\n"
     ]
    }
   ],
   "source": [
    "str1=\"Humpty Dumpty sat on a wall\"\n",
    "print(\"String : \",str1)\n",
    "\n",
    "print(\"List of words from string : \",str1.split())"
   ]
  },
  {
   "cell_type": "markdown",
   "id": "890d2989",
   "metadata": {},
   "source": [
    "###### 44. Convert a list of words into a string.\n"
   ]
  },
  {
   "cell_type": "code",
   "execution_count": 41,
   "id": "d47748ae",
   "metadata": {},
   "outputs": [
    {
     "name": "stdout",
     "output_type": "stream",
     "text": [
      "List of words :  ['Twinkle', 'twinkle', 'little', 'star']\n",
      "String from list of words :  Twinkle twinkle little star\n"
     ]
    }
   ],
   "source": [
    "list_words=[\"Twinkle\",\"twinkle\",\"little\",\"star\"]\n",
    "\n",
    "print(\"List of words : \",list_words)\n",
    "\n",
    "print(\"String from list of words : \",' '.join(list_words))"
   ]
  },
  {
   "cell_type": "markdown",
   "id": "168dc6b8",
   "metadata": {},
   "source": [
    "###### 45. Create a list of the first `n` powers of 2."
   ]
  },
  {
   "cell_type": "code",
   "execution_count": 43,
   "id": "ebc83a60",
   "metadata": {},
   "outputs": [
    {
     "name": "stdout",
     "output_type": "stream",
     "text": [
      "Enter non-negative value for n : 10\n",
      "First 10 powers of 2 :   [1, 2, 4, 8, 16, 32, 64, 128, 256, 512]\n"
     ]
    }
   ],
   "source": [
    "n=int(input(\"Enter non-negative value for n : \"))\n",
    "\n",
    "list_first_n_powers=[2**i for i in range(n)]\n",
    "\n",
    "print(\"First\",n,\"powers of 2 :  \",list_first_n_powers)"
   ]
  },
  {
   "cell_type": "markdown",
   "id": "07c9353f",
   "metadata": {},
   "source": [
    "###### 46. Find the longest string in a list of strings.\n"
   ]
  },
  {
   "cell_type": "code",
   "execution_count": 10,
   "id": "36af0753",
   "metadata": {},
   "outputs": [
    {
     "name": "stdout",
     "output_type": "stream",
     "text": [
      "List of strings :  ['A', 'bird', 'in', 'hand', 'is', 'worth', 'two', 'bush']\n",
      "Longest strings in a list of strings :  ['worth'] with length  5\n"
     ]
    }
   ],
   "source": [
    "list_strings=[\"A\",\"bird\",\"in\",\"hand\",\"is\",\"worth\",\"two\",\"bush\"]\n",
    "print(\"List of strings : \",list_strings)\n",
    "\n",
    "max_dict={}\n",
    "\n",
    "for s in list_strings:\n",
    "    if len(s) not in max_dict:\n",
    "        max_dict[len(s)]=[s]\n",
    "        \n",
    "    else:\n",
    "        max_dict[len(s)].append(s)\n",
    "        \n",
    "print(\"Longest strings in a list of strings : \",max_dict[max(max_dict.keys())] ,\"with length \",max(max_dict.keys()))\n",
    "        "
   ]
  },
  {
   "cell_type": "markdown",
   "id": "6798f4dd",
   "metadata": {},
   "source": [
    "###### 47. Find the shortest string in a list of strings."
   ]
  },
  {
   "cell_type": "code",
   "execution_count": 13,
   "id": "1f643a66",
   "metadata": {},
   "outputs": [
    {
     "name": "stdout",
     "output_type": "stream",
     "text": [
      "shortest strings in a list of strings :  ['A'] with length  1\n"
     ]
    }
   ],
   "source": [
    "list_strings=[\"A\",\"bird\",\"in\",\"hand\",\"is\",\"worth\",\"two\",\"bush\"]\n",
    "min_dict={}\n",
    "\n",
    "for s in list_strings:\n",
    "    if len(s) not in min_dict:\n",
    "        min_dict[len(s)]=[s]\n",
    "        \n",
    "    else:\n",
    "        min_dict[len(s)].append(s)\n",
    "        \n",
    "print(\"shortest strings in a list of strings : \",min_dict[min(min_dict.keys())] ,\"with length \",min(min_dict.keys()))"
   ]
  },
  {
   "cell_type": "markdown",
   "id": "08f85871",
   "metadata": {},
   "source": [
    "###### 48. Create a list of the first `n` triangular numbers"
   ]
  },
  {
   "cell_type": "code",
   "execution_count": 56,
   "id": "c6909484",
   "metadata": {},
   "outputs": [
    {
     "name": "stdout",
     "output_type": "stream",
     "text": [
      "Enter value for n : 10\n",
      "First 10 triangular numbers :  [1, 3, 6, 10, 15, 21, 28, 36, 45, 55]\n"
     ]
    }
   ],
   "source": [
    "n=int(input(\"Enter value for n : \"))\n",
    "triangular_num=[]\n",
    "list_vals=[]\n",
    "\n",
    "for x in range(1,n+1):\n",
    "    list_vals.append(x)\n",
    "    triangular_num.append(sum(list_vals))\n",
    "\n",
    "print(f\"First {n} triangular numbers : \",triangular_num)\n"
   ]
  },
  {
   "cell_type": "markdown",
   "id": "fe82804e",
   "metadata": {},
   "source": [
    "###### 49. Check if a list contains another list as a subsequence."
   ]
  },
  {
   "cell_type": "code",
   "execution_count": 62,
   "id": "a16c9681",
   "metadata": {},
   "outputs": [
    {
     "name": "stdout",
     "output_type": "stream",
     "text": [
      "List 1 :  [1, 2, 3, 4, 5, 6, 7, 8, 9, 10]\n",
      "List 2 :  [6, 7, 8]\n",
      "List2 is subsequence of list1\n"
     ]
    }
   ],
   "source": [
    "list1=[1,2,3,4,5,6,7,8,9,10]\n",
    "list2=[6,7,8]\n",
    "temp=[]\n",
    "print(\"List 1 : \",list1)\n",
    "print(\"List 2 : \",list2)\n",
    "\n",
    "for x in list2:\n",
    "    for y in list1:\n",
    "        if x==y:\n",
    "            temp.append(x)\n",
    "    \n",
    "    \n",
    "if temp==list2:\n",
    "    print(\"List2 is subsequence of list1\")\n",
    "    \n",
    "else:\n",
    "    print(\"List2 is not a subsequence of list1\")"
   ]
  },
  {
   "cell_type": "markdown",
   "id": "74a3483e",
   "metadata": {},
   "source": [
    "###### 50. Swap two elements in a list by their indices."
   ]
  },
  {
   "cell_type": "code",
   "execution_count": 66,
   "id": "25d45758",
   "metadata": {},
   "outputs": [
    {
     "name": "stdout",
     "output_type": "stream",
     "text": [
      "List1 :  [34, 35, 6, 78, 98, 87]\n",
      "After swapping positions 1 and 3 :  [6, 35, 34, 78, 98, 87]\n"
     ]
    }
   ],
   "source": [
    "list1=[34,35,6,78,98,87]\n",
    "print(\"List1 : \",list1)\n",
    "pos1=1\n",
    "pos2=3\n",
    "list1[pos1-1],list1[pos2-1]=list1[pos2-1],list1[pos1-1]\n",
    "\n",
    "print(f\"After swapping positions {pos1} and {pos2} : \",list1)\n"
   ]
  },
  {
   "cell_type": "code",
   "execution_count": null,
   "id": "96c53ce3",
   "metadata": {},
   "outputs": [],
   "source": []
  },
  {
   "cell_type": "markdown",
   "id": "f7dd9c17",
   "metadata": {},
   "source": [
    "### TOPIC: Tuple Based Practice Problem"
   ]
  },
  {
   "cell_type": "markdown",
   "id": "b75d0bd5",
   "metadata": {},
   "source": [
    "###### 1. Create a tuple with integers from 1 to 5."
   ]
  },
  {
   "cell_type": "code",
   "execution_count": 50,
   "id": "09ef0f0f",
   "metadata": {},
   "outputs": [
    {
     "name": "stdout",
     "output_type": "stream",
     "text": [
      "<class 'tuple'>\n",
      "(1, 2, 3, 4, 5)\n"
     ]
    }
   ],
   "source": [
    "t= tuple([1,2,3,4,5])\n",
    "print(type(t))\n",
    "print(t)\n"
   ]
  },
  {
   "cell_type": "markdown",
   "id": "f6b59343",
   "metadata": {},
   "source": [
    "###### 2. Access the third element of a tuple."
   ]
  },
  {
   "cell_type": "code",
   "execution_count": 53,
   "id": "9ca94fbf",
   "metadata": {},
   "outputs": [
    {
     "name": "stdout",
     "output_type": "stream",
     "text": [
      "Tuple :  (1, 2, 3, 4, 5, 6, 7, 8, 9, 10)\n",
      "Third element of tuple is :  3\n"
     ]
    }
   ],
   "source": [
    "t=tuple(range(1,11))\n",
    "print(\"Tuple : \",t)\n",
    "print(\"Third element of tuple is : \",t[2])"
   ]
  },
  {
   "cell_type": "markdown",
   "id": "a86c59b6",
   "metadata": {},
   "source": [
    "###### 3. Find the length of a tuple without using the `len()` function."
   ]
  },
  {
   "cell_type": "code",
   "execution_count": 54,
   "id": "03ed380d",
   "metadata": {},
   "outputs": [
    {
     "name": "stdout",
     "output_type": "stream",
     "text": [
      "Tuple :  (1, 2, 3, 4, 5, 6, 7, 8, 9, 10)\n",
      "Length of tuple is :  10\n"
     ]
    }
   ],
   "source": [
    "t=tuple(range(1,11))\n",
    "print(\"Tuple : \",t)\n",
    "print(\"Length of tuple is : \",len(t))"
   ]
  },
  {
   "cell_type": "markdown",
   "id": "faeca5d2",
   "metadata": {},
   "source": [
    "###### 4. Count the occurrences of an element in a tuple.\n"
   ]
  },
  {
   "cell_type": "code",
   "execution_count": 55,
   "id": "73e2f27c",
   "metadata": {},
   "outputs": [
    {
     "name": "stdout",
     "output_type": "stream",
     "text": [
      "Tuple :  (1, 2, 3, 5, 5, 5, 5, 5, 5, 5, 5, 3, 4, 4, 5)\n",
      "Count of occurances of 5 in the tuple 9\n"
     ]
    }
   ],
   "source": [
    "tuple_a =(1,2,3,5,5,5,5,5,5,5,5,3,4,4,5)\n",
    "print(\"Tuple : \",tuple_a)\n",
    "print(\"Count of occurances of 5 in the tuple\",tuple_a.count(5))"
   ]
  },
  {
   "cell_type": "markdown",
   "id": "088d5fe2",
   "metadata": {},
   "source": [
    "###### 5. Find the index of the first occurrence of an element in a tuple.\n"
   ]
  },
  {
   "cell_type": "code",
   "execution_count": 56,
   "id": "e98967ce",
   "metadata": {},
   "outputs": [
    {
     "name": "stdout",
     "output_type": "stream",
     "text": [
      "Tuple :  (1, 2, 3, 5, 5, 5, 5, 5, 5, 5, 5, 3, 4, 4, 5)\n",
      "index of first occurance of 5 is : 3\n"
     ]
    }
   ],
   "source": [
    "tuple_a =(1,2,3,5,5,5,5,5,5,5,5,3,4,4,5)\n",
    "print(\"Tuple : \",tuple_a)\n",
    "print(\"index of first occurance of 5 is :\",tuple_a.index(5))"
   ]
  },
  {
   "cell_type": "markdown",
   "id": "76a90a0a",
   "metadata": {},
   "source": [
    "###### 6. Check if an element exists in a tuple."
   ]
  },
  {
   "cell_type": "code",
   "execution_count": 57,
   "id": "37793053",
   "metadata": {},
   "outputs": [
    {
     "name": "stdout",
     "output_type": "stream",
     "text": [
      "Tuple :  (1, 2, 3, 5, 5, 5, 5, 5, 5, 5, 5, 3, 4, 4, 5)\n",
      "2 exists in the tuple\n"
     ]
    }
   ],
   "source": [
    "tuple_a =(1,2,3,5,5,5,5,5,5,5,5,3,4,4,5)\n",
    "print(\"Tuple : \",tuple_a)\n",
    "\n",
    "if 2 in tuple_a:\n",
    "    print(\"2 exists in the tuple\")\n",
    "else:\n",
    "    print(\"2 does not exist in the tuple\")"
   ]
  },
  {
   "cell_type": "markdown",
   "id": "8d8de38c",
   "metadata": {},
   "source": [
    "###### 7. Convert a tuple to a list.\n"
   ]
  },
  {
   "cell_type": "code",
   "execution_count": 58,
   "id": "161ba922",
   "metadata": {},
   "outputs": [
    {
     "name": "stdout",
     "output_type": "stream",
     "text": [
      "Tuple :  (1, 2, 3, 5, 5, 5, 5, 5, 5, 5, 5, 3, 4, 4, 5)\n",
      "List :  [1, 2, 3, 5, 5, 5, 5, 5, 5, 5, 5, 3, 4, 4, 5]\n"
     ]
    }
   ],
   "source": [
    "tuple_a =(1,2,3,5,5,5,5,5,5,5,5,3,4,4,5)\n",
    "print(\"Tuple : \",tuple_a)\n",
    "\n",
    "#convert tuple to list\n",
    "list_a=list(tuple_a)\n",
    "\n",
    "print(\"List : \",list_a)"
   ]
  },
  {
   "cell_type": "markdown",
   "id": "ea3c62c8",
   "metadata": {},
   "source": [
    "###### 8. Convert a list to a tuple"
   ]
  },
  {
   "cell_type": "code",
   "execution_count": 59,
   "id": "67fd6e63",
   "metadata": {},
   "outputs": [
    {
     "name": "stdout",
     "output_type": "stream",
     "text": [
      "List :  [1, 2, 3, 4, 5]\n",
      "Tuple :  (1, 2, 3, 4, 5)\n"
     ]
    }
   ],
   "source": [
    "list_b=[1,2,3,4,5]\n",
    "print(\"List : \",list_b)\n",
    "\n",
    "#Convert list to Tuple\n",
    "tuple_b=tuple(list_b)\n",
    "\n",
    "print(\"Tuple : \",tuple_b)\n",
    "\n"
   ]
  },
  {
   "cell_type": "markdown",
   "id": "c5e8576b",
   "metadata": {},
   "source": [
    "###### 9. Unpack the elements of a tuple into variables"
   ]
  },
  {
   "cell_type": "code",
   "execution_count": 63,
   "id": "229efa13",
   "metadata": {},
   "outputs": [
    {
     "name": "stdout",
     "output_type": "stream",
     "text": [
      "Tuple :  (5, 6, 7, 8, 9, 0)\n",
      "Variables :  5 6 7 8 9 0\n"
     ]
    }
   ],
   "source": [
    "tuple_c=(5,6,7,8,9,0)\n",
    "print(\"Tuple : \",tuple_c)\n",
    "\n",
    "x1,x2,x3,x4,x5,x6=tuple_c\n",
    "\n",
    "print(\"Variables : \",x1,x2,x3,x4,x5,x6)\n"
   ]
  },
  {
   "cell_type": "markdown",
   "id": "bb627b14",
   "metadata": {},
   "source": [
    "###### 10. Create a tuple of even numbers from 1 to 10."
   ]
  },
  {
   "cell_type": "code",
   "execution_count": 65,
   "id": "ba9c03dd",
   "metadata": {},
   "outputs": [
    {
     "name": "stdout",
     "output_type": "stream",
     "text": [
      "Tuple of even numbers from 1 to 10:  (2, 4, 6, 8, 10)\n"
     ]
    }
   ],
   "source": [
    "tuple_even=tuple([x for x in range(1,11) if x%2==0])\n",
    "print(\"Tuple of even numbers from 1 to 10: \",tuple_even)"
   ]
  },
  {
   "cell_type": "markdown",
   "id": "306d17ea",
   "metadata": {},
   "source": [
    "###### 11. Create a tuple of odd numbers from 1 to 10.\n"
   ]
  },
  {
   "cell_type": "code",
   "execution_count": 54,
   "id": "dd78bcc5",
   "metadata": {},
   "outputs": [
    {
     "name": "stdout",
     "output_type": "stream",
     "text": [
      "Tuple of even numbers from 1 to 10:  (1, 3, 5, 7, 9)\n"
     ]
    }
   ],
   "source": [
    "tuple_odd=tuple([x for x in range(1,11) if x%2!=0])\n",
    "print(\"Tuple of even numbers from 1 to 10: \",tuple_odd)"
   ]
  },
  {
   "cell_type": "markdown",
   "id": "c14c322e",
   "metadata": {},
   "source": [
    "###### 12. Concatenate two tuples.\n"
   ]
  },
  {
   "cell_type": "code",
   "execution_count": 55,
   "id": "62a94b49",
   "metadata": {},
   "outputs": [
    {
     "name": "stdout",
     "output_type": "stream",
     "text": [
      "Tuple1 :  (1, 2, 3, 4, 5, 6, 7)\n",
      "Tuple2 :  (8, 9, 10, 11, 12, 13, 14, 15, 16, 17, 18, 19, 20)\n",
      "Concatenation of tuples :  (1, 2, 3, 4, 5, 6, 7, 8, 9, 10, 11, 12, 13, 14, 15, 16, 17, 18, 19, 20)\n"
     ]
    }
   ],
   "source": [
    "tuple1=(1,2,3,4,5,6,7)\n",
    "tuple2=(8,9,10,11,12,13,14,15,16,17,18,19,20)\n",
    "\n",
    "print(\"Tuple1 : \",tuple1)\n",
    "print(\"Tuple2 : \",tuple2)\n",
    "\n",
    "print(\"Concatenation of tuples : \",tuple1+tuple2)"
   ]
  },
  {
   "cell_type": "markdown",
   "id": "99ef927d",
   "metadata": {},
   "source": [
    "###### 13. Repeat a tuple three times.\n"
   ]
  },
  {
   "cell_type": "code",
   "execution_count": 56,
   "id": "1177ede6",
   "metadata": {},
   "outputs": [
    {
     "name": "stdout",
     "output_type": "stream",
     "text": [
      "Tuple  (1, 2, 3, 4, 5)\n",
      "Tuple repeated 3 times :  (1, 2, 3, 4, 5, 1, 2, 3, 4, 5, 1, 2, 3, 4, 5)\n"
     ]
    }
   ],
   "source": [
    "tuple_a= (1,2,3,4,5)\n",
    "\n",
    "print(\"Tuple \",tuple_a)\n",
    "\n",
    "print(\"Tuple repeated 3 times : \",tuple_a*3)"
   ]
  },
  {
   "cell_type": "markdown",
   "id": "67c91e29",
   "metadata": {},
   "source": [
    "###### 14. Check if a tuple is empty"
   ]
  },
  {
   "cell_type": "code",
   "execution_count": 19,
   "id": "af7f5c0f",
   "metadata": {},
   "outputs": [
    {
     "name": "stdout",
     "output_type": "stream",
     "text": [
      "Given tuple is empty\n"
     ]
    }
   ],
   "source": [
    "tuple_a =tuple()\n",
    "\n",
    "if not tuple_a:\n",
    "    print(\"Given tuple is empty\")\n",
    "    \n",
    "else:\n",
    "    print(\"Given tuple is not empty\")"
   ]
  },
  {
   "cell_type": "markdown",
   "id": "9d78fc89",
   "metadata": {},
   "source": [
    "###### 15. Create a nested tuple."
   ]
  },
  {
   "cell_type": "code",
   "execution_count": 59,
   "id": "24a9bf93",
   "metadata": {},
   "outputs": [
    {
     "name": "stdout",
     "output_type": "stream",
     "text": [
      "Nested tuple :  ('cat', 'parrot', (1, 2, 3, 4, 5, (55, 66, 77, 88, 99)))\n"
     ]
    }
   ],
   "source": [
    "tuple_a=(\"cat\",\"parrot\",(1,2,3,4,5,(55,66,77,88,99)))\n",
    "\n",
    "print(\"Nested tuple : \",tuple_a)"
   ]
  },
  {
   "cell_type": "markdown",
   "id": "ba7def6a",
   "metadata": {},
   "source": [
    "###### 16. Access the first element of a nested tuple."
   ]
  },
  {
   "cell_type": "code",
   "execution_count": 60,
   "id": "4b7d8611",
   "metadata": {},
   "outputs": [
    {
     "name": "stdout",
     "output_type": "stream",
     "text": [
      "Tuple : ('cat', 'parrot', (1, 2, 3, 4, 5, (55, 66, 77, 88, 99)))\n",
      "First element of nested tuple:  1\n"
     ]
    }
   ],
   "source": [
    "tuple_a=(\"cat\",\"parrot\",(1,2,3,4,5,(55,66,77,88,99)))\n",
    "print(\"Tuple :\",tuple_a)\n",
    "\n",
    "print(\"First element of nested tuple: \",tuple_a[2][0])"
   ]
  },
  {
   "cell_type": "markdown",
   "id": "d9dc49e0",
   "metadata": {},
   "source": [
    "###### 17. Create a tuple with a single element."
   ]
  },
  {
   "cell_type": "code",
   "execution_count": 61,
   "id": "37d675d5",
   "metadata": {},
   "outputs": [
    {
     "name": "stdout",
     "output_type": "stream",
     "text": [
      "Tuple with single element :  (1,)\n"
     ]
    }
   ],
   "source": [
    "print(\"Tuple with single element : \",(1,))"
   ]
  },
  {
   "cell_type": "markdown",
   "id": "e493e67f",
   "metadata": {},
   "source": [
    "###### 18. Compare two tuples.\n"
   ]
  },
  {
   "cell_type": "code",
   "execution_count": 62,
   "id": "d70b9a27",
   "metadata": {},
   "outputs": [
    {
     "name": "stdout",
     "output_type": "stream",
     "text": [
      "Tuples are equal\n"
     ]
    }
   ],
   "source": [
    "tuple_a=(1,2,3,4,5)\n",
    "tuple_b=(1,2,3,4,5)\n",
    "\n",
    "if tuple_a==tuple_b:\n",
    "    print(\"Tuples are equal\")\n",
    "else:\n",
    "    print(\"Tuples are not equal\")"
   ]
  },
  {
   "cell_type": "markdown",
   "id": "07da0ed3",
   "metadata": {},
   "source": [
    "###### 19. Delete a tuple."
   ]
  },
  {
   "cell_type": "code",
   "execution_count": 63,
   "id": "2db0e91b",
   "metadata": {},
   "outputs": [
    {
     "name": "stdout",
     "output_type": "stream",
     "text": [
      "Tuple :  (1, 2, 3, 4, 5)\n"
     ]
    },
    {
     "ename": "NameError",
     "evalue": "name 'tuple_a' is not defined",
     "output_type": "error",
     "traceback": [
      "\u001b[1;31m---------------------------------------------------------------------------\u001b[0m",
      "\u001b[1;31mNameError\u001b[0m                                 Traceback (most recent call last)",
      "Input \u001b[1;32mIn [63]\u001b[0m, in \u001b[0;36m<cell line: 6>\u001b[1;34m()\u001b[0m\n\u001b[0;32m      2\u001b[0m \u001b[38;5;28mprint\u001b[39m(\u001b[38;5;124m\"\u001b[39m\u001b[38;5;124mTuple : \u001b[39m\u001b[38;5;124m\"\u001b[39m,tuple_a)\n\u001b[0;32m      4\u001b[0m \u001b[38;5;28;01mdel\u001b[39;00m tuple_a\n\u001b[1;32m----> 6\u001b[0m \u001b[38;5;28mprint\u001b[39m(\u001b[38;5;124m\"\u001b[39m\u001b[38;5;124mAfter deleting tuple : \u001b[39m\u001b[38;5;124m\"\u001b[39m,\u001b[43mtuple_a\u001b[49m)\n",
      "\u001b[1;31mNameError\u001b[0m: name 'tuple_a' is not defined"
     ]
    }
   ],
   "source": [
    "tuple_a=(1,2,3,4,5)\n",
    "print(\"Tuple : \",tuple_a)\n",
    "\n",
    "del tuple_a\n",
    "\n",
    "print(\"After deleting tuple : \",tuple_a)"
   ]
  },
  {
   "cell_type": "markdown",
   "id": "02a4b359",
   "metadata": {},
   "source": [
    "###### 20. Slice a tuple.\n"
   ]
  },
  {
   "cell_type": "code",
   "execution_count": 64,
   "id": "5edbc533",
   "metadata": {},
   "outputs": [
    {
     "name": "stdout",
     "output_type": "stream",
     "text": [
      "Tuple :  (1, 2, 3, 4, 5, 6, 7, 8, 9, 10)\n",
      "Slice elements from third element to fifth element (3, 4, 5)\n"
     ]
    }
   ],
   "source": [
    "tuple_a=(1,2,3,4,5,6,7,8,9,10)\n",
    "print(\"Tuple : \",tuple_a)\n",
    "print(\"Slice elements from third element to fifth element\",tuple_a[2:5])"
   ]
  },
  {
   "cell_type": "markdown",
   "id": "5c9fb889",
   "metadata": {},
   "source": [
    "###### 21. Find the maximum value in a tuple.\n"
   ]
  },
  {
   "cell_type": "code",
   "execution_count": 1,
   "id": "de858b8b",
   "metadata": {},
   "outputs": [
    {
     "name": "stdout",
     "output_type": "stream",
     "text": [
      "Tuple :  (34, 23, 12, 56, 76, 89, 24)\n",
      "Maximum value in tuple 89\n"
     ]
    }
   ],
   "source": [
    "tuple_a=(34,23,12,56,76,89,24)\n",
    "print(\"Tuple : \", tuple_a)\n",
    "print(\"Maximum value in tuple\",max(tuple_a))"
   ]
  },
  {
   "cell_type": "markdown",
   "id": "50b59cec",
   "metadata": {},
   "source": [
    "###### 22. Find the minimum value in a tuple."
   ]
  },
  {
   "cell_type": "code",
   "execution_count": 2,
   "id": "aaf73e5f",
   "metadata": {},
   "outputs": [
    {
     "name": "stdout",
     "output_type": "stream",
     "text": [
      "Tuple :  (34, 23, 12, 56, 76, 89, 24)\n",
      "Minimum value in tuple 12\n"
     ]
    }
   ],
   "source": [
    "tuple_a=(34,23,12,56,76,89,24)\n",
    "print(\"Tuple : \", tuple_a)\n",
    "print(\"Minimum value in tuple\",min(tuple_a))"
   ]
  },
  {
   "cell_type": "markdown",
   "id": "d5d5d038",
   "metadata": {},
   "source": [
    "###### 23. Convert a string to a tuple of characters.\n"
   ]
  },
  {
   "cell_type": "code",
   "execution_count": 4,
   "id": "3a861bff",
   "metadata": {},
   "outputs": [
    {
     "name": "stdout",
     "output_type": "stream",
     "text": [
      "String : Monday\n",
      "Tuple of characters :  ('M', 'o', 'n', 'd', 'a', 'y')\n"
     ]
    }
   ],
   "source": [
    "s=\"Monday\"\n",
    "print(\"String :\",s)\n",
    "list_chars=[]\n",
    "for char in s:\n",
    "    list_chars.append(char)\n",
    "    \n",
    "print(\"Tuple of characters : \",tuple(list_chars))"
   ]
  },
  {
   "cell_type": "markdown",
   "id": "e4a08eb9",
   "metadata": {},
   "source": [
    "###### 24. Convert a tuple of characters to a string."
   ]
  },
  {
   "cell_type": "code",
   "execution_count": 6,
   "id": "60c04504",
   "metadata": {},
   "outputs": [
    {
     "name": "stdout",
     "output_type": "stream",
     "text": [
      "Tuple of characters :  ('J', 'a', 'n', 'u', 'a', 'r', 'y')\n",
      "String from tuple of characters :  January\n"
     ]
    }
   ],
   "source": [
    "tuple_chars=('J','a','n','u','a','r','y')\n",
    "print(\"Tuple of characters : \",tuple_chars)\n",
    "\n",
    "print(\"String from tuple of characters : \",''.join(tuple_chars))"
   ]
  },
  {
   "cell_type": "markdown",
   "id": "5aa3aee0",
   "metadata": {},
   "source": [
    "###### 25. Create a tuple from multiple data types."
   ]
  },
  {
   "cell_type": "code",
   "execution_count": 8,
   "id": "76faf56c",
   "metadata": {},
   "outputs": [
    {
     "name": "stdout",
     "output_type": "stream",
     "text": [
      "Tuple of multiple data types :  (10, 'Today', 234.99, (34+6j), [1, 2, 3, 4, 5], {'a': 1, 'b': 2}, {1, 2, 3, 4, 5})\n"
     ]
    }
   ],
   "source": [
    "int_n=10\n",
    "s=\"Today\"\n",
    "f=234.99\n",
    "flag=True\n",
    "c=34+6j\n",
    "list_l=[1,2,3,4,5]\n",
    "dict1={'a':1,'b':2}\n",
    "set_s={1,2,3,4,5}\n",
    "\n",
    "\n",
    "tuple_multiple_data_types=(int_n,s,f,c,list_l,dict1,set_s)\n",
    "print(\"Tuple of multiple data types : \",tuple_multiple_data_types)"
   ]
  },
  {
   "cell_type": "markdown",
   "id": "e05bb0df",
   "metadata": {},
   "source": [
    "###### 26. Check if two tuples are identical."
   ]
  },
  {
   "cell_type": "code",
   "execution_count": 9,
   "id": "b1ddcbc4",
   "metadata": {},
   "outputs": [
    {
     "name": "stdout",
     "output_type": "stream",
     "text": [
      "Given tuples are identical\n"
     ]
    }
   ],
   "source": [
    "tuple_a=(1,2,3,4,5)\n",
    "tuple_b=(1,2,3,4,5)\n",
    "\n",
    "if tuple_a==tuple_b:\n",
    "    print(\"Given tuples are identical\")\n",
    "    \n",
    "else:\n",
    "    print(\"Given tuples are not identical\")"
   ]
  },
  {
   "cell_type": "markdown",
   "id": "5c866a3a",
   "metadata": {},
   "source": [
    "###### 27. Sort the elements of a tuple.\n"
   ]
  },
  {
   "cell_type": "code",
   "execution_count": 12,
   "id": "1d3aabbd",
   "metadata": {},
   "outputs": [
    {
     "name": "stdout",
     "output_type": "stream",
     "text": [
      "Tuple :  (34, 23, 12, 56, 76, 89, 24)\n",
      "Sorted tuple:  (12, 23, 24, 34, 56, 76, 89)\n"
     ]
    }
   ],
   "source": [
    "tuple_a=(34,23,12,56,76,89,24)\n",
    "print(\"Tuple : \",tuple_a)\n",
    "\n",
    "print(\"Sorted tuple: \",tuple(sorted(tuple_a)))"
   ]
  },
  {
   "cell_type": "markdown",
   "id": "8455fbd3",
   "metadata": {},
   "source": [
    "###### 28. Convert a tuple of integers to a tuple of strings.\n"
   ]
  },
  {
   "cell_type": "code",
   "execution_count": 13,
   "id": "e5716a4e",
   "metadata": {},
   "outputs": [
    {
     "name": "stdout",
     "output_type": "stream",
     "text": [
      "Tuple of integers :  (34, 23, 12, 56, 76, 89, 24)\n",
      "Tuple of strings :  ('34', '23', '12', '56', '76', '89', '24')\n"
     ]
    }
   ],
   "source": [
    "tuple_a=(34,23,12,56,76,89,24)\n",
    "print(\"Tuple of integers : \",tuple_a)\n",
    "print(\"Tuple of strings : \",tuple([ str(x) for x in tuple_a]))"
   ]
  },
  {
   "cell_type": "markdown",
   "id": "bb3a49f8",
   "metadata": {},
   "source": [
    "###### 29. Convert a tuple of strings to a tuple of integers."
   ]
  },
  {
   "cell_type": "code",
   "execution_count": 14,
   "id": "8bbafa06",
   "metadata": {},
   "outputs": [
    {
     "name": "stdout",
     "output_type": "stream",
     "text": [
      "Tuple of strings :  ('1', '2', '3', '4', '5')\n",
      "Tuple of integers :  (1, 2, 3, 4, 5)\n"
     ]
    }
   ],
   "source": [
    "tuple_s=('1','2','3','4','5')\n",
    "print(\"Tuple of strings : \",tuple_s)\n",
    "print(\"Tuple of integers : \",tuple([int(x) for x in tuple_s]))\n"
   ]
  },
  {
   "cell_type": "markdown",
   "id": "8f42dd49",
   "metadata": {},
   "source": [
    "###### 30. Merge two tuples.\n"
   ]
  },
  {
   "cell_type": "code",
   "execution_count": 15,
   "id": "aabdd377",
   "metadata": {},
   "outputs": [
    {
     "name": "stdout",
     "output_type": "stream",
     "text": [
      "Tuple a  (1, 2, 3, 4, 5)\n",
      "Tuple b  (11, 12, 13, 14, 15)\n",
      "Merged Tuple :  (1, 2, 3, 4, 5, 11, 12, 13, 14, 15)\n"
     ]
    }
   ],
   "source": [
    "tuple_a=(1,2,3,4,5)\n",
    "tuple_b=(11,12,13,14,15)\n",
    "\n",
    "print(\"Tuple a \",tuple_a)\n",
    "print(\"Tuple b \",tuple_b)\n",
    "\n",
    "print(\"Merged Tuple : \",tuple_a+tuple_b)"
   ]
  },
  {
   "cell_type": "markdown",
   "id": "9edeaeef",
   "metadata": {},
   "source": [
    "###### 31. Flatten a nested tuple."
   ]
  },
  {
   "cell_type": "code",
   "execution_count": 24,
   "id": "7b251ca4",
   "metadata": {},
   "outputs": [
    {
     "name": "stdout",
     "output_type": "stream",
     "text": [
      "Nested Tuple :  (45, 23, 12, (1, 2, 3, 4, 5))\n",
      "Flattened tuple :  (45, 23, 12, 1, 2, 3, 4, 5)\n"
     ]
    }
   ],
   "source": [
    "tuple_nested=(45,23,12,(1,2,3,4,5))\n",
    "print(f\"Nested Tuple : \",tuple_nested)\n",
    "flattened_list=[]\n",
    "\n",
    "for element in tuple_nested:\n",
    "    if type(element)==tuple:\n",
    "        flattened_list.extend(element)\n",
    "        \n",
    "    else:\n",
    "        flattened_list.append(element)\n",
    "        \n",
    "        \n",
    "      \n",
    "print(\"Flattened tuple : \",tuple(flattened_list))\n"
   ]
  },
  {
   "cell_type": "markdown",
   "id": "9564ad01",
   "metadata": {},
   "source": [
    "###### 32. Create a tuple of the first 5 prime numbers."
   ]
  },
  {
   "cell_type": "code",
   "execution_count": 26,
   "id": "25d34d07",
   "metadata": {},
   "outputs": [
    {
     "name": "stdout",
     "output_type": "stream",
     "text": [
      "Tuple of first 5 prime numbers :  (2, 3, 5, 7, 11)\n"
     ]
    }
   ],
   "source": [
    "import math\n",
    "list_primes=[]\n",
    "n=2\n",
    "\n",
    "while(len(list_primes)!=5):\n",
    "    for i in range(2,round(math.sqrt(n))+1):\n",
    "        if i!=n and n%i==0:\n",
    "            break\n",
    "            \n",
    "    else:\n",
    "        list_primes.append(n)\n",
    "        \n",
    "    n+=1    \n",
    "    \n",
    "print(\"Tuple of first 5 prime numbers : \",tuple(list_primes))\n",
    "        "
   ]
  },
  {
   "cell_type": "markdown",
   "id": "ae3bc1b9",
   "metadata": {},
   "source": [
    "###### 33. Check if a tuple is a palindrome."
   ]
  },
  {
   "cell_type": "code",
   "execution_count": 27,
   "id": "b5e6ae4b",
   "metadata": {},
   "outputs": [
    {
     "name": "stdout",
     "output_type": "stream",
     "text": [
      "Tuple :  (1, 2, 3, 2, 1)\n",
      "Tuple is a palindrome\n"
     ]
    }
   ],
   "source": [
    "tuple_a=(1,2,3,2,1)\n",
    "print(\"Tuple : \",tuple_a)\n",
    "\n",
    "#condition check\n",
    "if tuple_a==tuple_a[::-1]:\n",
    "    print(\"Tuple is a palindrome\")\n",
    "    \n",
    "else:\n",
    "    print(\"Tuple is not a palindrome\")"
   ]
  },
  {
   "cell_type": "markdown",
   "id": "e92a464b",
   "metadata": {},
   "source": [
    "###### 34. Create a tuple of squares of numbers from 1 to 5.\n"
   ]
  },
  {
   "cell_type": "code",
   "execution_count": 29,
   "id": "5f9d87d4",
   "metadata": {},
   "outputs": [
    {
     "name": "stdout",
     "output_type": "stream",
     "text": [
      "Tuple of squares of numbers from 1 to 5 :  (1, 4, 9, 16, 25)\n"
     ]
    }
   ],
   "source": [
    "print(\"Tuple of squares of numbers from 1 to 5 : \", tuple([n**2 for n in range(1,6)]))"
   ]
  },
  {
   "cell_type": "markdown",
   "id": "c935c2f7",
   "metadata": {},
   "source": [
    "###### 35. Filter out all even numbers from a tuple."
   ]
  },
  {
   "cell_type": "code",
   "execution_count": 31,
   "id": "d197f57d",
   "metadata": {},
   "outputs": [
    {
     "name": "stdout",
     "output_type": "stream",
     "text": [
      "Tuple:  (23, 4, 56, 7, 8, 98, 26, 77, 90)\n",
      "Tuple of even numbers :  (4, 56, 8, 98, 26, 90)\n"
     ]
    }
   ],
   "source": [
    "tuple_a=(23,4,56,7,8,98,26,77,90)\n",
    "print(\"Tuple: \",tuple_a)\n",
    "\n",
    "print(\"Tuple of even numbers : \", tuple([n for n in tuple_a if n%2==0]))"
   ]
  },
  {
   "cell_type": "markdown",
   "id": "9010ed4b",
   "metadata": {},
   "source": [
    "###### 36. Multiply all elements in a tuple by 2.\n"
   ]
  },
  {
   "cell_type": "code",
   "execution_count": 33,
   "id": "171246f1",
   "metadata": {},
   "outputs": [
    {
     "name": "stdout",
     "output_type": "stream",
     "text": [
      "Tuple:  (23, 4, 56, 7, 8, 98, 26, 77, 90)\n",
      "Multiply all elements in tuple by 2 : (46, 8, 112, 14, 16, 196, 52, 154, 180)\n"
     ]
    }
   ],
   "source": [
    "tuple_a=(23,4,56,7,8,98,26,77,90)\n",
    "print(\"Tuple: \",tuple_a)\n",
    "print(\"Multiply all elements in tuple by 2 :\",tuple([n*2 for n in tuple_a]))"
   ]
  },
  {
   "cell_type": "markdown",
   "id": "ab546120",
   "metadata": {},
   "source": [
    "###### 37. Create a tuple of random numbers."
   ]
  },
  {
   "cell_type": "code",
   "execution_count": 37,
   "id": "5bdc0477",
   "metadata": {},
   "outputs": [
    {
     "name": "stdout",
     "output_type": "stream",
     "text": [
      "Tuple of random numbers :  (114, 267, 259, 137, 240, 113, 233, 139, 173, 109, 10, 162, 34, 150, 71, 229, 133, 26, 116, 237, 0, 224, 211, 57, 222)\n"
     ]
    }
   ],
   "source": [
    "import random\n",
    "\n",
    "list_random=random.sample(range(299),25)\n",
    "print(\"Tuple of random numbers : \",tuple(list_random))"
   ]
  },
  {
   "cell_type": "markdown",
   "id": "88c0d924",
   "metadata": {},
   "source": [
    "###### 38. Check if a tuple is sorted.\n"
   ]
  },
  {
   "cell_type": "code",
   "execution_count": 48,
   "id": "2f661129",
   "metadata": {},
   "outputs": [
    {
     "name": "stdout",
     "output_type": "stream",
     "text": [
      "Tuple :  (56, 45, 34, 23, 12)\n",
      "Tuple is sorted\n"
     ]
    }
   ],
   "source": [
    "tuple_a=(56,45,34,23,12)\n",
    "print(\"Tuple : \",tuple_a)\n",
    "\n",
    "if tuple_a==tuple(sorted(tuple_a)) or tuple_a==tuple(sorted(tuple_a,reverse=True)):\n",
    "    print(\"Tuple is sorted\")\n",
    "    \n",
    "else:\n",
    "    print(\"Tuple is not sorted\")"
   ]
  },
  {
   "cell_type": "markdown",
   "id": "7f9b1f55",
   "metadata": {},
   "source": [
    "###### 39. Rotate a tuple to the left by `n` positions.\n"
   ]
  },
  {
   "cell_type": "code",
   "execution_count": 49,
   "id": "0f6a207f",
   "metadata": {},
   "outputs": [
    {
     "name": "stdout",
     "output_type": "stream",
     "text": [
      "Tuple :  (56, 45, 34, 23, 12)\n",
      "Tuple shifted left by 4 :  (12, 56, 45, 34, 23)\n"
     ]
    }
   ],
   "source": [
    "from collections import deque\n",
    "tuple_a=(56,45,34,23,12)\n",
    "print(\"Tuple : \",tuple_a)\n",
    "\n",
    "d_tuple=deque(tuple_a)\n",
    "\n",
    "d_tuple.rotate(-4)\n",
    "\n",
    "print(\"Tuple shifted left by 4 : \",tuple(d_tuple))"
   ]
  },
  {
   "cell_type": "markdown",
   "id": "2fdd3fa2",
   "metadata": {},
   "source": [
    "###### 40. Rotate a tuple to the right by `n` positions."
   ]
  },
  {
   "cell_type": "code",
   "execution_count": 50,
   "id": "262c1d48",
   "metadata": {},
   "outputs": [
    {
     "name": "stdout",
     "output_type": "stream",
     "text": [
      "Tuple :  (56, 45, 34, 23, 12)\n",
      "Tuple shifted right by 4 :  (45, 34, 23, 12, 56)\n"
     ]
    }
   ],
   "source": [
    "from collections import deque\n",
    "tuple_a=(56,45,34,23,12)\n",
    "print(\"Tuple : \",tuple_a)\n",
    "\n",
    "d_tuple=deque(tuple_a)\n",
    "\n",
    "d_tuple.rotate(4)\n",
    "\n",
    "print(\"Tuple shifted right by 4 : \",tuple(d_tuple))"
   ]
  },
  {
   "cell_type": "markdown",
   "id": "a1de6187",
   "metadata": {},
   "source": [
    "###### 41. Create a tuple of the first 5 Fibonacci numbers"
   ]
  },
  {
   "cell_type": "code",
   "execution_count": 52,
   "id": "70286d27",
   "metadata": {},
   "outputs": [
    {
     "name": "stdout",
     "output_type": "stream",
     "text": [
      "Tuple of first 5 Fibonacci numbers:  (0, 1, 1, 2, 3)\n"
     ]
    }
   ],
   "source": [
    "fibo_series=[0,1]\n",
    "\n",
    "while len(fibo_series)!=5:\n",
    "    fibo_series.append(fibo_series[-1]+fibo_series[-2])\n",
    "    \n",
    "print(\"Tuple of first 5 Fibonacci numbers: \",tuple(fibo_series))"
   ]
  },
  {
   "cell_type": "markdown",
   "id": "2bf2f9db",
   "metadata": {},
   "source": [
    "###### 42. Create a tuple from user input."
   ]
  },
  {
   "cell_type": "code",
   "execution_count": 53,
   "id": "e15f320b",
   "metadata": {},
   "outputs": [
    {
     "name": "stdout",
     "output_type": "stream",
     "text": [
      "Enter input for tuple values (separated by space) s r t y h j k l\n",
      "Tuple from user input :  ('s', 'r', 't', 'y', 'h', 'j', 'k', 'l')\n"
     ]
    }
   ],
   "source": [
    "str1=input(\"Enter input for tuple values (separated by space) \")\n",
    "\n",
    "print(\"Tuple from user input : \",tuple(str1.split(' ')))"
   ]
  },
  {
   "cell_type": "markdown",
   "id": "ebc7a50f",
   "metadata": {},
   "source": [
    "###### 43. Swap two elements in a tuple."
   ]
  },
  {
   "cell_type": "code",
   "execution_count": 54,
   "id": "ea77c168",
   "metadata": {},
   "outputs": [
    {
     "name": "stdout",
     "output_type": "stream",
     "text": [
      "Tuple :  (23, 45, 67, 87, 98, 34)\n",
      "Tuple after swapping third and fourth element:  (23, 45, 87, 67, 98, 34)\n"
     ]
    }
   ],
   "source": [
    "tuple_a=(23,45,67,87,98,34)\n",
    "print(\"Tuple : \",tuple_a)\n",
    "\n",
    "list_from_tuple=list(tuple_a)\n",
    "list_from_tuple[2],list_from_tuple[3]=list_from_tuple[3],list_from_tuple[2]\n",
    "\n",
    "print(\"Tuple after swapping third and fourth element: \",tuple(list_from_tuple))"
   ]
  },
  {
   "cell_type": "markdown",
   "id": "cbb38ff6",
   "metadata": {},
   "source": [
    "###### 44. Reverse the elements of a tuple."
   ]
  },
  {
   "cell_type": "code",
   "execution_count": 55,
   "id": "47ee05db",
   "metadata": {},
   "outputs": [
    {
     "name": "stdout",
     "output_type": "stream",
     "text": [
      "Tuple :  (23, 45, 67, 87, 98, 34)\n",
      "Reversed tuple :  (34, 98, 87, 67, 45, 23)\n"
     ]
    }
   ],
   "source": [
    "tuple_a=(23,45,67,87,98,34)\n",
    "print(\"Tuple : \",tuple_a)\n",
    "print(\"Reversed tuple : \",tuple_a[::-1])"
   ]
  },
  {
   "cell_type": "markdown",
   "id": "453b2afb",
   "metadata": {},
   "source": [
    "###### 45. Create a tuple of the first `n` powers of 2."
   ]
  },
  {
   "cell_type": "code",
   "execution_count": 56,
   "id": "e40ce6e6",
   "metadata": {},
   "outputs": [
    {
     "name": "stdout",
     "output_type": "stream",
     "text": [
      "tuple of the first `n` powers of 2 (2, 4, 8, 16, 32, 64, 128, 256, 512, 1024)\n"
     ]
    }
   ],
   "source": [
    "n=10\n",
    "list_powers=[2**i for i in range(1,11)]\n",
    "print(\"tuple of the first `n` powers of 2\",tuple(list_powers))"
   ]
  },
  {
   "cell_type": "markdown",
   "id": "0854ca61",
   "metadata": {},
   "source": [
    "###### 46. Find the longest string in a tuple of strings."
   ]
  },
  {
   "cell_type": "code",
   "execution_count": 5,
   "id": "ee3699b2",
   "metadata": {},
   "outputs": [
    {
     "name": "stdout",
     "output_type": "stream",
     "text": [
      "Longest strings in tuple :  ['Avengers', 'Superman'] with length  8\n"
     ]
    }
   ],
   "source": [
    "tuple_s=(\"Avengers\",\"Ironman\",\"Superman\",\"Batman\")\n",
    "max_dict={}\n",
    "\n",
    "for s in tuple_s:\n",
    "    if len(s) not in max_dict.keys():\n",
    "        max_dict[len(s)]=[s]\n",
    "        \n",
    "    else:\n",
    "        max_dict[len(s)].append(s)\n",
    "\n",
    "print(\"Longest strings in tuple : \",max_dict[max(max_dict.keys())] ,\"with length \",max(max_dict.keys()))\n"
   ]
  },
  {
   "cell_type": "markdown",
   "id": "6b0a07a7",
   "metadata": {},
   "source": [
    "###### 47. Find the shortest string in a tuple of strings."
   ]
  },
  {
   "cell_type": "code",
   "execution_count": 7,
   "id": "d884e4af",
   "metadata": {},
   "outputs": [
    {
     "name": "stdout",
     "output_type": "stream",
     "text": [
      "Shortest strings in tuple :  ['is'] with length  2\n"
     ]
    }
   ],
   "source": [
    "tuple_s=(\"Today\",\"is\",\"Tuesday\")\n",
    "min_dict={}\n",
    "\n",
    "for s in tuple_s:\n",
    "    if len(s) not in min_dict.keys():\n",
    "        min_dict[len(s)]=[s]\n",
    "        \n",
    "    else:\n",
    "        min_dict[len(s)].append(s)\n",
    "\n",
    "print(\"Shortest strings in tuple : \",min_dict[min(min_dict.keys())] ,\"with length \",min(min_dict.keys()))"
   ]
  },
  {
   "cell_type": "markdown",
   "id": "69d7385e",
   "metadata": {},
   "source": [
    "###### 48. Create a tuple of the first `n` triangular numbers."
   ]
  },
  {
   "cell_type": "code",
   "execution_count": 15,
   "id": "0619f898",
   "metadata": {},
   "outputs": [
    {
     "name": "stdout",
     "output_type": "stream",
     "text": [
      "Tuple of first 20 triangular numbers (1, 3, 6, 10, 15, 21, 28, 36, 45, 55, 66, 78, 91, 105, 120, 136, 153, 171, 190, 210)\n"
     ]
    }
   ],
   "source": [
    "n=20\n",
    "triangular_numbers=[]\n",
    "temp_list=[]\n",
    "x=1\n",
    "while len(triangular_numbers)!=n:\n",
    "    temp_list.append(x)\n",
    "    triangular_numbers.append(sum(temp_list))\n",
    "    x+=1\n",
    "    \n",
    "    \n",
    "print(f\"Tuple of first {n} triangular numbers\",tuple(triangular_numbers))\n"
   ]
  },
  {
   "cell_type": "markdown",
   "id": "f43e13f4",
   "metadata": {},
   "source": [
    "###### 49. Check if a tuple contains another tuple as a subsequence."
   ]
  },
  {
   "cell_type": "code",
   "execution_count": 17,
   "id": "8c152acb",
   "metadata": {},
   "outputs": [
    {
     "name": "stdout",
     "output_type": "stream",
     "text": [
      "Tuple a : (3, 4, 5, 6, 7, 8, 9, 2)\n",
      "Tuple b : (5, 8, 9)\n",
      "Tuple b is a subsequence of Tuple a\n"
     ]
    }
   ],
   "source": [
    "tuple_a=(3,4,5,6,7,8,9,2)\n",
    "tuple_b=(5,8,9)\n",
    "match_seq=[]\n",
    "\n",
    "print(\"Tuple a :\",tuple_a)\n",
    "print(\"Tuple b :\",tuple_b)\n",
    "\n",
    "for b in tuple_b:\n",
    "    for a in tuple_a:\n",
    "        if b==a:\n",
    "            match_seq.append(b)\n",
    "            \n",
    "if tuple_b==tuple(match_seq):\n",
    "    print(\"Tuple b is a subsequence of Tuple a\")\n",
    "else:\n",
    "    print(\"Tuple b is not a subsequence of Tuple a\")"
   ]
  },
  {
   "cell_type": "markdown",
   "id": "595dcdde",
   "metadata": {},
   "source": [
    "###### 50. Create a tuple of alternating 1s and 0s of length `n"
   ]
  },
  {
   "cell_type": "code",
   "execution_count": 30,
   "id": "c42e8e53",
   "metadata": {},
   "outputs": [
    {
     "name": "stdout",
     "output_type": "stream",
     "text": [
      "tuple of alternating 1s and 0s of length `n: (1, 0, 1, 0, 1, 0, 1, 0, 1, 0)\n"
     ]
    }
   ],
   "source": [
    "n=10\n",
    "\n",
    "alternate_list=[]\n",
    "b=False\n",
    "while len(alternate_list)!=10:\n",
    "    b=not(b)\n",
    "    alternate_list.append(1 if b else 0)\n",
    "\n",
    "print(\"tuple of alternating 1s and 0s of length `n:\",tuple(alternate_list))"
   ]
  },
  {
   "cell_type": "code",
   "execution_count": null,
   "id": "b05eb0b5",
   "metadata": {},
   "outputs": [],
   "source": []
  },
  {
   "cell_type": "markdown",
   "id": "53a05709",
   "metadata": {},
   "source": [
    "### TOPIC: Set Based Practice Problem\n"
   ]
  },
  {
   "cell_type": "markdown",
   "id": "9bf69fe2",
   "metadata": {},
   "source": [
    "###### 1. Create a set with integers from 1 to 5.\n"
   ]
  },
  {
   "cell_type": "code",
   "execution_count": 68,
   "id": "550ff938",
   "metadata": {},
   "outputs": [
    {
     "name": "stdout",
     "output_type": "stream",
     "text": [
      "set with integers from 1 to 5 {1, 2, 3, 4, 5}\n"
     ]
    }
   ],
   "source": [
    "set_a = set([i for i in range(1,6)])\n",
    "print(\"set with integers from 1 to 5\",set_a)"
   ]
  },
  {
   "cell_type": "markdown",
   "id": "3eca5f08",
   "metadata": {},
   "source": [
    "###### 2. Add an element to a set"
   ]
  },
  {
   "cell_type": "code",
   "execution_count": 72,
   "id": "ad2acd61",
   "metadata": {},
   "outputs": [
    {
     "name": "stdout",
     "output_type": "stream",
     "text": [
      "Set :  {1, 2, 3, 4, 5, 6}\n",
      "After adding 7 to set :  {1, 2, 3, 4, 5, 6, 7}\n"
     ]
    }
   ],
   "source": [
    "set_a={1,2,3,4,5,6}\n",
    "print(\"Set : \",set_a)\n",
    "set_a.add(7)\n",
    "print(\"After adding 7 to set : \",set_a)"
   ]
  },
  {
   "cell_type": "markdown",
   "id": "24385606",
   "metadata": {},
   "source": [
    "###### 3. Remove an element from a set."
   ]
  },
  {
   "cell_type": "code",
   "execution_count": 75,
   "id": "91ad8556",
   "metadata": {},
   "outputs": [
    {
     "name": "stdout",
     "output_type": "stream",
     "text": [
      "Set :  {1, 2, 3, 4, 5, 6}\n",
      "After removing 5 from set :  {1, 2, 3, 4, 6}\n"
     ]
    }
   ],
   "source": [
    "set_a={1,2,3,4,5,6}\n",
    "print(\"Set : \",set_a)\n",
    "set_a.remove(5)\n",
    "print(\"After removing 5 from set : \",set_a)"
   ]
  },
  {
   "cell_type": "markdown",
   "id": "180e82a2",
   "metadata": {},
   "source": [
    "###### 4. Check if an element exists in a set."
   ]
  },
  {
   "cell_type": "code",
   "execution_count": 76,
   "id": "1c4fa722",
   "metadata": {},
   "outputs": [
    {
     "name": "stdout",
     "output_type": "stream",
     "text": [
      "Set :  {1, 2, 3, 4, 5, 6}\n",
      "3 exists in Set\n"
     ]
    }
   ],
   "source": [
    "set_a={1,2,3,4,5,6}\n",
    "print(\"Set : \",set_a)\n",
    "\n",
    "if 3 in set_a:\n",
    "    print(\"3 exists in Set\")\n",
    "    \n",
    "else:\n",
    "    print(\"3 does not exist in set\")"
   ]
  },
  {
   "cell_type": "markdown",
   "id": "1c626df7",
   "metadata": {},
   "source": [
    "###### 5. Find the length of a set without using the `len()` function."
   ]
  },
  {
   "cell_type": "code",
   "execution_count": 77,
   "id": "7aa173db",
   "metadata": {},
   "outputs": [
    {
     "name": "stdout",
     "output_type": "stream",
     "text": [
      "Set :  {1, 2, 3, 4, 5, 6}\n",
      "Length of set is :  6\n"
     ]
    }
   ],
   "source": [
    "set_a={1,2,3,4,5,6}\n",
    "print(\"Set : \",set_a)\n",
    "\n",
    "print(\"Length of set is : \",len(set_a))"
   ]
  },
  {
   "cell_type": "markdown",
   "id": "933af1a4",
   "metadata": {},
   "source": [
    "###### 6. Clear all elements from a set.\n"
   ]
  },
  {
   "cell_type": "code",
   "execution_count": 78,
   "id": "3e8346b8",
   "metadata": {},
   "outputs": [
    {
     "name": "stdout",
     "output_type": "stream",
     "text": [
      "Set :  {1, 2, 3, 4, 5, 6}\n",
      "Set after clearing all elements : set()\n"
     ]
    }
   ],
   "source": [
    "set_a={1,2,3,4,5,6}\n",
    "print(\"Set : \",set_a)\n",
    "\n",
    "#clear all eleements\n",
    "set_a.clear()\n",
    "\n",
    "print(\"Set after clearing all elements :\",set_a)"
   ]
  },
  {
   "cell_type": "markdown",
   "id": "30591e89",
   "metadata": {},
   "source": [
    "###### 7. Create a set of even numbers from 1 to 10."
   ]
  },
  {
   "cell_type": "code",
   "execution_count": 80,
   "id": "a9832989",
   "metadata": {},
   "outputs": [
    {
     "name": "stdout",
     "output_type": "stream",
     "text": [
      "set of even numbers from 1 to 10 {2, 4, 6, 8, 10}\n"
     ]
    }
   ],
   "source": [
    "set_even=set([i for i in range(1,11) if i%2==0])\n",
    "print(\"set of even numbers from 1 to 10\",set_even)"
   ]
  },
  {
   "cell_type": "markdown",
   "id": "3319e69a",
   "metadata": {},
   "source": [
    "###### 8. Create a set of odd numbers from 1 to 10."
   ]
  },
  {
   "cell_type": "code",
   "execution_count": 81,
   "id": "11662f33",
   "metadata": {},
   "outputs": [
    {
     "name": "stdout",
     "output_type": "stream",
     "text": [
      "set of odd numbers from 1 to 10 {1, 3, 5, 7, 9}\n"
     ]
    }
   ],
   "source": [
    "set_odd=set([i for i in range(1,11) if i%2!=0])\n",
    "print(\"set of odd numbers from 1 to 10\",set_odd)"
   ]
  },
  {
   "cell_type": "markdown",
   "id": "42c476d6",
   "metadata": {},
   "source": [
    "###### 9. Find the union of two sets."
   ]
  },
  {
   "cell_type": "code",
   "execution_count": 82,
   "id": "827ee7ad",
   "metadata": {},
   "outputs": [
    {
     "name": "stdout",
     "output_type": "stream",
     "text": [
      "Set_A :  {1, 2, 3, 4, 5, 6, 7}\n",
      "Set_B :  {5, 6, 7, 8, 9, 10}\n",
      "Union of set_A and set_B is :  {1, 2, 3, 4, 5, 6, 7, 8, 9, 10}\n"
     ]
    }
   ],
   "source": [
    "set_A={1,2,3,4,5,6,7}\n",
    "set_B={5,6,7,8,9,10}\n",
    "\n",
    "print(\"Set_A : \",set_A)\n",
    "print(\"Set_B : \",set_B)\n",
    "\n",
    "union_AB=set_A.union(set_B)\n",
    "\n",
    "print(\"Union of set_A and set_B is : \",union_AB)"
   ]
  },
  {
   "cell_type": "markdown",
   "id": "a3883bb4",
   "metadata": {},
   "source": [
    "###### 10. Find the intersection of two sets.\n"
   ]
  },
  {
   "cell_type": "code",
   "execution_count": 83,
   "id": "5fe2e81f",
   "metadata": {},
   "outputs": [
    {
     "name": "stdout",
     "output_type": "stream",
     "text": [
      "Set_A :  {1, 2, 3, 4, 5, 6, 7}\n",
      "Set_B :  {5, 6, 7, 8, 9, 10}\n",
      "Intersection of set_A and set_B is :  {5, 6, 7}\n"
     ]
    }
   ],
   "source": [
    "set_A={1,2,3,4,5,6,7}\n",
    "set_B={5,6,7,8,9,10}\n",
    "\n",
    "print(\"Set_A : \",set_A)\n",
    "print(\"Set_B : \",set_B)\n",
    "\n",
    "intersection_AB=set_A.intersection(set_B)\n",
    "\n",
    "print(\"Intersection of set_A and set_B is : \",intersection_AB)"
   ]
  },
  {
   "cell_type": "markdown",
   "id": "4cc88246",
   "metadata": {},
   "source": [
    "###### 11. Find the difference between two sets"
   ]
  },
  {
   "cell_type": "code",
   "execution_count": 65,
   "id": "6cb49255",
   "metadata": {},
   "outputs": [
    {
     "name": "stdout",
     "output_type": "stream",
     "text": [
      "Set_A :  {1, 2, 3, 4, 5, 6, 7}\n",
      "Set_B :  {5, 6, 7, 8, 9, 10}\n",
      "Difference of set_A and set_B is :  {1, 2, 3, 4}\n"
     ]
    }
   ],
   "source": [
    "set_A={1,2,3,4,5,6,7}\n",
    "set_B={5,6,7,8,9,10}\n",
    "\n",
    "print(\"Set_A : \",set_A)\n",
    "print(\"Set_B : \",set_B)\n",
    "\n",
    "print(\"Difference of set_A and set_B is : \",set_A.difference(set_B))"
   ]
  },
  {
   "cell_type": "markdown",
   "id": "fd881398",
   "metadata": {},
   "source": [
    "###### 12. Check if a set is a subset of another set.\n"
   ]
  },
  {
   "cell_type": "code",
   "execution_count": 66,
   "id": "0f1fc63f",
   "metadata": {},
   "outputs": [
    {
     "name": "stdout",
     "output_type": "stream",
     "text": [
      "Set A :  {1, 2, 3, 4, 5}\n",
      "Set B :  {1, 2, 3, 4, 5, 6, 7, 8, 9, 10}\n",
      "Set A is subset of Set B \n"
     ]
    }
   ],
   "source": [
    "set_A={1,2,3,4,5}\n",
    "set_B={10,9,8,7,6,5,4,3,2,1}\n",
    "\n",
    "print(\"Set A : \",set_A)\n",
    "print(\"Set B : \",set_B)\n",
    "\n",
    "if set_A.issubset(set_B):\n",
    "    print(\"Set A is subset of Set B \")\n",
    "    \n",
    "else:\n",
    "    print(\"Set A is not a subset of Set B \")"
   ]
  },
  {
   "cell_type": "markdown",
   "id": "d7a37fcd",
   "metadata": {},
   "source": [
    "###### 13. Check if a set is a superset of another set."
   ]
  },
  {
   "cell_type": "code",
   "execution_count": 67,
   "id": "a1e5c5ad",
   "metadata": {},
   "outputs": [
    {
     "name": "stdout",
     "output_type": "stream",
     "text": [
      "Set A :  {1, 2, 3, 4, 5}\n",
      "Set B :  {1, 2, 3, 4, 5, 6, 7, 8, 9, 10}\n",
      "Set B is superset of Set A \n"
     ]
    }
   ],
   "source": [
    "set_A={1,2,3,4,5}\n",
    "set_B={10,9,8,7,6,5,4,3,2,1}\n",
    "\n",
    "print(\"Set A : \",set_A)\n",
    "print(\"Set B : \",set_B)\n",
    "\n",
    "if set_B.issuperset(set_A):\n",
    "    print(\"Set B is superset of Set A \")\n",
    "    \n",
    "else:\n",
    "    print(\"Set B is superset of Set A \")"
   ]
  },
  {
   "cell_type": "markdown",
   "id": "983dfcf7",
   "metadata": {},
   "source": [
    "###### 14. Create a set from a list.\n"
   ]
  },
  {
   "cell_type": "code",
   "execution_count": 68,
   "id": "bd90c8e5",
   "metadata": {},
   "outputs": [
    {
     "name": "stdout",
     "output_type": "stream",
     "text": [
      "List of numbers :  [1, 2, 3, 4, 5, 6, 7, 8]\n",
      "Set from list :  {1, 2, 3, 4, 5, 6, 7, 8}\n"
     ]
    }
   ],
   "source": [
    "list_num=[1,2,3,4,5,6,7,8]\n",
    "print(\"List of numbers : \",list_num)\n",
    "\n",
    "print(\"Set from list : \",set(list_num))"
   ]
  },
  {
   "cell_type": "markdown",
   "id": "46b27e53",
   "metadata": {},
   "source": [
    "###### 15. Convert a set to a list"
   ]
  },
  {
   "cell_type": "code",
   "execution_count": 69,
   "id": "f29ce0d4",
   "metadata": {},
   "outputs": [
    {
     "name": "stdout",
     "output_type": "stream",
     "text": [
      "Set of words :  {'table', 'car', 'chair', 'doll', 'toys'}\n",
      "List from set :  ['table', 'car', 'chair', 'doll', 'toys']\n"
     ]
    }
   ],
   "source": [
    "set_words={\"car\",\"doll\",\"toys\",\"table\",\"chair\"}\n",
    "print(\"Set of words : \",set_words)\n",
    "\n",
    "print(\"List from set : \",list(set_words))"
   ]
  },
  {
   "cell_type": "markdown",
   "id": "1fc4a4a1",
   "metadata": {},
   "source": [
    "###### 16. Remove a random element from a set.\n"
   ]
  },
  {
   "cell_type": "code",
   "execution_count": 70,
   "id": "327b66f2",
   "metadata": {},
   "outputs": [
    {
     "name": "stdout",
     "output_type": "stream",
     "text": [
      "Set of words :  {'table', 'car', 'chair', 'doll', 'toys'}\n",
      "Set after removing random element in set  {'car', 'chair', 'doll', 'toys'}\n"
     ]
    }
   ],
   "source": [
    "set_words={\"car\",\"doll\",\"toys\",\"table\",\"chair\"}\n",
    "print(\"Set of words : \",set_words)\n",
    "\n",
    "set_words.pop()\n",
    "\n",
    "print(\"Set after removing random element in set \",set_words)\n"
   ]
  },
  {
   "cell_type": "markdown",
   "id": "1b6c6d4c",
   "metadata": {},
   "source": [
    "###### 17. Pop an element from a set.\n"
   ]
  },
  {
   "cell_type": "code",
   "execution_count": 71,
   "id": "048564c7",
   "metadata": {},
   "outputs": [
    {
     "name": "stdout",
     "output_type": "stream",
     "text": [
      "Set :  {'cherry', 'apple', 'banana'}\n",
      "After pop:  {'apple', 'banana'}\n"
     ]
    }
   ],
   "source": [
    "fruits = {\"apple\", \"banana\", \"cherry\"}\n",
    "print(\"Set : \",fruits)\n",
    "\n",
    "fruits.pop()\n",
    "\n",
    "print(\"After pop: \",fruits)"
   ]
  },
  {
   "cell_type": "markdown",
   "id": "78990ab8",
   "metadata": {},
   "source": [
    "###### 18. Check if two sets have no elements in common."
   ]
  },
  {
   "cell_type": "code",
   "execution_count": 77,
   "id": "ddb1e9d3",
   "metadata": {},
   "outputs": [
    {
     "name": "stdout",
     "output_type": "stream",
     "text": [
      "Set_A :  {1, 2, 3, 4, 5, 6, 7}\n",
      "Set_B :  {8, 9, 10}\n",
      "Set_A and Set_B have no common elements\n"
     ]
    }
   ],
   "source": [
    "set_A={1,2,3,4,5,6,7}\n",
    "set_B={8,9,10}\n",
    "\n",
    "print(\"Set_A : \",set_A)\n",
    "print(\"Set_B : \",set_B)\n",
    "\n",
    "if len(set_A.intersection(set_B))==0:\n",
    "    print(\"Set_A and Set_B have no common elements\")\n",
    "        "
   ]
  },
  {
   "cell_type": "markdown",
   "id": "cb4559a0",
   "metadata": {},
   "source": [
    "###### 19. Find the symmetric difference between two sets."
   ]
  },
  {
   "cell_type": "code",
   "execution_count": 78,
   "id": "7f7192ff",
   "metadata": {},
   "outputs": [
    {
     "name": "stdout",
     "output_type": "stream",
     "text": [
      "Set_A :  {1, 2, 3, 4, 5, 6, 7}\n",
      "Set_B :  {4, 5, 6, 7, 8, 9, 10}\n",
      "Symmetric difference of set_A and set_B : {1, 2, 3, 8, 9, 10}\n"
     ]
    }
   ],
   "source": [
    "set_A={1,2,3,4,5,6,7}\n",
    "set_B={4,5,6,7,8,9,10}\n",
    "\n",
    "print(\"Set_A : \",set_A)\n",
    "print(\"Set_B : \",set_B)\n",
    "\n",
    "print(\"Symmetric difference of set_A and set_B :\",set_A.symmetric_difference(set_B))\n"
   ]
  },
  {
   "cell_type": "markdown",
   "id": "9616c8a1",
   "metadata": {},
   "source": [
    "###### 20. Update a set with elements from another set."
   ]
  },
  {
   "cell_type": "code",
   "execution_count": 80,
   "id": "4e68d06d",
   "metadata": {},
   "outputs": [
    {
     "name": "stdout",
     "output_type": "stream",
     "text": [
      "Set_A :  {1, 2, 3}\n",
      "Set_B :  {4, 5, 6}\n",
      "Update Set_A with Set_B :  {1, 2, 3, 4, 5, 6}\n"
     ]
    }
   ],
   "source": [
    "set_A={1,2,3,}\n",
    "set_B={4,5,6}\n",
    "\n",
    "print(\"Set_A : \",set_A)\n",
    "print(\"Set_B : \",set_B)\n",
    "\n",
    "set_A.update(set_B)\n",
    "\n",
    "print(\"Update Set_A with Set_B : \",set_A)"
   ]
  },
  {
   "cell_type": "markdown",
   "id": "1f877ead",
   "metadata": {},
   "source": [
    "###### 21. Create a set of the first 5 prime numbers.\n"
   ]
  },
  {
   "cell_type": "code",
   "execution_count": 2,
   "id": "88ec3edc",
   "metadata": {},
   "outputs": [
    {
     "name": "stdout",
     "output_type": "stream",
     "text": [
      "Set of first 5 prime numbers :  {2, 3, 5, 7, 11}\n"
     ]
    }
   ],
   "source": [
    "import math\n",
    "s=set()\n",
    "n=2\n",
    "while len(s)!=5:\n",
    "    for i in range(2,round(math.sqrt(n))+1):\n",
    "        if i!=n and n%i==0:\n",
    "            break\n",
    "    else:\n",
    "        s.add(n)\n",
    "        \n",
    "    n+=1\n",
    "    \n",
    "print(\"Set of first 5 prime numbers : \",s)"
   ]
  },
  {
   "cell_type": "markdown",
   "id": "e2448bfe",
   "metadata": {},
   "source": [
    "###### 22. Check if two sets are identical."
   ]
  },
  {
   "cell_type": "code",
   "execution_count": 3,
   "id": "ad67bc2a",
   "metadata": {},
   "outputs": [
    {
     "name": "stdout",
     "output_type": "stream",
     "text": [
      "Set 1 :  {2, 3, 4, 5, 6}\n",
      "Set 2 :  {2, 3, 4, 5, 6}\n",
      "Sets are identical\n"
     ]
    }
   ],
   "source": [
    "set1={2,3,4,5,6}\n",
    "set2={2,3,4,5,6}\n",
    "\n",
    "print(\"Set 1 : \",set1)\n",
    "print(\"Set 2 : \",set2)\n",
    "\n",
    "if set1==set2:\n",
    "    print(\"Sets are identical\")\n",
    "    \n",
    "else:\n",
    "    print(\"Sets are not identical\")\n",
    "    "
   ]
  },
  {
   "cell_type": "markdown",
   "id": "a126b235",
   "metadata": {},
   "source": [
    "###### 23. Create a frozen set."
   ]
  },
  {
   "cell_type": "code",
   "execution_count": 4,
   "id": "cf2d89a5",
   "metadata": {},
   "outputs": [
    {
     "name": "stdout",
     "output_type": "stream",
     "text": [
      "Frozen set :  frozenset({1, 2, 3, 4, 5, 6})\n"
     ]
    }
   ],
   "source": [
    "set1=frozenset([1,2,3,4,5,6])\n",
    "print(\"Frozen set : \",set1)"
   ]
  },
  {
   "cell_type": "markdown",
   "id": "c58cc4c3",
   "metadata": {},
   "source": [
    "###### 24. Check if a set is disjoint with another set.\n"
   ]
  },
  {
   "cell_type": "code",
   "execution_count": 6,
   "id": "9bf09efa",
   "metadata": {},
   "outputs": [
    {
     "name": "stdout",
     "output_type": "stream",
     "text": [
      "Set 1 :  {1, 2, 3}\n",
      "Set 2 :  {4, 5, 6}\n",
      "Sets are disjoint\n"
     ]
    }
   ],
   "source": [
    "set1={1,2,3}\n",
    "set2={4,5,6}\n",
    "\n",
    "print(\"Set 1 : \",set1)\n",
    "print(\"Set 2 : \",set2)\n",
    "\n",
    "if set1.isdisjoint(set2):\n",
    "    print(\"Sets are disjoint\")\n",
    "    \n",
    "else:\n",
    "    print(\"Sets are not disjoint\")"
   ]
  },
  {
   "cell_type": "markdown",
   "id": "4e40e0ed",
   "metadata": {},
   "source": [
    "###### 25. Create a set of squares of numbers from 1 to 5."
   ]
  },
  {
   "cell_type": "code",
   "execution_count": 7,
   "id": "43efd0da",
   "metadata": {},
   "outputs": [
    {
     "name": "stdout",
     "output_type": "stream",
     "text": [
      "Set of squares of numbers from 1 to 5 :  {1, 4, 9, 16, 25}\n"
     ]
    }
   ],
   "source": [
    "print(\"Set of squares of numbers from 1 to 5 : \", {i**2 for i in range(1,6)})"
   ]
  },
  {
   "cell_type": "markdown",
   "id": "9a3954f7",
   "metadata": {},
   "source": [
    "###### 26. Filter out all even numbers from a set."
   ]
  },
  {
   "cell_type": "code",
   "execution_count": 10,
   "id": "0f6def07",
   "metadata": {},
   "outputs": [
    {
     "name": "stdout",
     "output_type": "stream",
     "text": [
      "Set :  {34, 98, 77, 78, 22, 23, 56, 90}\n",
      "Even numbers from set :  {34, 98, 78, 22, 56, 90}\n"
     ]
    }
   ],
   "source": [
    "set1={23,34,56,22,77,78,98,90}\n",
    "print(\"Set : \",set1)\n",
    "print(\"Even numbers from set : \",set(i for i in set1 if i%2==0))"
   ]
  },
  {
   "cell_type": "markdown",
   "id": "8d97bf27",
   "metadata": {},
   "source": [
    "###### 27. Multiply all elements in a set by 2."
   ]
  },
  {
   "cell_type": "code",
   "execution_count": 11,
   "id": "8d6b8a54",
   "metadata": {},
   "outputs": [
    {
     "name": "stdout",
     "output_type": "stream",
     "text": [
      "Set :  {2, 3, 4, 5, 6, 7}\n",
      "Multiply all elements by 2 :  {4, 6, 8, 10, 12, 14}\n"
     ]
    }
   ],
   "source": [
    "set1={2,3,4,5,6,7}\n",
    "print(\"Set : \",set1)\n",
    "print(\"Multiply all elements by 2 : \",{x*2 for x in set1})"
   ]
  },
  {
   "cell_type": "markdown",
   "id": "166b72d8",
   "metadata": {},
   "source": [
    "###### 28. Create a set of random numbers.\n"
   ]
  },
  {
   "cell_type": "code",
   "execution_count": 17,
   "id": "4273cfbb",
   "metadata": {},
   "outputs": [
    {
     "name": "stdout",
     "output_type": "stream",
     "text": [
      "Set of random numbers :  {352, 451, 319, 38, 427, 365, 213, 182, 215, 251, 61, 63}\n"
     ]
    }
   ],
   "source": [
    "import random\n",
    "\n",
    "set1=set(random.sample(range(500),12))\n",
    "print(\"Set of random numbers : \",set1)"
   ]
  },
  {
   "cell_type": "markdown",
   "id": "1b882129",
   "metadata": {},
   "source": [
    "###### 29. Check if a set is empty."
   ]
  },
  {
   "cell_type": "code",
   "execution_count": 18,
   "id": "67c76222",
   "metadata": {},
   "outputs": [
    {
     "name": "stdout",
     "output_type": "stream",
     "text": [
      "Set is empty\n"
     ]
    }
   ],
   "source": [
    "s=set()\n",
    "if not s:\n",
    "    print(\"Set is empty\")\n",
    "else:\n",
    "    print(\"Set is not empty\")"
   ]
  },
  {
   "cell_type": "markdown",
   "id": "416fc352",
   "metadata": {},
   "source": [
    "###### 30. Create a nested set (hint: use frozenset)."
   ]
  },
  {
   "cell_type": "code",
   "execution_count": 23,
   "id": "c6b17dad",
   "metadata": {},
   "outputs": [
    {
     "name": "stdout",
     "output_type": "stream",
     "text": [
      "Nested Set :  {1, 2, 3, 4, 5, 6, frozenset({33, 44, 22, 55})}\n"
     ]
    }
   ],
   "source": [
    "set1={1,2,3,4,5,6,frozenset([22,33,44,55])}\n",
    "\n",
    "print(\"Nested Set : \",set1)"
   ]
  },
  {
   "cell_type": "markdown",
   "id": "4c5dd335",
   "metadata": {},
   "source": [
    "###### 31. Remove an element from a set using the discard method.\n"
   ]
  },
  {
   "cell_type": "code",
   "execution_count": 24,
   "id": "924a2866",
   "metadata": {},
   "outputs": [
    {
     "name": "stdout",
     "output_type": "stream",
     "text": [
      "Set :  {1, 2, 3, 4, 5, 6, 7, 8}\n",
      "After discarding 7 from set :  {1, 2, 3, 4, 5, 6, 8}\n"
     ]
    }
   ],
   "source": [
    "set1={1,2,3,4,5,6,7,8}\n",
    "print(\"Set : \",set1)\n",
    "set1.discard(7)\n",
    "print(\"After discarding 7 from set : \",set1)"
   ]
  },
  {
   "cell_type": "markdown",
   "id": "b8efe30f",
   "metadata": {},
   "source": [
    "###### 32. Compare two sets."
   ]
  },
  {
   "cell_type": "code",
   "execution_count": 26,
   "id": "f24ffb2a",
   "metadata": {},
   "outputs": [
    {
     "name": "stdout",
     "output_type": "stream",
     "text": [
      "Set 1 :  {1, 2, 3, 4, 5}\n",
      "Set 2 :  {8, 9, 6, 7}\n",
      "Sets are not equal\n"
     ]
    }
   ],
   "source": [
    "set1={1,2,3,4,5}\n",
    "set2={6,7,8,9}\n",
    "\n",
    "print(\"Set 1 : \",set1)\n",
    "print(\"Set 2 : \",set2)\n",
    "\n",
    "# compare sets \n",
    "if set1==set2:\n",
    "    print(\"Sets are equal\")\n",
    "    \n",
    "else:\n",
    "    print(\"Sets are not equal\")"
   ]
  },
  {
   "cell_type": "markdown",
   "id": "816af9d5",
   "metadata": {},
   "source": [
    "###### 33. Create a set from a string."
   ]
  },
  {
   "cell_type": "code",
   "execution_count": 2,
   "id": "a03ec57e",
   "metadata": {},
   "outputs": [
    {
     "name": "stdout",
     "output_type": "stream",
     "text": [
      "Set from string :  {'n', 'o', 'd', 'a', 'y', 'M'}\n"
     ]
    }
   ],
   "source": [
    "set1=set(\"Monday\")\n",
    "\n",
    "print(\"Set from string : \",set1)"
   ]
  },
  {
   "cell_type": "markdown",
   "id": "153193ec",
   "metadata": {},
   "source": [
    "###### 34. Convert a set of strings to a set of integers"
   ]
  },
  {
   "cell_type": "code",
   "execution_count": 3,
   "id": "d212f5b7",
   "metadata": {},
   "outputs": [
    {
     "name": "stdout",
     "output_type": "stream",
     "text": [
      "Set of string :  {'2', '1', '3', '4'}\n",
      "Set of integers :  {1, 2, 3, 4}\n"
     ]
    }
   ],
   "source": [
    "set1={'1','2','3','4'}\n",
    "print(\"Set of string : \",set1)\n",
    "print(\"Set of integers : \",set(int(x) for x in set1))"
   ]
  },
  {
   "cell_type": "markdown",
   "id": "f960c526",
   "metadata": {},
   "source": [
    "###### 35. Convert a set of integers to a set of strings."
   ]
  },
  {
   "cell_type": "code",
   "execution_count": 6,
   "id": "9d39728c",
   "metadata": {},
   "outputs": [
    {
     "name": "stdout",
     "output_type": "stream",
     "text": [
      "Set of integers :  {1, 2, 3, 4}\n",
      "Set of strings :  {'2', '1', '3', '4'}\n"
     ]
    }
   ],
   "source": [
    "set1={1, 2, 3, 4}\n",
    "print(\"Set of integers : \",set1)\n",
    "print(\"Set of strings : \",set(str(x) for x in set1))"
   ]
  },
  {
   "cell_type": "markdown",
   "id": "fd5e41da",
   "metadata": {},
   "source": [
    "###### 36. Create a set from a tuple."
   ]
  },
  {
   "cell_type": "code",
   "execution_count": 7,
   "id": "0752b0ef",
   "metadata": {},
   "outputs": [
    {
     "name": "stdout",
     "output_type": "stream",
     "text": [
      "Tuple :  (2, 3, 4, 5, 6, 7, 8)\n",
      "Set from tuple :  {2, 3, 4, 5, 6, 7, 8}\n"
     ]
    }
   ],
   "source": [
    "tuple_t=(2,3,4,5,6,7,8)\n",
    "print(\"Tuple : \",tuple_t)\n",
    "print(\"Set from tuple : \",set(tuple_t))"
   ]
  },
  {
   "cell_type": "markdown",
   "id": "77d77d6d",
   "metadata": {},
   "source": [
    "###### 37. Convert a set to a tuple."
   ]
  },
  {
   "cell_type": "code",
   "execution_count": 8,
   "id": "790940db",
   "metadata": {},
   "outputs": [
    {
     "name": "stdout",
     "output_type": "stream",
     "text": [
      "Set :  {66, 99, 100, 55, 88, 77}\n",
      "Tuple from set :  (66, 99, 100, 55, 88, 77)\n"
     ]
    }
   ],
   "source": [
    "set_s={55,66,77,88,99,100}\n",
    "print(\"Set : \",set_s)\n",
    "print(\"Tuple from set : \",tuple(set_s))"
   ]
  },
  {
   "cell_type": "markdown",
   "id": "f2e555e0",
   "metadata": {},
   "source": [
    "###### 38. Find the maximum value in a set."
   ]
  },
  {
   "cell_type": "code",
   "execution_count": 9,
   "id": "41de03db",
   "metadata": {},
   "outputs": [
    {
     "name": "stdout",
     "output_type": "stream",
     "text": [
      "Set :  {66, 99, 100, 55, 88, 77}\n",
      "Maximum value in set :  100\n"
     ]
    }
   ],
   "source": [
    "set_s={55,66,77,88,99,100}\n",
    "print(\"Set : \",set_s)\n",
    "print(\"Maximum value in set : \",max(set_s))"
   ]
  },
  {
   "cell_type": "markdown",
   "id": "16464572",
   "metadata": {},
   "source": [
    "###### 39. Find the minimum value in a set."
   ]
  },
  {
   "cell_type": "code",
   "execution_count": 10,
   "id": "31d76995",
   "metadata": {},
   "outputs": [
    {
     "name": "stdout",
     "output_type": "stream",
     "text": [
      "Set :  {66, 99, 100, 55, 88, 77}\n",
      "Minimum value in set :  55\n"
     ]
    }
   ],
   "source": [
    "set_s={55,66,77,88,99,100}\n",
    "print(\"Set : \",set_s)\n",
    "print(\"Minimum value in set : \",min(set_s))"
   ]
  },
  {
   "cell_type": "markdown",
   "id": "35549a4d",
   "metadata": {},
   "source": [
    "###### 40. Create a set from user input."
   ]
  },
  {
   "cell_type": "code",
   "execution_count": 12,
   "id": "2bda7d7f",
   "metadata": {},
   "outputs": [
    {
     "name": "stdout",
     "output_type": "stream",
     "text": [
      "Enter elements of set seperated by space: 23 45 56 67 78 89\n",
      "Set from user input :  {'89', '45', '78', '56', '67', '23'}\n"
     ]
    }
   ],
   "source": [
    "set_s=set(input(\"Enter elements of set seperated by space: \").split(' '))\n",
    "print(\"Set from user input : \",set_s)"
   ]
  },
  {
   "cell_type": "markdown",
   "id": "eea0cffc",
   "metadata": {},
   "source": [
    "###### 41. Check if the intersection of two sets is empty."
   ]
  },
  {
   "cell_type": "code",
   "execution_count": 15,
   "id": "8cb063d8",
   "metadata": {},
   "outputs": [
    {
     "name": "stdout",
     "output_type": "stream",
     "text": [
      "Set 1 :  {2, 3, 4, 5, 6}\n",
      "Set 2 :  {8, 9, 10, 7}\n",
      "Intersection of two sets is empty\n"
     ]
    }
   ],
   "source": [
    "set1={2,3,4,5,6}\n",
    "set2={7,8,9,10}\n",
    "\n",
    "print(\"Set 1 : \",set1)\n",
    "print(\"Set 2 : \",set2)\n",
    "\n",
    "if not set1.intersection(set2):\n",
    "    print(\"Intersection of two sets is empty\")\n",
    "    \n",
    "else:\n",
    "    print(\"Intersection of two sets is not empty\")\n",
    "    "
   ]
  },
  {
   "cell_type": "markdown",
   "id": "7aee593d",
   "metadata": {},
   "source": [
    "###### 42. Create a set of the first 5 Fibonacci numbers.\n"
   ]
  },
  {
   "cell_type": "code",
   "execution_count": 18,
   "id": "fada585e",
   "metadata": {},
   "outputs": [
    {
     "name": "stdout",
     "output_type": "stream",
     "text": [
      "Set of first 5 Fibonacci Numbers :  {0, 1, 2, 3}\n"
     ]
    }
   ],
   "source": [
    "fibonacci_num=[0,1]\n",
    "\n",
    "while len(fibonacci_num)<5:\n",
    "    fibonacci_num.append(fibonacci_num[-1]+fibonacci_num[-2])\n",
    "    \n",
    "print(\"Set of first 5 Fibonacci Numbers : \",set(fibonacci_num))"
   ]
  },
  {
   "cell_type": "markdown",
   "id": "c7486654",
   "metadata": {},
   "source": [
    "###### 43. Remove duplicates from a list using sets.\n"
   ]
  },
  {
   "cell_type": "code",
   "execution_count": 9,
   "id": "6f63db9c",
   "metadata": {},
   "outputs": [
    {
     "name": "stdout",
     "output_type": "stream",
     "text": [
      "List of duplicates :  [33, 44, 33, 55, 55, 55, 66, 66, 66, 77, 77, 88, 88, 88, 99, 99]\n",
      "List with duplicates removed :  [33, 66, 99, 44, 77, 55, 88]\n"
     ]
    }
   ],
   "source": [
    "list_duplicates=[33,44,33,55,55,55,66,66,66,77,77,88,88,88,99,99]\n",
    "print(\"List of duplicates : \",list_duplicates)\n",
    "\n",
    "#Remove duplicates using set\n",
    "list_no_dup=list(set(list_duplicates))\n",
    "\n",
    "print(\"List with duplicates removed : \",list_no_dup)"
   ]
  },
  {
   "cell_type": "markdown",
   "id": "f5b4c979",
   "metadata": {},
   "source": [
    "###### 44. Check if two sets have the same elements, regardless of their count."
   ]
  },
  {
   "cell_type": "code",
   "execution_count": 12,
   "id": "21f9b8a9",
   "metadata": {},
   "outputs": [
    {
     "name": "stdout",
     "output_type": "stream",
     "text": [
      "Set 1 :  {2, 3, 4, 5, 6, 7}\n",
      "Set 2 :  {2, 3, 4, 5, 6, 7}\n",
      "Sets have same elements\n"
     ]
    }
   ],
   "source": [
    "set1={2,3,4,5,6,7}\n",
    "set2={2,3,3,4,4,5,6,7}\n",
    "\n",
    "print(\"Set 1 : \",set1)\n",
    "print(\"Set 2 : \",set2)\n",
    "\n",
    "if set1==set2:\n",
    "    print(\"Sets have same elements\")\n",
    "    \n",
    "else:\n",
    "    print(\"Sets do not have same elements\")"
   ]
  },
  {
   "cell_type": "markdown",
   "id": "10cb73ca",
   "metadata": {},
   "source": [
    "###### 45. Create a set of the first `n` powers of 2."
   ]
  },
  {
   "cell_type": "code",
   "execution_count": 21,
   "id": "ddf8dc37",
   "metadata": {},
   "outputs": [
    {
     "name": "stdout",
     "output_type": "stream",
     "text": [
      "Enter value of n : 5\n",
      "Set of first n powers of 2 :  {1, 2, 4, 8, 16}\n"
     ]
    }
   ],
   "source": [
    "n=int(input(\"Enter value of n : \"))\n",
    "\n",
    "print(\"Set of first n powers of 2 : \",set(2**i for i in range(n)))"
   ]
  },
  {
   "cell_type": "markdown",
   "id": "563d7b76",
   "metadata": {},
   "source": [
    "###### 46. Find the common elements between a set and a list.\n"
   ]
  },
  {
   "cell_type": "code",
   "execution_count": 23,
   "id": "f536f665",
   "metadata": {},
   "outputs": [
    {
     "name": "stdout",
     "output_type": "stream",
     "text": [
      "List :  [1, 2, 3, 4, 5, 6, 7, 8]\n",
      "Set :  {6, 7, 8, 9, 10, 11, 12, 13, 14}\n",
      "Common elements between a set and a list :  {8, 6, 7}\n"
     ]
    }
   ],
   "source": [
    "list_l=[1,2,3,4,5,6,7,8]\n",
    "set_s={6,7,8,9,10,11,12,13,14}\n",
    "\n",
    "print(\"List : \",list_l)\n",
    "print(\"Set : \",set_s)\n",
    "\n",
    "print(\"Common elements between a set and a list : \",set_s.intersection(set(list_l)))"
   ]
  },
  {
   "cell_type": "markdown",
   "id": "28f6f0ea",
   "metadata": {},
   "source": [
    "###### 47. Create a set of the first `n` triangular numbers.\n"
   ]
  },
  {
   "cell_type": "code",
   "execution_count": 30,
   "id": "26c8834d",
   "metadata": {},
   "outputs": [
    {
     "name": "stdout",
     "output_type": "stream",
     "text": [
      "Enter value of n : 10\n",
      "Set of first n triangular numbers :  {1, 3, 36, 6, 10, 45, 15, 21, 55, 28}\n"
     ]
    }
   ],
   "source": [
    "n=int(input(\"Enter value of n : \"))\n",
    "triangular_num=set()\n",
    "x=1\n",
    "temp_list=[]\n",
    "while len(triangular_num)!=n:\n",
    "    \n",
    "    temp_list.append(x)\n",
    "    triangular_num.add(sum(temp_list))\n",
    "    x+=1\n",
    "\n",
    "    \n",
    "print(\"Set of first n triangular numbers : \",triangular_num)"
   ]
  },
  {
   "cell_type": "markdown",
   "id": "bad0568e",
   "metadata": {},
   "source": [
    "###### 48. Check if a set contains another set as a subset."
   ]
  },
  {
   "cell_type": "code",
   "execution_count": 32,
   "id": "cde24c28",
   "metadata": {},
   "outputs": [
    {
     "name": "stdout",
     "output_type": "stream",
     "text": [
      "Set 1 :  {2, 3, 4, 5, 6, 7, 8, 9, 10}\n",
      "Set 2 :  {8, 9, 6, 7}\n",
      "Set 2 is a subset of Set 1\n"
     ]
    }
   ],
   "source": [
    "set1={2,3,4,5,6,7,8,9,10}\n",
    "set2={6,7,8,9}\n",
    "\n",
    "print(\"Set 1 : \",set1)\n",
    "print(\"Set 2 : \",set2)\n",
    "\n",
    "if set2.issubset(set1):\n",
    "    print(\"Set 2 is a subset of Set 1\")\n",
    "    \n",
    "else:\n",
    "    print(\"Set 2 is not a subset of Set 1\")\n",
    "    \n"
   ]
  },
  {
   "cell_type": "markdown",
   "id": "02e63e3a",
   "metadata": {},
   "source": [
    "###### 49. Create a set of alternating 1s and 0s of length `n`.\n"
   ]
  },
  {
   "cell_type": "code",
   "execution_count": 38,
   "id": "f27a796a",
   "metadata": {},
   "outputs": [
    {
     "name": "stdout",
     "output_type": "stream",
     "text": [
      "Enter value of n : 5\n",
      "Set of alternating 1s and 0s of length 5 {0, 1}\n"
     ]
    }
   ],
   "source": [
    "n=int(input(\"Enter value of n : \"))\n",
    "b=False\n",
    "list_1=[]\n",
    "while len(list_1)!=n:\n",
    "    b=not b\n",
    "    list_1.append(1 if b else 0)\n",
    "    \n",
    "print(\"Set of alternating 1s and 0s of length\",n,set(list_1))"
   ]
  },
  {
   "cell_type": "markdown",
   "id": "bb797db3",
   "metadata": {},
   "source": [
    "###### 50. Merge multiple sets into one.\n"
   ]
  },
  {
   "cell_type": "code",
   "execution_count": 39,
   "id": "a9d68ce6",
   "metadata": {},
   "outputs": [
    {
     "name": "stdout",
     "output_type": "stream",
     "text": [
      "Merged set :  {1, 2, 3, 4, 5, 6, 7, 8, 9, 10, 11, 12, 13, 14, 15, 16, 17, 18}\n"
     ]
    }
   ],
   "source": [
    "list_sets =[{1,2,3},{4,5,6,7},{6,7,8,9},{10,11,12,12,13},{14,15,16,17,18}]\n",
    "merged_set=set()\n",
    "# Merge multiple sets into a single set\n",
    "for s in list_sets:\n",
    "    merged_set.update(s)\n",
    "    \n",
    "print(\"Merged set : \",merged_set)"
   ]
  },
  {
   "cell_type": "code",
   "execution_count": null,
   "id": "f8b4e736",
   "metadata": {},
   "outputs": [],
   "source": []
  }
 ],
 "metadata": {
  "kernelspec": {
   "display_name": "Python 3 (ipykernel)",
   "language": "python",
   "name": "python3"
  },
  "language_info": {
   "codemirror_mode": {
    "name": "ipython",
    "version": 3
   },
   "file_extension": ".py",
   "mimetype": "text/x-python",
   "name": "python",
   "nbconvert_exporter": "python",
   "pygments_lexer": "ipython3",
   "version": "3.9.12"
  }
 },
 "nbformat": 4,
 "nbformat_minor": 5
}
