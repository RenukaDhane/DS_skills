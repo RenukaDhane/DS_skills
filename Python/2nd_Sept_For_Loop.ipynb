{
 "cells": [
  {
   "cell_type": "markdown",
   "id": "7b788f2d",
   "metadata": {},
   "source": [
    "### Basic Level:"
   ]
  },
  {
   "cell_type": "markdown",
   "id": "f9da76ec",
   "metadata": {},
   "source": [
    "###### 1. Write a Python program to print the numbers from 1 to 10 using a `for` loop.\n"
   ]
  },
  {
   "cell_type": "code",
   "execution_count": 1,
   "id": "688f5153",
   "metadata": {},
   "outputs": [
    {
     "name": "stdout",
     "output_type": "stream",
     "text": [
      "1\n",
      "2\n",
      "3\n",
      "4\n",
      "5\n",
      "6\n",
      "7\n",
      "8\n",
      "9\n",
      "10\n"
     ]
    }
   ],
   "source": [
    "for i in range(1,11):\n",
    "    print(i)"
   ]
  },
  {
   "cell_type": "markdown",
   "id": "07d349c6",
   "metadata": {},
   "source": [
    "###### 2. Create a program that calculates the sum of all numbers in a list using a `for` loop."
   ]
  },
  {
   "cell_type": "code",
   "execution_count": 4,
   "id": "dbdaf392",
   "metadata": {},
   "outputs": [
    {
     "name": "stdout",
     "output_type": "stream",
     "text": [
      "List :  [1, 2, 3, 4, 4, 5, 5]\n",
      "Sum of all numbers in a list:  24\n"
     ]
    }
   ],
   "source": [
    "list1=[1,2,3,4,4,5,5]\n",
    "sum=0\n",
    "for n in list1:\n",
    "    sum+=n\n",
    "print(\"List : \",list1)\n",
    "print(\"Sum of all numbers in a list: \",sum)"
   ]
  },
  {
   "cell_type": "markdown",
   "id": "31401e1d",
   "metadata": {},
   "source": [
    "###### 3. Write a program to print the characters of a string in reverse order using a `for` loop."
   ]
  },
  {
   "cell_type": "code",
   "execution_count": 12,
   "id": "6af31440",
   "metadata": {},
   "outputs": [
    {
     "name": "stdout",
     "output_type": "stream",
     "text": [
      "s\n",
      "l\n",
      "l\n",
      "i\n",
      "k\n",
      "s\n",
      "w\n",
      "p\n"
     ]
    }
   ],
   "source": [
    "s=\"pwskills\"\n",
    "reverse_s=\"\"\n",
    "for char in s[::-1] :\n",
    "    print(char)\n",
    "    \n"
   ]
  },
  {
   "cell_type": "markdown",
   "id": "4f97a0d3",
   "metadata": {},
   "source": [
    "###### 4. Develop a program that finds the factorial of a given number using a `for` loop."
   ]
  },
  {
   "cell_type": "code",
   "execution_count": 20,
   "id": "9305912b",
   "metadata": {},
   "outputs": [
    {
     "name": "stdout",
     "output_type": "stream",
     "text": [
      "Factorial of given number using for loop :  24\n"
     ]
    }
   ],
   "source": [
    "n=4\n",
    "factorial=1\n",
    "for i in range(n,0,-1):\n",
    "    factorial*=i\n",
    "    \n",
    "print(\"Factorial of given number using for loop : \",factorial)"
   ]
  },
  {
   "cell_type": "markdown",
   "id": "c7a8a782",
   "metadata": {},
   "source": [
    "###### 5. Create a program to print the multiplication table of a given number using a `for` loop."
   ]
  },
  {
   "cell_type": "code",
   "execution_count": 22,
   "id": "dc95df26",
   "metadata": {},
   "outputs": [
    {
     "name": "stdout",
     "output_type": "stream",
     "text": [
      "Table of 4\n",
      "4X1=4\n",
      "4X2=8\n",
      "4X3=12\n",
      "4X4=16\n",
      "4X5=20\n",
      "4X6=24\n",
      "4X7=28\n",
      "4X8=32\n",
      "4X9=36\n",
      "4X10=40\n"
     ]
    }
   ],
   "source": [
    "n=4\n",
    "print(f\"Table of {n}\")\n",
    "for i in range(1,11):\n",
    "    print(f\"4X{i}={4*i}\")"
   ]
  },
  {
   "cell_type": "markdown",
   "id": "2f965009",
   "metadata": {},
   "source": [
    "###### 6. Write a program that counts the number of even and odd numbers in a list using a `for` loop."
   ]
  },
  {
   "cell_type": "code",
   "execution_count": 23,
   "id": "a5e78098",
   "metadata": {},
   "outputs": [
    {
     "name": "stdout",
     "output_type": "stream",
     "text": [
      "List :  [34, 45, 56, 67, 78, 89, 90, 91, 21, 3141]\n",
      "Number of even numbers in list :  4\n",
      "Number of odd numbers in list :  6\n"
     ]
    }
   ],
   "source": [
    "list1=[34,45,56,67,78,89,90,91,21,3141]\n",
    "count_even=0\n",
    "count_odd=0\n",
    "for n in list1:\n",
    "    if n%2==0:\n",
    "        count_even+=1\n",
    "        \n",
    "    else:\n",
    "        count_odd+=1 \n",
    "        \n",
    "print(\"List : \", list1)\n",
    "print(\"Number of even numbers in list : \",count_even)\n",
    "print(\"Number of odd numbers in list : \",count_odd)"
   ]
  },
  {
   "cell_type": "markdown",
   "id": "7936a87c",
   "metadata": {},
   "source": [
    "###### 7. Develop a program that prints the squares of numbers from 1 to 5 using a `for` loop."
   ]
  },
  {
   "cell_type": "code",
   "execution_count": 25,
   "id": "8c99c26b",
   "metadata": {},
   "outputs": [
    {
     "name": "stdout",
     "output_type": "stream",
     "text": [
      "squares of numbers from 1 to 5 using a for loop\n",
      "1\n",
      "4\n",
      "9\n",
      "16\n",
      "25\n"
     ]
    }
   ],
   "source": [
    "print(\"squares of numbers from 1 to 5 using a for loop\")\n",
    "for i in range(1,6):\n",
    "    print(i*i)"
   ]
  },
  {
   "cell_type": "markdown",
   "id": "5487567c",
   "metadata": {},
   "source": [
    "###### 8. Create a program to find the length of a string without using the `len()` function."
   ]
  },
  {
   "cell_type": "code",
   "execution_count": 27,
   "id": "1c8b23b5",
   "metadata": {},
   "outputs": [
    {
     "name": "stdout",
     "output_type": "stream",
     "text": [
      "String :  pwskills\n",
      "Length of string without using len() function :  8\n"
     ]
    }
   ],
   "source": [
    "s=\"pwskills\"\n",
    "count=0\n",
    "print(\"String : \",s)\n",
    "for i in s:\n",
    "    count+=1\n",
    "\n",
    "print(\"Length of string without using len() function : \",count)"
   ]
  },
  {
   "cell_type": "markdown",
   "id": "ca763a88",
   "metadata": {},
   "source": [
    "###### 9. Write a program that calculates the average of a list of numbers using a `for` loop."
   ]
  },
  {
   "cell_type": "code",
   "execution_count": 30,
   "id": "5884f1d3",
   "metadata": {},
   "outputs": [
    {
     "name": "stdout",
     "output_type": "stream",
     "text": [
      "List :  [10, 20, 30, 40, 50, 60, 70]\n",
      "Average is :  40.0\n"
     ]
    }
   ],
   "source": [
    "list1=[10,20,30,40,50,60,70]\n",
    "sum=0\n",
    "print(\"List : \",list1)\n",
    "for i,n in enumerate(list1):\n",
    "    sum+=n\n",
    "    if i==len(list1)-1:\n",
    "        print(\"Average is : \",sum/len(list1))\n",
    "    \n"
   ]
  },
  {
   "cell_type": "markdown",
   "id": "c90adfd8",
   "metadata": {},
   "source": [
    "###### 10. Develop a program that prints the first `n` Fibonacci numbers using a `for` loop."
   ]
  },
  {
   "cell_type": "code",
   "execution_count": 33,
   "id": "6b92cc88",
   "metadata": {},
   "outputs": [
    {
     "name": "stdout",
     "output_type": "stream",
     "text": [
      "Fibonacci numbers :  [0, 1, 1, 2, 3, 5, 8, 13, 21, 34]\n"
     ]
    }
   ],
   "source": [
    "n=10\n",
    "fibo_num=[0,1]\n",
    "for i in range(1,n+1):\n",
    "    if i in [1,2]:\n",
    "        continue\n",
    "    else:\n",
    "        fibo_num.append(fibo_num[-1]+fibo_num[-2])\n",
    "    if i==n:\n",
    "        print(\"Fibonacci numbers : \",fibo_num)"
   ]
  },
  {
   "cell_type": "markdown",
   "id": "0a46726c",
   "metadata": {},
   "source": [
    "### Intermediate Level:"
   ]
  },
  {
   "cell_type": "markdown",
   "id": "a66a5831",
   "metadata": {},
   "source": [
    "###### 11. Write a program to check if a given list contains any duplicates using a `for` loop."
   ]
  },
  {
   "cell_type": "code",
   "execution_count": 4,
   "id": "8080599e",
   "metadata": {},
   "outputs": [
    {
     "name": "stdout",
     "output_type": "stream",
     "text": [
      "List :  [12, 23, 34, 45, 56, 67, 78, 89, 90, 23, 34, 45, 56]\n",
      "List contains duplicates\n"
     ]
    }
   ],
   "source": [
    "list1=[12,23,34,45,56,67,78,89,90,23,34,45,56]\n",
    "print(\"List : \",list1)\n",
    "\n",
    "for n in list1:\n",
    "    if list1.count(n)>1:\n",
    "        print(\"List contains duplicates\")\n",
    "        break\n",
    "\n",
    "else:\n",
    "    print(\"List does not contain duplicates\")"
   ]
  },
  {
   "cell_type": "markdown",
   "id": "1b064c2e",
   "metadata": {},
   "source": [
    "###### 12. Create a program that prints the prime numbers in a given range using a `for` loop."
   ]
  },
  {
   "cell_type": "code",
   "execution_count": 8,
   "id": "e049b9e5",
   "metadata": {},
   "outputs": [
    {
     "name": "stdout",
     "output_type": "stream",
     "text": [
      "Enter lower limit of range : 30\n",
      "Enter upper limit of range : 50\n",
      "List of prime numbers in given range :  [31, 37, 41, 43, 47]\n"
     ]
    }
   ],
   "source": [
    "import math\n",
    "\n",
    "x1=int(input(\"Enter lower limit of range : \"))\n",
    "x2=int(input(\"Enter upper limit of range : \"))\n",
    "prime_list=[]\n",
    "if x1<=0 or x2<=0:\n",
    "    print(\"Invalid input\")\n",
    "else:\n",
    "    for n in range(x1,x2+1):\n",
    "        if n==1:\n",
    "            continue\n",
    "            \n",
    "        elif n==2:\n",
    "            prime_list.append(n)\n",
    "            \n",
    "        else:\n",
    "            for i in range(2,int(round(math.sqrt(n)))+1):\n",
    "                if i!=n and n%i==0:\n",
    "                    break\n",
    "            else:\n",
    "                prime_list.append(n) \n",
    "                    \n",
    "print(\"List of prime numbers in given range : \",prime_list)\n",
    "\n"
   ]
  },
  {
   "cell_type": "markdown",
   "id": "f3eb20b0",
   "metadata": {},
   "source": [
    "###### 13. Develop a program that counts the number of vowels in a string using a `for` loop."
   ]
  },
  {
   "cell_type": "code",
   "execution_count": 11,
   "id": "eaf5e26f",
   "metadata": {},
   "outputs": [
    {
     "name": "stdout",
     "output_type": "stream",
     "text": [
      "String :  Today is Monday\n",
      "Number of vowels in string :  5\n"
     ]
    }
   ],
   "source": [
    "s=\"Today is Monday\"\n",
    "vowel_count=0\n",
    "for char in s :\n",
    "    if char!=' ' and char.lower() in ['a','e','i','o','u']:\n",
    "        vowel_count+=1\n",
    "        \n",
    "print(\"String : \",s)\n",
    "print(\"Number of vowels in string : \",vowel_count)"
   ]
  },
  {
   "cell_type": "markdown",
   "id": "812d8ade",
   "metadata": {},
   "source": [
    "###### 14. Write a program to find the maximum element in a 2D list using a nested `for` loop."
   ]
  },
  {
   "cell_type": "code",
   "execution_count": 16,
   "id": "4f4e6c92",
   "metadata": {},
   "outputs": [
    {
     "name": "stdout",
     "output_type": "stream",
     "text": [
      "2D list :  [[1, 2, 3, 4, 5], [100, 23, 34, 56], [30, 30, 300, 400], [6, 7, 8, 9, 0]]\n",
      "Maximum element in a 2D list using a nested for loop is :  400\n"
     ]
    }
   ],
   "source": [
    "list2d=[[1,2,3,4,5],[100,23,34,56],[30,30,300,400],[6,7,8,9,0]]\n",
    "print(\"2D list : \",list2d)\n",
    "max_val=0\n",
    "\n",
    "for sublist in list2d:\n",
    "    for element in sublist:\n",
    "        if element>max_val:\n",
    "            max_val=element\n",
    "            \n",
    "print(\"Maximum element in a 2D list using a nested for loop is : \",max_val)\n"
   ]
  },
  {
   "cell_type": "code",
   "execution_count": 13,
   "id": "d462b3ac",
   "metadata": {},
   "outputs": [
    {
     "data": {
      "text/plain": [
       "[[1, 2, 3, 4, 5], [100, 23, 34, 56], [30, 30, 300, 400], [6, 7, 8, 9, 0]]"
      ]
     },
     "execution_count": 13,
     "metadata": {},
     "output_type": "execute_result"
    }
   ],
   "source": [
    "list2d"
   ]
  },
  {
   "cell_type": "markdown",
   "id": "7909ed52",
   "metadata": {},
   "source": [
    "###### 15. Create a program that removes all occurrences of a specific element from a list using a `for` loop."
   ]
  },
  {
   "cell_type": "code",
   "execution_count": 17,
   "id": "0566f37d",
   "metadata": {},
   "outputs": [
    {
     "name": "stdout",
     "output_type": "stream",
     "text": [
      "List :  [23, 34, 56, 7, 88, 99, 200, 33, 34, 33, 34]\n",
      "Enter element to remove34\n",
      "Removed all occurance of  34 using a for loop :  [23, 56, 7, 88, 99, 200, 33, 33]\n"
     ]
    }
   ],
   "source": [
    "list1=[23,34,56,7,88,99,200,33,34,33,34]\n",
    "print(\"List : \",list1)\n",
    "list2=[]\n",
    "x=int(input(\"Enter element to remove\"))\n",
    "for n in list1:\n",
    "    if n!=x:\n",
    "        list2.append(n)\n",
    "\n",
    "print(\"Removed all occurance of \",x,\"using a for loop : \",list2)"
   ]
  },
  {
   "cell_type": "markdown",
   "id": "8acecfa0",
   "metadata": {},
   "source": [
    "###### 16. Develop a program that generates a multiplication table for numbers from 1 to 5 using a nested `for` loop."
   ]
  },
  {
   "cell_type": "code",
   "execution_count": 18,
   "id": "1a0e4381",
   "metadata": {},
   "outputs": [
    {
     "name": "stdout",
     "output_type": "stream",
     "text": [
      "\n",
      "\n",
      "Table of 1 is : \n",
      "1 X 1==1\n",
      "1 X 2==2\n",
      "1 X 3==3\n",
      "1 X 4==4\n",
      "1 X 5==5\n",
      "1 X 6==6\n",
      "1 X 7==7\n",
      "1 X 8==8\n",
      "1 X 9==9\n",
      "1 X 10==10\n",
      "\n",
      "\n",
      "Table of 2 is : \n",
      "2 X 1==2\n",
      "2 X 2==4\n",
      "2 X 3==6\n",
      "2 X 4==8\n",
      "2 X 5==10\n",
      "2 X 6==12\n",
      "2 X 7==14\n",
      "2 X 8==16\n",
      "2 X 9==18\n",
      "2 X 10==20\n",
      "\n",
      "\n",
      "Table of 3 is : \n",
      "3 X 1==3\n",
      "3 X 2==6\n",
      "3 X 3==9\n",
      "3 X 4==12\n",
      "3 X 5==15\n",
      "3 X 6==18\n",
      "3 X 7==21\n",
      "3 X 8==24\n",
      "3 X 9==27\n",
      "3 X 10==30\n",
      "\n",
      "\n",
      "Table of 4 is : \n",
      "4 X 1==4\n",
      "4 X 2==8\n",
      "4 X 3==12\n",
      "4 X 4==16\n",
      "4 X 5==20\n",
      "4 X 6==24\n",
      "4 X 7==28\n",
      "4 X 8==32\n",
      "4 X 9==36\n",
      "4 X 10==40\n",
      "\n",
      "\n",
      "Table of 5 is : \n",
      "5 X 1==5\n",
      "5 X 2==10\n",
      "5 X 3==15\n",
      "5 X 4==20\n",
      "5 X 5==25\n",
      "5 X 6==30\n",
      "5 X 7==35\n",
      "5 X 8==40\n",
      "5 X 9==45\n",
      "5 X 10==50\n"
     ]
    }
   ],
   "source": [
    "for x in range(1,6):\n",
    "    print(\"\\n\")\n",
    "    print(f\"Table of {x} is : \")\n",
    "    for y in range(1,11):\n",
    "        print(f\"{x} X {y}=={x*y}\")\n"
   ]
  },
  {
   "cell_type": "markdown",
   "id": "e9c182ec",
   "metadata": {},
   "source": [
    "###### 17. Write a program that converts a list of Fahrenheit temperatures to Celsius using a `for` loop."
   ]
  },
  {
   "cell_type": "code",
   "execution_count": 20,
   "id": "52aa7a4b",
   "metadata": {},
   "outputs": [
    {
     "name": "stdout",
     "output_type": "stream",
     "text": [
      "list of Fahrenheit temperatures :  [100, 105, 200, 300, 400, 250]\n",
      "List of Fahrenheit temperatures converted to Celsius using a for loop :  [37.78, 40.56, 93.33, 148.89, 204.44, 121.11]\n"
     ]
    }
   ],
   "source": [
    "list_fahrenheit=[100,105,200,300,400,250]\n",
    "list_celsius=[]\n",
    "for t in list_fahrenheit:\n",
    "    t_c=round((t-32)*(5/9),2)\n",
    "    list_celsius.append(t_c)\n",
    "    \n",
    "print(\"list of Fahrenheit temperatures : \",list_fahrenheit)   \n",
    "print(\"List of Fahrenheit temperatures converted to Celsius using a for loop : \",list_celsius)   \n"
   ]
  },
  {
   "cell_type": "markdown",
   "id": "eb07ca7f",
   "metadata": {},
   "source": [
    "###### 18. Create a program to print the common elements from two lists using a `for` loop."
   ]
  },
  {
   "cell_type": "code",
   "execution_count": 21,
   "id": "8e9ebb31",
   "metadata": {},
   "outputs": [
    {
     "name": "stdout",
     "output_type": "stream",
     "text": [
      "List 1 :  [23, 34, 56, 78, 200, 89, 60, 90, 32]\n",
      "List 2 :  [34, 78, 89, 32, 57, 99, 8]\n",
      "Common elements from two lists using a for loop :  [34, 78, 89, 32]\n"
     ]
    }
   ],
   "source": [
    "list1=[23,34,56,78,200,89,60,90,32]\n",
    "list2=[34,78,89,32,57,99,8]\n",
    "common_elements=[]\n",
    "\n",
    "for n in list1:\n",
    "    if n in list2:\n",
    "        common_elements.append(n)\n",
    "        \n",
    "print(\"List 1 : \",list1)\n",
    "print(\"List 2 : \",list2)\n",
    "print(\"Common elements from two lists using a for loop : \",common_elements)"
   ]
  },
  {
   "cell_type": "markdown",
   "id": "f174758e",
   "metadata": {},
   "source": [
    "###### 19. Develop a program that prints the pattern of right-angled triangles using a `for` loop. Use ‘*’ to draw the pattern\n"
   ]
  },
  {
   "cell_type": "code",
   "execution_count": 26,
   "id": "6003a2f0",
   "metadata": {},
   "outputs": [
    {
     "name": "stdout",
     "output_type": "stream",
     "text": [
      "*  \n",
      "\n",
      "*  *  \n",
      "\n",
      "*  *  *  \n",
      "\n",
      "*  *  *  *  \n",
      "\n",
      "*  *  *  *  *  \n",
      "\n",
      "*  *  *  *  *  *  \n",
      "\n",
      "*  *  *  *  *  *  *  \n",
      "\n",
      "*  *  *  *  *  *  *  *  \n",
      "\n",
      "*  *  *  *  *  *  *  *  *  \n",
      "\n",
      "*  *  *  *  *  *  *  *  *  *  \n",
      "\n"
     ]
    }
   ],
   "source": [
    "for n in range(1,11):\n",
    "    for i in range(n):\n",
    "        print(\"*\",end=\"  \")\n",
    "    print(\"\\n\")"
   ]
  },
  {
   "cell_type": "markdown",
   "id": "9494b995",
   "metadata": {},
   "source": [
    "###### 20. Write a program to find the greatest common divisor (GCD) of two numbers using a `for` loop."
   ]
  },
  {
   "cell_type": "code",
   "execution_count": 28,
   "id": "703a02e4",
   "metadata": {},
   "outputs": [
    {
     "name": "stdout",
     "output_type": "stream",
     "text": [
      "Enter first number : 128\n",
      "Enter second number : 96\n",
      "GCD of the two numbers is :  32\n"
     ]
    }
   ],
   "source": [
    "x1=int(input(\"Enter first number : \"))\n",
    "x2=int(input(\"Enter second number : \"))\n",
    "common_divisors=[]\n",
    "for divisor in range(1,max([x1,x2])):\n",
    "    if x1%divisor==0 and x2%divisor==0 :\n",
    "        common_divisors.append(divisor)\n",
    "        \n",
    "print(\"GCD of the two numbers is : \",max(common_divisors))"
   ]
  },
  {
   "cell_type": "markdown",
   "id": "8a3ce8db",
   "metadata": {},
   "source": [
    "### Advanced Level:"
   ]
  },
  {
   "cell_type": "markdown",
   "id": "32ed0927",
   "metadata": {},
   "source": [
    "###### 21. Create a program that calculates the sum of the digits of numbers in a list using a list comprehension."
   ]
  },
  {
   "cell_type": "code",
   "execution_count": 25,
   "id": "b871d189",
   "metadata": {},
   "outputs": [
    {
     "name": "stdout",
     "output_type": "stream",
     "text": [
      "List of numbers :  [23, 56, 67, 81, 90, 11, 12, 0]\n",
      "Sum of the digits of numbers in a list using a list comprehension [5, 11, 13, 9, 9, 2, 3, 0]\n"
     ]
    }
   ],
   "source": [
    "# Define function to calculate sum of digits of a number\n",
    "def sum_of_digits(n):\n",
    "    sum=0\n",
    "    while n!=0:\n",
    "        sum+=n%10\n",
    "        n=n//10\n",
    "    return sum \n",
    "\n",
    "\n",
    "# Using list comprehension to calculate sum of digits for each number in the list\n",
    "original_list=[23,56,67,81,90,11,12,0]\n",
    "print(\"List of numbers : \",original_list)\n",
    "print(\"Sum of the digits of numbers in a list using a list comprehension\",[sum_of_digits(n) for n in original_list])\n",
    "    "
   ]
  },
  {
   "cell_type": "markdown",
   "id": "5370fc5d",
   "metadata": {},
   "source": [
    "###### 22. Write a program to find the prime factors of a given number using a `for` loop and list comprehension.*"
   ]
  },
  {
   "cell_type": "code",
   "execution_count": 52,
   "id": "1272b392",
   "metadata": {},
   "outputs": [
    {
     "name": "stdout",
     "output_type": "stream",
     "text": [
      "Number :  330\n",
      "Prime factors of a given number using a for loop and list comprehension :  [2, 3, 5, 11]\n"
     ]
    }
   ],
   "source": [
    "# Define function to check if factor is prime\n",
    "import math \n",
    "def isPrime(n):\n",
    "    if n==1:\n",
    "        return False\n",
    "    else:\n",
    "        for i in range(2,round(math.sqrt(n))+1):\n",
    "            if i!=n and n%i==0:\n",
    "                return False\n",
    "        else:\n",
    "            return True\n",
    "\n",
    "# 1.Number        \n",
    "number=330\n",
    "factors=[]\n",
    "\n",
    "# 2.Calculate factors of number using for loop\n",
    "for n in range(1,number+1):\n",
    "    if number%n==0:\n",
    "        factors.append(n)\n",
    "\n",
    "# 3.Filter prime factors from all factors using list comprehension\n",
    "print(\"Number : \",number)\n",
    "print(\"Prime factors of a given number using a for loop and list comprehension : \",[x for x in factors if isPrime(x)])\n"
   ]
  },
  {
   "cell_type": "markdown",
   "id": "f46030d7",
   "metadata": {},
   "source": [
    "###### 23. Develop a program that extracts unique elements from a list and stores them in a new list using a list comprehension."
   ]
  },
  {
   "cell_type": "code",
   "execution_count": 55,
   "id": "efc359b0",
   "metadata": {},
   "outputs": [
    {
     "name": "stdout",
     "output_type": "stream",
     "text": [
      "List of numbers :  [23, 45, 65, 76, 87, 23, 45, 76, 66, 65, 13, 11, 12, 3, 5, 6]\n",
      "Unique elements using comprehension :  [87, 66, 13, 11, 12, 3, 5, 6]\n"
     ]
    }
   ],
   "source": [
    "original_list=[23,45,65,76,87,23,45,76,66,65,13,11,12,3,5,6]\n",
    "\n",
    "print(\"List of numbers : \",original_list)\n",
    "new_list=[x for x in original_list if  original_list.count(x)==1]\n",
    "\n",
    "print(\"Unique elements using comprehension : \",new_list)"
   ]
  },
  {
   "cell_type": "markdown",
   "id": "1af15cac",
   "metadata": {},
   "source": [
    "###### 24. Create a program that generates a list of all palindromic numbers up to a specified limit using a list comprehension."
   ]
  },
  {
   "cell_type": "code",
   "execution_count": 59,
   "id": "d9124e38",
   "metadata": {},
   "outputs": [
    {
     "name": "stdout",
     "output_type": "stream",
     "text": [
      "Enter a specific positive integer limit : 100\n",
      "Palindrome numbers upto given limit :  [0, 1, 2, 3, 4, 5, 6, 7, 8, 9, 11, 22, 33, 44, 55, 66, 77, 88, 99]\n"
     ]
    }
   ],
   "source": [
    "# Define a function to check if a number is palindrome\n",
    "def isPalindrome(n):\n",
    "    n_str=str(n)\n",
    "    if n_str==n_str[::-1]:\n",
    "        return True\n",
    "    else:\n",
    "        return False\n",
    "\n",
    "# Input limit from user\n",
    "limit=int(input(\"Enter a specific positive integer limit : \"))\n",
    "# Print palindrome numbers upto limit \n",
    "print(\"Palindrome numbers upto given limit : \",[x for x in range(limit+1) if isPalindrome(x)]) "
   ]
  },
  {
   "cell_type": "markdown",
   "id": "3ec0d35c",
   "metadata": {},
   "source": [
    "###### 25. Write a program to flatten a nested list using list comprehension"
   ]
  },
  {
   "cell_type": "code",
   "execution_count": 65,
   "id": "4a7edc4d",
   "metadata": {},
   "outputs": [
    {
     "name": "stdout",
     "output_type": "stream",
     "text": [
      "Nested list :  [[23, 34, 45, 56, 67, 78, 89], [3, 4, 5, 6, 7], [67, 78, 89, 90], [34, 33, 22, 44, 55, 66, 77]]\n",
      "Flattened list :  [23, 34, 45, 56, 67, 78, 89, 3, 4, 5, 6, 7, 67, 78, 89, 90, 34, 33, 22, 44, 55, 66, 77]\n"
     ]
    }
   ],
   "source": [
    "nested_list=[[23,34,45,56,67,78,89],[3,4,5,6,7],[67,78,89,90],[34,33,22,44,55,66,77]]\n",
    "\n",
    "print(\"Nested list : \",nested_list)\n",
    "print(\"Flattened list : \",[n for x in nested_list for n in x ])"
   ]
  },
  {
   "cell_type": "markdown",
   "id": "c66f7369",
   "metadata": {},
   "source": [
    "###### 26. Develop a program that computes the sum of even and odd numbers in a list separately using list comprehension."
   ]
  },
  {
   "cell_type": "code",
   "execution_count": 67,
   "id": "f6c1668d",
   "metadata": {},
   "outputs": [
    {
     "name": "stdout",
     "output_type": "stream",
     "text": [
      "List :  [1, 2, 3, 4, 5, 6, 7, 8, 9]\n",
      "Sum of even numbers :  20\n",
      "Sum of odd numbers :  25\n"
     ]
    }
   ],
   "source": [
    "num_list=[1,2,3,4,5,6,7,8,9]\n",
    "print(\"List : \",num_list)\n",
    "even_numbers=[x for x in num_list if x%2==0]\n",
    "odd_numbers=[x for x in num_list if x%2!=0]\n",
    "\n",
    "print(\"Sum of even numbers : \",sum(even_numbers))\n",
    "print(\"Sum of odd numbers : \",sum(odd_numbers))"
   ]
  },
  {
   "cell_type": "markdown",
   "id": "2533cc4a",
   "metadata": {},
   "source": [
    "###### 27. Create a program that generates a list of squares of odd numbers between 1 and 10 using list comprehension."
   ]
  },
  {
   "cell_type": "code",
   "execution_count": 68,
   "id": "573667ec",
   "metadata": {},
   "outputs": [
    {
     "name": "stdout",
     "output_type": "stream",
     "text": [
      "List of squares of odd numbers between 1 and 10 using list comprehension:\n",
      " [1, 9, 25, 49, 81]\n"
     ]
    }
   ],
   "source": [
    "print(\"List of squares of odd numbers between 1 and 10 using list comprehension:\\n\",[x**2 for x in range(1,11) if x%2!=0])"
   ]
  },
  {
   "cell_type": "markdown",
   "id": "9a6e4012",
   "metadata": {},
   "source": [
    "###### 28. Write a program that combines two lists into a dictionary using list comprehension."
   ]
  },
  {
   "cell_type": "code",
   "execution_count": 69,
   "id": "10939a45",
   "metadata": {},
   "outputs": [
    {
     "name": "stdout",
     "output_type": "stream",
     "text": [
      "List 1 :  ['a', 'b', 'c', 'd', 'e', 'f', 'g']\n",
      "List 2 :  [1, 2, 3, 4, 5, 6, 7]\n",
      "Combine two lists into a dictionary using list comprehension :  {'a': 1, 'b': 2, 'c': 3, 'd': 4, 'e': 5, 'f': 6, 'g': 7}\n"
     ]
    }
   ],
   "source": [
    "list1=['a','b','c','d','e','f','g']\n",
    "list2=[1,2,3,4,5,6,7]\n",
    "\n",
    "print(\"List 1 : \",list1)\n",
    "print(\"List 2 : \",list2)\n",
    "print(\"Combine two lists into a dictionary using list comprehension : \",{k:v for (k,v) in zip(list1,list2) })"
   ]
  },
  {
   "cell_type": "markdown",
   "id": "6a851cb7",
   "metadata": {},
   "source": [
    "###### 29. Develop a program that extracts the vowels from a string and stores them in a list using list comprehension."
   ]
  },
  {
   "cell_type": "code",
   "execution_count": 70,
   "id": "2adf4b42",
   "metadata": {},
   "outputs": [
    {
     "name": "stdout",
     "output_type": "stream",
     "text": [
      "String :  Today is Thursday\n",
      "Vowels from string :  ['o', 'a', 'i', 'u', 'a']\n"
     ]
    }
   ],
   "source": [
    "s=\"Today is Thursday\"\n",
    "print(\"String : \",s)\n",
    "new_list=[char for char in s if char!=' ' and char.lower() in ['a','e','i','o','u']]\n",
    "print(\"Vowels from string : \",new_list)"
   ]
  },
  {
   "cell_type": "markdown",
   "id": "b99110b5",
   "metadata": {},
   "source": [
    "###### 30. Create a program that removes all non-numeric characters from a list of strings using list comprehension."
   ]
  },
  {
   "cell_type": "code",
   "execution_count": 74,
   "id": "25024328",
   "metadata": {},
   "outputs": [
    {
     "name": "stdout",
     "output_type": "stream",
     "text": [
      "List of strings :  ['sdss3434', '454545hgghgh', '!!!!errrr565656', '***fddfdfvcrr']\n",
      "Remove all non-numeric characters from a list of strings using list comprehension :  ['3434', '454545', '565656', '']\n"
     ]
    }
   ],
   "source": [
    "list_s=[\"sdss3434\",\"454545hgghgh\",\"!!!!errrr565656\",\"***fddfdfvcrr\"]\n",
    "print(\"List of strings : \",list_s)\n",
    "new_list=[]\n",
    "for s in list_s:\n",
    "    new_str=''.join([char for char in s if char.isdigit()])\n",
    "    new_list.append(new_str)\n",
    "print(\"Remove all non-numeric characters from a list of strings using list comprehension : \",new_list)"
   ]
  },
  {
   "cell_type": "markdown",
   "id": "8af7494c",
   "metadata": {},
   "source": [
    "### Challenge Level:"
   ]
  },
  {
   "cell_type": "markdown",
   "id": "05e30be5",
   "metadata": {},
   "source": [
    "###### 31. Write a program to generate a list of prime numbers using the Sieve of Eratosthenes algorithm and list comprehension."
   ]
  },
  {
   "cell_type": "code",
   "execution_count": 16,
   "id": "b4a3a9e3",
   "metadata": {},
   "outputs": [
    {
     "name": "stdout",
     "output_type": "stream",
     "text": [
      "List of numbers from 2 to 50 :  [2, 3, 4, 5, 6, 7, 8, 9, 10, 11, 12, 13, 14, 15, 16, 17, 18, 19, 20, 21, 22, 23, 24, 25, 26, 27, 28, 29, 30, 31, 32, 33, 34, 35, 36, 37, 38, 39, 40, 41, 42, 43, 44, 45, 46, 47, 48, 49, 50]\n",
      "\n",
      "\n",
      "List of primes :  [2, 3, 5, 7, 11, 13, 17, 19, 23, 29, 31, 37, 41, 43, 47]\n"
     ]
    }
   ],
   "source": [
    "# Program to generate a list of prime numbers using the Sieve of Eratosthenes algorithm and list comprehension\n",
    "\n",
    "#1. list of numbers from 2 to 50\n",
    "list_numbers=[i for i in range(2,51)]\n",
    "print(\"List of numbers from 2 to 50 : \",list_numbers)\n",
    "\n",
    "#2. Using the Sieve of Eratosthenes algorithm and list comprehension\n",
    "i=0\n",
    "x=list_numbers[i]\n",
    "\n",
    "# Loop until unmarked number is last number in list\n",
    "while x !=list_numbers[-1]:\n",
    "    # list comprehension gives unmarked numbers \n",
    "    list_numbers=[n for n in list_numbers if not (n%x==0 and n>=x**2)]\n",
    "    \n",
    "    # Increment to next unmarked number\n",
    "    i+=1\n",
    "    # Next unmarked number\n",
    "    x=list_numbers[i]\n",
    "    \n",
    "print(\"\\n\")\n",
    "print(\"List of primes : \",list_numbers)"
   ]
  },
  {
   "cell_type": "markdown",
   "id": "9603743d",
   "metadata": {},
   "source": [
    "###### 32. Create a program that generates a list of all Pythagorean triplets up to a specified limit using list comprehension.\n",
    "    \n"
   ]
  },
  {
   "cell_type": "code",
   "execution_count": 30,
   "id": "a906ca67",
   "metadata": {},
   "outputs": [
    {
     "name": "stdout",
     "output_type": "stream",
     "text": [
      "Enter positive integer limit for Pythagorean triplets : 20\n",
      "List of all Pythagorean triplets up to limit using list comprehension :  [(3, 4, 5), (8, 6, 10), (5, 12, 13), (15, 8, 17), (12, 16, 20)]\n"
     ]
    }
   ],
   "source": [
    "# Program that generates a list of all Pythagorean triplets up to a specified limit using list comprehension\n",
    "\n",
    "limit=int(input(\"Enter positive integer limit for Pythagorean triplets : \"))\n",
    "m=2\n",
    "list_py_triplets=[]\n",
    "\n",
    "# Generate Pythagorean Triplets a =m**2 -n**2, b=2*m*n ,c=m**2 + n**2   a,b,c form pythagorean triplet\n",
    "while True :\n",
    "   \n",
    "    list1=[(m**2 - n**2, 2*m*n , m**2 + n**2) for n in range(1,m) if (m**2 +n**2) <=limit]\n",
    "    if not list1:\n",
    "        break\n",
    "    list_py_triplets.extend(list1)\n",
    "    m+=1\n",
    "    \n",
    "    \n",
    "print(\"List of all Pythagorean triplets up to limit using list comprehension : \" ,list_py_triplets)"
   ]
  },
  {
   "cell_type": "markdown",
   "id": "dc3d625a",
   "metadata": {},
   "source": [
    "###### 33. Develop a program that generates a list of all possible combinations of two lists using list comprehension."
   ]
  },
  {
   "cell_type": "code",
   "execution_count": 35,
   "id": "9da997ce",
   "metadata": {},
   "outputs": [
    {
     "name": "stdout",
     "output_type": "stream",
     "text": [
      "List 1  ['a', 'b', 'c', 'd', 'e', 'f', 'g', 'h', 'i', 'j', 'k', 'l']\n",
      "List 2  [1, 2, 3, 4, 5, 6, 7, 8, 9, 10, 11, 12]\n",
      "\n",
      "\n",
      "All possible combinations of two lists using list comprehension : \n",
      " [('a', 1), ('a', 2), ('a', 3), ('a', 4), ('a', 5), ('a', 6), ('a', 7), ('a', 8), ('a', 9), ('a', 10), ('a', 11), ('a', 12), ('b', 1), ('b', 2), ('b', 3), ('b', 4), ('b', 5), ('b', 6), ('b', 7), ('b', 8), ('b', 9), ('b', 10), ('b', 11), ('b', 12), ('c', 1), ('c', 2), ('c', 3), ('c', 4), ('c', 5), ('c', 6), ('c', 7), ('c', 8), ('c', 9), ('c', 10), ('c', 11), ('c', 12), ('d', 1), ('d', 2), ('d', 3), ('d', 4), ('d', 5), ('d', 6), ('d', 7), ('d', 8), ('d', 9), ('d', 10), ('d', 11), ('d', 12), ('e', 1), ('e', 2), ('e', 3), ('e', 4), ('e', 5), ('e', 6), ('e', 7), ('e', 8), ('e', 9), ('e', 10), ('e', 11), ('e', 12), ('f', 1), ('f', 2), ('f', 3), ('f', 4), ('f', 5), ('f', 6), ('f', 7), ('f', 8), ('f', 9), ('f', 10), ('f', 11), ('f', 12), ('g', 1), ('g', 2), ('g', 3), ('g', 4), ('g', 5), ('g', 6), ('g', 7), ('g', 8), ('g', 9), ('g', 10), ('g', 11), ('g', 12), ('h', 1), ('h', 2), ('h', 3), ('h', 4), ('h', 5), ('h', 6), ('h', 7), ('h', 8), ('h', 9), ('h', 10), ('h', 11), ('h', 12), ('i', 1), ('i', 2), ('i', 3), ('i', 4), ('i', 5), ('i', 6), ('i', 7), ('i', 8), ('i', 9), ('i', 10), ('i', 11), ('i', 12), ('j', 1), ('j', 2), ('j', 3), ('j', 4), ('j', 5), ('j', 6), ('j', 7), ('j', 8), ('j', 9), ('j', 10), ('j', 11), ('j', 12), ('k', 1), ('k', 2), ('k', 3), ('k', 4), ('k', 5), ('k', 6), ('k', 7), ('k', 8), ('k', 9), ('k', 10), ('k', 11), ('k', 12), ('l', 1), ('l', 2), ('l', 3), ('l', 4), ('l', 5), ('l', 6), ('l', 7), ('l', 8), ('l', 9), ('l', 10), ('l', 11), ('l', 12)]\n"
     ]
    }
   ],
   "source": [
    "# Program that generates a list of all possible combinations of two lists using list comprehension.\n",
    "list1=['a','b','c','d','e','f','g','h','i','j','k','l']\n",
    "list2=[1,2,3,4,5,6,7,8,9,10,11,12]\n",
    "\n",
    "print(\"List 1 \",list1)\n",
    "print(\"List 2 \",list2)\n",
    "print(\"\\n\")\n",
    "combinations1=[ (ele1,ele2) for ele1 in list1 for ele2 in list2 ]\n",
    "print(\"All possible combinations of two lists using list comprehension : \\n\",combinations1)"
   ]
  },
  {
   "cell_type": "markdown",
   "id": "b6912ee9",
   "metadata": {},
   "source": [
    "###### 34. Write a program that calculates the mean, median, and mode of a list of numbers using list comprehension."
   ]
  },
  {
   "cell_type": "code",
   "execution_count": 46,
   "id": "d57543a0",
   "metadata": {},
   "outputs": [
    {
     "name": "stdout",
     "output_type": "stream",
     "text": [
      "Given data :  [1, 2, 3, 4, 5, 6, 7, 8, 9, 10, 11, 12, 12, 12, 12, 12, 12]\n",
      "Mean , median ,mode  using list comprehension are as follows :  [8.117647058823529, 9.0, 12]\n"
     ]
    }
   ],
   "source": [
    "import numpy as np\n",
    "import statistics as s\n",
    "def calculate_centre_tendency(list1,index):\n",
    "    if index==0:\n",
    "        return np.mean(list1)\n",
    "    elif index==1:\n",
    "        return np.median(list1)\n",
    "    elif index==2:\n",
    "        return s.mode(list1)\n",
    "    \n",
    "\n",
    "list1=[1,2,3,4,5,6,7,8,9,10,11,12,12,12,12,12,12]\n",
    "\n",
    "# Calculate mean,median,mode using list comprehension\n",
    "result=[calculate_centre_tendency(list1,index) for index in range(3)]\n",
    "\n",
    "print(\"Given data : \",list1)\n",
    "print(\"Mean , median ,mode  using list comprehension are as follows : \",result)\n",
    "\n"
   ]
  },
  {
   "cell_type": "markdown",
   "id": "955122f5",
   "metadata": {},
   "source": [
    "###### 35. Create a program that generates Pascal's triangle up to a specified number of rows using list comprehension."
   ]
  },
  {
   "cell_type": "code",
   "execution_count": 47,
   "id": "e0ea6320",
   "metadata": {},
   "outputs": [
    {
     "name": "stdout",
     "output_type": "stream",
     "text": [
      "Enter number of rows of Pascal's triangle : 6\n",
      "Pascal's triangle using list comprehension is : \n",
      "       1 \n",
      "\n",
      "      1 1 \n",
      "\n",
      "     1 2 1 \n",
      "\n",
      "    1 3 3 1 \n",
      "\n",
      "   1 4 6 4 1 \n",
      "\n",
      "  1 5 10 10 5 1 \n",
      "\n"
     ]
    }
   ],
   "source": [
    "def factorial_of(n):\n",
    "    if n==0:\n",
    "        return 1\n",
    "    \n",
    "    product=1\n",
    "    for x in range(1,n+1):\n",
    "        product=product*x\n",
    "    return product\n",
    "\n",
    "def calculate_pascal_row(n):\n",
    "    row=[]\n",
    "    for r in range(n+1):\n",
    "        row.append(int(factorial_of(n)/(factorial_of(n-r)*factorial_of(r))))\n",
    "    return row\n",
    "\n",
    "# Get number of rows \n",
    "num_rows =int(input(\"Enter number of rows of Pascal's triangle : \"))\n",
    "\n",
    "# Calculate values in a pascal triangle using list comprehension\n",
    "pascal_triangle =[calculate_pascal_row(n) for n in range(num_rows) ]\n",
    "\n",
    "print(\"Pascal's triangle using list comprehension is : \")\n",
    "# Display pascal triangle \n",
    "for index,row in enumerate(pascal_triangle):\n",
    "    for i in range(num_rows-index+1):\n",
    "        print(end=\" \")\n",
    "    for val in row:\n",
    "        print(val,end=\" \")\n",
    "\n",
    "    print(\"\\n\")\n"
   ]
  },
  {
   "cell_type": "markdown",
   "id": "92dcaf09",
   "metadata": {},
   "source": [
    "###### 36. Develop a program that calculates the sum of the digits of a factorial of numbers from 1 to 5 using list  comprehension."
   ]
  },
  {
   "cell_type": "code",
   "execution_count": 54,
   "id": "8519d6d9",
   "metadata": {},
   "outputs": [
    {
     "name": "stdout",
     "output_type": "stream",
     "text": [
      "Factorials from 1 to 5 :  [1, 2, 6, 24, 120]\n",
      "sum of the digits of a factorial of numbers from 1 to 5 using list comprehension : [1, 2, 6, 6, 3]\n"
     ]
    }
   ],
   "source": [
    "def factorial_of(n):\n",
    "    if n==0:\n",
    "        return 1\n",
    "    \n",
    "    product=1\n",
    "    for x in range(1,n+1):\n",
    "        product=product*x\n",
    "    return product\n",
    "\n",
    "def sum_digits(x):\n",
    "    sum=0\n",
    "    while x!=0:\n",
    "        sum=sum+x%10\n",
    "        x =x//10 \n",
    "    return sum\n",
    "\n",
    "factorials_1_5= [factorial_of(n) for n in range(1,6)]\n",
    "print(\"Factorials from 1 to 5 : \",factorials_1_5)\n",
    "print(\"sum of the digits of a factorial of numbers from 1 to 5 using list comprehension :\", [sum_digits(x) for x in factorials_1_5])   \n",
    "\n",
    "        \n",
    " "
   ]
  },
  {
   "cell_type": "markdown",
   "id": "c2f38be8",
   "metadata": {},
   "source": [
    "###### 37. Write a program that finds the longest word in a sentence using list comprehension."
   ]
  },
  {
   "cell_type": "code",
   "execution_count": 7,
   "id": "754dd932",
   "metadata": {},
   "outputs": [
    {
     "name": "stdout",
     "output_type": "stream",
     "text": [
      "longest word in a sentence using list comprehension :  ['experiences']\n"
     ]
    }
   ],
   "source": [
    "sentence = \"Alice in Wonderland is a story of little girl Alice and her experiences in the fantasy world of Wonderland\"\n",
    "list_words=sentence.split()\n",
    "# Nested list comprehension\n",
    "l= [ word for word in list_words if len(word)==max([len(word) for word in list_words])]\n",
    "# Output\n",
    "print(\"longest word in a sentence using list comprehension : \",l)"
   ]
  },
  {
   "cell_type": "markdown",
   "id": "e6f5f216",
   "metadata": {},
   "source": [
    "###### 38. Create a program that filters a list of strings to include only those with more than three vowels using list comprehension.\n"
   ]
  },
  {
   "cell_type": "code",
   "execution_count": 13,
   "id": "33f68756",
   "metadata": {},
   "outputs": [
    {
     "name": "stdout",
     "output_type": "stream",
     "text": [
      "List of strings :  ['Alice', 'in', 'Wonderland', 'is', 'a', 'story', 'of', 'little', 'girl', 'Alice', 'and', 'her', 'experiences', 'in', 'the', 'fantasy', 'world', 'of', 'Wonderland']\n",
      "\n",
      "\n",
      "Strings with more than three vowels using list comprehension :  ['experiences']\n"
     ]
    }
   ],
   "source": [
    "def get_number_of_vowels(word):\n",
    "    count=0\n",
    "    for char in word:\n",
    "        if char in ['a','e','i','o','u']:\n",
    "            count+=1\n",
    "    return count       \n",
    "        \n",
    "        \n",
    "sentence = \"Alice in Wonderland is a story of little girl Alice and her experiences in the fantasy world of Wonderland\"\n",
    "list_words=sentence.split()\n",
    "print(\"List of strings : \",list_words) \n",
    "l=[word for word in list_words if get_number_of_vowels(word)>3]\n",
    "print(\"\\n\")\n",
    "print(\"Strings with more than three vowels using list comprehension : \",l)"
   ]
  },
  {
   "cell_type": "markdown",
   "id": "2793242c",
   "metadata": {},
   "source": [
    "###### 39. Develop a program that calculates the sum of the digits of numbers from 1 to 1000 using list comprehension."
   ]
  },
  {
   "cell_type": "code",
   "execution_count": 14,
   "id": "42a9bfc0",
   "metadata": {},
   "outputs": [
    {
     "name": "stdout",
     "output_type": "stream",
     "text": [
      "Sum of digits of numbers from 1 to 1000 using list comprehension :  [1, 2, 3, 4, 5, 6, 7, 8, 9, 1, 2, 3, 4, 5, 6, 7, 8, 9, 10, 2, 3, 4, 5, 6, 7, 8, 9, 10, 11, 3, 4, 5, 6, 7, 8, 9, 10, 11, 12, 4, 5, 6, 7, 8, 9, 10, 11, 12, 13, 5, 6, 7, 8, 9, 10, 11, 12, 13, 14, 6, 7, 8, 9, 10, 11, 12, 13, 14, 15, 7, 8, 9, 10, 11, 12, 13, 14, 15, 16, 8, 9, 10, 11, 12, 13, 14, 15, 16, 17, 9, 10, 11, 12, 13, 14, 15, 16, 17, 18, 1, 2, 3, 4, 5, 6, 7, 8, 9, 10, 2, 3, 4, 5, 6, 7, 8, 9, 10, 11, 3, 4, 5, 6, 7, 8, 9, 10, 11, 12, 4, 5, 6, 7, 8, 9, 10, 11, 12, 13, 5, 6, 7, 8, 9, 10, 11, 12, 13, 14, 6, 7, 8, 9, 10, 11, 12, 13, 14, 15, 7, 8, 9, 10, 11, 12, 13, 14, 15, 16, 8, 9, 10, 11, 12, 13, 14, 15, 16, 17, 9, 10, 11, 12, 13, 14, 15, 16, 17, 18, 10, 11, 12, 13, 14, 15, 16, 17, 18, 19, 2, 3, 4, 5, 6, 7, 8, 9, 10, 11, 3, 4, 5, 6, 7, 8, 9, 10, 11, 12, 4, 5, 6, 7, 8, 9, 10, 11, 12, 13, 5, 6, 7, 8, 9, 10, 11, 12, 13, 14, 6, 7, 8, 9, 10, 11, 12, 13, 14, 15, 7, 8, 9, 10, 11, 12, 13, 14, 15, 16, 8, 9, 10, 11, 12, 13, 14, 15, 16, 17, 9, 10, 11, 12, 13, 14, 15, 16, 17, 18, 10, 11, 12, 13, 14, 15, 16, 17, 18, 19, 11, 12, 13, 14, 15, 16, 17, 18, 19, 20, 3, 4, 5, 6, 7, 8, 9, 10, 11, 12, 4, 5, 6, 7, 8, 9, 10, 11, 12, 13, 5, 6, 7, 8, 9, 10, 11, 12, 13, 14, 6, 7, 8, 9, 10, 11, 12, 13, 14, 15, 7, 8, 9, 10, 11, 12, 13, 14, 15, 16, 8, 9, 10, 11, 12, 13, 14, 15, 16, 17, 9, 10, 11, 12, 13, 14, 15, 16, 17, 18, 10, 11, 12, 13, 14, 15, 16, 17, 18, 19, 11, 12, 13, 14, 15, 16, 17, 18, 19, 20, 12, 13, 14, 15, 16, 17, 18, 19, 20, 21, 4, 5, 6, 7, 8, 9, 10, 11, 12, 13, 5, 6, 7, 8, 9, 10, 11, 12, 13, 14, 6, 7, 8, 9, 10, 11, 12, 13, 14, 15, 7, 8, 9, 10, 11, 12, 13, 14, 15, 16, 8, 9, 10, 11, 12, 13, 14, 15, 16, 17, 9, 10, 11, 12, 13, 14, 15, 16, 17, 18, 10, 11, 12, 13, 14, 15, 16, 17, 18, 19, 11, 12, 13, 14, 15, 16, 17, 18, 19, 20, 12, 13, 14, 15, 16, 17, 18, 19, 20, 21, 13, 14, 15, 16, 17, 18, 19, 20, 21, 22, 5, 6, 7, 8, 9, 10, 11, 12, 13, 14, 6, 7, 8, 9, 10, 11, 12, 13, 14, 15, 7, 8, 9, 10, 11, 12, 13, 14, 15, 16, 8, 9, 10, 11, 12, 13, 14, 15, 16, 17, 9, 10, 11, 12, 13, 14, 15, 16, 17, 18, 10, 11, 12, 13, 14, 15, 16, 17, 18, 19, 11, 12, 13, 14, 15, 16, 17, 18, 19, 20, 12, 13, 14, 15, 16, 17, 18, 19, 20, 21, 13, 14, 15, 16, 17, 18, 19, 20, 21, 22, 14, 15, 16, 17, 18, 19, 20, 21, 22, 23, 6, 7, 8, 9, 10, 11, 12, 13, 14, 15, 7, 8, 9, 10, 11, 12, 13, 14, 15, 16, 8, 9, 10, 11, 12, 13, 14, 15, 16, 17, 9, 10, 11, 12, 13, 14, 15, 16, 17, 18, 10, 11, 12, 13, 14, 15, 16, 17, 18, 19, 11, 12, 13, 14, 15, 16, 17, 18, 19, 20, 12, 13, 14, 15, 16, 17, 18, 19, 20, 21, 13, 14, 15, 16, 17, 18, 19, 20, 21, 22, 14, 15, 16, 17, 18, 19, 20, 21, 22, 23, 15, 16, 17, 18, 19, 20, 21, 22, 23, 24, 7, 8, 9, 10, 11, 12, 13, 14, 15, 16, 8, 9, 10, 11, 12, 13, 14, 15, 16, 17, 9, 10, 11, 12, 13, 14, 15, 16, 17, 18, 10, 11, 12, 13, 14, 15, 16, 17, 18, 19, 11, 12, 13, 14, 15, 16, 17, 18, 19, 20, 12, 13, 14, 15, 16, 17, 18, 19, 20, 21, 13, 14, 15, 16, 17, 18, 19, 20, 21, 22, 14, 15, 16, 17, 18, 19, 20, 21, 22, 23, 15, 16, 17, 18, 19, 20, 21, 22, 23, 24, 16, 17, 18, 19, 20, 21, 22, 23, 24, 25, 8, 9, 10, 11, 12, 13, 14, 15, 16, 17, 9, 10, 11, 12, 13, 14, 15, 16, 17, 18, 10, 11, 12, 13, 14, 15, 16, 17, 18, 19, 11, 12, 13, 14, 15, 16, 17, 18, 19, 20, 12, 13, 14, 15, 16, 17, 18, 19, 20, 21, 13, 14, 15, 16, 17, 18, 19, 20, 21, 22, 14, 15, 16, 17, 18, 19, 20, 21, 22, 23, 15, 16, 17, 18, 19, 20, 21, 22, 23, 24, 16, 17, 18, 19, 20, 21, 22, 23, 24, 25, 17, 18, 19, 20, 21, 22, 23, 24, 25, 26, 9, 10, 11, 12, 13, 14, 15, 16, 17, 18, 10, 11, 12, 13, 14, 15, 16, 17, 18, 19, 11, 12, 13, 14, 15, 16, 17, 18, 19, 20, 12, 13, 14, 15, 16, 17, 18, 19, 20, 21, 13, 14, 15, 16, 17, 18, 19, 20, 21, 22, 14, 15, 16, 17, 18, 19, 20, 21, 22, 23, 15, 16, 17, 18, 19, 20, 21, 22, 23, 24, 16, 17, 18, 19, 20, 21, 22, 23, 24, 25, 17, 18, 19, 20, 21, 22, 23, 24, 25, 26, 18, 19, 20, 21, 22, 23, 24, 25, 26, 27, 1]\n"
     ]
    }
   ],
   "source": [
    "def cal_sum_digits(n):\n",
    "    sum=0\n",
    "    while (n!=0):\n",
    "        sum=sum+(n%10)\n",
    "        n=n//10\n",
    "    return sum\n",
    "\n",
    "print (\"Sum of digits of numbers from 1 to 1000 using list comprehension : \",[cal_sum_digits(n) for n in range(1,1001)])"
   ]
  },
  {
   "cell_type": "markdown",
   "id": "38d1a3da",
   "metadata": {},
   "source": [
    "###### 40. Write a program that generates a list of prime palindromic numbers using list comprehension."
   ]
  },
  {
   "cell_type": "code",
   "execution_count": 23,
   "id": "812a1705",
   "metadata": {},
   "outputs": [
    {
     "name": "stdout",
     "output_type": "stream",
     "text": [
      "Enter positive integer limit for prime palindromes : 1000\n",
      "List of prime palindromic numbers using list comprehension :  [2, 3, 5, 7, 11, 101, 131, 151, 181, 191, 313, 353, 373, 383, 727, 757, 787, 797, 919, 929]\n"
     ]
    }
   ],
   "source": [
    "import math\n",
    "def generate_primes(n):\n",
    "    primes=[]\n",
    "    for x in range(1,n+1):\n",
    "        if x==1:\n",
    "            continue\n",
    "        for i in range(2,round(math.sqrt(x))+1):\n",
    "            if x!=i and x%i==0 :\n",
    "                break\n",
    "        else:\n",
    "            primes.append(x)\n",
    "            \n",
    "    return primes\n",
    "\n",
    "def check_palindrome(n):\n",
    "    str_num=str(n)\n",
    "    if str_num==str_num[::-1]:\n",
    "        return True\n",
    "    else:\n",
    "        return False\n",
    "\n",
    "n =int(input(\"Enter positive integer limit for prime palindromes : \" ))\n",
    "l=[ x for x in generate_primes(n) if check_palindrome(x)]\n",
    "print(\"List of prime palindromic numbers using list comprehension : \",l)"
   ]
  },
  {
   "cell_type": "code",
   "execution_count": null,
   "id": "6f6a83f5",
   "metadata": {},
   "outputs": [],
   "source": []
  }
 ],
 "metadata": {
  "kernelspec": {
   "display_name": "Python 3 (ipykernel)",
   "language": "python",
   "name": "python3"
  },
  "language_info": {
   "codemirror_mode": {
    "name": "ipython",
    "version": 3
   },
   "file_extension": ".py",
   "mimetype": "text/x-python",
   "name": "python",
   "nbconvert_exporter": "python",
   "pygments_lexer": "ipython3",
   "version": "3.9.12"
  }
 },
 "nbformat": 4,
 "nbformat_minor": 5
}
