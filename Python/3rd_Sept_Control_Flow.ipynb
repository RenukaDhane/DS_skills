{
 "cells": [
  {
   "cell_type": "markdown",
   "id": "13a14699",
   "metadata": {},
   "source": [
    "### Basic If-Else Statements:"
   ]
  },
  {
   "cell_type": "markdown",
   "id": "9f641114",
   "metadata": {},
   "source": [
    "###### 1. Write a Python program to check if a given number is positive or negative."
   ]
  },
  {
   "cell_type": "code",
   "execution_count": 40,
   "id": "97df394f",
   "metadata": {},
   "outputs": [
    {
     "name": "stdout",
     "output_type": "stream",
     "text": [
      "Enter a number : -40\n",
      "Given number is negative\n"
     ]
    }
   ],
   "source": [
    "n=int(input(\"Enter a number : \"))\n",
    "\n",
    "if n<0:\n",
    "    print(\"Given number is negative\")\n",
    "\n",
    "if n==0:\n",
    "        print(\"Given number is zero\")\n",
    "else:\n",
    "    if n>0:\n",
    "        print(\"Given number is positive\")"
   ]
  },
  {
   "cell_type": "markdown",
   "id": "235c3db1",
   "metadata": {},
   "source": [
    "###### 2. Create a program that determines if a person is eligible to vote based on their age."
   ]
  },
  {
   "cell_type": "code",
   "execution_count": 5,
   "id": "eb49e40e",
   "metadata": {},
   "outputs": [
    {
     "name": "stdout",
     "output_type": "stream",
     "text": [
      "Enter age of person : 12\n",
      "Person is not eligible to vote\n"
     ]
    }
   ],
   "source": [
    "age=int(input(\"Enter age of person : \"))\n",
    "if age<18:\n",
    "    print(\"Person is not eligible to vote\")\n",
    "else:\n",
    "    print(\"Person is eligible to vote\")"
   ]
  },
  {
   "cell_type": "markdown",
   "id": "5617abc5",
   "metadata": {},
   "source": [
    "###### 3. Develop a program to find the maximum of two numbers using if-else statements."
   ]
  },
  {
   "cell_type": "code",
   "execution_count": 44,
   "id": "f3044356",
   "metadata": {},
   "outputs": [
    {
     "name": "stdout",
     "output_type": "stream",
     "text": [
      "Enter first number : 67\n",
      "Enter second number : 100\n",
      "Maximum of two numbers 67.0 and 100.0 is 100.0\n"
     ]
    }
   ],
   "source": [
    "n1=float(input(\"Enter first number : \"))\n",
    "n2=float(input(\"Enter second number : \"))\n",
    "\n",
    "if n1>n2:\n",
    "    print(f\"Maximum of two numbers {n1} and {n2} is {n1}\")\n",
    "          \n",
    "if n2>n1:\n",
    "    print(f\"Maximum of two numbers {n1} and {n2} is {n2}\") \n",
    "else:\n",
    "    if n1==n2:\n",
    "        print(f\"Maximum of two numbers {n1} and {n2} is {n1}\")"
   ]
  },
  {
   "cell_type": "markdown",
   "id": "92aea0fd",
   "metadata": {},
   "source": [
    "###### 4. Write a Python script to classify a given year as a leap year or not."
   ]
  },
  {
   "cell_type": "code",
   "execution_count": 14,
   "id": "35ccbe17",
   "metadata": {},
   "outputs": [
    {
     "name": "stdout",
     "output_type": "stream",
     "text": [
      "Enter year : 2024\n",
      "2024 is a leap year\n"
     ]
    }
   ],
   "source": [
    "year=int(input(\"Enter year : \"))\n",
    "\n",
    "# check for century year\n",
    "if year%100==0:\n",
    "    if year%400==0:\n",
    "        print(f\"{year} is a leap year\")\n",
    "\n",
    "# check for non-century year\n",
    "elif year%4==0:\n",
    "    print(f\"{year} is a leap year\")\n",
    "    \n",
    "# if both conditions fail then not a leap year\n",
    "else:\n",
    "    print(f\"{year} is not a leap year\")"
   ]
  },
  {
   "cell_type": "markdown",
   "id": "883d7c25",
   "metadata": {},
   "source": [
    "###### 5. Create a program that checks whether a character is a vowel or a consonant.\n"
   ]
  },
  {
   "cell_type": "code",
   "execution_count": 22,
   "id": "af245747",
   "metadata": {},
   "outputs": [
    {
     "name": "stdout",
     "output_type": "stream",
     "text": [
      "Enter a character alphabet : h\n",
      "h is a consonant\n"
     ]
    }
   ],
   "source": [
    "char = input(\"Enter a character alphabet : \")\n",
    "\n",
    "if len(char)==1 and char.isalpha():\n",
    "    if char in ['a','e','i','o','u']:\n",
    "        print(f\"{char} is a vowel\")\n",
    "    \n",
    "    else:\n",
    "        print(f\"{char} is a consonant\")\n",
    "\n",
    "else:\n",
    "    print(\"Invalid Input\")"
   ]
  },
  {
   "cell_type": "markdown",
   "id": "8ed33fda",
   "metadata": {},
   "source": [
    "###### 6. Implement a program to determine whether a given number is even or odd."
   ]
  },
  {
   "cell_type": "code",
   "execution_count": 23,
   "id": "34e58cb0",
   "metadata": {},
   "outputs": [
    {
     "name": "stdout",
     "output_type": "stream",
     "text": [
      "Enter an integer value : 45\n",
      "45 is an odd number\n"
     ]
    }
   ],
   "source": [
    "n=int(input(\"Enter an integer value : \"))\n",
    "\n",
    "if n%2==0:\n",
    "    print(f\"{n} is an even number\")\n",
    "else:\n",
    "    print(f\"{n} is an odd number\")"
   ]
  },
  {
   "cell_type": "markdown",
   "id": "7f62460c",
   "metadata": {},
   "source": [
    "###### 7. Write a Python function to calculate the absolute value of a number without using the `abs()` function."
   ]
  },
  {
   "cell_type": "code",
   "execution_count": 25,
   "id": "9e036169",
   "metadata": {},
   "outputs": [
    {
     "name": "stdout",
     "output_type": "stream",
     "text": [
      "Enter an integer value : -55\n",
      "Abolute value of a -55 is 55\n"
     ]
    }
   ],
   "source": [
    "n=int(input(\"Enter an integer value : \"))\n",
    "abs=0\n",
    "if n<0:\n",
    "    abs=n*(-1)\n",
    "else:\n",
    "    abs=n\n",
    "    \n",
    "print(f\"Abolute value of a {n} is {abs}\")"
   ]
  },
  {
   "cell_type": "markdown",
   "id": "48e7c3a5",
   "metadata": {},
   "source": [
    "###### 8. Develop a program that determines the largest of three given numbers using if-else statements."
   ]
  },
  {
   "cell_type": "code",
   "execution_count": 49,
   "id": "f8ac3ca0",
   "metadata": {},
   "outputs": [
    {
     "name": "stdout",
     "output_type": "stream",
     "text": [
      "Enter first number : 23\n",
      "Enter second number : 34\n",
      "Enter third number : 600\n",
      "Largest of three numbers 23,34,600 is 600\n"
     ]
    }
   ],
   "source": [
    "n1=int(input(\"Enter first number : \"))\n",
    "n2=int(input(\"Enter second number : \"))\n",
    "n3=int(input(\"Enter third number : \"))\n",
    "\n",
    "if n1>n2:\n",
    "    if n1>n3:\n",
    "        print(f\"Largest of three numbers {n1},{n2},{n3} is {n1}\")\n",
    "        \n",
    "    else:\n",
    "        print(f\"Largest of three numbers {n1},{n2},{n3} is {n3}\")\n",
    "        \n",
    "else:\n",
    "    if n2>n3:\n",
    "         print(f\"Largest of three numbers {n1},{n2},{n3} is {n2}\")\n",
    "    else:\n",
    "         print(f\"Largest of three numbers {n1},{n2},{n3} is {n3}\")\n",
    "\n"
   ]
  },
  {
   "cell_type": "markdown",
   "id": "c31dd036",
   "metadata": {},
   "source": [
    "###### 9. Create a program that checks if a given string is a palindrome."
   ]
  },
  {
   "cell_type": "code",
   "execution_count": 32,
   "id": "a898cf52",
   "metadata": {},
   "outputs": [
    {
     "name": "stdout",
     "output_type": "stream",
     "text": [
      "Enter a string : racecar\n",
      "racecar is a palindrome\n"
     ]
    }
   ],
   "source": [
    "s=input(\"Enter a string : \")\n",
    "if s==s[::-1]:\n",
    "    print(f\"{s} is a palindrome\")\n",
    "else:\n",
    "    print(f\"{s} is not a palindrome\")"
   ]
  },
  {
   "cell_type": "markdown",
   "id": "9388fc16",
   "metadata": {},
   "source": [
    "###### 10. Write a Python program to calculate the grade based on a student's score"
   ]
  },
  {
   "cell_type": "code",
   "execution_count": 36,
   "id": "7df4c66b",
   "metadata": {},
   "outputs": [
    {
     "name": "stdout",
     "output_type": "stream",
     "text": [
      "Enter score of student out of 100 : 60\n",
      "Grade C\n"
     ]
    }
   ],
   "source": [
    "score=float(input(\"Enter score of student out of 100 : \"))\n",
    "if score>=80:\n",
    "    print(\"Grade A\")\n",
    "elif score>=70 and score < 80:\n",
    "    print(\"Grade B\")\n",
    "elif score>=60 and score <70:\n",
    "    print(\"Grade C\")\n",
    "elif score >=40 and score <60:\n",
    "    print(\"Grade D\")\n",
    "else:\n",
    "    print(\"Grade E\")"
   ]
  },
  {
   "cell_type": "markdown",
   "id": "e3c2e66d",
   "metadata": {},
   "source": [
    "### Nested If-Else Statements:"
   ]
  },
  {
   "cell_type": "markdown",
   "id": "158280e2",
   "metadata": {},
   "source": [
    "###### 11. Write a program to find the largest among three numbers using nested if-else statements."
   ]
  },
  {
   "cell_type": "code",
   "execution_count": 51,
   "id": "d378cfe8",
   "metadata": {},
   "outputs": [
    {
     "name": "stdout",
     "output_type": "stream",
     "text": [
      "Enter first number : 23\n",
      "Enter second number : 200\n",
      "Enter third number : 156\n",
      "Largest of three numbers 23,200,156 is 200\n"
     ]
    }
   ],
   "source": [
    "n1=int(input(\"Enter first number : \"))\n",
    "n2=int(input(\"Enter second number : \"))\n",
    "n3=int(input(\"Enter third number : \"))\n",
    "\n",
    "if n1>n2:\n",
    "    if n1>n3:\n",
    "        print(f\"Largest of three numbers {n1},{n2},{n3} is {n1}\")\n",
    "        \n",
    "    else:\n",
    "        print(f\"Largest of three numbers {n1},{n2},{n3} is {n3}\")\n",
    "        \n",
    "else:\n",
    "    if n2>n3:\n",
    "         print(f\"Largest of three numbers {n1},{n2},{n3} is {n2}\")\n",
    "    else:\n",
    "         print(f\"Largest of three numbers {n1},{n2},{n3} is {n3}\")\n"
   ]
  },
  {
   "cell_type": "markdown",
   "id": "159e0eb5",
   "metadata": {},
   "source": [
    "###### 12. Implement a program to determine if a triangle is equilateral, isosceles, or scalene."
   ]
  },
  {
   "cell_type": "code",
   "execution_count": 59,
   "id": "7a7f2c83",
   "metadata": {},
   "outputs": [
    {
     "name": "stdout",
     "output_type": "stream",
     "text": [
      "Enter sides of a triangle seperated by space : 23 45 45\n",
      "Isosceles Triangle\n"
     ]
    }
   ],
   "source": [
    "s1,s2,s3=input(\"Enter sides of a triangle seperated by space : \").split()\n",
    "\n",
    "s1=float(s1)\n",
    "s2=float(s2)\n",
    "s3=float(s3)\n",
    "\n",
    "if s1 ==s2==s3:\n",
    "    print(\"Equilateral Triangle\")\n",
    "else :\n",
    "    if s1==s2 or s1==s3 or s2==s3:\n",
    "        print(\"Isosceles Triangle\")\n",
    "    else:\n",
    "        print(\"Scalene Triangle\")"
   ]
  },
  {
   "cell_type": "markdown",
   "id": "dc1cec05",
   "metadata": {},
   "source": [
    "###### 13. Develop a program that checks if a year is a leap year and also if it is a century year."
   ]
  },
  {
   "cell_type": "code",
   "execution_count": 107,
   "id": "a63327b6",
   "metadata": {},
   "outputs": [
    {
     "name": "stdout",
     "output_type": "stream",
     "text": [
      "Enter year : 2023\n",
      "2023 is not a leap year and also not a century year\n"
     ]
    }
   ],
   "source": [
    "year=int(input(\"Enter year : \"))\n",
    "\n",
    "# check for century year\n",
    "if year%100==0:\n",
    "    if year%400==0:\n",
    "        print(f\"{year} is a leap year and also a century year\")\n",
    "    else:\n",
    "        print(f\"{year} is not leap year but it is a century year\")\n",
    "\n",
    "# check for non-century year\n",
    "else:\n",
    "    if year%4==0:\n",
    "        print(f\"{year} is a leap year but not a century year \")\n",
    "    \n",
    "    # if both conditions fail then not a leap year\n",
    "    else:\n",
    "        print(f\"{year} is not a leap year and also not a century year\")"
   ]
  },
  {
   "cell_type": "markdown",
   "id": "ee802ed7",
   "metadata": {},
   "source": [
    "###### 14. Write a Python script to determine if a number is positive, negative, or zero."
   ]
  },
  {
   "cell_type": "code",
   "execution_count": 64,
   "id": "33918e09",
   "metadata": {},
   "outputs": [
    {
     "name": "stdout",
     "output_type": "stream",
     "text": [
      "Enter a number : -66\n",
      "Given number is negative\n"
     ]
    }
   ],
   "source": [
    "n=int(input(\"Enter a number : \"))\n",
    "\n",
    "if n<0:\n",
    "    print(\"Given number is negative\")\n",
    "\n",
    "if n==0:\n",
    "        print(\"Given number is zero\")\n",
    "else:\n",
    "    if n>0:\n",
    "        print(\"Given number is positive\")"
   ]
  },
  {
   "cell_type": "markdown",
   "id": "79d8a716",
   "metadata": {},
   "source": [
    "###### 15. Create a program to check if a person is a teenager (between 13 and 19 years old)."
   ]
  },
  {
   "cell_type": "code",
   "execution_count": 68,
   "id": "65378dff",
   "metadata": {},
   "outputs": [
    {
     "name": "stdout",
     "output_type": "stream",
     "text": [
      "Enter age of a person : 15\n",
      "Person is a teenager\n"
     ]
    }
   ],
   "source": [
    "age=int(input(\"Enter age of a person : \"))\n",
    "if age>=13 and age<=19:\n",
    "    print(\"Person is a teenager\")\n",
    "else:\n",
    "    print(\"Person is not a teenager\")"
   ]
  },
  {
   "cell_type": "markdown",
   "id": "72b2e6f7",
   "metadata": {},
   "source": [
    "###### 16. Develop a program that determines the type of angle based on its measure (acute, obtuse, or right)."
   ]
  },
  {
   "cell_type": "code",
   "execution_count": 77,
   "id": "97119f12",
   "metadata": {},
   "outputs": [
    {
     "name": "stdout",
     "output_type": "stream",
     "text": [
      "Enter meansure of angle : 100\n",
      "Obtuse angle\n"
     ]
    }
   ],
   "source": [
    "angle=float(input(\"Enter meansure of angle : \"))\n",
    "if angle==90:\n",
    "    print(\"Right angle\")\n",
    "else:\n",
    "    if angle<90 and angle>0:\n",
    "          print(\"Acute angle\")\n",
    "    else:\n",
    "        if angle >90 and angle<180:\n",
    "            print(\"Obtuse angle\")"
   ]
  },
  {
   "cell_type": "markdown",
   "id": "72735588",
   "metadata": {},
   "source": [
    "###### 17. Write a Python program to calculate the roots of a quadratic equation."
   ]
  },
  {
   "cell_type": "code",
   "execution_count": 85,
   "id": "dcae25d2",
   "metadata": {},
   "outputs": [
    {
     "name": "stdout",
     "output_type": "stream",
     "text": [
      "Enter coefficient of X square : 8\n",
      "Enter coefficient of X  : 5\n",
      "Enter constant coefficient  : 9\n",
      "Roots of quadratic equation are :  (-0.3125-1.0135796712641785j) (-0.3125+1.0135796712641785j)\n"
     ]
    }
   ],
   "source": [
    "import cmath\n",
    "a= float(input(\"Enter coefficient of X square : \"))\n",
    "b= float(input(\"Enter coefficient of X  : \"))\n",
    "c= float(input(\"Enter constant coefficient  : \"))\n",
    "\n",
    "\n",
    "temp=b**2-4*a*c\n",
    "root1=(-b - cmath.sqrt(temp))/(2*a)\n",
    "root2=(-b + cmath.sqrt(temp))/(2*a) \n",
    "\n",
    "print(\"Roots of quadratic equation are : \", root1,root2)"
   ]
  },
  {
   "cell_type": "markdown",
   "id": "4b947e06",
   "metadata": {},
   "source": [
    "###### 18. Implement a program to determine the day of the week based on a user-provided number (1 for Monday, 2  for Tuesday, etc.)."
   ]
  },
  {
   "cell_type": "code",
   "execution_count": 98,
   "id": "15a40092",
   "metadata": {},
   "outputs": [
    {
     "name": "stdout",
     "output_type": "stream",
     "text": [
      "Enter a integer number between 1 and 7 : 7\n",
      "Sunday\n"
     ]
    }
   ],
   "source": [
    "n=int(input(\"Enter a integer number between 1 and 7 : \"))\n",
    "if n==1:\n",
    "    print(\"Monday\")\n",
    "if n==2:\n",
    "    print(\"Tuesday\")\n",
    "if n==3:\n",
    "    print(\"Wednesday\")\n",
    "if n==4:\n",
    "    print(\"Thursday\")\n",
    "if n==5:\n",
    "    print(\"Friday\")\n",
    "if n==6:\n",
    "    print(\"Saturday\")\n",
    "if n==7:\n",
    "    print(\"Sunday\")\n",
    "if n<1 or n >7:\n",
    "    print(\"Invalid input\")"
   ]
  },
  {
   "cell_type": "markdown",
   "id": "a0b34720",
   "metadata": {},
   "source": [
    "###### 19. Create a program that determines if a year is a leap year and also if it is evenly divisible by 400."
   ]
  },
  {
   "cell_type": "code",
   "execution_count": 103,
   "id": "d1dd463c",
   "metadata": {},
   "outputs": [
    {
     "name": "stdout",
     "output_type": "stream",
     "text": [
      "Enter year : 2000\n",
      "2000 is a leap year and is evenly divisible by 400\n"
     ]
    }
   ],
   "source": [
    "year=int(input(\"Enter year : \"))\n",
    "\n",
    "# check for century year\n",
    "\n",
    "if year%100==0:\n",
    "    if year%400==0:\n",
    "        print(f\"{year} is a leap year and is evenly divisible by 400\")\n",
    "    else:\n",
    "        print(f\"{year} is not leap year and it is not evenly  divisible by 400\")\n",
    "\n",
    "# check for non-century year\n",
    "else:\n",
    "    if year%4==0:\n",
    "        print(f\"{year} is a leap year and it is not evenly  divisible by 400 \")\n",
    "    \n",
    "    else:\n",
    "        print(f\"{year}is not leap year and it is not evenly  divisible by 400\")\n"
   ]
  },
  {
   "cell_type": "markdown",
   "id": "5ef53b26",
   "metadata": {},
   "source": [
    "###### 20. Develop a program that checks if a given number is prime or not using nested if-else statement"
   ]
  },
  {
   "cell_type": "code",
   "execution_count": 117,
   "id": "378496ab",
   "metadata": {},
   "outputs": [
    {
     "name": "stdout",
     "output_type": "stream",
     "text": [
      "Enter a positive integer number : 7\n",
      "7 is a prime number\n"
     ]
    }
   ],
   "source": [
    "import math \n",
    "n=int(input(\"Enter a positive integer number : \"))\n",
    "if n==1:\n",
    "     print(f\"{n} is not a prime number\")\n",
    "else:\n",
    "    for i in range(2,round(math.sqrt(n))+1):\n",
    "        if n!=i and n%i==0:\n",
    "            print(f\"{n} is not a prime number\")\n",
    "            break\n",
    "    else:\n",
    "        print(f\"{n} is a prime number\")"
   ]
  },
  {
   "cell_type": "markdown",
   "id": "c516716e",
   "metadata": {},
   "source": [
    "### Elif Statements:"
   ]
  },
  {
   "cell_type": "markdown",
   "id": "e5a872df",
   "metadata": {},
   "source": [
    "###### 21. Write a Python program to assign grades based on different ranges of scores using elif statements."
   ]
  },
  {
   "cell_type": "code",
   "execution_count": 1,
   "id": "b01fe519",
   "metadata": {},
   "outputs": [
    {
     "name": "stdout",
     "output_type": "stream",
     "text": [
      "Enter score of student out of 100 : 45\n",
      "Grade D\n"
     ]
    }
   ],
   "source": [
    "score=float(input(\"Enter score of student out of 100 : \"))\n",
    "if score>=80:\n",
    "    print(\"Grade A\")\n",
    "elif score>=70 and score < 80:\n",
    "    print(\"Grade B\")\n",
    "elif score>=60 and score <70:\n",
    "    print(\"Grade C\")\n",
    "elif score >=40 and score <60:\n",
    "    print(\"Grade D\")\n",
    "else:\n",
    "    print(\"Grade E\")"
   ]
  },
  {
   "cell_type": "markdown",
   "id": "8b10bb0f",
   "metadata": {},
   "source": [
    "###### 22. Implement a program to determine the type of a triangle based on its angles."
   ]
  },
  {
   "cell_type": "code",
   "execution_count": 6,
   "id": "4c6d3ae9",
   "metadata": {},
   "outputs": [
    {
     "name": "stdout",
     "output_type": "stream",
     "text": [
      "Enter interior angles of triangle seperated by space : 120 30 30\n",
      "Obtuse angled triangle\n"
     ]
    }
   ],
   "source": [
    "angles=input(\"Enter interior angles of triangle seperated by space : \").split()\n",
    "angle1=float(angles[0])\n",
    "angle2=float(angles[1])\n",
    "angle3=float(angles[2])\n",
    "\n",
    "# Check if input is valid \n",
    "if angle1+angle2+angle3==180:\n",
    "\n",
    "    # Check conditions of triangle\n",
    "    if angle1==90 or angle2==90 or angle3==90  :\n",
    "        print(\"Right angled triangle\")\n",
    "        \n",
    "    elif angle1<90 and angle2<90 and angle3<90:\n",
    "          print(\"Acute angled triangle\")\n",
    "            \n",
    "    elif angle1>90 or angle2>90 or angle3>90:\n",
    "            print(\"Obtuse angled triangle\")\n",
    "else:\n",
    "    print(\"Invalid input\")"
   ]
  },
  {
   "cell_type": "markdown",
   "id": "9e72a457",
   "metadata": {},
   "source": [
    "###### 23. Develop a program to categorize a given person's BMI into underweight, normal, overweight, or obese using  elif statements."
   ]
  },
  {
   "cell_type": "code",
   "execution_count": 17,
   "id": "4f677980",
   "metadata": {},
   "outputs": [
    {
     "name": "stdout",
     "output_type": "stream",
     "text": [
      "Enter BMI of person : 20\n",
      "Normal weight\n"
     ]
    }
   ],
   "source": [
    "\"\"\" \n",
    "Underweight: less than or equal to 18.4 kg/m^2\n",
    "Normal weight: 18.5 - 24.9 kg/m^2\n",
    "Overweight: 25.0 - 39.9 kg/m^2\n",
    "Obese: greater than or equal to 40.0 kg/m^2\n",
    "\"\"\"\n",
    "\n",
    "bmi=float(input(\"Enter BMI of person : \"))\n",
    "\n",
    "if bmi<=18.4:\n",
    "    print(\"Underweight\")\n",
    "elif bmi>=18.5 and bmi <=24.9:\n",
    "    print(\"Normal weight\")\n",
    "elif bmi>=25.0 and bmi<=39.9:\n",
    "    print(\"Overweight\")\n",
    "elif bmi >=40:\n",
    "    print(\"Obese\")"
   ]
  },
  {
   "cell_type": "markdown",
   "id": "4fa7ba44",
   "metadata": {},
   "source": [
    "###### 24. Create a program that determines whether a given number is positive, negative, or zero using elif statements."
   ]
  },
  {
   "cell_type": "code",
   "execution_count": 18,
   "id": "a0da125d",
   "metadata": {},
   "outputs": [
    {
     "name": "stdout",
     "output_type": "stream",
     "text": [
      "Enter an integer number : 90\n",
      "positive\n"
     ]
    }
   ],
   "source": [
    "n=int(input(\"Enter an integer number : \"))\n",
    "\n",
    "if n<0:\n",
    "    print(\"negative\")\n",
    "elif n==0:\n",
    "    print(\"zero\")\n",
    "elif n>0:\n",
    "    print(\"positive\")\n",
    "    "
   ]
  },
  {
   "cell_type": "markdown",
   "id": "bbdb700d",
   "metadata": {},
   "source": [
    "###### 25. Write a Python script to determine the type of a character (uppercase, lowercase, or special) using elif  statements."
   ]
  },
  {
   "cell_type": "code",
   "execution_count": 26,
   "id": "f40a285e",
   "metadata": {},
   "outputs": [
    {
     "name": "stdout",
     "output_type": "stream",
     "text": [
      "Enter a character value : $\n",
      "special\n"
     ]
    }
   ],
   "source": [
    "import string\n",
    "char=input(\"Enter a character value : \")\n",
    "\n",
    "if len(char)==1 and char.isdigit()==False:\n",
    "    if char in string.ascii_lowercase:\n",
    "        print(\"Lowercase\")\n",
    "    elif char in string.ascii_uppercase:\n",
    "        print(\"Uppercase\")\n",
    "    else:\n",
    "        print(\"special\")\n",
    "    \n",
    "else:\n",
    "    print(\"Invalid input\")\n"
   ]
  },
  {
   "cell_type": "markdown",
   "id": "8049ea37",
   "metadata": {},
   "source": [
    "###### 26. Implement a program to calculate the discounted price based on different purchase amounts using elif statements."
   ]
  },
  {
   "cell_type": "code",
   "execution_count": 31,
   "id": "47869333",
   "metadata": {},
   "outputs": [
    {
     "name": "stdout",
     "output_type": "stream",
     "text": [
      "Enter the purchase amount : 1800\n",
      "discounted price is 1080.0\n"
     ]
    }
   ],
   "source": [
    "pa=float(input(\"Enter the purchase amount : \"))\n",
    "\n",
    "if pa<500:\n",
    "    # 10 % discount\n",
    "    print(f\"discounted price is {pa - 0.1 * pa}\")\n",
    "elif pa>=500 and pa<1000:\n",
    "    #20% discount\n",
    "    print(f\"discounted price is {pa - 0.2 * pa}\")\n",
    "elif pa>=1000 and pa<1500:\n",
    "    #30% discount\n",
    "    print(f\"discounted price is {pa - 0.3 * pa}\")\n",
    "elif pa>=1500 and pa<2000:\n",
    "    #40% discount\n",
    "    print(f\"discounted price is {pa - 0.4 * pa}\")"
   ]
  },
  {
   "cell_type": "markdown",
   "id": "1660e338",
   "metadata": {},
   "source": [
    "###### 27. Develop a program to calculate the electricity bill based on different consumption slabs using elif statements."
   ]
  },
  {
   "cell_type": "code",
   "execution_count": 33,
   "id": "538afba5",
   "metadata": {},
   "outputs": [
    {
     "name": "stdout",
     "output_type": "stream",
     "text": [
      "Enter number of units : 250\n",
      "Electricity bill is :  3500.0\n"
     ]
    }
   ],
   "source": [
    "\"\"\"\n",
    "1 to 100 units – Rs. 10/unit\n",
    "100 to 200 units – Rs. 15/unit\n",
    "200 to 300 units – Rs. 20/unit\n",
    "above 300 units – Rs. 25/unit\n",
    "u=250\n",
    "Charge for the first 100 units – 10*100 = 1000 \n",
    "Charge for the 100 to 200 units – 15*100 = 1500 \n",
    "Charge for the 200 to 250 units – 20*50 = 1000 \n",
    "Total Electricity Bill = 1000 + 1500 + 1000 = 3500\n",
    "\"\"\"\n",
    "\n",
    "units=float(input(\"Enter number of units : \"))\n",
    "charge=0\n",
    "\n",
    "if units <=100:\n",
    "    charge=units*10\n",
    "    \n",
    "elif units>100 and units<=200:\n",
    "    charge=100*10 + (units-100) *15\n",
    "    \n",
    "elif units >200 and units<=300:\n",
    "    charge=100*10 + 100*15 +(units-200)*20\n",
    "    \n",
    "elif units >300:\n",
    "    charge=100*10 + 100*15 +100*20 +(units-200)*25\n",
    "\n",
    "print(\"Electricity bill is : \",charge)"
   ]
  },
  {
   "cell_type": "markdown",
   "id": "12bb8ecb",
   "metadata": {},
   "source": [
    "###### 28. Create a program to determine the type of quadrilateral based on its angles and sides using elif statements."
   ]
  },
  {
   "cell_type": "code",
   "execution_count": 9,
   "id": "9f20238e",
   "metadata": {},
   "outputs": [
    {
     "name": "stdout",
     "output_type": "stream",
     "text": [
      "Enter 4 sides seperated by space(anticlockwise order): 3 6 6 3\n",
      "Enter 4 angles seperated by space(anticlockwise order): 60 30 60 30\n",
      "Quadrilateral type is : Kite\n"
     ]
    }
   ],
   "source": [
    "sides = input(\"Enter 4 sides seperated by space(anticlockwise order): \")\n",
    "s1,s2,s3,s4= [float(side) for side in sides.split()]\n",
    "angles=input(\"Enter 4 angles seperated by space(anticlockwise order): \")\n",
    "a1,a2,a3,a4=[float(angle) for angle in angles.split()]\n",
    "\n",
    "\n",
    "# Square Property : All sides equal and all angles equal to 90\n",
    "if (s1 ==s2==s3==s4) and (a1 ==90 and a2 ==90 and a3==90 and a4 ==90):\n",
    "    print(\"Quadrilateral type is : Square\")\n",
    "\n",
    "# Rhombus Property : All sides equal and opposite angles equal\n",
    "elif (s1 ==s2==s3==s4) and (a1 ==a3 and a2==a4):\n",
    "    print(\"Quadrilateral type is : Rhombus\")\n",
    "\n",
    "# Rectangle property: Opposite sides are equal and all angles equal to 90\n",
    "elif (s1==s3 and s2==s4) and (a1 ==90 and a2 ==90 and a3==90 and a4 ==90):\n",
    "    print(\"Quadrilateral type is : Rectangle \")\n",
    "    \n",
    "# Parallelogram property :Opposite sides are equal and opposite angles are equal\n",
    "elif (s1==s3 and s2==s4) and (a1 ==a3 and a2==a4):\n",
    "    print(\"Quadrilateral type is : Parallelogram \")\n",
    "\n",
    "# Kite property : Adjacent sides are equal and one pair of opposite angles equal \n",
    "elif (s1==s4 and s2==s3) and (a1==a3 or a2==a3):\n",
    "    print(\"Quadrilateral type is : Kite\")\n",
    "\n",
    "# Trapezium property : sum of adjacent angles is 180°\n",
    "elif ((a1 + a2)==180 and (a3 +a4)==180):\n",
    "    print(\"Quadrilateral type is : Trapezium\")\n"
   ]
  },
  {
   "cell_type": "markdown",
   "id": "4a054924",
   "metadata": {},
   "source": [
    "###### 29. Write a Python script to determine the season based on a user-provided month using elif statements."
   ]
  },
  {
   "cell_type": "code",
   "execution_count": 15,
   "id": "ab757543",
   "metadata": {},
   "outputs": [
    {
     "name": "stdout",
     "output_type": "stream",
     "text": [
      "Enter month of the year : may\n",
      "Summer Season\n"
     ]
    }
   ],
   "source": [
    "spring=(\"February\",\"March\")\n",
    "summer=(\"April\",\"May\",\"June\")\n",
    "monsoon=(\"July\",\"August\",\"September\")\n",
    "autumn=(\"October\",\"November\")\n",
    "winter=(\"December\",\"January\")\n",
    "\n",
    "month=input(\"Enter month of the year : \")\n",
    "\n",
    "if month.title() in spring:\n",
    "    print(\"Spring Season\")\n",
    "\n",
    "elif month.title()  in summer:\n",
    "    print(\"Summer Season\")\n",
    "\n",
    "elif month.title() in monsoon:\n",
    "    print(\"Monsoon Season\")\n",
    "\n",
    "elif month.title() in autumn:\n",
    "    print(\"Autumn Season\")\n",
    "    \n",
    "elif month.title() in winter:\n",
    "    print(\"Winter Season\")\n"
   ]
  },
  {
   "cell_type": "markdown",
   "id": "9297f31d",
   "metadata": {},
   "source": [
    "###### 30. Implement a program to determine the type of a year (leap or common) and month (30 or 31 days) using elif statements"
   ]
  },
  {
   "cell_type": "code",
   "execution_count": 23,
   "id": "0155cd69",
   "metadata": {},
   "outputs": [
    {
     "name": "stdout",
     "output_type": "stream",
     "text": [
      "Enter year and month name seperated by space : 2023 January\n",
      "2023 is not a leap year and days in January 2023 are 31\n"
     ]
    }
   ],
   "source": [
    "year,month= input(\"Enter year and month name seperated by space : \").split()\n",
    "year=int(year)\n",
    "leap_year=False\n",
    "month_days=0\n",
    "\n",
    "if year%100==0:\n",
    "    if year%400==0:\n",
    "        leap_year=True\n",
    "    \n",
    "else:\n",
    "    if year%4==0:\n",
    "        leap_year=True\n",
    "        \n",
    "\n",
    "if month.title() in [\"January\",\"March\",\"May\",\"July\",\"August\",\"October\",\"December\"]  :\n",
    "    month_days=31\n",
    "    \n",
    "elif month.title() in [\"April\",\"June\",\"September\",\"November\"]:\n",
    "     month_days=30\n",
    "\n",
    "elif month.title() in [\"February\"] and leap_year:\n",
    "    month_days=29\n",
    "    \n",
    "elif month.title() in [\"February\"] and not leap_year:\n",
    "    month_days=28\n",
    "    \n",
    "print(f\"{year} is { 'leap year' if leap_year else 'not a leap year'} and days in {month} {year} are {month_days}\")"
   ]
  },
  {
   "cell_type": "markdown",
   "id": "fc50d226",
   "metadata": {},
   "source": [
    "### Basic Level:"
   ]
  },
  {
   "cell_type": "markdown",
   "id": "49a03c03",
   "metadata": {},
   "source": [
    "###### 1. Write a Python program that checks if a given number is positive, negative, or zero."
   ]
  },
  {
   "cell_type": "code",
   "execution_count": 26,
   "id": "6792b969",
   "metadata": {},
   "outputs": [
    {
     "name": "stdout",
     "output_type": "stream",
     "text": [
      "Enter an integer value : -90\n",
      "Negative\n"
     ]
    }
   ],
   "source": [
    "n = int(input(\"Enter an integer value : \")) \n",
    "\n",
    "if n>0:\n",
    "    print(\"positive\")\n",
    "elif n==0:\n",
    "    print(\"Zero\")\n",
    "elif n<0:\n",
    "    print(\"Negative\")\n",
    "    "
   ]
  },
  {
   "cell_type": "markdown",
   "id": "afb3a683",
   "metadata": {},
   "source": [
    "###### 2. Create a program to determine if a person is eligible to vote based on their age."
   ]
  },
  {
   "cell_type": "code",
   "execution_count": 29,
   "id": "15350844",
   "metadata": {},
   "outputs": [
    {
     "name": "stdout",
     "output_type": "stream",
     "text": [
      "Enter age of a person : 12\n",
      "Person is not eligible to vote\n"
     ]
    }
   ],
   "source": [
    "age = int(input(\"Enter age of a person : \")) \n",
    "print(f\"Person is {'eligible' if age>=18 else'not eligible'} to vote\")"
   ]
  },
  {
   "cell_type": "markdown",
   "id": "d8dd914e",
   "metadata": {},
   "source": [
    "###### 3. Write a program to find the maximum of two given numbers using conditional statements."
   ]
  },
  {
   "cell_type": "code",
   "execution_count": 33,
   "id": "37a36269",
   "metadata": {},
   "outputs": [
    {
     "name": "stdout",
     "output_type": "stream",
     "text": [
      "Enter two numbers seperated by space : 43 23\n",
      "Maximum of 43.0 and 23.0 is 43.0\n"
     ]
    }
   ],
   "source": [
    "n1,n2=[ float(n) for n in input(\"Enter two numbers seperated by space : \").split()]\n",
    "print(f\"Maximum of {n1} and {n2} is { n1 if n1>n2 else n2}\")"
   ]
  },
  {
   "cell_type": "markdown",
   "id": "770e6ed7",
   "metadata": {},
   "source": [
    "###### 4. Develop a program that calculates the grade of a student based on their exam score."
   ]
  },
  {
   "cell_type": "code",
   "execution_count": 36,
   "id": "b0a2968a",
   "metadata": {},
   "outputs": [
    {
     "name": "stdout",
     "output_type": "stream",
     "text": [
      "Enter score of student out of 100 : 56\n",
      "Grade D\n"
     ]
    }
   ],
   "source": [
    "score=float(input(\"Enter score of student out of 100 : \"))\n",
    "if score >=80:\n",
    "    print(\"Grade A\")\n",
    "elif score>=70 and score< 80:\n",
    "    print(\"Grade B\")\n",
    "elif score>=60 and score<70:\n",
    "    print(\"Grade C\")\n",
    "elif score>=40 and score<60:\n",
    "    print(\"Grade D\")\n",
    "elif score <40:\n",
    "    print(\"Grade E\")"
   ]
  },
  {
   "cell_type": "markdown",
   "id": "483c2a6e",
   "metadata": {},
   "source": [
    "###### 5. Create a program that checks if a year is a leap year or not."
   ]
  },
  {
   "cell_type": "code",
   "execution_count": 40,
   "id": "f21135e3",
   "metadata": {},
   "outputs": [
    {
     "name": "stdout",
     "output_type": "stream",
     "text": [
      "Enter a year : 2000\n",
      "2000 is a leap year\n"
     ]
    }
   ],
   "source": [
    "y=int(input(\"Enter a year : \"))\n",
    "leap_year=False\n",
    "if y%100==0 and y%400 ==0:\n",
    "    leap_year=True\n",
    "elif y%4==0:\n",
    "    leap_year=True\n",
    "    \n",
    "print(f\"{y} is {'a leap year' if leap_year else 'not a leap year'}\")    "
   ]
  },
  {
   "cell_type": "markdown",
   "id": "8333efc0",
   "metadata": {},
   "source": [
    "###### 6. Write a program to classify a triangle based on its sides' lengths."
   ]
  },
  {
   "cell_type": "code",
   "execution_count": 43,
   "id": "eb378f1f",
   "metadata": {},
   "outputs": [
    {
     "name": "stdout",
     "output_type": "stream",
     "text": [
      "Enter sides of a triangle seperated by space : 23 45 67\n",
      "Scalene Triangle\n"
     ]
    }
   ],
   "source": [
    "s1,s2,s3=[ float(s) for s in input(\"Enter sides of a triangle seperated by space : \").split()]\n",
    "if s1==s2==s3:\n",
    "    print(\"Equilateral Triangle\")\n",
    "elif s1==s2 or s2==s3 or s1==s3:\n",
    "    print(\"Isoseles Triangle\")\n",
    "else:\n",
    "    print(\"Scalene Triangle\")\n"
   ]
  },
  {
   "cell_type": "markdown",
   "id": "4693c226",
   "metadata": {},
   "source": [
    "###### 7. Build a program that determines the largest of three given numbers."
   ]
  },
  {
   "cell_type": "code",
   "execution_count": 47,
   "id": "e48fb9bc",
   "metadata": {},
   "outputs": [
    {
     "name": "stdout",
     "output_type": "stream",
     "text": [
      "Enter 3 numbers seperated by space : 23 555 23\n",
      "Largest of three numbers is :  555.0\n"
     ]
    }
   ],
   "source": [
    "n1,n2,n3=[ float(n) for n in input(\"Enter 3 numbers seperated by space : \").split()]\n",
    "largest_num=0\n",
    "if n1>n2:\n",
    "    if n1>n3:\n",
    "        largest_num=n1\n",
    "    else:\n",
    "        largest_num=n3\n",
    "else:\n",
    "    if n2>n3:\n",
    "        largest_num=n2\n",
    "    else:\n",
    "        largest_num=n3\n",
    "        \n",
    "print(\"Largest of three numbers is : \",largest_num)"
   ]
  },
  {
   "cell_type": "markdown",
   "id": "e8a33e22",
   "metadata": {},
   "source": [
    "###### 8. Develop a program that checks whether a character is a vowel or a consonant."
   ]
  },
  {
   "cell_type": "code",
   "execution_count": 52,
   "id": "88277656",
   "metadata": {},
   "outputs": [
    {
     "name": "stdout",
     "output_type": "stream",
     "text": [
      "Enter an alphabetic character: e\n",
      "Character is a vowel\n"
     ]
    }
   ],
   "source": [
    "import string\n",
    "char =input(\"Enter an alphabetic character: \")\n",
    "if char in string.ascii_letters:\n",
    "    if char in ['a','e','i','o','u']:\n",
    "        print(\"Character is a vowel\")\n",
    "    else:\n",
    "        print(\"Character is a consonant\")\n",
    "else:\n",
    "    print(\"Invalid input !\")"
   ]
  },
  {
   "cell_type": "markdown",
   "id": "245c3821",
   "metadata": {},
   "source": [
    "###### 9. Create a program to calculate the total cost of a shopping cart based on discounts."
   ]
  },
  {
   "cell_type": "code",
   "execution_count": 55,
   "id": "4d786a1e",
   "metadata": {},
   "outputs": [
    {
     "name": "stdout",
     "output_type": "stream",
     "text": [
      "Enter price of shopping cart : 1000\n",
      "Total cost after discount is :  750.0\n"
     ]
    }
   ],
   "source": [
    "discount=0.25\n",
    "price=float(input(\"Enter price of shopping cart : \"))\n",
    "print(\"Total cost after discount is : \",price-discount*price)"
   ]
  },
  {
   "cell_type": "markdown",
   "id": "a6c4d453",
   "metadata": {},
   "source": [
    "###### 10. Write a program that checks if a given number is even or odd"
   ]
  },
  {
   "cell_type": "code",
   "execution_count": 58,
   "id": "89baf00f",
   "metadata": {},
   "outputs": [
    {
     "name": "stdout",
     "output_type": "stream",
     "text": [
      "Enter an integer number : 57\n",
      "57 is an odd number\n"
     ]
    }
   ],
   "source": [
    "num=int(input(\"Enter an integer number : \"))\n",
    "print(f\"{num} is an {'even' if num%2==0 else 'odd'} number\")"
   ]
  },
  {
   "cell_type": "markdown",
   "id": "d1c144e6",
   "metadata": {},
   "source": [
    "### Intermediate Level:"
   ]
  },
  {
   "cell_type": "markdown",
   "id": "1b38e3ed",
   "metadata": {},
   "source": [
    "###### 11. Write a program that calculates the roots of a quadratic equation ."
   ]
  },
  {
   "cell_type": "code",
   "execution_count": 1,
   "id": "2d51159b",
   "metadata": {},
   "outputs": [
    {
     "name": "stdout",
     "output_type": "stream",
     "text": [
      "Enter coefficient of X square : 8\n",
      "Enter coefficient of X  : 5\n",
      "Enter constant coefficient  : 9\n",
      "Roots of quadratic equation are :  (-0.3125-1.0135796712641785j) (-0.3125+1.0135796712641785j)\n"
     ]
    }
   ],
   "source": [
    "import cmath\n",
    "a= float(input(\"Enter coefficient of X square : \"))\n",
    "b= float(input(\"Enter coefficient of X  : \"))\n",
    "c= float(input(\"Enter constant coefficient  : \"))\n",
    "\n",
    "\n",
    "temp=b**2-4*a*c\n",
    "root1=(-b - cmath.sqrt(temp))/(2*a)\n",
    "root2=(-b + cmath.sqrt(temp))/(2*a) \n",
    "\n",
    "print(\"Roots of quadratic equation are : \", root1,root2)"
   ]
  },
  {
   "cell_type": "markdown",
   "id": "dcb4908c",
   "metadata": {},
   "source": [
    "###### 12. Create a program that determines the day of the week based on the day number (1-7).\n"
   ]
  },
  {
   "cell_type": "code",
   "execution_count": 2,
   "id": "2f0b1dd2",
   "metadata": {},
   "outputs": [
    {
     "name": "stdout",
     "output_type": "stream",
     "text": [
      "Enter a integer number between 1 and 7 : 7\n",
      "Sunday\n"
     ]
    }
   ],
   "source": [
    "n=int(input(\"Enter a integer number between 1 and 7 : \"))\n",
    "if n==1:\n",
    "    print(\"Monday\")\n",
    "if n==2:\n",
    "    print(\"Tuesday\")\n",
    "if n==3:\n",
    "    print(\"Wednesday\")\n",
    "if n==4:\n",
    "    print(\"Thursday\")\n",
    "if n==5:\n",
    "    print(\"Friday\")\n",
    "if n==6:\n",
    "    print(\"Saturday\")\n",
    "if n==7:\n",
    "    print(\"Sunday\")\n",
    "if n<1 or n >7:\n",
    "    print(\"Invalid input\")"
   ]
  },
  {
   "cell_type": "markdown",
   "id": "f5496365",
   "metadata": {},
   "source": [
    "###### 13. Develop a program that calculates the factorial of a given number using recursion."
   ]
  },
  {
   "cell_type": "code",
   "execution_count": 3,
   "id": "98741ba1",
   "metadata": {},
   "outputs": [
    {
     "name": "stdout",
     "output_type": "stream",
     "text": [
      "Factorial of 3 :  6\n",
      "Factorial of 4 :  24\n"
     ]
    }
   ],
   "source": [
    "def factorial(n):\n",
    "    \n",
    "    # Recursion breaking condition\n",
    "    if n==1:\n",
    "        return n\n",
    "    \n",
    "    # Recursive call to factorial method\n",
    "    return n*factorial(n-1)\n",
    "\n",
    "\n",
    "print(\"Factorial of 3 : \",factorial(3))\n",
    "print(\"Factorial of 4 : \",factorial(4))"
   ]
  },
  {
   "cell_type": "markdown",
   "id": "788a534f",
   "metadata": {},
   "source": [
    "###### 14. Write a program to find the largest among three numbers without using the `max()` function."
   ]
  },
  {
   "cell_type": "code",
   "execution_count": 4,
   "id": "37b9a68c",
   "metadata": {},
   "outputs": [
    {
     "name": "stdout",
     "output_type": "stream",
     "text": [
      "Enter first number : 23\n",
      "Enter second number : 34\n",
      "Enter third number : 600\n",
      "Largest of three numbers 23,34,600 is 600\n"
     ]
    }
   ],
   "source": [
    "n1=int(input(\"Enter first number : \"))\n",
    "n2=int(input(\"Enter second number : \"))\n",
    "n3=int(input(\"Enter third number : \"))\n",
    "\n",
    "if n1>n2:\n",
    "    if n1>n3:\n",
    "        print(f\"Largest of three numbers {n1},{n2},{n3} is {n1}\")\n",
    "        \n",
    "    else:\n",
    "        print(f\"Largest of three numbers {n1},{n2},{n3} is {n3}\")\n",
    "        \n",
    "else:\n",
    "    if n2>n3:\n",
    "         print(f\"Largest of three numbers {n1},{n2},{n3} is {n2}\")\n",
    "    else:\n",
    "         print(f\"Largest of three numbers {n1},{n2},{n3} is {n3}\")"
   ]
  },
  {
   "cell_type": "markdown",
   "id": "2e6d6b60",
   "metadata": {},
   "source": [
    "###### 15. Create a program that simulates a basic ATM transaction menu."
   ]
  },
  {
   "cell_type": "code",
   "execution_count": 17,
   "id": "cfb37469",
   "metadata": {},
   "outputs": [
    {
     "name": "stdout",
     "output_type": "stream",
     "text": [
      "\n",
      "\n",
      "Menu\n",
      "1.Balance Inquiry\n",
      "2.Cash Withdrawal\n",
      "3.Cash Deposit\n",
      "4.Exit\n",
      "Enter option number : 1\n",
      "Your account balance is Rs.50000\n",
      "\n",
      "\n",
      "Menu\n",
      "1.Balance Inquiry\n",
      "2.Cash Withdrawal\n",
      "3.Cash Deposit\n",
      "4.Exit\n",
      "Enter option number : 2\n",
      "Enter withdrawal ammount in multiples of 100 : 1000\n",
      "Please colllect cash...\n",
      "Your updated balance is Rs. 49000\n",
      "\n",
      "\n",
      "Menu\n",
      "1.Balance Inquiry\n",
      "2.Cash Withdrawal\n",
      "3.Cash Deposit\n",
      "4.Exit\n",
      "Enter option number : 3\n",
      "Enter amount to be deposited (multiples of 100) : 2000\n",
      "Deposit cash in ATM slot and press 'y' to continue else press 'n'y\n",
      "Cash deposited successfully !\n",
      "Your updated balance is 51000\n",
      "\n",
      "\n",
      "Menu\n",
      "1.Balance Inquiry\n",
      "2.Cash Withdrawal\n",
      "3.Cash Deposit\n",
      "4.Exit\n",
      "Enter option number : 4\n",
      "You have successfully exited\n"
     ]
    }
   ],
   "source": [
    "balance=50000\n",
    "\n",
    "\n",
    "while(True):\n",
    "    print(\"\\n\\nMenu\")\n",
    "    print(\"1.Balance Inquiry\")\n",
    "    print(\"2.Cash Withdrawal\")\n",
    "    print(\"3.Cash Deposit\")\n",
    "    print(\"4.Exit\")\n",
    "    \n",
    "    option=int(input(\"Enter option number : \"))\n",
    "    \n",
    "    if option==1:\n",
    "        print(f\"Your account balance is Rs.{balance}\")\n",
    "    elif option==2:\n",
    "        try:\n",
    "            amt=int(input(\"Enter withdrawal ammount in multiples of 100 : \"))\n",
    "            if amt<=balance:\n",
    "                balance=balance-amt\n",
    "                print(\"Please colllect cash...\")\n",
    "                print(\"Your updated balance is Rs.\",balance)\n",
    "            else:\n",
    "                print(\"Insufficient funds!\")\n",
    "        \n",
    "        except(e):\n",
    "            print(\"Sorry an unexpected error occured !\")\n",
    "            \n",
    "    elif option==3:\n",
    "        amt=int(input(\"Enter amount to be deposited (multiples of 100) : \"))\n",
    "        ans=input(\"Deposit cash in ATM slot and press 'y' to continue else press 'n'\")\n",
    "        if ans=='y':\n",
    "            balance=balance+amt\n",
    "            print(\"Cash deposited successfully !\")\n",
    "            print(\"Your updated balance is\",balance)\n",
    "        else:\n",
    "            continue\n",
    "        \n",
    "    elif option==4:\n",
    "        break\n",
    "\n",
    "print(\"You have successfully exited\")"
   ]
  },
  {
   "cell_type": "markdown",
   "id": "aca115f3",
   "metadata": {},
   "source": [
    "###### 16. Build a program that checks if a given string is a palindrome or not."
   ]
  },
  {
   "cell_type": "code",
   "execution_count": 5,
   "id": "d3344c13",
   "metadata": {},
   "outputs": [
    {
     "name": "stdout",
     "output_type": "stream",
     "text": [
      "Enter a string : racecar\n",
      "racecar is a palindrome\n"
     ]
    }
   ],
   "source": [
    "s=input(\"Enter a string : \")\n",
    "if s==s[::-1]:\n",
    "    print(f\"{s} is a palindrome\")\n",
    "else:\n",
    "    print(f\"{s} is not a palindrome\")"
   ]
  },
  {
   "cell_type": "markdown",
   "id": "5c486bbc",
   "metadata": {},
   "source": [
    "###### 17. Write a program that calculates the average of a list of numbers, excluding the smallest and largest values."
   ]
  },
  {
   "cell_type": "code",
   "execution_count": 8,
   "id": "a07c85f4",
   "metadata": {},
   "outputs": [
    {
     "name": "stdout",
     "output_type": "stream",
     "text": [
      "List of numbers :  [3, 4, 5, 6, 7, 8, 2, 3, 4, 9, 0, 1, 2, -3, 10]\n",
      "average of a list of numbers, excluding the smallest and largest values is :  4.153846153846154\n"
     ]
    }
   ],
   "source": [
    "list_num=[3,4,5,6,7,8,2,3,4,9,0,1,2,-3,10]\n",
    "print(\"List of numbers : \",list_num)\n",
    "smallest=min(list_num)\n",
    "largest=max(list_num)\n",
    "list_num.remove(smallest)\n",
    "list_num.remove(largest)\n",
    "avg_list_num=sum(list_num)/len(list_num)\n",
    "print(\"average of a list of numbers, excluding the smallest and largest values is : \",avg_list_num)"
   ]
  },
  {
   "cell_type": "markdown",
   "id": "7ee3a0dc",
   "metadata": {},
   "source": [
    "###### 18. Develop a program that converts a given temperature from Celsius to Fahrenheit."
   ]
  },
  {
   "cell_type": "code",
   "execution_count": 19,
   "id": "efab38ce",
   "metadata": {},
   "outputs": [
    {
     "name": "stdout",
     "output_type": "stream",
     "text": [
      "Enter temperature in degree celsius : 0\n",
      "Temperature in fahrenheit is  :  32.0\n"
     ]
    }
   ],
   "source": [
    "t_c=float(input(\"Enter temperature in degree celsius : \"))\n",
    "t_f=(t_c * (9/5))+32\n",
    "print(\"Temperature in fahrenheit is  : \",t_f)"
   ]
  },
  {
   "cell_type": "markdown",
   "id": "7b511d68",
   "metadata": {},
   "source": [
    "###### 19. Create a program that simulates a basic calculator for addition, subtraction, multiplication, and division."
   ]
  },
  {
   "cell_type": "code",
   "execution_count": 20,
   "id": "1ee26894",
   "metadata": {},
   "outputs": [
    {
     "name": "stdout",
     "output_type": "stream",
     "text": [
      "\n",
      "\n",
      "Menu\n",
      "1. Addition\n",
      "2. Subtraction\n",
      "3. Multiplication\n",
      "4. Division \n",
      "5. Exit\n",
      "Enter option number : 1\n",
      "Enter first number : 2\n",
      "Enter second number : 3\n",
      "Addition of two numbers is :  5.0\n",
      "\n",
      "\n",
      "Menu\n",
      "1. Addition\n",
      "2. Subtraction\n",
      "3. Multiplication\n",
      "4. Division \n",
      "5. Exit\n",
      "Enter option number : 2\n",
      "Enter first number : 5\n",
      "Enter second number : 7\n",
      "Subtraction of two numbers is :  -2.0\n",
      "\n",
      "\n",
      "Menu\n",
      "1. Addition\n",
      "2. Subtraction\n",
      "3. Multiplication\n",
      "4. Division \n",
      "5. Exit\n",
      "Enter option number : 3\n",
      "Enter first number : 3\n",
      "Enter second number : 2\n",
      "Multiplication of two numbers is :  6.0\n",
      "\n",
      "\n",
      "Menu\n",
      "1. Addition\n",
      "2. Subtraction\n",
      "3. Multiplication\n",
      "4. Division \n",
      "5. Exit\n",
      "Enter option number : 4\n",
      "Enter first number : 3\n",
      "Enter second number : 0\n",
      "Invalid input\n",
      "\n",
      "\n",
      "Menu\n",
      "1. Addition\n",
      "2. Subtraction\n",
      "3. Multiplication\n",
      "4. Division \n",
      "5. Exit\n",
      "Enter option number : 4\n",
      "Enter first number : 12\n",
      "Enter second number : 4\n",
      "Division of two numbers is :  3.0\n",
      "\n",
      "\n",
      "Menu\n",
      "1. Addition\n",
      "2. Subtraction\n",
      "3. Multiplication\n",
      "4. Division \n",
      "5. Exit\n",
      "Enter option number : 5\n",
      "End of calculator program\n"
     ]
    }
   ],
   "source": [
    "while(True):\n",
    "    print(\"\\n\\nMenu\")\n",
    "    print(\"1. Addition\")\n",
    "    print(\"2. Subtraction\")\n",
    "    print(\"3. Multiplication\")\n",
    "    print(\"4. Division \")\n",
    "    print(\"5. Exit\")\n",
    "    \n",
    "    opt=int(input(\"Enter option number : \"))\n",
    "    \n",
    "    if opt==1:\n",
    "        n1=float(input(\"Enter first number : \"))\n",
    "        n2=float(input(\"Enter second number : \"))\n",
    "        print(\"Addition of two numbers is : \",n1+n2)\n",
    "        \n",
    "        \n",
    "    elif opt==2:\n",
    "        n1=float(input(\"Enter first number : \"))\n",
    "        n2=float(input(\"Enter second number : \"))\n",
    "        print(\"Subtraction of two numbers is : \",n1-n2)\n",
    "    \n",
    "    elif opt==3:\n",
    "        n1=float(input(\"Enter first number : \"))\n",
    "        n2=float(input(\"Enter second number : \"))\n",
    "        print(\"Multiplication of two numbers is : \",n1*n2)\n",
    "        \n",
    "    elif opt==4:\n",
    "        n1=float(input(\"Enter first number : \"))\n",
    "        n2=float(input(\"Enter second number : \"))\n",
    "        if n2==0:\n",
    "            print(\"Invalid input\")\n",
    "        else:\n",
    "            print(\"Division of two numbers is : \",n1/n2)\n",
    "            \n",
    "    elif opt==5:\n",
    "        break\n",
    "        \n",
    "print(\"End of calculator program\")"
   ]
  },
  {
   "cell_type": "markdown",
   "id": "677be894",
   "metadata": {},
   "source": [
    "###### 20. Write a program that determines the roots of a cubic equation using the Cardano formula"
   ]
  },
  {
   "cell_type": "markdown",
   "id": "1ba8f1d1",
   "metadata": {},
   "source": []
  },
  {
   "cell_type": "code",
   "execution_count": 37,
   "id": "6dbaa0c2",
   "metadata": {},
   "outputs": [
    {
     "name": "stdout",
     "output_type": "stream",
     "text": [
      "Enter coefficient of x cube  in cubic equation: 1\n",
      "Enter coefficient of x square in cubic equation: 2\n",
      "Enter coefficient of x in cubic equation: 3\n",
      "Enter constant coefficient: 4\n",
      "Roots of cubic equation are as follows : \n",
      "x1= -1.651\n",
      "x2= (-0.175+1.547j)\n",
      "x3= (-0.175-1.547j)\n"
     ]
    }
   ],
   "source": [
    "import numpy as np\n",
    "a=float(input('Enter coefficient of x cube  in cubic equation: '))\n",
    "b=float(input('Enter coefficient of x square in cubic equation: '))\n",
    "c=float(input('Enter coefficient of x in cubic equation: '))\n",
    "d=float(input('Enter constant coefficient: '))\n",
    "\n",
    "#Compute Q= (3*a*c-b**2)/(9*a**2)\n",
    "Q=(3*a*c-b**2)/(9*a**2)\n",
    "\n",
    "#Compute R =(9abc - (27*(a**2)*d)-2*b**3 )/(54*a**3)\n",
    "R=(9*a*b*c - (27*(a**2)*d)-2*b**3 )/(54*a**3)\n",
    "\n",
    "#Compute S\n",
    "S=np.cbrt(R+np.sqrt(Q**3+R**2))\n",
    "\n",
    "#Compute T\n",
    "T=np.cbrt(R-np.sqrt(Q**3+R**2))\n",
    "\n",
    "#Compute roots x1,x2,x3\n",
    "x1=round(S+T - (b/(3*a)),3)\n",
    "\n",
    "A=round((-(S+T)/2) -(b/(3*a)),3)\n",
    "B=round((np.sqrt(3)/2)*(S-T),3)\n",
    "x2= complex(A,B)\n",
    "\n",
    "x3=complex(A,-B)\n",
    "\n",
    "print(\"Roots of cubic equation are as follows : \")\n",
    "print(\"x1=\",x1)\n",
    "print(\"x2=\",x2)\n",
    "print(\"x3=\",x3)\n"
   ]
  },
  {
   "cell_type": "markdown",
   "id": "e4b9723f",
   "metadata": {},
   "source": [
    "###### Advanced Level:"
   ]
  },
  {
   "cell_type": "markdown",
   "id": "e8d9090f",
   "metadata": {},
   "source": [
    "###### 21. Create a program that calculates the income tax based on the user's income and tax brackets."
   ]
  },
  {
   "cell_type": "markdown",
   "id": "6cbb3ea3",
   "metadata": {},
   "source": [
    "Tax slabs for AY 2022-23\n",
    "\n",
    "AMOUNT                        INCOME TAX RATE\n",
    "Up to ₹2,50,000               0%\n",
    "₹2,50,001 – ₹5,00,000         5% above ₹2,50,000\n",
    "₹5,00,001 – ₹7,50,000         10% above ₹5,00,000 + ₹12,500\n",
    "₹7,50,001 – ₹10,00,000        15% above ₹7,50,000 + ₹37,500\n",
    "₹10,00,001 – ₹12,50,000       20% above ₹10,00,000 + ₹75,000\n",
    "₹12,50,001 – ₹15,00,000       25% above ₹12,50,000 + ₹1,25,000\n",
    "Above ₹15,00,001              30% above ₹15,00,000 + ₹1,87,500"
   ]
  },
  {
   "cell_type": "code",
   "execution_count": 1,
   "id": "1c839549",
   "metadata": {},
   "outputs": [
    {
     "name": "stdout",
     "output_type": "stream",
     "text": [
      "Enter total income amount : 900000\n",
      "Tax applicable for income 900000.0 is 135000.0\n"
     ]
    }
   ],
   "source": [
    "tot_income=float(input(\"Enter total income amount : \"))\n",
    "tax=0\n",
    "if tot_income<=250000:\n",
    "    tax=0\n",
    "elif tot_income>250000 and tot_income<=500000 :\n",
    "    tax=0.05*tot_income\n",
    "elif tot_income>500000 and tot_income<=750000 :\n",
    "    tax=0.10*tot_income\n",
    "elif tot_income>750000 and tot_income<=1000000 :\n",
    "    tax=0.15*tot_income\n",
    "elif tot_income>1000000 and tot_income<=1250000 :\n",
    "    tax=0.20*tot_income\n",
    "elif tot_income>1250000 and tot_income<=1500000 :\n",
    "    tax=0.25*tot_income\n",
    "elif tot_income>1500000:\n",
    "    tax=0.30*tot_income\n",
    "    \n",
    "print(f\"Tax applicable for income {tot_income} is {tax}\")"
   ]
  },
  {
   "cell_type": "markdown",
   "id": "e8934849",
   "metadata": {},
   "source": [
    "###### 22. Write a program that simulates a rock-paper-scissors game against the computer."
   ]
  },
  {
   "cell_type": "code",
   "execution_count": 4,
   "id": "b190c844",
   "metadata": {},
   "outputs": [
    {
     "name": "stdout",
     "output_type": "stream",
     "text": [
      "Winning rules of the game ROCK PAPER SCISSORS are :\n",
      "Rock vs Paper -> Paper wins \n",
      "Rock vs Scissors -> Rock wins \n",
      "Paper vs Scissors -> Scissor wins \n",
      "\n",
      "Menu :\n",
      "1.Rock\n",
      "2.Paper\n",
      "3.Scissors\n",
      "4.Exit\n",
      "Enter option number of your choice : 1\n",
      "Now its computer's turn.....\n",
      "You selected Rock and Computer selected Paper..............\n",
      "Computer won!\n",
      "Do you want to continue : y/n : y\n",
      "Menu :\n",
      "1.Rock\n",
      "2.Paper\n",
      "3.Scissors\n",
      "4.Exit\n",
      "Enter option number of your choice : 2\n",
      "Now its computer's turn.....\n",
      "You selected Paper and Computer selected Scissors..............\n",
      "Computer won!\n",
      "Do you want to continue : y/n : y\n",
      "Menu :\n",
      "1.Rock\n",
      "2.Paper\n",
      "3.Scissors\n",
      "4.Exit\n",
      "Enter option number of your choice : 3\n",
      "Now its computer's turn.....\n",
      "You selected Scissors and Computer selected Paper..............\n",
      "You won !\n",
      "Do you want to continue : y/n : y\n",
      "Menu :\n",
      "1.Rock\n",
      "2.Paper\n",
      "3.Scissors\n",
      "4.Exit\n",
      "Enter option number of your choice : 2\n",
      "Now its computer's turn.....\n",
      "You selected Paper and Computer selected Paper..............\n",
      "Its a draw ! \n",
      "Do you want to continue : y/n : n\n"
     ]
    }
   ],
   "source": [
    "import random\n",
    "print('Winning rules of the game ROCK PAPER SCISSORS are :\\n'\n",
    "      + \"Rock vs Paper -> Paper wins \\n\"\n",
    "      + \"Rock vs Scissors -> Rock wins \\n\"\n",
    "      + \"Paper vs Scissors -> Scissor wins \\n\")\n",
    "\n",
    "user_win_list=[(\"Paper\",\"Rock\"),(\"Rock\",\"Scissors\"),(\"Scissors\",\"Paper\")]\n",
    "computer_win_list=[(\"Rock\",\"Paper\"),(\"Scissors\",\"Rock\"),(\"Paper\",\"Scissors\")]\n",
    "while(True):\n",
    "    print(\"Menu :\")\n",
    "    print(\"1.Rock\")\n",
    "    print(\"2.Paper\")\n",
    "    print(\"3.Scissors\")\n",
    "    print(\"4.Exit\")\n",
    "    opt=int(input(\"Enter option number of your choice : \"))\n",
    "    opt_name=\"\"\n",
    "    if opt==1:\n",
    "        opt_name=\"Rock\"\n",
    "    elif opt==2:\n",
    "        opt_name=\"Paper\"\n",
    "    elif opt==3:\n",
    "        opt_name=\"Scissors\"\n",
    "    elif opt==4:\n",
    "        break\n",
    "    else:\n",
    "        print(\"Invalid option number ! Please try again\")\n",
    "        \n",
    "    print(\"Now its computer's turn.....\")\n",
    "    comp_opt=random.randint(1,3)\n",
    "    comp_opt_name=\"\"\n",
    "    if comp_opt==1:\n",
    "        comp_opt_name=\"Rock\"\n",
    "    elif comp_opt==2:\n",
    "        comp_opt_name=\"Paper\"\n",
    "    elif comp_opt==3:\n",
    "        comp_opt_name=\"Scissors\"\n",
    "    \n",
    "    print(f\"You selected {opt_name} and Computer selected {comp_opt_name}..............\")\n",
    "    \n",
    "    if opt_name==comp_opt_name:\n",
    "        print(\"Its a draw ! \")\n",
    "        \n",
    "    elif (opt_name,comp_opt_name) in user_win_list:\n",
    "        print(\"You won !\")\n",
    "    \n",
    "    elif (opt_name,comp_opt_name) in computer_win_list:\n",
    "        print(\"Computer won!\")\n",
    "        \n",
    "    con=input(\"Do you want to continue : y/n : \")\n",
    "    if con=='n':\n",
    "        break"
   ]
  },
  {
   "cell_type": "markdown",
   "id": "9a55b2e3",
   "metadata": {},
   "source": [
    "###### 23. Develop a program that generates a random password based on user preferences (length, complexity)."
   ]
  },
  {
   "cell_type": "code",
   "execution_count": 20,
   "id": "3a541740",
   "metadata": {},
   "outputs": [
    {
     "name": "stdout",
     "output_type": "stream",
     "text": [
      "Enter length of password :6\n",
      "Enter character set of password from below : \n",
      "\n",
      "1.Only Digits\n",
      "2.Only Letters\n",
      "3.Digits and Letters\n",
      "4.Digits,Letters and special characters\n",
      "5.Exit\n",
      "3\n"
     ]
    },
    {
     "ename": "TypeError",
     "evalue": "'str' object does not support item assignment",
     "output_type": "error",
     "traceback": [
      "\u001b[1;31m---------------------------------------------------------------------------\u001b[0m",
      "\u001b[1;31mTypeError\u001b[0m                                 Traceback (most recent call last)",
      "Input \u001b[1;32mIn [20]\u001b[0m, in \u001b[0;36m<cell line: 6>\u001b[1;34m()\u001b[0m\n\u001b[0;32m     26\u001b[0m     \u001b[38;5;28;01mbreak\u001b[39;00m\n\u001b[0;32m     28\u001b[0m password\u001b[38;5;241m=\u001b[39m[]\n\u001b[1;32m---> 29\u001b[0m \u001b[43mrandom\u001b[49m\u001b[38;5;241;43m.\u001b[39;49m\u001b[43mshuffle\u001b[49m\u001b[43m(\u001b[49m\u001b[43mchar_set\u001b[49m\u001b[43m)\u001b[49m\n\u001b[0;32m     30\u001b[0m \u001b[38;5;28;01mfor\u001b[39;00m i \u001b[38;5;129;01min\u001b[39;00m \u001b[38;5;28mrange\u001b[39m(length):\n\u001b[0;32m     31\u001b[0m     char\u001b[38;5;241m=\u001b[39mrandom\u001b[38;5;241m.\u001b[39mchoice(char_set)\n",
      "File \u001b[1;32m~\\anaconda3\\lib\\random.py:362\u001b[0m, in \u001b[0;36mRandom.shuffle\u001b[1;34m(self, x, random)\u001b[0m\n\u001b[0;32m    359\u001b[0m     \u001b[38;5;28;01mfor\u001b[39;00m i \u001b[38;5;129;01min\u001b[39;00m \u001b[38;5;28mreversed\u001b[39m(\u001b[38;5;28mrange\u001b[39m(\u001b[38;5;241m1\u001b[39m, \u001b[38;5;28mlen\u001b[39m(x))):\n\u001b[0;32m    360\u001b[0m         \u001b[38;5;66;03m# pick an element in x[:i+1] with which to exchange x[i]\u001b[39;00m\n\u001b[0;32m    361\u001b[0m         j \u001b[38;5;241m=\u001b[39m randbelow(i \u001b[38;5;241m+\u001b[39m \u001b[38;5;241m1\u001b[39m)\n\u001b[1;32m--> 362\u001b[0m         x[i], x[j] \u001b[38;5;241m=\u001b[39m x[j], x[i]\n\u001b[0;32m    363\u001b[0m \u001b[38;5;28;01melse\u001b[39;00m:\n\u001b[0;32m    364\u001b[0m     _warn(\u001b[38;5;124m'\u001b[39m\u001b[38;5;124mThe *random* parameter to shuffle() has been deprecated\u001b[39m\u001b[38;5;130;01m\\n\u001b[39;00m\u001b[38;5;124m'\u001b[39m\n\u001b[0;32m    365\u001b[0m           \u001b[38;5;124m'\u001b[39m\u001b[38;5;124msince Python 3.9 and will be removed in a subsequent \u001b[39m\u001b[38;5;124m'\u001b[39m\n\u001b[0;32m    366\u001b[0m           \u001b[38;5;124m'\u001b[39m\u001b[38;5;124mversion.\u001b[39m\u001b[38;5;124m'\u001b[39m,\n\u001b[0;32m    367\u001b[0m           \u001b[38;5;167;01mDeprecationWarning\u001b[39;00m, \u001b[38;5;241m2\u001b[39m)\n",
      "\u001b[1;31mTypeError\u001b[0m: 'str' object does not support item assignment"
     ]
    }
   ],
   "source": [
    "# User password preferences \n",
    "import random\n",
    "import string\n",
    "\n",
    "while(True):\n",
    "    length= int(input(\"Enter length of password :\"))\n",
    "\n",
    "    print(\"Enter character set of password from below : \\n\")\n",
    "    print(\"1.Only Digits\")\n",
    "    print(\"2.Only Letters\")\n",
    "    print(\"3.Digits and Letters\")\n",
    "    print(\"4.Digits,Letters and special characters\")\n",
    "    print(\"5.Exit\")\n",
    "\n",
    "    opt=int(input())\n",
    "    char_set=\"\"\n",
    "    if opt==1:\n",
    "        char_set+=string.digits\n",
    "    elif opt==2:\n",
    "        char_set+=string.ascii_letters\n",
    "    elif opt==3:\n",
    "        char_set+=string.digits+string.ascii_letters\n",
    "    elif opt==4:\n",
    "        char_set+=string.digits+string.ascii_letters+string.punctuation\n",
    "    elif opt==5:\n",
    "        break\n",
    "        \n",
    "    password=[]\n",
    "    random.shuffle(char_set)\n",
    "    for i in range(length):\n",
    "        char=random.choice(char_set)\n",
    "        password.append(char)\n",
    "    print(\"Generated password is : \",''.join(password))"
   ]
  },
  {
   "cell_type": "code",
   "execution_count": 10,
   "id": "19776063",
   "metadata": {},
   "outputs": [
    {
     "name": "stdout",
     "output_type": "stream",
     "text": [
      "0123456789abcdefghijklmnopqrstuvwxyzABCDEFGHIJKLMNOPQRSTUVWXYZ\n",
      "abcdefghijklmnopqrstuvwxyzABCDEFGHIJKLMNOPQRSTUVWXYZ\n",
      "!\"#$%&'()*+,-./:;<=>?@[\\]^_`{|}~\n",
      "\n"
     ]
    }
   ],
   "source": [
    "import string\n",
    "print(string.digits+string.ascii_letters)\n",
    "print(string.ascii_letters)\n",
    "print(string.punctuation)\n",
    "print()\n",
    "\n",
    "\n"
   ]
  },
  {
   "cell_type": "code",
   "execution_count": 18,
   "id": "b05198cc",
   "metadata": {},
   "outputs": [
    {
     "data": {
      "text/plain": [
       "'G'"
      ]
     },
     "execution_count": 18,
     "metadata": {},
     "output_type": "execute_result"
    }
   ],
   "source": [
    "x='weeee232232'\n",
    "cha=random.choice(string.digits+string.ascii_letters)\n",
    "cha"
   ]
  },
  {
   "cell_type": "markdown",
   "id": "7e8dccff",
   "metadata": {},
   "source": [
    "###### 24. Create a program that implements a simple text-based adventure game with branching scenarios."
   ]
  },
  {
   "cell_type": "code",
   "execution_count": 13,
   "id": "afc6cbac",
   "metadata": {},
   "outputs": [],
   "source": [
    "def scene1():\n",
    "\n",
    "    print(\"\"\"WELCOME TO THE ADVENTURE GAME!\n",
    "    Let's start the action! ☆-🎬-☆\n",
    "     \n",
    "    Lily wakes up in her bedroom in the middle of the night. She heard a loud BAN outside the house.\n",
    "    Now she has two choices she can either stay in the room or check what the sound might be about.\n",
    "     \n",
    "    Type your choice: Stay or Evaluate?\n",
    "\"\"\")\n",
    "    output_str=\"\"\n",
    "    choice=input()\n",
    "\n",
    "    if choice.title()=='Stay':\n",
    "        print(\"\\nLily decides to stay in the room and ends up staying inside forever as noone seems to come to help her.\")\n",
    "         \n",
    "    elif choice.title()=='Evaluate':\n",
    "        print(\"Lily exits the room silently and reaches the main hall.\")\n",
    "\n",
    "    else:\n",
    "        print(\"invalid input\")\n",
    "        choice=\"invalid\"\n",
    "    return choice.title()\n",
    "    \n",
    "def scene2():\n",
    "    print(\"\"\"\n",
    "            In the main hall, she finds a strange but cute teddy bear on the floor. \n",
    "            She wanted to pick the teddy up. \n",
    "            But should she? It doesn't belong to her. (•˳̂•̆)\n",
    " \n",
    "            Type your choice: Pick or Ignore?\n",
    " \n",
    "            \"\"\")\n",
    "    \n",
    "    output_str=\"\"\n",
    "    choice=input()\n",
    "    if choice.title()=='Pick':\n",
    "        print(\"\"\"\\nThe moment Lily picked up the the teddy bear. The Teddy bear starts TALKING!The bear tells Lily that she is in grave danger as there is a monster in the house.And the monster has captured her PARENTS as well!But he hugged her and told her not to get scared as he knows how to beat the moster!\"\"\")\n",
    "    \n",
    "    elif choice.title()=='Ignore':\n",
    "        print(\"\"\"\\nThe bear handed lily a magical potion which can weaken the moster and make him run away!He handed her the potion and then DISAPPEARED!Lily moved forward.\"\"\")\n",
    "        \n",
    "    else:\n",
    "        print(\"invalid input\")\n",
    "        choice=\"invalid\"\n",
    "    return choice.title()\n",
    "\n",
    "def scene3(pick_value):\n",
    "    print(\"\"\"\\n\\nAfter walking for a while, Lily saw the MONSTOR in front of her!\n",
    "    It had red eyes and evil looks. She got very scared! \"\"\")\n",
    "    \n",
    "    if(pick_value==True):\n",
    "        print(\"\"\"But then she remembered! She had the magic portion and she threw it on the moster!\n",
    "              Well she had nothing to lose!\"\"\")\n",
    "    elif(pick_value==False):\n",
    "        print(\"The monster attacked Lily and hurt her! She was then thrown to the new world by the monster!\")\n",
    "        \n"
   ]
  },
  {
   "cell_type": "code",
   "execution_count": 16,
   "id": "e3a4ff54",
   "metadata": {},
   "outputs": [
    {
     "name": "stdout",
     "output_type": "stream",
     "text": [
      "WELCOME TO THE ADVENTURE GAME!\n",
      "    Let's start the action! ☆-🎬-☆\n",
      "     \n",
      "    Lily wakes up in her bedroom in the middle of the night. She heard a loud BAN outside the house.\n",
      "    Now she has two choices she can either stay in the room or check what the sound might be about.\n",
      "     \n",
      "    Type your choice: Stay or Evaluate?\n",
      "\n",
      "Evaluate\n",
      "Lily exits the room silently and reaches the main hall.\n",
      "\n",
      "            In the main hall, she finds a strange but cute teddy bear on the floor. \n",
      "            She wanted to pick the teddy up. \n",
      "            But should she? It doesn't belong to her. (•˳̂•̆)\n",
      " \n",
      "            Type your choice: Pick or Ignore?\n",
      " \n",
      "            \n",
      "Ignore\n",
      "\n",
      "The bear handed lily a magical potion which can weaken the moster and make him run away!He handed her the potion and then DISAPPEARED!Lily moved forward.\n",
      "\n",
      "\n",
      "After walking for a while, Lily saw the MONSTOR in front of her!\n",
      "    It had red eyes and evil looks. She got very scared! \n",
      "But then she remembered! She had the magic portion and she threw it on the moster!\n",
      "              Well she had nothing to lose!\n",
      "\n",
      " ------------------------End of Chapter 1-------------------------------------\n"
     ]
    }
   ],
   "source": [
    "output=\"invalid\"\n",
    "\n",
    "while output.lower()==\"invalid\":\n",
    "    output=scene1()\n",
    "    \n",
    "if output==\"Evaluate\":\n",
    "    output=\"invalid\"\n",
    "    while output.lower()==\"invalid\":\n",
    "        output=scene2()\n",
    "        \n",
    "    if output==\"Pick\":\n",
    "        scene3(False)\n",
    "        \n",
    "    elif output==\"Ignore\":\n",
    "        scene3(True)\n",
    "        \n",
    "print(\"\\n ------------------------End of Chapter 1-------------------------------------\")\n",
    "    "
   ]
  }
 ],
 "metadata": {
  "kernelspec": {
   "display_name": "Python 3 (ipykernel)",
   "language": "python",
   "name": "python3"
  },
  "language_info": {
   "codemirror_mode": {
    "name": "ipython",
    "version": 3
   },
   "file_extension": ".py",
   "mimetype": "text/x-python",
   "name": "python",
   "nbconvert_exporter": "python",
   "pygments_lexer": "ipython3",
   "version": "3.9.12"
  }
 },
 "nbformat": 4,
 "nbformat_minor": 5
}
