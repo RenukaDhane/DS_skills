{
 "cells": [
  {
   "cell_type": "code",
   "execution_count": null,
   "id": "8b6a7b1a-3ff5-4b22-be3e-d3b2d7aa7e3a",
   "metadata": {},
   "outputs": [],
   "source": [
    "class a :\n",
    "    \n",
    "    def test(self):\n",
    "        print(\"this test method is a part of class a\")\n",
    "        \n",
    "    def test1(self):\n",
    "        print(\"this is test1 from class a \")"
   ]
  },
  {
   "cell_type": "code",
   "execution_count": null,
   "id": "8e4d306f-fdb4-47a0-a93d-597f5b21d30b",
   "metadata": {},
   "outputs": [],
   "source": [
    "obj_a = a()"
   ]
  },
  {
   "cell_type": "code",
   "execution_count": null,
   "id": "81ef5597-cf96-4ed9-a4f6-21e2e93aca70",
   "metadata": {},
   "outputs": [],
   "source": [
    "obj_a.test()"
   ]
  },
  {
   "cell_type": "code",
   "execution_count": null,
   "id": "11ee63d6-433d-48dc-ada0-5dd6771310ba",
   "metadata": {},
   "outputs": [],
   "source": [
    "class b(a) :\n",
    "    def test1b(self):\n",
    "        print(\"this is a part of class b \")"
   ]
  },
  {
   "cell_type": "code",
   "execution_count": null,
   "id": "badaedfe-57d1-43c6-9193-e5afb0f31dbc",
   "metadata": {},
   "outputs": [],
   "source": [
    "obj_b = b()"
   ]
  },
  {
   "cell_type": "code",
   "execution_count": null,
   "id": "3ce19f61-ba8e-4050-9d4d-614adfd964c5",
   "metadata": {},
   "outputs": [],
   "source": [
    "obj_b.test()"
   ]
  },
  {
   "cell_type": "code",
   "execution_count": null,
   "id": "5e473fae-e094-4407-99df-16a04ab4c80a",
   "metadata": {},
   "outputs": [],
   "source": [
    "obj_b.test1()"
   ]
  },
  {
   "cell_type": "code",
   "execution_count": null,
   "id": "02a8f055-535f-4bc2-adc1-575445f82570",
   "metadata": {},
   "outputs": [],
   "source": [
    "obj_b."
   ]
  },
  {
   "cell_type": "code",
   "execution_count": null,
   "id": "59361cd3-c0c4-4ddd-abac-cbe3275ade5f",
   "metadata": {},
   "outputs": [],
   "source": [
    "class lecture:\n",
    "    \n",
    "    def topic(self):\n",
    "        print(\"todays class we are discussing about inheritance condept in oops\")\n",
    "        \n",
    "    def timing(self):\n",
    "        print(\"timing for todays class is 9 AM IST\")\n",
    "        \n",
    "    def end_time(self):\n",
    "        print(\"today i will try to end class bit early\")"
   ]
  },
  {
   "cell_type": "code",
   "execution_count": null,
   "id": "6e3dd2de-883e-4e9e-98a0-4a7089af1627",
   "metadata": {},
   "outputs": [],
   "source": [
    "class student(lecture):\n",
    "    \n",
    "    def student_details(self):\n",
    "        print(\"this class will give you a student details\")"
   ]
  },
  {
   "cell_type": "code",
   "execution_count": null,
   "id": "c2ad2a89-0f29-4410-86c4-e33f47b4186d",
   "metadata": {},
   "outputs": [],
   "source": [
    "naval = student()"
   ]
  },
  {
   "cell_type": "code",
   "execution_count": null,
   "id": "38c86e7f-5560-464a-b597-c88a74819f1a",
   "metadata": {},
   "outputs": [],
   "source": [
    "naval.topic()"
   ]
  },
  {
   "cell_type": "code",
   "execution_count": null,
   "id": "02efc8a4-f995-4f85-87d2-620ccc0f61fa",
   "metadata": {},
   "outputs": [],
   "source": [
    "satish = student()\n",
    "satish.timing()"
   ]
  },
  {
   "cell_type": "code",
   "execution_count": null,
   "id": "03932972-a58b-46e5-a3f8-ffc43c84ce53",
   "metadata": {},
   "outputs": [],
   "source": [
    "class teacher(student):\n",
    "    def details(self):\n",
    "        print(\"this will give you a details about teacher\")"
   ]
  },
  {
   "cell_type": "code",
   "execution_count": null,
   "id": "fff36c1b-f1e9-467e-b29f-c304aa9feec9",
   "metadata": {},
   "outputs": [],
   "source": [
    "sudh = teacher()\n",
    "sudh.timing()"
   ]
  },
  {
   "cell_type": "code",
   "execution_count": null,
   "id": "a5e8c94b-de62-4ef5-8eba-81259d83dd3d",
   "metadata": {},
   "outputs": [],
   "source": [
    "class lecture:\n",
    "    def topic(self):\n",
    "        print(\"todays class we are discussing about inheritance condept in oops\")\n",
    "        \n",
    "    def timing(self):\n",
    "        print(\"timing for todays class is 9 AM IST\")\n",
    "        \n",
    "    def end_time(self):\n",
    "        print(\"today i will try to end class bit early\")"
   ]
  },
  {
   "cell_type": "code",
   "execution_count": null,
   "id": "2007141c-1b71-4cd4-9bed-a3cd8d851baa",
   "metadata": {},
   "outputs": [],
   "source": [
    "class student:\n",
    "    \n",
    "    def student_details(self):\n",
    "        print(\"this class will give you a student details\")\n",
    "        \n",
    "    def timing(self):\n",
    "        print(\"this is a timing fun from student class\")\n",
    "        "
   ]
  },
  {
   "cell_type": "code",
   "execution_count": null,
   "id": "272860d3-1fac-475b-8c09-0490069224bc",
   "metadata": {},
   "outputs": [],
   "source": [
    "class teacher(lecture,student):\n",
    "    def details(self):\n",
    "        print(\"this will give you a details about teacher\")"
   ]
  },
  {
   "cell_type": "code",
   "execution_count": null,
   "id": "f4a9ae16-f0e3-4a4a-a003-38773611cd2a",
   "metadata": {},
   "outputs": [],
   "source": [
    "krish = teacher()"
   ]
  },
  {
   "cell_type": "code",
   "execution_count": null,
   "id": "6dc85f37-219e-4c72-927c-9aebb550fea9",
   "metadata": {},
   "outputs": [],
   "source": [
    "krish.timing()"
   ]
  },
  {
   "cell_type": "code",
   "execution_count": null,
   "id": "8bcbac88-9172-4a31-a191-9c4b9a1c6eac",
   "metadata": {},
   "outputs": [],
   "source": [
    "krish.student_details()"
   ]
  },
  {
   "cell_type": "markdown",
   "id": "86b47d4f-860e-4702-83a0-0145887ab41a",
   "metadata": {},
   "source": [
    "Problem 1: Bank Account Create a class representing a bank account with attributes like account number, account holder name, and balance. Implement methods to deposit and withdraw money from the account.\n",
    "\n",
    "Problem 2: Employee Management Create a class representing an employee with attributes like employee ID, name, and salary. Implement methods to calculate the yearly bonus and display employee details.\n",
    "\n",
    "Problem 3: Vehicle Rental Create a class representing a vehicle rental system. Implement methods to rent a vehicle, return a vehicle, and display available vehicles.\n",
    "\n",
    "Problem 4: Library Catalog Create classes representing a library and a book. Implement methods to add books to the library, borrow books, and display available books.\n",
    "\n",
    "Problem 5: Product Inventory Create classes representing a product and an inventory system. Implement methods to add products to the inventory, update product quantity, and display available products.\n",
    "\n",
    "Problem 6: Shape Calculation Create a class representing a shape with attributes like length, width, and height. Implement methods to calculate the area and perimeter of the shape.\n",
    "\n",
    "Problem 7: Student Management Create a class representing a student with attributes like student ID, name, and grades. Implement methods to calculate the average grade and display student details.\n",
    "\n",
    "Problem 8: Email Management Create a class representing an email with attributes like sender, recipient, and subject. Implement methods to send an email and display email details.\n",
    "\n",
    "Problem 9: Social Media Profile Create a class representing a social media profile with attributes like username and posts. Implement methods to add posts, display posts, and search for posts by keyword.\n",
    "\n",
    "Problem 10: ToDo List Create a class representing a ToDo list with attributes like tasks and due dates. Implement methods to add tasks, mark tasks as completed, and display pending tasks."
   ]
  },
  {
   "cell_type": "markdown",
   "id": "fe92efc5",
   "metadata": {},
   "source": [
    "###### Problem 1: Bank Account Create a class representing a bank account with attributes like account number, account holder name, and balance. Implement methods to deposit and withdraw money from the account."
   ]
  },
  {
   "cell_type": "code",
   "execution_count": 1,
   "id": "dbe1a0aa",
   "metadata": {},
   "outputs": [],
   "source": [
    "class bank_account:\n",
    "    def __init__(self,account_number,account_holder_name,balance):\n",
    "        self.account_number=account_number\n",
    "        self.account_holder_name=account_holder_name\n",
    "        self.balance=balance\n",
    "        \n",
    "    def deposit(self,amount):\n",
    "        self.balance=self.balance+amount\n",
    "        print(\"Balance after deposit is : \",self.balance)\n",
    "        \n",
    "    def withdraw(self,amount):\n",
    "        self.balance=self.balance-amount\n",
    "        print(\"Balance after withdrawl is : \",self.balance)\n",
    "        "
   ]
  },
  {
   "cell_type": "code",
   "execution_count": 2,
   "id": "cdcb7f64",
   "metadata": {},
   "outputs": [
    {
     "name": "stdout",
     "output_type": "stream",
     "text": [
      "Balance after deposit is :  60000\n",
      "Balance after withdrawl is :  59500\n"
     ]
    }
   ],
   "source": [
    "account_a=bank_account(\"345566\",\"J.J. Smith\",50000)\n",
    "account_a.deposit(10000)\n",
    "account_a.withdraw(500)"
   ]
  },
  {
   "cell_type": "markdown",
   "id": "06aa4f17",
   "metadata": {},
   "source": [
    "###### Problem 2: Employee Management Create a class representing an employee with attributes like employee ID, name, and salary. Implement methods to calculate the yearly bonus and display employee details."
   ]
  },
  {
   "cell_type": "code",
   "execution_count": 3,
   "id": "d8b66a2b",
   "metadata": {},
   "outputs": [],
   "source": [
    "class employee:\n",
    "    def __init__(self,employee_id,name,salary):\n",
    "        self.employee_id=employee_id\n",
    "        self.name=name\n",
    "        self.salary=salary\n",
    "        \n",
    "    def calculate_yearly_bonus(self):\n",
    "        bonus=self.salary *0.1\n",
    "        print(\"Yearly bonus is : \",bonus)\n",
    "    \n",
    "    def display_employee_details(self):\n",
    "        print(\"Employee details are : \")\n",
    "        print(\"Employee ID : \",self.employee_id)\n",
    "        print(\"Employee name : \",self.name)\n",
    "        print(\"Employee salary : \",self.salary)"
   ]
  },
  {
   "cell_type": "code",
   "execution_count": 4,
   "id": "3f886ec5",
   "metadata": {},
   "outputs": [
    {
     "name": "stdout",
     "output_type": "stream",
     "text": [
      "Yearly bonus is :  4000.0\n",
      "Employee details are : \n",
      "Employee ID :  343444\n",
      "Employee name :  S.K. Sharma\n",
      "Employee salary :  40000\n"
     ]
    }
   ],
   "source": [
    "employee1=employee(343444,\"S.K. Sharma\",40000)\n",
    "employee1.calculate_yearly_bonus()\n",
    "employee1.display_employee_details()"
   ]
  },
  {
   "cell_type": "markdown",
   "id": "7fce82a5",
   "metadata": {},
   "source": [
    "###### Problem 3: Vehicle Rental Create a class representing a vehicle rental system. Implement methods to rent a vehicle, return a vehicle, and display available vehicles."
   ]
  },
  {
   "cell_type": "code",
   "execution_count": 5,
   "id": "335a2f45",
   "metadata": {},
   "outputs": [],
   "source": [
    "class vehicle_rental:\n",
    "    available_vehicles=[\"Maruti\",\"Tata\",\"Kia\",\"Toyota\",\"Activa\",\"Hyundai\",\"ScootyPEP\"]\n",
    "    \n",
    "    def rent_vehicle(self,vehicle):\n",
    "        if vehicle in vehicle_rental.available_vehicles:\n",
    "            vehicle_rental.available_vehicles.remove(vehicle)\n",
    "            print(f\"{vehicle} rented successfully\")\n",
    "        else:\n",
    "            print(f\"{vehicle} is currently unavailable!\")\n",
    "    \n",
    "    def return_vehicle(self,vehicle):\n",
    "        vehicle_rental.available_vehicles.append(vehicle)\n",
    "        print(f\"{vehicle} returned successfully\")\n",
    "    \n",
    "    def display_available_vehicles(self):\n",
    "        print(\"Available vehicles are : \",vehicle_rental.available_vehicles)\n"
   ]
  },
  {
   "cell_type": "code",
   "execution_count": 6,
   "id": "7d62bcb5",
   "metadata": {},
   "outputs": [
    {
     "name": "stdout",
     "output_type": "stream",
     "text": [
      "Available vehicles are :  ['Maruti', 'Tata', 'Kia', 'Toyota', 'Activa', 'Hyundai', 'ScootyPEP']\n",
      "Activa rented successfully\n",
      "Available vehicles are :  ['Maruti', 'Tata', 'Kia', 'Toyota', 'Hyundai', 'ScootyPEP']\n",
      "Activa returned successfully\n",
      "Available vehicles are :  ['Maruti', 'Tata', 'Kia', 'Toyota', 'Hyundai', 'ScootyPEP', 'Activa']\n"
     ]
    }
   ],
   "source": [
    "vehicle_rental_service=vehicle_rental()\n",
    "vehicle_rental_service.display_available_vehicles()\n",
    "vehicle_rental_service.rent_vehicle(\"Activa\")\n",
    "\n",
    "vehicle_rental_service.display_available_vehicles()\n",
    "vehicle_rental_service.return_vehicle(\"Activa\")\n",
    "\n",
    "vehicle_rental_service.display_available_vehicles()"
   ]
  },
  {
   "cell_type": "markdown",
   "id": "f82312bc",
   "metadata": {},
   "source": [
    "###### Problem 4: Library Catalog Create classes representing a library and a book. Implement methods to add books to the library, borrow books, and display available books."
   ]
  },
  {
   "cell_type": "code",
   "execution_count": 7,
   "id": "8b0e255c",
   "metadata": {},
   "outputs": [],
   "source": [
    "#create class for book and define constructor and __str__ method\n",
    "class book:\n",
    "    def __init__(self,book_name,author,publish_year):\n",
    "        self.book_name=book_name\n",
    "        self.author=author\n",
    "        self.publish_year=publish_year\n",
    "        \n",
    "    def __str__(self):\n",
    "          return \"Book:\"+self.book_name+\",author:\"+ self.author+\",publish_year:\"+str(self.publish_year)\n",
    "\n",
    "#create class for libary and define its constructor and methods \n",
    "class library:\n",
    "    def __init__(self,books):\n",
    "        self.available_books=books\n",
    "    \n",
    "    def add_book(self,lib_book:book):\n",
    "        self.available_books.append(lib_book)\n",
    "        print(f\"\\n{lib_book.book_name} is now added to library\")\n",
    "        \n",
    "    def borrow_book(self,book_nm):\n",
    "        for lib_book in self.available_books:\n",
    "            if lib_book.book_name==book_nm:\n",
    "                self.available_books.remove(lib_book)\n",
    "                break\n",
    "       \n",
    "        print(f\"\\n{lib_book.book_name} is now out for borrow\")\n",
    "        \n",
    "    def display_available_books(self):\n",
    "        print(\"\\nAvailable books are : \")\n",
    "        for book in self.available_books:\n",
    "            print(str(book))"
   ]
  },
  {
   "cell_type": "code",
   "execution_count": 8,
   "id": "06a50382",
   "metadata": {},
   "outputs": [
    {
     "name": "stdout",
     "output_type": "stream",
     "text": [
      "\n",
      "Available books are : \n",
      "Book:Planets,author:abc,publish_year:1990\n",
      "Book:Animal Kingdom,author:sds,publish_year:1992\n",
      "Book:Sun,author:sdd,publish_year:2000\n",
      "Book:NASA,author:dfsdf,publish_year:2004\n",
      "\n",
      "Harry Potter is now added to library\n",
      "\n",
      "Available books are : \n",
      "Book:Planets,author:abc,publish_year:1990\n",
      "Book:Animal Kingdom,author:sds,publish_year:1992\n",
      "Book:Sun,author:sdd,publish_year:2000\n",
      "Book:NASA,author:dfsdf,publish_year:2004\n",
      "Book:Harry Potter,author:J.K Rowling,publish_year:2000\n",
      "\n",
      "Planets is now out for borrow\n",
      "\n",
      "Available books are : \n",
      "Book:Animal Kingdom,author:sds,publish_year:1992\n",
      "Book:Sun,author:sdd,publish_year:2000\n",
      "Book:NASA,author:dfsdf,publish_year:2004\n",
      "Book:Harry Potter,author:J.K Rowling,publish_year:2000\n"
     ]
    }
   ],
   "source": [
    "#create instances of book\n",
    "book1=book(\"Planets\",\"abc\",1990)\n",
    "book2=book(\"Animal Kingdom\",\"sds\",1992)\n",
    "book3=book(\"Sun\",\"sdd\",2000)\n",
    "book4=book(\"NASA\",\"dfsdf\",2004)\n",
    "\n",
    "\n",
    "#create instance of class library and initialize available books\n",
    "library1= library([book1,book2,book3,book4])\n",
    "\n",
    "#display available books in library\n",
    "library1.display_available_books()\n",
    "\n",
    "# add book to library\n",
    "library1.add_book(book(\"Harry Potter\",\"J.K Rowling\",2000))\n",
    "library1.display_available_books()\n",
    "\n",
    "# borrow book from library\n",
    "library1.borrow_book(\"Planets\")\n",
    "library1.display_available_books()"
   ]
  },
  {
   "cell_type": "markdown",
   "id": "e59c20ea",
   "metadata": {},
   "source": [
    "###### Problem 5: Product Inventory Create classes representing a product and an inventory system. Implement methods to add products to the inventory, update product quantity, and display available products."
   ]
  },
  {
   "cell_type": "code",
   "execution_count": 17,
   "id": "21c40993",
   "metadata": {},
   "outputs": [],
   "source": [
    "class product:\n",
    "    def __init__(self,product_id,product_name,product_quantity):\n",
    "        self.product_id=product_id\n",
    "        self.product_name=product_name\n",
    "        self.product_quantity=product_quantity\n",
    "        \n",
    "    def __str__(self):\n",
    "        return str(self.product_id) +','+self.product_name+','+ str(self.product_quantity)\n",
    "\n",
    "class inventory:\n",
    "    def __init__(self,available_products):\n",
    "        self.available_products=available_products\n",
    "    \n",
    "    def add_products(self,prod_list):\n",
    "        self.available_products.extend(prod_list)\n",
    "        print(\"Products added successfully to inventory\")\n",
    "    \n",
    "    def update_product_quantity(self,prod_id:int,product_quantity:int):\n",
    "        for prod in self.available_products:\n",
    "            if prod.product_id==prod_id:\n",
    "                prod.product_quantity=product_quantity\n",
    "                print(f\"Product with id {prod_id} is sucessfully updated\")\n",
    "                break\n",
    "                \n",
    "    def display_available_products(self):\n",
    "        for product in self.available_products:\n",
    "            print(str(product))\n",
    "    \n",
    "    \n",
    "\n"
   ]
  },
  {
   "cell_type": "code",
   "execution_count": 18,
   "id": "deec250b",
   "metadata": {},
   "outputs": [],
   "source": [
    "p1=product(1,'shoes',200)\n",
    "p2=product(2,'gloves',500)\n",
    "p3=product(3,'shirts',500)\n",
    "p4=product(4,'socks',200)\n",
    "p5=product(5,'bat',500)\n",
    "\n",
    "inventory1=inventory([p1,p2,p3,p4,p5])"
   ]
  },
  {
   "cell_type": "code",
   "execution_count": 19,
   "id": "c33436f8",
   "metadata": {},
   "outputs": [
    {
     "name": "stdout",
     "output_type": "stream",
     "text": [
      "1,shoes,200\n",
      "2,gloves,500\n",
      "3,shirts,500\n",
      "4,socks,200\n",
      "5,bat,500\n"
     ]
    }
   ],
   "source": [
    "inventory1.display_available_products()"
   ]
  },
  {
   "cell_type": "code",
   "execution_count": 20,
   "id": "4d1882a6",
   "metadata": {},
   "outputs": [
    {
     "name": "stdout",
     "output_type": "stream",
     "text": [
      "Products added successfully to inventory\n"
     ]
    }
   ],
   "source": [
    "list_products=[product(6,'formal shoes',400),product(7,'football',400)]\n",
    "inventory1.add_products(list_products)"
   ]
  },
  {
   "cell_type": "code",
   "execution_count": 21,
   "id": "db152425",
   "metadata": {},
   "outputs": [
    {
     "name": "stdout",
     "output_type": "stream",
     "text": [
      "1,shoes,200\n",
      "2,gloves,500\n",
      "3,shirts,500\n",
      "4,socks,200\n",
      "5,bat,500\n",
      "6,formal shoes,400\n",
      "7,football,400\n"
     ]
    }
   ],
   "source": [
    "inventory1.display_available_products()"
   ]
  },
  {
   "cell_type": "code",
   "execution_count": 22,
   "id": "a80c05fc",
   "metadata": {},
   "outputs": [
    {
     "name": "stdout",
     "output_type": "stream",
     "text": [
      "Product with id 7 is sucessfully updated\n"
     ]
    }
   ],
   "source": [
    "inventory1.update_product_quantity(7,1000)"
   ]
  },
  {
   "cell_type": "code",
   "execution_count": 23,
   "id": "d8d8be3e",
   "metadata": {},
   "outputs": [
    {
     "name": "stdout",
     "output_type": "stream",
     "text": [
      "1,shoes,200\n",
      "2,gloves,500\n",
      "3,shirts,500\n",
      "4,socks,200\n",
      "5,bat,500\n",
      "6,formal shoes,400\n",
      "7,football,1000\n"
     ]
    }
   ],
   "source": [
    "inventory1.display_available_products()"
   ]
  },
  {
   "cell_type": "markdown",
   "id": "eab35c34",
   "metadata": {},
   "source": [
    "###### Problem 6: Shape Calculation Create a class representing a shape with attributes like length, width, and height. Implement methods to calculate the area and perimeter of the shape."
   ]
  },
  {
   "cell_type": "code",
   "execution_count": 25,
   "id": "4e4f6d54",
   "metadata": {},
   "outputs": [],
   "source": [
    "class Shape:\n",
    "    def __init__(self,length,width,height):\n",
    "        self.length=length\n",
    "        self.width=width\n",
    "        self.height=height\n",
    "        \n",
    "    def area(self):\n",
    "        return self.length*self.width\n",
    "    \n",
    "    def perimeter(self):\n",
    "        return 2*(self.length+self.width)\n",
    "    \n",
    "    "
   ]
  },
  {
   "cell_type": "code",
   "execution_count": 26,
   "id": "87d4f450",
   "metadata": {},
   "outputs": [
    {
     "name": "stdout",
     "output_type": "stream",
     "text": [
      "Area  6\n",
      "Perimeter  10\n"
     ]
    }
   ],
   "source": [
    "shape=Shape(2,3,4)\n",
    "print(\"Area \" ,shape.area())\n",
    "print(\"Perimeter \",shape.perimeter())"
   ]
  },
  {
   "cell_type": "markdown",
   "id": "72547a6a",
   "metadata": {},
   "source": [
    "###### Problem 7: Student Management Create a class representing a student with attributes like student ID, name, and grades. Implement methods to calculate the average grade and display student details."
   ]
  },
  {
   "cell_type": "code",
   "execution_count": 27,
   "id": "c2db44c4",
   "metadata": {},
   "outputs": [],
   "source": [
    "class Student:\n",
    "    def __init__(self,student_id:int,name:str,grades:list):\n",
    "        self.student_id=student_id\n",
    "        self.name=name\n",
    "        self.grades=grades\n",
    "        \n",
    "    def average_grades(self):\n",
    "        print(f\"Average of grades is : {sum(self.grades)/len(self.grades)}\")\n",
    "    \n",
    "    def display_student_details(self):\n",
    "        print(\"Student ID : \",self.student_id)\n",
    "        print(\"Student name : \",self.name)\n",
    "        print(\"Grades : \", self.grades)\n",
    "        \n",
    "    \n",
    "    \n",
    "    "
   ]
  },
  {
   "cell_type": "code",
   "execution_count": 28,
   "id": "9792802c",
   "metadata": {},
   "outputs": [
    {
     "name": "stdout",
     "output_type": "stream",
     "text": [
      "Average of grades is : 51.6\n",
      "Student ID :  1\n",
      "Student name :  Sameer\n",
      "Grades :  [56, 56, 70, 56, 20]\n"
     ]
    }
   ],
   "source": [
    "student1=Student(1,\"Sameer\",[56,56,70,56,20])\n",
    "student1.average_grades()\n",
    "student1.display_student_details()"
   ]
  },
  {
   "cell_type": "markdown",
   "id": "2e8f616e",
   "metadata": {},
   "source": [
    "###### Problem 8: Email Management Create a class representing an email with attributes like sender, recipient, and subject. Implement methods to send an email and display email details."
   ]
  },
  {
   "cell_type": "code",
   "execution_count": 33,
   "id": "73e2bdd8",
   "metadata": {},
   "outputs": [
    {
     "name": "stdout",
     "output_type": "stream",
     "text": [
      "Note: you may need to restart the kernel to use updated packages.\n"
     ]
    },
    {
     "name": "stderr",
     "output_type": "stream",
     "text": [
      "ERROR: Could not find a version that satisfies the requirement smtplib (from versions: none)\n",
      "ERROR: No matching distribution found for smtplib\n",
      "\n",
      "[notice] A new release of pip available: 22.2.2 -> 23.3.1\n",
      "[notice] To update, run: python.exe -m pip install --upgrade pip\n"
     ]
    }
   ],
   "source": [
    "pip install smtplib"
   ]
  },
  {
   "cell_type": "code",
   "execution_count": 8,
   "id": "3e53e3da",
   "metadata": {},
   "outputs": [],
   "source": [
    "import smtplib\n",
    "class Email:\n",
    "    def __init__(self,sender,recipient,subject):\n",
    "        self.sender=sender\n",
    "        self.recipient=recipient\n",
    "        self.subject=subject\n",
    "        \n",
    "    def send_email(self):\n",
    "        server = smtplib.SMTP('localhost', 1025)\n",
    "        server.set_debuglevel(1)\n",
    "        server.sendmail(self.sender,self.recipient,self.subject)\n",
    "        server.quit()\n",
    "    \n",
    "    def display_email_details(self):\n",
    "        print(\"Sender : \",self.sender)\n",
    "        print(\"Recipient : \",self.recipient)\n",
    "        print(\"Subject : \",self.subject)\n",
    "        \n",
    "    \n",
    "    "
   ]
  },
  {
   "cell_type": "code",
   "execution_count": 9,
   "id": "dbef284c",
   "metadata": {},
   "outputs": [],
   "source": [
    "email=Email(\"abc@xyz.com\",\"xyz@abc.com\",\"Meeting at 9 am\")\n"
   ]
  },
  {
   "cell_type": "code",
   "execution_count": 10,
   "id": "10c0e6be",
   "metadata": {},
   "outputs": [
    {
     "name": "stderr",
     "output_type": "stream",
     "text": [
      "send: 'ehlo [192.168.56.1]\\r\\n'\n",
      "reply: b'250-DESKTOP-MTRUFUS\\r\\n'\n",
      "reply: b'250-8BITMIME\\r\\n'\n",
      "reply: b'250 HELP\\r\\n'\n",
      "reply: retcode (250); Msg: b'DESKTOP-MTRUFUS\\n8BITMIME\\nHELP'\n",
      "send: 'mail FROM:<abc@xyz.com>\\r\\n'\n",
      "reply: b'250 OK\\r\\n'\n",
      "reply: retcode (250); Msg: b'OK'\n",
      "send: 'rcpt TO:<xyz@abc.com>\\r\\n'\n",
      "reply: b'250 OK\\r\\n'\n",
      "reply: retcode (250); Msg: b'OK'\n",
      "send: 'data\\r\\n'\n",
      "reply: b'354 End data with <CR><LF>.<CR><LF>\\r\\n'\n",
      "reply: retcode (354); Msg: b'End data with <CR><LF>.<CR><LF>'\n",
      "data: (354, b'End data with <CR><LF>.<CR><LF>')\n",
      "send: b'Meeting at 9 am\\r\\n.\\r\\n'\n",
      "reply: b'250 OK\\r\\n'\n",
      "reply: retcode (250); Msg: b'OK'\n",
      "data: (250, b'OK')\n",
      "send: 'quit\\r\\n'\n",
      "reply: b'221 Bye\\r\\n'\n",
      "reply: retcode (221); Msg: b'Bye'\n"
     ]
    }
   ],
   "source": [
    "email.send_email()"
   ]
  },
  {
   "attachments": {
    "smtpd.PNG": {
     "image/png": "[encoded data removed]"
    }
   },
   "cell_type": "markdown",
   "id": "1bf0b471",
   "metadata": {},
   "source": [
    "![smtpd.PNG](attachment:smtpd.PNG)"
   ]
  },
  {
   "cell_type": "code",
   "execution_count": 11,
   "id": "e2715851",
   "metadata": {},
   "outputs": [
    {
     "name": "stdout",
     "output_type": "stream",
     "text": [
      "Sender :  abc@xyz.com\n",
      "Recipient :  xyz@abc.com\n",
      "Subject :  Meeting at 9 am\n"
     ]
    }
   ],
   "source": [
    "email.display_email_details()\n",
    "        "
   ]
  },
  {
   "cell_type": "markdown",
   "id": "175c8599",
   "metadata": {},
   "source": [
    "###### Problem 9: Social Media Profile Create a class representing a social media profile with attributes like username and posts. Implement methods to add posts, display posts, and search for posts by keyword."
   ]
  },
  {
   "cell_type": "code",
   "execution_count": 21,
   "id": "54b18d95",
   "metadata": {},
   "outputs": [],
   "source": [
    "class social_media_profile:\n",
    "    def __init__(self,username:str,posts:list):\n",
    "        self.username=username\n",
    "        self.posts=posts\n",
    "    \n",
    "    def add_posts(self,posts:list):\n",
    "        self.posts.extend(posts)\n",
    "    \n",
    "    def display_posts(self):\n",
    "        print(\"Posts are as below :\")\n",
    "        for post in self.posts:\n",
    "            print(post)\n",
    "    \n",
    "    def search_posts(self,keyword):\n",
    "        match_results=[]\n",
    "        for post in self.posts:\n",
    "            if keyword.lower() in post.lower():\n",
    "                match_results.append(post)\n",
    "                \n",
    "        print(\"Search Results based on keyword are : \")\n",
    "        for post in match_results:\n",
    "            print(post)\n",
    "    "
   ]
  },
  {
   "cell_type": "code",
   "execution_count": 22,
   "id": "abc15bee",
   "metadata": {},
   "outputs": [],
   "source": [
    "profile1=social_media_profile(\"rd509\",[\"Rocking Day!\",\"Monday Morning\",\"Friday Celebrations\",\"Lovely morning\",\"Best day of my life\"])"
   ]
  },
  {
   "cell_type": "code",
   "execution_count": 23,
   "id": "57517878",
   "metadata": {},
   "outputs": [
    {
     "name": "stdout",
     "output_type": "stream",
     "text": [
      "Posts are as below :\n",
      "Rocking Day!\n",
      "Monday Morning\n",
      "Friday Celebrations\n",
      "Lovely morning\n",
      "Best day of my life\n"
     ]
    }
   ],
   "source": [
    "profile1.display_posts()"
   ]
  },
  {
   "cell_type": "code",
   "execution_count": 24,
   "id": "63ab7841",
   "metadata": {},
   "outputs": [
    {
     "name": "stdout",
     "output_type": "stream",
     "text": [
      "Search Results based on keyword are : \n",
      "Monday Morning\n",
      "Lovely morning\n"
     ]
    }
   ],
   "source": [
    "profile1.search_posts(\"morning\")"
   ]
  },
  {
   "cell_type": "code",
   "execution_count": 25,
   "id": "04d6b0c7",
   "metadata": {},
   "outputs": [],
   "source": [
    "profile1.add_posts([\"Thursday !\",\"Saturday Night!\"])"
   ]
  },
  {
   "cell_type": "code",
   "execution_count": 26,
   "id": "5904b391",
   "metadata": {},
   "outputs": [
    {
     "name": "stdout",
     "output_type": "stream",
     "text": [
      "Posts are as below :\n",
      "Rocking Day!\n",
      "Monday Morning\n",
      "Friday Celebrations\n",
      "Lovely morning\n",
      "Best day of my life\n",
      "Thursday !\n",
      "Saturday Night!\n"
     ]
    }
   ],
   "source": [
    "profile1.display_posts()"
   ]
  },
  {
   "cell_type": "markdown",
   "id": "b37e9d79",
   "metadata": {},
   "source": [
    "###### Problem 10: ToDo List Create a class representing a ToDo list with attributes like tasks and due dates. Implement methods to add tasks, mark tasks as completed, and display pending tasks."
   ]
  },
  {
   "cell_type": "code",
   "execution_count": 34,
   "id": "7c782f5d",
   "metadata": {},
   "outputs": [],
   "source": [
    "class ToDoList:\n",
    "    def __init__(self,tasks:list,due_dates:list):\n",
    "        self.tasks=tasks\n",
    "        self.due_dates=due_dates\n",
    "        self.completed_tasks=[]\n",
    "        \n",
    "        \n",
    "    def add_tasks(self,new_tasks:list):\n",
    "        self.tasks.extend(new_tasks)\n",
    "        print(\"Tasks added successfully \")\n",
    "    \n",
    "    def mark_task_completed(self,task):\n",
    "        self.completed_tasks.append(task)\n",
    "        print(f\"{task} is marked as completed\")\n",
    "    \n",
    "    def display_pending_tasks(self):\n",
    "        print(\"Pending tasks are as below : \")\n",
    "        for task in self.tasks:\n",
    "            if task not in self.completed_tasks:\n",
    "                print(task)\n",
    "    "
   ]
  },
  {
   "cell_type": "code",
   "execution_count": 35,
   "id": "cf827033",
   "metadata": {},
   "outputs": [],
   "source": [
    "list1=ToDoList([\"Breakfast\",\"Travel\",\"Meeting\",\"DinnerTime\"],[\"1 Oct 23\", \"3 Oct 23\"])"
   ]
  },
  {
   "cell_type": "code",
   "execution_count": 36,
   "id": "5d3f1b00",
   "metadata": {},
   "outputs": [
    {
     "name": "stdout",
     "output_type": "stream",
     "text": [
      "Tasks added successfully \n"
     ]
    }
   ],
   "source": [
    "list1.add_tasks([\"Basketball\",\"ParentTeacherMeeting\"])"
   ]
  },
  {
   "cell_type": "code",
   "execution_count": 37,
   "id": "7142e9f9",
   "metadata": {},
   "outputs": [
    {
     "name": "stdout",
     "output_type": "stream",
     "text": [
      "Meeting is marked as completed\n"
     ]
    }
   ],
   "source": [
    "list1.mark_task_completed(\"Meeting\")"
   ]
  },
  {
   "cell_type": "code",
   "execution_count": 38,
   "id": "a18e85bf",
   "metadata": {},
   "outputs": [
    {
     "name": "stdout",
     "output_type": "stream",
     "text": [
      "Pending tasks are as below : \n",
      "Breakfast\n",
      "Travel\n",
      "DinnerTime\n",
      "Basketball\n",
      "ParentTeacherMeeting\n"
     ]
    }
   ],
   "source": [
    "list1.display_pending_tasks()"
   ]
  },
  {
   "cell_type": "code",
   "execution_count": null,
   "id": "7035a77f",
   "metadata": {},
   "outputs": [],
   "source": []
  }
 ],
 "metadata": {
  "kernelspec": {
   "display_name": "Python 3 (ipykernel)",
   "language": "python",
   "name": "python3"
  },
  "language_info": {
   "codemirror_mode": {
    "name": "ipython",
    "version": 3
   },
   "file_extension": ".py",
   "mimetype": "text/x-python",
   "name": "python",
   "nbconvert_exporter": "python",
   "pygments_lexer": "ipython3",
   "version": "3.9.12"
  }
 },
 "nbformat": 4,
 "nbformat_minor": 5
}
